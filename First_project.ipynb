{
 "cells": [
  {
   "cell_type": "markdown",
   "id": "62b2f79b-038e-4a6d-a841-dba8eb7f062f",
   "metadata": {
    "tags": []
   },
   "source": [
    "## СОДЕРЖАНИЕ <a name = \"content\"></a>\n",
    "\n",
    "\n",
    "1. [Загрузка необходимых библиотек](#download_lib)\n",
    "2. [Загрузка данных](#download_all_df)\n",
    "3. [Загрузка данных \"assessment\"](#download_assessment)<br>\n",
    "    3.1. [Проверка NULL и типов данных](#assessment_null_dtype)<br>\n",
    "    3.2. [Проверка используемых форматов данных](#assessment_format)<br>\n",
    "    3.3  [Просмотр уникальных значений в фичах](#assessment_uniq)<br>\n",
    "    3.4  [Исследование 0 значений в weight](#assessment_zero)<br>\n",
    "    3.5  [Наличие Exam по каждому предмету в семестре](#assessment_exam)<br>\n",
    "    3.6  [Замена Null в date](#assessment_date_null)<br>\n",
    "    3.7  [Сокращение потребляемой памяти](#assessment_memor)<br>\n",
    "    3.8  [Памятка](#assessment_notes)<br>\n",
    "    \n",
    "4. [Загрузка данных \"courses](#download_courses)<br>\n",
    "    4.1 [Проверка NULL и типов данных](#courses_null_dtype)<br>\n",
    "    4.2 [Исправление `module_presentation_length`](#courses_module_presentation_length)<br>\n",
    "    4.3 [Проверка используемых форматов данных](#courses_format)<br>\n",
    "    4.4 [Сокращение потребляемой памяти](#courses_memor)<br>\n",
    "    4.5 [Памятка](#courses_notes)\n",
    "\n",
    "5. [Загрузка \"studentAssessment\"](#download_studentAssessment)<br>\n",
    "    5.1  [Проверка NULL, типов данных и уникальных значений](#studentAssessment_null_dtype)<br>\n",
    "    5.2 [Замена Null в score](#studentAssessment_score_null)<br>\n",
    "    5.3  [Проверка используемых форматов данных и проверка отрицательных значений `date_submitted`](#studentAssessment_format)<br>\n",
    "    5.4 [Сокращение потребляемой памяти](#studentAssessment_memor)<br>\n",
    "    5.5 [Памятка](#studentAssessment_notes)<br>\n",
    "    \n",
    "6. [Загрузка \"studentRegistrationt\"](#download_studentRegistrationt)<br>\n",
    "    6.1  [Проверка NULL, типов данных и уникальных значений](#studentRegistrationt_null_dtype)<br>\n",
    "    6.2 [Замена и удаление Null в date_registration и date_unregistration](#studentRegistrationt_score_null)<br>\n",
    "    6.3 [Просмотр date_registration после начала семестра](#studentRegistrationt_date_registration)<br>\n",
    "    6.4 [Проверка используемых форматов данных](#studentRegistrationt_format)<br>\n",
    "    6.5 [Сокращение потребляемой памяти](#studentRegistrationt_memor)<br>\n",
    "    6.5 [Памятка](#studentRegistrationt_notes)<br>\n",
    "    \n",
    "7. [JOIN TABLE](#join)<br>\n",
    "    7.1 [Размеры и кол-во уникальных значений во всех таблицах](#size)<br>\n",
    "    7.2 [Join `studentRegistrationt_save` and `course_save`](#j_studentRegistrationt_save_course_save)<br>\n",
    "    7.3.[Join `studentAssessment_save` and `assessment_save`](#j_studentAssessment_save_assessment_save)<br>\n",
    "    7.4.[Join `df_StAs_as` and `df_StReg_cours`](#j_df_StAs_as_df_StReg_cours)<br>\n",
    "    \n",
    "8. [Задание 1](#task_1)<br>\n",
    "    8.1 [Формулирование определения курса](#task_1_course_def)<br>\n",
    "    8.2 [Расчет кол-ва успешно сданных экзаменов](#task_1_exam_pass)<br>\n",
    "    \n",
    " 9. [Задание 2](#task_2)<br>\n",
    "    9.2 [Рассчет самого завершаемого экзамена в рамках каждого курса](#task_9_2)<br>\n",
    "    9.2 [Рассчет самого завершаемого курса](#task_9_3)<br>\n",
    "    \n",
    "10. [Задание 3](#task_3)<br>\n",
    "    10.1 [Средний срок сдачи экзамена, по каждому предмету](#task_10_1)<br>\n",
    "    10.2 [Средний срок сдачи курса](#task_10_2)<br>\n",
    "    \n",
    "11. [Задание 4](#task_4)\n",
    "12. [Задание 5](#task_5)\n",
    "13. [Задание 6](#task_6)"
   ]
  },
  {
   "cell_type": "markdown",
   "id": "eb5f6f4a-c099-4980-b904-43837397bb7b",
   "metadata": {
    "tags": []
   },
   "source": [
    "### 1. Загрузка необходимых библиотек <a name = \"download_lib\"></a>"
   ]
  },
  {
   "cell_type": "code",
   "execution_count": 2,
   "id": "8ad89194-bb22-458f-8131-e8b8fe50297d",
   "metadata": {},
   "outputs": [],
   "source": [
    "import pandas as pd\n",
    "import numpy as np\n",
    "import seaborn as sns\n",
    "import matplotlib.pyplot as plt\n",
    "import requests\n",
    "from urllib.parse import urlencode\n",
    "from scipy import stats\n",
    "import matplotlib.patches as mpatches\n",
    "import squarify\n",
    "%matplotlib inline"
   ]
  },
  {
   "cell_type": "markdown",
   "id": "3e07b037-b159-4524-8f67-a5415fe3f6d2",
   "metadata": {
    "tags": []
   },
   "source": [
    "### 2. Загрузка данных <a name = \"download_all_df\"></a>"
   ]
  },
  {
   "cell_type": "markdown",
   "id": "a57cb383-e31a-47fe-9b3e-00e853ac8afe",
   "metadata": {},
   "source": [
    "Цикл, формирующий рабочие ссылки для обращения библиотеки pandas к внешнему ресурсу Yandex Disk"
   ]
  },
  {
   "cell_type": "code",
   "execution_count": 202,
   "id": "13a61a3e-c61e-43c4-8b90-106b110670b0",
   "metadata": {
    "tags": []
   },
   "outputs": [
    {
     "name": "stdout",
     "output_type": "stream",
     "text": [
      "https://downloader.disk.yandex.ru/disk/fe0e5be3dcdbdd026037baa8735a822f2e9890fe675099a4791d9380b4e1e534/634074e0/I7TlrcXn7vP2NSW6_SzAKHtyBU5UQvPJYb9WaS9jyrX1CN8aOLdYoTLoJ5y31abgHM7JOy4RPGiMPia3fuppPQ%3D%3D?uid=0&filename=assessments.csv&disposition=attachment&hash=V0orUDSHK57/gxrbwykaqzhdemPrc7G562C8lPpuJ6SdgJ2zFXijd7v6k27kdzLWq/J6bpmRyOJonT3VoXnDag%3D%3D%3A&limit=0&content_type=text%2Fplain&owner_uid=125175473&fsize=8200&hid=07361bb7413da6d033c85305add628df&media_type=spreadsheet&tknv=v2\n",
      "https://downloader.disk.yandex.ru/disk/3c0d0c59c92f5e7cff2a6ff2854d4aef3636dde93d8949f525b2a2fe31419514/634074e1/I7TlrcXn7vP2NSW6_SzAKD0eE9aMmQztCoU0FwX3IP-5_tDbRlk_Ejyr3J544g6J9Ztbosv84_sfrnjSGgxi_A%3D%3D?uid=0&filename=courses.csv&disposition=attachment&hash=lw6g3qgnKTLwLzTv8/lVuJ2J%2BQunQEfgtv%2B5T8Fs/X%2B7kG4daNzDY2s40c1IBve5q/J6bpmRyOJonT3VoXnDag%3D%3D%3A&limit=0&content_type=text%2Fplain&owner_uid=125175473&fsize=526&hid=5e60f4545117c54d9704641c012e6d8f&media_type=spreadsheet&tknv=v2\n",
      "https://downloader.disk.yandex.ru/disk/e441838f765da87de25ec344d3e4c8a855679a91555a37948963a7533f7ad43c/634074e2/I7TlrcXn7vP2NSW6_SzAKJGGY1_jzNtybm4QOEPvowtv6BRTl8538-5c4_UXNoLYEQF253dO-bpK6mA4Mk9R1A%3D%3D?uid=0&filename=studentAssessment.csv&disposition=attachment&hash=IHf5KBHmBHUIQ400bYE/6sgWhbPcMwtD3jiAm0IjyrPfdp7XjiC%2BFNQY/b/pOnecq/J6bpmRyOJonT3VoXnDag%3D%3D%3A&limit=0&content_type=text%2Fplain&owner_uid=125175473&fsize=5690310&hid=410782fac70dfdb8c6be36efa364fe68&media_type=spreadsheet&tknv=v2\n",
      "https://downloader.disk.yandex.ru/disk/70978c90b362a206c169cb9f68e6460a57562b26b0f5f45d2d3e1c1b4a79b0da/634074e3/I7TlrcXn7vP2NSW6_SzAKOV0_ccHM8DY9ZSnN7pb2CTgOkdRRMAr7jDOg_YNXVsWgEcr6OZwgOW57bQ6vpx0LA%3D%3D?uid=0&filename=studentRegistration.csv&disposition=attachment&hash=pefzgZotkIWWJ1i5cNnI5kiJxG555M2Zz7gI50bMFeC/Av68TwmUy2ZCm/tpLf4Gq/J6bpmRyOJonT3VoXnDag%3D%3D%3A&limit=0&content_type=text%2Fplain&owner_uid=125175473&fsize=1109984&hid=8afee2501fe1ddaf7446cd6f3cc0b6cf&media_type=spreadsheet&tknv=v2\n"
     ]
    }
   ],
   "source": [
    "#список ссылок для доступа к скачиванию файлов проекта\n",
    "#последовательность указанных ссылок : ['assessment',  'courses', 'studentAssessment','studentRegistration']\n",
    "\n",
    "public_key = [  'https://disk.yandex.ru/d/PBW7aUHGuodFDA', 'https://disk.yandex.ru/d/m0Z6QYNT46f9tQ','https://disk.yandex.ru/d/lsmdbYB0iM7p3w', 'https://disk.yandex.ru/d/Yse4Y6RJqg_WaA'] # Сюда вписываете вашу ссылку\n",
    "\n",
    "#список, в который собирем готовые ссылки для запросов\n",
    "final_link = []\n",
    "for i in public_key:\n",
    "    base_url = 'https://cloud-api.yandex.net/v1/disk/public/resources/download?'\n",
    "# Получаем загрузочную ссылку\n",
    "    final_url = base_url + urlencode(dict(public_key=i))\n",
    "    response = requests.get(final_url)\n",
    "    df = response.json()['href']\n",
    "# Загружаем файл и сохраняем его\n",
    "    download_response = requests.get(final_url)\n",
    "    final_link.append(df)\n",
    "print(*final_link, sep = '\\n')"
   ]
  },
  {
   "cell_type": "markdown",
   "id": "0f78c57c-b04e-49b2-852f-6bffd5c792f6",
   "metadata": {},
   "source": [
    "[[go to content]](#content)"
   ]
  },
  {
   "cell_type": "markdown",
   "id": "7295465c-0e7c-4433-9f9d-913d5f825700",
   "metadata": {},
   "source": [
    "<span style=\"background-color: #FFFF00\">Marked text</span>"
   ]
  },
  {
   "cell_type": "markdown",
   "id": "b893cdcf-93eb-41d1-b6d3-571eca9dcf09",
   "metadata": {
    "tags": []
   },
   "source": [
    "### <font color = 'green'>3 Загрузка данных `assessment`</font> <a name = \"download_assessment\"></a>"
   ]
  },
  {
   "cell_type": "code",
   "execution_count": 203,
   "id": "19dae8c7-dd2a-48dd-859f-ce937becaa52",
   "metadata": {},
   "outputs": [],
   "source": [
    "#загрузка данных с Yandex Disk\n",
    "\n",
    "assessment = pd.read_csv(final_link[0])"
   ]
  },
  {
   "cell_type": "code",
   "execution_count": 5,
   "id": "087ddc17-6bbf-4976-bff4-f2d811656b8e",
   "metadata": {
    "tags": []
   },
   "outputs": [
    {
     "data": {
      "text/html": [
       "<div>\n",
       "<style scoped>\n",
       "    .dataframe tbody tr th:only-of-type {\n",
       "        vertical-align: middle;\n",
       "    }\n",
       "\n",
       "    .dataframe tbody tr th {\n",
       "        vertical-align: top;\n",
       "    }\n",
       "\n",
       "    .dataframe thead th {\n",
       "        text-align: right;\n",
       "    }\n",
       "</style>\n",
       "<table border=\"1\" class=\"dataframe\">\n",
       "  <thead>\n",
       "    <tr style=\"text-align: right;\">\n",
       "      <th></th>\n",
       "      <th>code_module</th>\n",
       "      <th>code_presentation</th>\n",
       "      <th>id_assessment</th>\n",
       "      <th>assessment_type</th>\n",
       "      <th>date</th>\n",
       "      <th>weight</th>\n",
       "    </tr>\n",
       "  </thead>\n",
       "  <tbody>\n",
       "    <tr>\n",
       "      <th>0</th>\n",
       "      <td>AAA</td>\n",
       "      <td>2013J</td>\n",
       "      <td>1752</td>\n",
       "      <td>TMA</td>\n",
       "      <td>19.0</td>\n",
       "      <td>10.0</td>\n",
       "    </tr>\n",
       "    <tr>\n",
       "      <th>1</th>\n",
       "      <td>AAA</td>\n",
       "      <td>2013J</td>\n",
       "      <td>1753</td>\n",
       "      <td>TMA</td>\n",
       "      <td>54.0</td>\n",
       "      <td>20.0</td>\n",
       "    </tr>\n",
       "    <tr>\n",
       "      <th>2</th>\n",
       "      <td>AAA</td>\n",
       "      <td>2013J</td>\n",
       "      <td>1754</td>\n",
       "      <td>TMA</td>\n",
       "      <td>117.0</td>\n",
       "      <td>20.0</td>\n",
       "    </tr>\n",
       "    <tr>\n",
       "      <th>3</th>\n",
       "      <td>AAA</td>\n",
       "      <td>2013J</td>\n",
       "      <td>1755</td>\n",
       "      <td>TMA</td>\n",
       "      <td>166.0</td>\n",
       "      <td>20.0</td>\n",
       "    </tr>\n",
       "    <tr>\n",
       "      <th>4</th>\n",
       "      <td>AAA</td>\n",
       "      <td>2013J</td>\n",
       "      <td>1756</td>\n",
       "      <td>TMA</td>\n",
       "      <td>215.0</td>\n",
       "      <td>30.0</td>\n",
       "    </tr>\n",
       "  </tbody>\n",
       "</table>\n",
       "</div>"
      ],
      "text/plain": [
       "  code_module code_presentation  id_assessment assessment_type   date  weight\n",
       "0         AAA             2013J           1752             TMA   19.0    10.0\n",
       "1         AAA             2013J           1753             TMA   54.0    20.0\n",
       "2         AAA             2013J           1754             TMA  117.0    20.0\n",
       "3         AAA             2013J           1755             TMA  166.0    20.0\n",
       "4         AAA             2013J           1756             TMA  215.0    30.0"
      ]
     },
     "execution_count": 5,
     "metadata": {},
     "output_type": "execute_result"
    }
   ],
   "source": [
    "#просмотр корректности загрузки\n",
    "\n",
    "assessment.head()"
   ]
  },
  {
   "cell_type": "markdown",
   "id": "2d95ce3e-d020-4b4e-acd0-b776ae442770",
   "metadata": {},
   "source": [
    "[[go to content]](#content)"
   ]
  },
  {
   "cell_type": "markdown",
   "id": "eea6aeeb-650d-4730-97a0-f861c310e15a",
   "metadata": {
    "jp-MarkdownHeadingCollapsed": true,
    "tags": []
   },
   "source": [
    "#### <font color = 'green'> 3.1 Проверка NULL и типов данных</font> <a name = \"assessment_null_dtype\"></a>"
   ]
  },
  {
   "cell_type": "markdown",
   "id": "254a8241-1ae7-4967-bf9d-e9c7cea391c1",
   "metadata": {},
   "source": [
    "---\n",
    "- целочисленные данные имеют формат: число с плавающей точкой\n",
    "> date - это кол-во дней, от начала семестра\n",
    "- есть отсутствующие данные по `date` (11 записей)\n",
    "---"
   ]
  },
  {
   "cell_type": "code",
   "execution_count": 6,
   "id": "9003cbb9-cee1-4a7c-a571-de2a4467f14e",
   "metadata": {
    "tags": []
   },
   "outputs": [
    {
     "name": "stdout",
     "output_type": "stream",
     "text": [
      "<class 'pandas.core.frame.DataFrame'>\n",
      "RangeIndex: 206 entries, 0 to 205\n",
      "Data columns (total 6 columns):\n",
      " #   Column             Non-Null Count  Dtype  \n",
      "---  ------             --------------  -----  \n",
      " 0   code_module        206 non-null    object \n",
      " 1   code_presentation  206 non-null    object \n",
      " 2   id_assessment      206 non-null    int64  \n",
      " 3   assessment_type    206 non-null    object \n",
      " 4   date               195 non-null    float64\n",
      " 5   weight             206 non-null    float64\n",
      "dtypes: float64(2), int64(1), object(3)\n",
      "memory usage: 9.8+ KB\n"
     ]
    }
   ],
   "source": [
    "#просмотр наличие NULL и типов данных\n",
    "\n",
    "assessment.info()"
   ]
  },
  {
   "cell_type": "markdown",
   "id": "636b4592-e872-413f-a375-0816460227bf",
   "metadata": {},
   "source": [
    "---\n",
    "- Cомнительно, что часть предметов не имеет экзамена. \n",
    "<br>(в описании указано: *'обычно каждый предмет в семестре включает ряд тестов с оценками, за которыми следует заключительный экзаменационный тест'*)\n",
    "- Исходя из описания, экзамен проводится 'обычно', но необязательно, **<font color = 'green'>следовательно часть предметов может быть засчитана по итогам прохождения всех тестов</font>** (*заключение проверим ниже*)\n",
    "---"
   ]
  },
  {
   "cell_type": "code",
   "execution_count": 7,
   "id": "c9121641-b076-4e9e-9f89-b323aca3e2b7",
   "metadata": {
    "tags": []
   },
   "outputs": [
    {
     "name": "stdout",
     "output_type": "stream",
     "text": [
      "Кол-во  NULL: 11\n",
      "Процент отсутствующих date в данных 5.0\n"
     ]
    },
    {
     "data": {
      "text/html": [
       "<div>\n",
       "<style scoped>\n",
       "    .dataframe tbody tr th:only-of-type {\n",
       "        vertical-align: middle;\n",
       "    }\n",
       "\n",
       "    .dataframe tbody tr th {\n",
       "        vertical-align: top;\n",
       "    }\n",
       "\n",
       "    .dataframe thead th {\n",
       "        text-align: right;\n",
       "    }\n",
       "</style>\n",
       "<table border=\"1\" class=\"dataframe\">\n",
       "  <thead>\n",
       "    <tr style=\"text-align: right;\">\n",
       "      <th></th>\n",
       "      <th>code_module</th>\n",
       "      <th>code_presentation</th>\n",
       "      <th>id_assessment</th>\n",
       "      <th>assessment_type</th>\n",
       "      <th>date</th>\n",
       "      <th>weight</th>\n",
       "    </tr>\n",
       "  </thead>\n",
       "  <tbody>\n",
       "    <tr>\n",
       "      <th>5</th>\n",
       "      <td>AAA</td>\n",
       "      <td>2013J</td>\n",
       "      <td>1757</td>\n",
       "      <td>Exam</td>\n",
       "      <td>NaN</td>\n",
       "      <td>100.0</td>\n",
       "    </tr>\n",
       "    <tr>\n",
       "      <th>11</th>\n",
       "      <td>AAA</td>\n",
       "      <td>2014J</td>\n",
       "      <td>1763</td>\n",
       "      <td>Exam</td>\n",
       "      <td>NaN</td>\n",
       "      <td>100.0</td>\n",
       "    </tr>\n",
       "    <tr>\n",
       "      <th>23</th>\n",
       "      <td>BBB</td>\n",
       "      <td>2013B</td>\n",
       "      <td>14990</td>\n",
       "      <td>Exam</td>\n",
       "      <td>NaN</td>\n",
       "      <td>100.0</td>\n",
       "    </tr>\n",
       "    <tr>\n",
       "      <th>35</th>\n",
       "      <td>BBB</td>\n",
       "      <td>2013J</td>\n",
       "      <td>15002</td>\n",
       "      <td>Exam</td>\n",
       "      <td>NaN</td>\n",
       "      <td>100.0</td>\n",
       "    </tr>\n",
       "    <tr>\n",
       "      <th>47</th>\n",
       "      <td>BBB</td>\n",
       "      <td>2014B</td>\n",
       "      <td>15014</td>\n",
       "      <td>Exam</td>\n",
       "      <td>NaN</td>\n",
       "      <td>100.0</td>\n",
       "    </tr>\n",
       "    <tr>\n",
       "      <th>53</th>\n",
       "      <td>BBB</td>\n",
       "      <td>2014J</td>\n",
       "      <td>15025</td>\n",
       "      <td>Exam</td>\n",
       "      <td>NaN</td>\n",
       "      <td>100.0</td>\n",
       "    </tr>\n",
       "    <tr>\n",
       "      <th>62</th>\n",
       "      <td>CCC</td>\n",
       "      <td>2014B</td>\n",
       "      <td>24290</td>\n",
       "      <td>Exam</td>\n",
       "      <td>NaN</td>\n",
       "      <td>100.0</td>\n",
       "    </tr>\n",
       "    <tr>\n",
       "      <th>63</th>\n",
       "      <td>CCC</td>\n",
       "      <td>2014B</td>\n",
       "      <td>40087</td>\n",
       "      <td>Exam</td>\n",
       "      <td>NaN</td>\n",
       "      <td>100.0</td>\n",
       "    </tr>\n",
       "    <tr>\n",
       "      <th>72</th>\n",
       "      <td>CCC</td>\n",
       "      <td>2014J</td>\n",
       "      <td>24299</td>\n",
       "      <td>Exam</td>\n",
       "      <td>NaN</td>\n",
       "      <td>100.0</td>\n",
       "    </tr>\n",
       "    <tr>\n",
       "      <th>73</th>\n",
       "      <td>CCC</td>\n",
       "      <td>2014J</td>\n",
       "      <td>40088</td>\n",
       "      <td>Exam</td>\n",
       "      <td>NaN</td>\n",
       "      <td>100.0</td>\n",
       "    </tr>\n",
       "    <tr>\n",
       "      <th>108</th>\n",
       "      <td>DDD</td>\n",
       "      <td>2014J</td>\n",
       "      <td>25368</td>\n",
       "      <td>Exam</td>\n",
       "      <td>NaN</td>\n",
       "      <td>100.0</td>\n",
       "    </tr>\n",
       "  </tbody>\n",
       "</table>\n",
       "</div>"
      ],
      "text/plain": [
       "    code_module code_presentation  id_assessment assessment_type  date  weight\n",
       "5           AAA             2013J           1757            Exam   NaN   100.0\n",
       "11          AAA             2014J           1763            Exam   NaN   100.0\n",
       "23          BBB             2013B          14990            Exam   NaN   100.0\n",
       "35          BBB             2013J          15002            Exam   NaN   100.0\n",
       "47          BBB             2014B          15014            Exam   NaN   100.0\n",
       "53          BBB             2014J          15025            Exam   NaN   100.0\n",
       "62          CCC             2014B          24290            Exam   NaN   100.0\n",
       "63          CCC             2014B          40087            Exam   NaN   100.0\n",
       "72          CCC             2014J          24299            Exam   NaN   100.0\n",
       "73          CCC             2014J          40088            Exam   NaN   100.0\n",
       "108         DDD             2014J          25368            Exam   NaN   100.0"
      ]
     },
     "metadata": {},
     "output_type": "display_data"
    }
   ],
   "source": [
    "#просмотр отсутствующих записей о дате сдачи для части тестов - это \"Exam\"\n",
    "print(f'Кол-во  NULL: {assessment.date.isnull().sum()}')\n",
    "print(f'Процент отсутствующих date в данных {np.round((len(assessment[assessment.date.isna()]) / len(assessment.date)),2)*100}')\n",
    "display(assessment[assessment.date.isna()])"
   ]
  },
  {
   "cell_type": "code",
   "execution_count": 8,
   "id": "5e351c2e-a99f-473c-92b6-964ceaa47ea8",
   "metadata": {},
   "outputs": [
    {
     "data": {
      "text/html": [
       "<div>\n",
       "<style scoped>\n",
       "    .dataframe tbody tr th:only-of-type {\n",
       "        vertical-align: middle;\n",
       "    }\n",
       "\n",
       "    .dataframe tbody tr th {\n",
       "        vertical-align: top;\n",
       "    }\n",
       "\n",
       "    .dataframe thead th {\n",
       "        text-align: right;\n",
       "    }\n",
       "</style>\n",
       "<table border=\"1\" class=\"dataframe\">\n",
       "  <thead>\n",
       "    <tr style=\"text-align: right;\">\n",
       "      <th></th>\n",
       "      <th>min</th>\n",
       "      <th>max</th>\n",
       "    </tr>\n",
       "    <tr>\n",
       "      <th>code_presentation</th>\n",
       "      <th></th>\n",
       "      <th></th>\n",
       "    </tr>\n",
       "  </thead>\n",
       "  <tbody>\n",
       "    <tr>\n",
       "      <th>2013B</th>\n",
       "      <td>19.0</td>\n",
       "      <td>240.0</td>\n",
       "    </tr>\n",
       "    <tr>\n",
       "      <th>2013J</th>\n",
       "      <td>19.0</td>\n",
       "      <td>261.0</td>\n",
       "    </tr>\n",
       "    <tr>\n",
       "      <th>2014B</th>\n",
       "      <td>12.0</td>\n",
       "      <td>241.0</td>\n",
       "    </tr>\n",
       "    <tr>\n",
       "      <th>2014J</th>\n",
       "      <td>18.0</td>\n",
       "      <td>241.0</td>\n",
       "    </tr>\n",
       "  </tbody>\n",
       "</table>\n",
       "</div>"
      ],
      "text/plain": [
       "                    min    max\n",
       "code_presentation             \n",
       "2013B              19.0  240.0\n",
       "2013J              19.0  261.0\n",
       "2014B              12.0  241.0\n",
       "2014J              18.0  241.0"
      ]
     },
     "execution_count": 8,
     "metadata": {},
     "output_type": "execute_result"
    }
   ],
   "source": [
    "# просмотр условных дат первого теста в семестре и последнего теста в семестре\n",
    "\n",
    "assessment.groupby(['code_presentation'])['date'].agg(['min', 'max'])"
   ]
  },
  {
   "cell_type": "markdown",
   "id": "08948afe-a0f5-4fe5-921b-8f00b5befc58",
   "metadata": {},
   "source": [
    "[[go to content]](#content)"
   ]
  },
  {
   "cell_type": "markdown",
   "id": "db325258-8bca-4936-a55f-191f95afba40",
   "metadata": {
    "jp-MarkdownHeadingCollapsed": true,
    "tags": []
   },
   "source": [
    "#### <font color = 'green'> 3.2 Проверка используемых форматов данных</font> <a name = \"assessment_format\"></a>"
   ]
  },
  {
   "cell_type": "markdown",
   "id": "b3821719-0069-48c1-9556-1e14ba4fcacf",
   "metadata": {},
   "source": [
    "---\n",
    "- проверяю границы значений *(если диапазон значений меньше, чем используемый тип, то лучше сменить тип на меньший)*\n",
    "- по описательной статистике `max` и `min` значение в численных переменных имеют размер меньше того, в котором они записаны:\n",
    "\n",
    "    - `id_assessment` range [1752, 40088]<br>\n",
    "    - `date` range [12, 261]<br>\n",
    "    - `weight` range [30.384224, 100]<br>\n",
    "---"
   ]
  },
  {
   "cell_type": "code",
   "execution_count": 9,
   "id": "9d9d1072-512f-4c9e-8f26-34b4e99e1bb5",
   "metadata": {
    "tags": []
   },
   "outputs": [
    {
     "data": {
      "text/html": [
       "<div>\n",
       "<style scoped>\n",
       "    .dataframe tbody tr th:only-of-type {\n",
       "        vertical-align: middle;\n",
       "    }\n",
       "\n",
       "    .dataframe tbody tr th {\n",
       "        vertical-align: top;\n",
       "    }\n",
       "\n",
       "    .dataframe thead th {\n",
       "        text-align: right;\n",
       "    }\n",
       "</style>\n",
       "<table border=\"1\" class=\"dataframe\">\n",
       "  <thead>\n",
       "    <tr style=\"text-align: right;\">\n",
       "      <th></th>\n",
       "      <th>id_assessment</th>\n",
       "      <th>date</th>\n",
       "      <th>weight</th>\n",
       "    </tr>\n",
       "  </thead>\n",
       "  <tbody>\n",
       "    <tr>\n",
       "      <th>count</th>\n",
       "      <td>206.000000</td>\n",
       "      <td>195.000000</td>\n",
       "      <td>206.000000</td>\n",
       "    </tr>\n",
       "    <tr>\n",
       "      <th>mean</th>\n",
       "      <td>26473.975728</td>\n",
       "      <td>145.005128</td>\n",
       "      <td>20.873786</td>\n",
       "    </tr>\n",
       "    <tr>\n",
       "      <th>std</th>\n",
       "      <td>10098.625521</td>\n",
       "      <td>76.001119</td>\n",
       "      <td>30.384224</td>\n",
       "    </tr>\n",
       "    <tr>\n",
       "      <th>min</th>\n",
       "      <td>1752.000000</td>\n",
       "      <td>12.000000</td>\n",
       "      <td>0.000000</td>\n",
       "    </tr>\n",
       "    <tr>\n",
       "      <th>25%</th>\n",
       "      <td>15023.250000</td>\n",
       "      <td>71.000000</td>\n",
       "      <td>0.000000</td>\n",
       "    </tr>\n",
       "    <tr>\n",
       "      <th>50%</th>\n",
       "      <td>25364.500000</td>\n",
       "      <td>152.000000</td>\n",
       "      <td>12.500000</td>\n",
       "    </tr>\n",
       "    <tr>\n",
       "      <th>75%</th>\n",
       "      <td>34891.750000</td>\n",
       "      <td>222.000000</td>\n",
       "      <td>24.250000</td>\n",
       "    </tr>\n",
       "    <tr>\n",
       "      <th>max</th>\n",
       "      <td>40088.000000</td>\n",
       "      <td>261.000000</td>\n",
       "      <td>100.000000</td>\n",
       "    </tr>\n",
       "  </tbody>\n",
       "</table>\n",
       "</div>"
      ],
      "text/plain": [
       "       id_assessment        date      weight\n",
       "count     206.000000  195.000000  206.000000\n",
       "mean    26473.975728  145.005128   20.873786\n",
       "std     10098.625521   76.001119   30.384224\n",
       "min      1752.000000   12.000000    0.000000\n",
       "25%     15023.250000   71.000000    0.000000\n",
       "50%     25364.500000  152.000000   12.500000\n",
       "75%     34891.750000  222.000000   24.250000\n",
       "max     40088.000000  261.000000  100.000000"
      ]
     },
     "execution_count": 9,
     "metadata": {},
     "output_type": "execute_result"
    }
   ],
   "source": [
    "# просмотр описательной статистики\n",
    "\n",
    "assessment.describe()"
   ]
  },
  {
   "cell_type": "markdown",
   "id": "ef464ae9-b22d-448c-949b-709c829c7503",
   "metadata": {},
   "source": [
    "[[go to content]](#content)\n",
    "[[go to paragraph]](#assessment_format)"
   ]
  },
  {
   "cell_type": "markdown",
   "id": "f1a2d216-7c7f-421a-bd7e-85dd48584dbd",
   "metadata": {
    "jp-MarkdownHeadingCollapsed": true,
    "tags": []
   },
   "source": [
    "#### <font color = 'green'> 3.3 Просмотр уникальных значений в фичах `assessment`</font> <a name = \"assessment_zero\"></a>"
   ]
  },
  {
   "cell_type": "markdown",
   "id": "5271f1c0-23ca-4282-b8f0-69cfd11e8af9",
   "metadata": {},
   "source": [
    "---\n",
    "- в колонке `weight` есть тесты со значением **0**\n",
    "---"
   ]
  },
  {
   "cell_type": "code",
   "execution_count": 10,
   "id": "b22a1fab-807f-4a62-9d85-aeb874b54b4b",
   "metadata": {
    "tags": []
   },
   "outputs": [
    {
     "name": "stdout",
     "output_type": "stream",
     "text": [
      "code_module            7\n",
      "code_presentation      4\n",
      "id_assessment        206\n",
      "assessment_type        3\n",
      "date                  74\n",
      "weight                24\n",
      "dtype: int64\n",
      "Unique data in \"code_module\" column:\n",
      "['AAA' 'BBB' 'CCC' 'DDD' 'EEE' 'FFF' 'GGG']\n",
      "\n",
      "Unique data in \"code_presentation\" column:\n",
      "['2013J' '2014J' '2013B' '2014B']\n",
      "\n",
      "Unique data in \"id_assessment\" column:\n",
      "[ 1752  1753  1754  1755  1756  1757  1758  1759  1760  1761  1762  1763\n",
      " 14991 14992 14993 14994 14995 14984 14985 14986 14987 14988 14989 14990\n",
      " 15003 15004 15005 15006 15007 14996 14997 14998 14999 15000 15001 15002\n",
      " 15015 15016 15017 15018 15019 15008 15009 15010 15011 15012 15013 15014\n",
      " 15020 15021 15022 15023 15024 15025 24286 24287 24288 24289 24282 24283\n",
      " 24284 24285 24290 40087 24295 24296 24297 24298 24291 24292 24293 24294\n",
      " 24299 40088 25341 25342 25343 25344 25345 25346 25347 25334 25335 25336\n",
      " 25337 25338 25339 25340 25348 25349 25350 25351 25352 25353 25354 25355\n",
      " 25356 25357 25358 25359 25360 25361 25362 25363 25364 25365 25366 25367\n",
      " 25368 30709 30710 30711 30712 30713 30714 30715 30716 30717 30718 30719\n",
      " 30720 30721 30722 30723 34865 34866 34867 34868 34869 34871 34870 34860\n",
      " 34861 34862 34863 34864 34872 34878 34879 34880 34881 34882 34884 34883\n",
      " 34873 34874 34875 34876 34877 34885 34891 34892 34893 34894 34895 34897\n",
      " 34896 34886 34887 34888 34889 34890 34898 34904 34905 34906 34907 34908\n",
      " 34910 34909 34899 34900 34901 34902 34903 34911 37418 37419 37420 37421\n",
      " 37422 37423 37415 37416 37417 37424 37428 37429 37430 37431 37432 37433\n",
      " 37425 37426 37427 37434 37438 37439 37440 37441 37442 37443 37435 37436\n",
      " 37437 37444]\n",
      "\n",
      "Unique data in \"assessment_type\" column:\n",
      "['TMA' 'Exam' 'CMA']\n",
      "\n",
      "Unique data in \"date\" column:\n",
      "[ 19.  54. 117. 166. 215.  nan  89. 124. 159. 187.  47.  96. 131. 208.\n",
      "  82. 152. 194.  12.  40. 110. 201.  18.  67. 137. 207.  32. 102. 151.\n",
      " 200. 144. 214. 109. 158.  23.  51.  79. 114. 149. 170. 206.  25.  53.\n",
      "  81. 116. 240.  88. 123. 165. 261.  74. 241.  20.  41.  62. 111. 146.\n",
      " 195.  33.  68. 235. 228. 222. 236. 173. 227.  24.  52.  87. 129. 171.\n",
      "  94. 136. 199. 229.  61.]\n",
      "\n",
      "Unique data in \"weight\" column:\n",
      "[ 10.   20.   30.  100.    1.    5.   18.    0.   35.    2.    7.    8.\n",
      "   9.   22.    3.    4.    6.    7.5  12.5  15.   17.5  25.   16.   28. ]\n"
     ]
    }
   ],
   "source": [
    "#просмотр уникальных значений в фичах\n",
    "\n",
    "print(assessment.nunique())\n",
    "print('Unique data in \"code_module\" column:', assessment.code_module.unique(), sep = '\\n')\n",
    "print()\n",
    "print('Unique data in \"code_presentation\" column:', assessment.code_presentation.unique(), sep = '\\n')\n",
    "print()\n",
    "print('Unique data in \"id_assessment\" column:', assessment.id_assessment.unique(), sep = '\\n')\n",
    "print()\n",
    "print('Unique data in \"assessment_type\" column:', assessment.assessment_type.unique(), sep = '\\n')\n",
    "print()\n",
    "print('Unique data in \"date\" column:', assessment.date.unique(), sep = '\\n')\n",
    "print()\n",
    "print('Unique data in \"weight\" column:', assessment.weight.unique(), sep = '\\n')"
   ]
  },
  {
   "cell_type": "markdown",
   "id": "a6c61491-3472-480d-92da-1d0b2745364c",
   "metadata": {},
   "source": [
    "[[go to content]](#content)\n",
    "[[go to paragraph]](#assessment_zero)"
   ]
  },
  {
   "cell_type": "markdown",
   "id": "94072b80-5101-457a-ab39-15690926cacd",
   "metadata": {
    "jp-MarkdownHeadingCollapsed": true,
    "tags": []
   },
   "source": [
    "#### <font color = 'green'>3.4 Исследование **0** значений в `weight` </font> <a name = \"assessment_uniq\"></a>\n",
    "---\n",
    " - в колонке `weight` есть **0** значения, это значит что прохождения теста не имеет значения при оценивании курса. \n",
    " - предположение:\n",
    "     - тесты с `weight` 0 не проводятся совсем\n",
    "     - тесты с `weight` 0 - ошибка в данных\n",
    " - <font color = 'red'>если окажется, что студенты сдавали тест с 0 весом, это будет интерпретироваться, как ошибка в колонке weight</font>\n",
    " - 0 вес имеют тесты приемуществнно FFF и BBB\n",
    " ---"
   ]
  },
  {
   "cell_type": "code",
   "execution_count": 11,
   "id": "d0717f83-a262-4798-a7aa-fafd6ac4aff7",
   "metadata": {
    "tags": []
   },
   "outputs": [
    {
     "data": {
      "text/plain": [
       "code_presentation  code_module  assessment_type\n",
       "2013B              FFF          CMA                7\n",
       "2013J              FFF          CMA                7\n",
       "                   GGG          CMA                6\n",
       "                                TMA                3\n",
       "2014B              FFF          CMA                7\n",
       "                   GGG          CMA                6\n",
       "                                TMA                3\n",
       "2014J              BBB          TMA                1\n",
       "                   FFF          CMA                7\n",
       "                   GGG          CMA                6\n",
       "                                TMA                3\n",
       "dtype: int64"
      ]
     },
     "execution_count": 11,
     "metadata": {},
     "output_type": "execute_result"
    }
   ],
   "source": [
    "#ищим тесты с 0 весом\n",
    "\n",
    "assessment.query('weight == 0').groupby(['code_presentation', 'code_module', 'assessment_type']).size()"
   ]
  },
  {
   "cell_type": "code",
   "execution_count": 12,
   "id": "2fdf8abe-2ffd-4d7c-8072-9720e80484d9",
   "metadata": {
    "jupyter": {
     "source_hidden": true
    },
    "tags": []
   },
   "outputs": [
    {
     "data": {
      "image/png": "[encoded data removed]",
      "text/plain": [
       "<Figure size 1440x720 with 7 Axes>"
      ]
     },
     "metadata": {
      "needs_background": "light"
     },
     "output_type": "display_data"
    }
   ],
   "source": [
    "#построим гистограмму по весу оценок по каждому предмету за оба года обучения\n",
    "\n",
    "modul = ['AAA', 'BBB', 'CCC', 'DDD', 'EEE', 'FFF', 'GGG']\n",
    "colors = ['#808000', '#556B2F', '#66CDAA', '#8FBC8B', '#20B2AA', '#008B8B', '#008080']\n",
    "\n",
    "fig, axes = plt.subplots(nrows = 3, ncols = 3, figsize = (20,10), sharey = True)\n",
    "plt.subplots_adjust(left=0.1,\n",
    "                    bottom=0.1,\n",
    "                    right=1,\n",
    "                    top=0.9,\n",
    "                    wspace=0.1,\n",
    "                    hspace=0.4)\n",
    "\n",
    "\n",
    "for i, j, k in zip(modul, axes.flatten(), colors):\n",
    "    plt.rcParams['axes.spines.top'] = False # remove  frame's top line\n",
    "    plt.rcParams['axes.spines.right'] = False # remove  frame's right line\n",
    "    \n",
    "    subject = i\n",
    "    \n",
    "    sns.countplot(data = assessment.query('code_module == @subject'), x = 'weight', color = k, ax = j)\n",
    "    \n",
    "    j.set_title('Распределение weigh за все семестры по предмету ' + subject, fontsize = 10)\n",
    "    j.bar_label(j.containers[0], fontsize = 10)\n",
    "    \n",
    "fig.delaxes(axes[2][1])\n",
    "fig.delaxes(axes[2][2])\n",
    "plt.show()"
   ]
  },
  {
   "cell_type": "code",
   "execution_count": 13,
   "id": "75b43c3d-4e27-4771-b0e8-d7b24e075ab0",
   "metadata": {
    "jupyter": {
     "source_hidden": true
    },
    "tags": []
   },
   "outputs": [
    {
     "data": {
      "image/png": "[encoded data removed]",
      "text/plain": [
       "<Figure size 1440x288 with 3 Axes>"
      ]
     },
     "metadata": {
      "needs_background": "light"
     },
     "output_type": "display_data"
    }
   ],
   "source": [
    "#построение графика распределения 0 значений по предметам GGG, FFF\n",
    "\n",
    "modul = ['FFF', 'GGG', 'BBB']\n",
    "colors = ['#008B8B', '#008080', '#008082']\n",
    "\n",
    "fig, axes = plt.subplots(nrows = 1, ncols = 3, figsize = (20,4))\n",
    "\n",
    "\n",
    "for i, j, k in zip(modul, axes.flatten(), colors):\n",
    "    plt.rcParams['axes.spines.top'] = False # remove  frame's top line\n",
    "    plt.rcParams['axes.spines.right'] = False # remove  frame's right line\n",
    "    \n",
    "    subject = i\n",
    "    \n",
    "    sns.countplot(data = assessment.query('code_module == @subject & weight == 0'), x = 'assessment_type', color = k, ax = j)\n",
    "    j.bar_label(j.containers[0], fontsize = 12)    \n",
    "    j.set_title('Кол-во тестов с весом 0 по предмету ' + subject, fontsize = 12)\n",
    "    \n",
    "    \n",
    "plt.show()"
   ]
  },
  {
   "cell_type": "markdown",
   "id": "0c9566c4-03e6-429a-a3db-399628a7db88",
   "metadata": {},
   "source": [
    "---\n",
    "Приемущественно **0** вес имеют предметы `FFF` и `GGG` <br>\n",
    "- происходит это в 3х семестрах: `2013J`, `2014B`, `2014J` по тестам `CMA` и `TMA`\n",
    "\n",
    "- По предмету `GGG` **90%** тестов не имеют значения при оценке предмета: **27**\n",
    "- По предмету `FFF` **54%** тестов не имеют значения при оценке предмета: **28**\n",
    "- По предмету `ВВВ` **2.4%** тестов не имеют значения при оценке предмета: **1**\n",
    "---"
   ]
  },
  {
   "cell_type": "markdown",
   "id": "6eccd9b3-ff9d-4054-a91f-6fdf11aaf3f2",
   "metadata": {},
   "source": [
    "По предмету `FFF` все **28** 0 значений отнесены к компьютерному тесту `CMA`: \n",
    "- либо его вообще не проводят\n",
    "- либо есть какая -то ошибка<br>\n",
    "\n",
    "По предмету `GGG` 2/3 тестов `CMA` имеют `weight` 0, остальная 1/3 присвоены 0 значения `TMA`<br>\n",
    "Тут явно неоднозначная ситуация. <br>\n",
    "Посмотрим просто таблицу по предмету `FFF` и `GGG`\n",
    "---"
   ]
  },
  {
   "cell_type": "code",
   "execution_count": 14,
   "id": "db36bc24-7878-4c21-b55d-eb88da9c4e87",
   "metadata": {
    "collapsed": true,
    "jupyter": {
     "outputs_hidden": true
    },
    "tags": []
   },
   "outputs": [
    {
     "data": {
      "text/html": [
       "<div>\n",
       "<style scoped>\n",
       "    .dataframe tbody tr th:only-of-type {\n",
       "        vertical-align: middle;\n",
       "    }\n",
       "\n",
       "    .dataframe tbody tr th {\n",
       "        vertical-align: top;\n",
       "    }\n",
       "\n",
       "    .dataframe thead th {\n",
       "        text-align: right;\n",
       "    }\n",
       "</style>\n",
       "<table border=\"1\" class=\"dataframe\">\n",
       "  <thead>\n",
       "    <tr style=\"text-align: right;\">\n",
       "      <th></th>\n",
       "      <th>code_module</th>\n",
       "      <th>code_presentation</th>\n",
       "      <th>id_assessment</th>\n",
       "      <th>assessment_type</th>\n",
       "      <th>date</th>\n",
       "      <th>weight</th>\n",
       "    </tr>\n",
       "  </thead>\n",
       "  <tbody>\n",
       "    <tr>\n",
       "      <th>124</th>\n",
       "      <td>FFF</td>\n",
       "      <td>2013B</td>\n",
       "      <td>34865</td>\n",
       "      <td>CMA</td>\n",
       "      <td>222.0</td>\n",
       "      <td>0.0</td>\n",
       "    </tr>\n",
       "    <tr>\n",
       "      <th>125</th>\n",
       "      <td>FFF</td>\n",
       "      <td>2013B</td>\n",
       "      <td>34866</td>\n",
       "      <td>CMA</td>\n",
       "      <td>222.0</td>\n",
       "      <td>0.0</td>\n",
       "    </tr>\n",
       "    <tr>\n",
       "      <th>126</th>\n",
       "      <td>FFF</td>\n",
       "      <td>2013B</td>\n",
       "      <td>34867</td>\n",
       "      <td>CMA</td>\n",
       "      <td>222.0</td>\n",
       "      <td>0.0</td>\n",
       "    </tr>\n",
       "    <tr>\n",
       "      <th>127</th>\n",
       "      <td>FFF</td>\n",
       "      <td>2013B</td>\n",
       "      <td>34868</td>\n",
       "      <td>CMA</td>\n",
       "      <td>222.0</td>\n",
       "      <td>0.0</td>\n",
       "    </tr>\n",
       "    <tr>\n",
       "      <th>128</th>\n",
       "      <td>FFF</td>\n",
       "      <td>2013B</td>\n",
       "      <td>34869</td>\n",
       "      <td>CMA</td>\n",
       "      <td>222.0</td>\n",
       "      <td>0.0</td>\n",
       "    </tr>\n",
       "    <tr>\n",
       "      <th>129</th>\n",
       "      <td>FFF</td>\n",
       "      <td>2013B</td>\n",
       "      <td>34871</td>\n",
       "      <td>CMA</td>\n",
       "      <td>222.0</td>\n",
       "      <td>0.0</td>\n",
       "    </tr>\n",
       "    <tr>\n",
       "      <th>130</th>\n",
       "      <td>FFF</td>\n",
       "      <td>2013B</td>\n",
       "      <td>34870</td>\n",
       "      <td>CMA</td>\n",
       "      <td>222.0</td>\n",
       "      <td>0.0</td>\n",
       "    </tr>\n",
       "    <tr>\n",
       "      <th>131</th>\n",
       "      <td>FFF</td>\n",
       "      <td>2013B</td>\n",
       "      <td>34860</td>\n",
       "      <td>TMA</td>\n",
       "      <td>19.0</td>\n",
       "      <td>12.5</td>\n",
       "    </tr>\n",
       "    <tr>\n",
       "      <th>132</th>\n",
       "      <td>FFF</td>\n",
       "      <td>2013B</td>\n",
       "      <td>34861</td>\n",
       "      <td>TMA</td>\n",
       "      <td>47.0</td>\n",
       "      <td>12.5</td>\n",
       "    </tr>\n",
       "    <tr>\n",
       "      <th>133</th>\n",
       "      <td>FFF</td>\n",
       "      <td>2013B</td>\n",
       "      <td>34862</td>\n",
       "      <td>TMA</td>\n",
       "      <td>89.0</td>\n",
       "      <td>25.0</td>\n",
       "    </tr>\n",
       "    <tr>\n",
       "      <th>134</th>\n",
       "      <td>FFF</td>\n",
       "      <td>2013B</td>\n",
       "      <td>34863</td>\n",
       "      <td>TMA</td>\n",
       "      <td>131.0</td>\n",
       "      <td>25.0</td>\n",
       "    </tr>\n",
       "    <tr>\n",
       "      <th>135</th>\n",
       "      <td>FFF</td>\n",
       "      <td>2013B</td>\n",
       "      <td>34864</td>\n",
       "      <td>TMA</td>\n",
       "      <td>166.0</td>\n",
       "      <td>25.0</td>\n",
       "    </tr>\n",
       "    <tr>\n",
       "      <th>136</th>\n",
       "      <td>FFF</td>\n",
       "      <td>2013B</td>\n",
       "      <td>34872</td>\n",
       "      <td>Exam</td>\n",
       "      <td>222.0</td>\n",
       "      <td>100.0</td>\n",
       "    </tr>\n",
       "    <tr>\n",
       "      <th>137</th>\n",
       "      <td>FFF</td>\n",
       "      <td>2013J</td>\n",
       "      <td>34878</td>\n",
       "      <td>CMA</td>\n",
       "      <td>236.0</td>\n",
       "      <td>0.0</td>\n",
       "    </tr>\n",
       "    <tr>\n",
       "      <th>138</th>\n",
       "      <td>FFF</td>\n",
       "      <td>2013J</td>\n",
       "      <td>34879</td>\n",
       "      <td>CMA</td>\n",
       "      <td>236.0</td>\n",
       "      <td>0.0</td>\n",
       "    </tr>\n",
       "    <tr>\n",
       "      <th>139</th>\n",
       "      <td>FFF</td>\n",
       "      <td>2013J</td>\n",
       "      <td>34880</td>\n",
       "      <td>CMA</td>\n",
       "      <td>236.0</td>\n",
       "      <td>0.0</td>\n",
       "    </tr>\n",
       "    <tr>\n",
       "      <th>140</th>\n",
       "      <td>FFF</td>\n",
       "      <td>2013J</td>\n",
       "      <td>34881</td>\n",
       "      <td>CMA</td>\n",
       "      <td>236.0</td>\n",
       "      <td>0.0</td>\n",
       "    </tr>\n",
       "    <tr>\n",
       "      <th>141</th>\n",
       "      <td>FFF</td>\n",
       "      <td>2013J</td>\n",
       "      <td>34882</td>\n",
       "      <td>CMA</td>\n",
       "      <td>236.0</td>\n",
       "      <td>0.0</td>\n",
       "    </tr>\n",
       "    <tr>\n",
       "      <th>142</th>\n",
       "      <td>FFF</td>\n",
       "      <td>2013J</td>\n",
       "      <td>34884</td>\n",
       "      <td>CMA</td>\n",
       "      <td>236.0</td>\n",
       "      <td>0.0</td>\n",
       "    </tr>\n",
       "    <tr>\n",
       "      <th>143</th>\n",
       "      <td>FFF</td>\n",
       "      <td>2013J</td>\n",
       "      <td>34883</td>\n",
       "      <td>CMA</td>\n",
       "      <td>236.0</td>\n",
       "      <td>0.0</td>\n",
       "    </tr>\n",
       "    <tr>\n",
       "      <th>144</th>\n",
       "      <td>FFF</td>\n",
       "      <td>2013J</td>\n",
       "      <td>34873</td>\n",
       "      <td>TMA</td>\n",
       "      <td>19.0</td>\n",
       "      <td>12.5</td>\n",
       "    </tr>\n",
       "    <tr>\n",
       "      <th>145</th>\n",
       "      <td>FFF</td>\n",
       "      <td>2013J</td>\n",
       "      <td>34874</td>\n",
       "      <td>TMA</td>\n",
       "      <td>47.0</td>\n",
       "      <td>12.5</td>\n",
       "    </tr>\n",
       "    <tr>\n",
       "      <th>146</th>\n",
       "      <td>FFF</td>\n",
       "      <td>2013J</td>\n",
       "      <td>34875</td>\n",
       "      <td>TMA</td>\n",
       "      <td>96.0</td>\n",
       "      <td>25.0</td>\n",
       "    </tr>\n",
       "    <tr>\n",
       "      <th>147</th>\n",
       "      <td>FFF</td>\n",
       "      <td>2013J</td>\n",
       "      <td>34876</td>\n",
       "      <td>TMA</td>\n",
       "      <td>131.0</td>\n",
       "      <td>25.0</td>\n",
       "    </tr>\n",
       "    <tr>\n",
       "      <th>148</th>\n",
       "      <td>FFF</td>\n",
       "      <td>2013J</td>\n",
       "      <td>34877</td>\n",
       "      <td>TMA</td>\n",
       "      <td>173.0</td>\n",
       "      <td>25.0</td>\n",
       "    </tr>\n",
       "    <tr>\n",
       "      <th>149</th>\n",
       "      <td>FFF</td>\n",
       "      <td>2013J</td>\n",
       "      <td>34885</td>\n",
       "      <td>Exam</td>\n",
       "      <td>236.0</td>\n",
       "      <td>100.0</td>\n",
       "    </tr>\n",
       "    <tr>\n",
       "      <th>150</th>\n",
       "      <td>FFF</td>\n",
       "      <td>2014B</td>\n",
       "      <td>34891</td>\n",
       "      <td>CMA</td>\n",
       "      <td>227.0</td>\n",
       "      <td>0.0</td>\n",
       "    </tr>\n",
       "    <tr>\n",
       "      <th>151</th>\n",
       "      <td>FFF</td>\n",
       "      <td>2014B</td>\n",
       "      <td>34892</td>\n",
       "      <td>CMA</td>\n",
       "      <td>227.0</td>\n",
       "      <td>0.0</td>\n",
       "    </tr>\n",
       "    <tr>\n",
       "      <th>152</th>\n",
       "      <td>FFF</td>\n",
       "      <td>2014B</td>\n",
       "      <td>34893</td>\n",
       "      <td>CMA</td>\n",
       "      <td>227.0</td>\n",
       "      <td>0.0</td>\n",
       "    </tr>\n",
       "    <tr>\n",
       "      <th>153</th>\n",
       "      <td>FFF</td>\n",
       "      <td>2014B</td>\n",
       "      <td>34894</td>\n",
       "      <td>CMA</td>\n",
       "      <td>227.0</td>\n",
       "      <td>0.0</td>\n",
       "    </tr>\n",
       "    <tr>\n",
       "      <th>154</th>\n",
       "      <td>FFF</td>\n",
       "      <td>2014B</td>\n",
       "      <td>34895</td>\n",
       "      <td>CMA</td>\n",
       "      <td>227.0</td>\n",
       "      <td>0.0</td>\n",
       "    </tr>\n",
       "    <tr>\n",
       "      <th>155</th>\n",
       "      <td>FFF</td>\n",
       "      <td>2014B</td>\n",
       "      <td>34897</td>\n",
       "      <td>CMA</td>\n",
       "      <td>227.0</td>\n",
       "      <td>0.0</td>\n",
       "    </tr>\n",
       "    <tr>\n",
       "      <th>156</th>\n",
       "      <td>FFF</td>\n",
       "      <td>2014B</td>\n",
       "      <td>34896</td>\n",
       "      <td>CMA</td>\n",
       "      <td>227.0</td>\n",
       "      <td>0.0</td>\n",
       "    </tr>\n",
       "    <tr>\n",
       "      <th>157</th>\n",
       "      <td>FFF</td>\n",
       "      <td>2014B</td>\n",
       "      <td>34886</td>\n",
       "      <td>TMA</td>\n",
       "      <td>24.0</td>\n",
       "      <td>12.5</td>\n",
       "    </tr>\n",
       "    <tr>\n",
       "      <th>158</th>\n",
       "      <td>FFF</td>\n",
       "      <td>2014B</td>\n",
       "      <td>34887</td>\n",
       "      <td>TMA</td>\n",
       "      <td>52.0</td>\n",
       "      <td>12.5</td>\n",
       "    </tr>\n",
       "    <tr>\n",
       "      <th>159</th>\n",
       "      <td>FFF</td>\n",
       "      <td>2014B</td>\n",
       "      <td>34888</td>\n",
       "      <td>TMA</td>\n",
       "      <td>87.0</td>\n",
       "      <td>25.0</td>\n",
       "    </tr>\n",
       "    <tr>\n",
       "      <th>160</th>\n",
       "      <td>FFF</td>\n",
       "      <td>2014B</td>\n",
       "      <td>34889</td>\n",
       "      <td>TMA</td>\n",
       "      <td>129.0</td>\n",
       "      <td>25.0</td>\n",
       "    </tr>\n",
       "    <tr>\n",
       "      <th>161</th>\n",
       "      <td>FFF</td>\n",
       "      <td>2014B</td>\n",
       "      <td>34890</td>\n",
       "      <td>TMA</td>\n",
       "      <td>171.0</td>\n",
       "      <td>25.0</td>\n",
       "    </tr>\n",
       "    <tr>\n",
       "      <th>162</th>\n",
       "      <td>FFF</td>\n",
       "      <td>2014B</td>\n",
       "      <td>34898</td>\n",
       "      <td>Exam</td>\n",
       "      <td>227.0</td>\n",
       "      <td>100.0</td>\n",
       "    </tr>\n",
       "    <tr>\n",
       "      <th>163</th>\n",
       "      <td>FFF</td>\n",
       "      <td>2014J</td>\n",
       "      <td>34904</td>\n",
       "      <td>CMA</td>\n",
       "      <td>241.0</td>\n",
       "      <td>0.0</td>\n",
       "    </tr>\n",
       "    <tr>\n",
       "      <th>164</th>\n",
       "      <td>FFF</td>\n",
       "      <td>2014J</td>\n",
       "      <td>34905</td>\n",
       "      <td>CMA</td>\n",
       "      <td>241.0</td>\n",
       "      <td>0.0</td>\n",
       "    </tr>\n",
       "    <tr>\n",
       "      <th>165</th>\n",
       "      <td>FFF</td>\n",
       "      <td>2014J</td>\n",
       "      <td>34906</td>\n",
       "      <td>CMA</td>\n",
       "      <td>241.0</td>\n",
       "      <td>0.0</td>\n",
       "    </tr>\n",
       "    <tr>\n",
       "      <th>166</th>\n",
       "      <td>FFF</td>\n",
       "      <td>2014J</td>\n",
       "      <td>34907</td>\n",
       "      <td>CMA</td>\n",
       "      <td>241.0</td>\n",
       "      <td>0.0</td>\n",
       "    </tr>\n",
       "    <tr>\n",
       "      <th>167</th>\n",
       "      <td>FFF</td>\n",
       "      <td>2014J</td>\n",
       "      <td>34908</td>\n",
       "      <td>CMA</td>\n",
       "      <td>241.0</td>\n",
       "      <td>0.0</td>\n",
       "    </tr>\n",
       "    <tr>\n",
       "      <th>168</th>\n",
       "      <td>FFF</td>\n",
       "      <td>2014J</td>\n",
       "      <td>34910</td>\n",
       "      <td>CMA</td>\n",
       "      <td>241.0</td>\n",
       "      <td>0.0</td>\n",
       "    </tr>\n",
       "    <tr>\n",
       "      <th>169</th>\n",
       "      <td>FFF</td>\n",
       "      <td>2014J</td>\n",
       "      <td>34909</td>\n",
       "      <td>CMA</td>\n",
       "      <td>241.0</td>\n",
       "      <td>0.0</td>\n",
       "    </tr>\n",
       "    <tr>\n",
       "      <th>170</th>\n",
       "      <td>FFF</td>\n",
       "      <td>2014J</td>\n",
       "      <td>34899</td>\n",
       "      <td>TMA</td>\n",
       "      <td>24.0</td>\n",
       "      <td>12.5</td>\n",
       "    </tr>\n",
       "    <tr>\n",
       "      <th>171</th>\n",
       "      <td>FFF</td>\n",
       "      <td>2014J</td>\n",
       "      <td>34900</td>\n",
       "      <td>TMA</td>\n",
       "      <td>52.0</td>\n",
       "      <td>12.5</td>\n",
       "    </tr>\n",
       "    <tr>\n",
       "      <th>172</th>\n",
       "      <td>FFF</td>\n",
       "      <td>2014J</td>\n",
       "      <td>34901</td>\n",
       "      <td>TMA</td>\n",
       "      <td>94.0</td>\n",
       "      <td>25.0</td>\n",
       "    </tr>\n",
       "    <tr>\n",
       "      <th>173</th>\n",
       "      <td>FFF</td>\n",
       "      <td>2014J</td>\n",
       "      <td>34902</td>\n",
       "      <td>TMA</td>\n",
       "      <td>136.0</td>\n",
       "      <td>25.0</td>\n",
       "    </tr>\n",
       "    <tr>\n",
       "      <th>174</th>\n",
       "      <td>FFF</td>\n",
       "      <td>2014J</td>\n",
       "      <td>34903</td>\n",
       "      <td>TMA</td>\n",
       "      <td>199.0</td>\n",
       "      <td>25.0</td>\n",
       "    </tr>\n",
       "    <tr>\n",
       "      <th>175</th>\n",
       "      <td>FFF</td>\n",
       "      <td>2014J</td>\n",
       "      <td>34911</td>\n",
       "      <td>Exam</td>\n",
       "      <td>241.0</td>\n",
       "      <td>100.0</td>\n",
       "    </tr>\n",
       "  </tbody>\n",
       "</table>\n",
       "</div>"
      ],
      "text/plain": [
       "    code_module code_presentation  id_assessment assessment_type   date  \\\n",
       "124         FFF             2013B          34865             CMA  222.0   \n",
       "125         FFF             2013B          34866             CMA  222.0   \n",
       "126         FFF             2013B          34867             CMA  222.0   \n",
       "127         FFF             2013B          34868             CMA  222.0   \n",
       "128         FFF             2013B          34869             CMA  222.0   \n",
       "129         FFF             2013B          34871             CMA  222.0   \n",
       "130         FFF             2013B          34870             CMA  222.0   \n",
       "131         FFF             2013B          34860             TMA   19.0   \n",
       "132         FFF             2013B          34861             TMA   47.0   \n",
       "133         FFF             2013B          34862             TMA   89.0   \n",
       "134         FFF             2013B          34863             TMA  131.0   \n",
       "135         FFF             2013B          34864             TMA  166.0   \n",
       "136         FFF             2013B          34872            Exam  222.0   \n",
       "137         FFF             2013J          34878             CMA  236.0   \n",
       "138         FFF             2013J          34879             CMA  236.0   \n",
       "139         FFF             2013J          34880             CMA  236.0   \n",
       "140         FFF             2013J          34881             CMA  236.0   \n",
       "141         FFF             2013J          34882             CMA  236.0   \n",
       "142         FFF             2013J          34884             CMA  236.0   \n",
       "143         FFF             2013J          34883             CMA  236.0   \n",
       "144         FFF             2013J          34873             TMA   19.0   \n",
       "145         FFF             2013J          34874             TMA   47.0   \n",
       "146         FFF             2013J          34875             TMA   96.0   \n",
       "147         FFF             2013J          34876             TMA  131.0   \n",
       "148         FFF             2013J          34877             TMA  173.0   \n",
       "149         FFF             2013J          34885            Exam  236.0   \n",
       "150         FFF             2014B          34891             CMA  227.0   \n",
       "151         FFF             2014B          34892             CMA  227.0   \n",
       "152         FFF             2014B          34893             CMA  227.0   \n",
       "153         FFF             2014B          34894             CMA  227.0   \n",
       "154         FFF             2014B          34895             CMA  227.0   \n",
       "155         FFF             2014B          34897             CMA  227.0   \n",
       "156         FFF             2014B          34896             CMA  227.0   \n",
       "157         FFF             2014B          34886             TMA   24.0   \n",
       "158         FFF             2014B          34887             TMA   52.0   \n",
       "159         FFF             2014B          34888             TMA   87.0   \n",
       "160         FFF             2014B          34889             TMA  129.0   \n",
       "161         FFF             2014B          34890             TMA  171.0   \n",
       "162         FFF             2014B          34898            Exam  227.0   \n",
       "163         FFF             2014J          34904             CMA  241.0   \n",
       "164         FFF             2014J          34905             CMA  241.0   \n",
       "165         FFF             2014J          34906             CMA  241.0   \n",
       "166         FFF             2014J          34907             CMA  241.0   \n",
       "167         FFF             2014J          34908             CMA  241.0   \n",
       "168         FFF             2014J          34910             CMA  241.0   \n",
       "169         FFF             2014J          34909             CMA  241.0   \n",
       "170         FFF             2014J          34899             TMA   24.0   \n",
       "171         FFF             2014J          34900             TMA   52.0   \n",
       "172         FFF             2014J          34901             TMA   94.0   \n",
       "173         FFF             2014J          34902             TMA  136.0   \n",
       "174         FFF             2014J          34903             TMA  199.0   \n",
       "175         FFF             2014J          34911            Exam  241.0   \n",
       "\n",
       "     weight  \n",
       "124     0.0  \n",
       "125     0.0  \n",
       "126     0.0  \n",
       "127     0.0  \n",
       "128     0.0  \n",
       "129     0.0  \n",
       "130     0.0  \n",
       "131    12.5  \n",
       "132    12.5  \n",
       "133    25.0  \n",
       "134    25.0  \n",
       "135    25.0  \n",
       "136   100.0  \n",
       "137     0.0  \n",
       "138     0.0  \n",
       "139     0.0  \n",
       "140     0.0  \n",
       "141     0.0  \n",
       "142     0.0  \n",
       "143     0.0  \n",
       "144    12.5  \n",
       "145    12.5  \n",
       "146    25.0  \n",
       "147    25.0  \n",
       "148    25.0  \n",
       "149   100.0  \n",
       "150     0.0  \n",
       "151     0.0  \n",
       "152     0.0  \n",
       "153     0.0  \n",
       "154     0.0  \n",
       "155     0.0  \n",
       "156     0.0  \n",
       "157    12.5  \n",
       "158    12.5  \n",
       "159    25.0  \n",
       "160    25.0  \n",
       "161    25.0  \n",
       "162   100.0  \n",
       "163     0.0  \n",
       "164     0.0  \n",
       "165     0.0  \n",
       "166     0.0  \n",
       "167     0.0  \n",
       "168     0.0  \n",
       "169     0.0  \n",
       "170    12.5  \n",
       "171    12.5  \n",
       "172    25.0  \n",
       "173    25.0  \n",
       "174    25.0  \n",
       "175   100.0  "
      ]
     },
     "execution_count": 14,
     "metadata": {},
     "output_type": "execute_result"
    }
   ],
   "source": [
    "#просмотр полных данных по предмету FFF\n",
    "assessment[assessment.code_module == 'FFF']"
   ]
  },
  {
   "cell_type": "code",
   "execution_count": 15,
   "id": "e61946c8-0f51-4522-a225-bb92b4e090e0",
   "metadata": {
    "collapsed": true,
    "jupyter": {
     "outputs_hidden": true
    },
    "tags": []
   },
   "outputs": [
    {
     "data": {
      "text/html": [
       "<div>\n",
       "<style scoped>\n",
       "    .dataframe tbody tr th:only-of-type {\n",
       "        vertical-align: middle;\n",
       "    }\n",
       "\n",
       "    .dataframe tbody tr th {\n",
       "        vertical-align: top;\n",
       "    }\n",
       "\n",
       "    .dataframe thead th {\n",
       "        text-align: right;\n",
       "    }\n",
       "</style>\n",
       "<table border=\"1\" class=\"dataframe\">\n",
       "  <thead>\n",
       "    <tr style=\"text-align: right;\">\n",
       "      <th></th>\n",
       "      <th>code_module</th>\n",
       "      <th>code_presentation</th>\n",
       "      <th>id_assessment</th>\n",
       "      <th>assessment_type</th>\n",
       "      <th>date</th>\n",
       "      <th>weight</th>\n",
       "    </tr>\n",
       "  </thead>\n",
       "  <tbody>\n",
       "    <tr>\n",
       "      <th>176</th>\n",
       "      <td>GGG</td>\n",
       "      <td>2013J</td>\n",
       "      <td>37418</td>\n",
       "      <td>CMA</td>\n",
       "      <td>229.0</td>\n",
       "      <td>0.0</td>\n",
       "    </tr>\n",
       "    <tr>\n",
       "      <th>177</th>\n",
       "      <td>GGG</td>\n",
       "      <td>2013J</td>\n",
       "      <td>37419</td>\n",
       "      <td>CMA</td>\n",
       "      <td>229.0</td>\n",
       "      <td>0.0</td>\n",
       "    </tr>\n",
       "    <tr>\n",
       "      <th>178</th>\n",
       "      <td>GGG</td>\n",
       "      <td>2013J</td>\n",
       "      <td>37420</td>\n",
       "      <td>CMA</td>\n",
       "      <td>229.0</td>\n",
       "      <td>0.0</td>\n",
       "    </tr>\n",
       "    <tr>\n",
       "      <th>179</th>\n",
       "      <td>GGG</td>\n",
       "      <td>2013J</td>\n",
       "      <td>37421</td>\n",
       "      <td>CMA</td>\n",
       "      <td>229.0</td>\n",
       "      <td>0.0</td>\n",
       "    </tr>\n",
       "    <tr>\n",
       "      <th>180</th>\n",
       "      <td>GGG</td>\n",
       "      <td>2013J</td>\n",
       "      <td>37422</td>\n",
       "      <td>CMA</td>\n",
       "      <td>229.0</td>\n",
       "      <td>0.0</td>\n",
       "    </tr>\n",
       "    <tr>\n",
       "      <th>181</th>\n",
       "      <td>GGG</td>\n",
       "      <td>2013J</td>\n",
       "      <td>37423</td>\n",
       "      <td>CMA</td>\n",
       "      <td>229.0</td>\n",
       "      <td>0.0</td>\n",
       "    </tr>\n",
       "    <tr>\n",
       "      <th>182</th>\n",
       "      <td>GGG</td>\n",
       "      <td>2013J</td>\n",
       "      <td>37415</td>\n",
       "      <td>TMA</td>\n",
       "      <td>61.0</td>\n",
       "      <td>0.0</td>\n",
       "    </tr>\n",
       "    <tr>\n",
       "      <th>183</th>\n",
       "      <td>GGG</td>\n",
       "      <td>2013J</td>\n",
       "      <td>37416</td>\n",
       "      <td>TMA</td>\n",
       "      <td>124.0</td>\n",
       "      <td>0.0</td>\n",
       "    </tr>\n",
       "    <tr>\n",
       "      <th>184</th>\n",
       "      <td>GGG</td>\n",
       "      <td>2013J</td>\n",
       "      <td>37417</td>\n",
       "      <td>TMA</td>\n",
       "      <td>173.0</td>\n",
       "      <td>0.0</td>\n",
       "    </tr>\n",
       "    <tr>\n",
       "      <th>185</th>\n",
       "      <td>GGG</td>\n",
       "      <td>2013J</td>\n",
       "      <td>37424</td>\n",
       "      <td>Exam</td>\n",
       "      <td>229.0</td>\n",
       "      <td>100.0</td>\n",
       "    </tr>\n",
       "    <tr>\n",
       "      <th>186</th>\n",
       "      <td>GGG</td>\n",
       "      <td>2014B</td>\n",
       "      <td>37428</td>\n",
       "      <td>CMA</td>\n",
       "      <td>222.0</td>\n",
       "      <td>0.0</td>\n",
       "    </tr>\n",
       "    <tr>\n",
       "      <th>187</th>\n",
       "      <td>GGG</td>\n",
       "      <td>2014B</td>\n",
       "      <td>37429</td>\n",
       "      <td>CMA</td>\n",
       "      <td>222.0</td>\n",
       "      <td>0.0</td>\n",
       "    </tr>\n",
       "    <tr>\n",
       "      <th>188</th>\n",
       "      <td>GGG</td>\n",
       "      <td>2014B</td>\n",
       "      <td>37430</td>\n",
       "      <td>CMA</td>\n",
       "      <td>222.0</td>\n",
       "      <td>0.0</td>\n",
       "    </tr>\n",
       "    <tr>\n",
       "      <th>189</th>\n",
       "      <td>GGG</td>\n",
       "      <td>2014B</td>\n",
       "      <td>37431</td>\n",
       "      <td>CMA</td>\n",
       "      <td>222.0</td>\n",
       "      <td>0.0</td>\n",
       "    </tr>\n",
       "    <tr>\n",
       "      <th>190</th>\n",
       "      <td>GGG</td>\n",
       "      <td>2014B</td>\n",
       "      <td>37432</td>\n",
       "      <td>CMA</td>\n",
       "      <td>222.0</td>\n",
       "      <td>0.0</td>\n",
       "    </tr>\n",
       "    <tr>\n",
       "      <th>191</th>\n",
       "      <td>GGG</td>\n",
       "      <td>2014B</td>\n",
       "      <td>37433</td>\n",
       "      <td>CMA</td>\n",
       "      <td>222.0</td>\n",
       "      <td>0.0</td>\n",
       "    </tr>\n",
       "    <tr>\n",
       "      <th>192</th>\n",
       "      <td>GGG</td>\n",
       "      <td>2014B</td>\n",
       "      <td>37425</td>\n",
       "      <td>TMA</td>\n",
       "      <td>61.0</td>\n",
       "      <td>0.0</td>\n",
       "    </tr>\n",
       "    <tr>\n",
       "      <th>193</th>\n",
       "      <td>GGG</td>\n",
       "      <td>2014B</td>\n",
       "      <td>37426</td>\n",
       "      <td>TMA</td>\n",
       "      <td>117.0</td>\n",
       "      <td>0.0</td>\n",
       "    </tr>\n",
       "    <tr>\n",
       "      <th>194</th>\n",
       "      <td>GGG</td>\n",
       "      <td>2014B</td>\n",
       "      <td>37427</td>\n",
       "      <td>TMA</td>\n",
       "      <td>166.0</td>\n",
       "      <td>0.0</td>\n",
       "    </tr>\n",
       "    <tr>\n",
       "      <th>195</th>\n",
       "      <td>GGG</td>\n",
       "      <td>2014B</td>\n",
       "      <td>37434</td>\n",
       "      <td>Exam</td>\n",
       "      <td>222.0</td>\n",
       "      <td>100.0</td>\n",
       "    </tr>\n",
       "    <tr>\n",
       "      <th>196</th>\n",
       "      <td>GGG</td>\n",
       "      <td>2014J</td>\n",
       "      <td>37438</td>\n",
       "      <td>CMA</td>\n",
       "      <td>229.0</td>\n",
       "      <td>0.0</td>\n",
       "    </tr>\n",
       "    <tr>\n",
       "      <th>197</th>\n",
       "      <td>GGG</td>\n",
       "      <td>2014J</td>\n",
       "      <td>37439</td>\n",
       "      <td>CMA</td>\n",
       "      <td>229.0</td>\n",
       "      <td>0.0</td>\n",
       "    </tr>\n",
       "    <tr>\n",
       "      <th>198</th>\n",
       "      <td>GGG</td>\n",
       "      <td>2014J</td>\n",
       "      <td>37440</td>\n",
       "      <td>CMA</td>\n",
       "      <td>229.0</td>\n",
       "      <td>0.0</td>\n",
       "    </tr>\n",
       "    <tr>\n",
       "      <th>199</th>\n",
       "      <td>GGG</td>\n",
       "      <td>2014J</td>\n",
       "      <td>37441</td>\n",
       "      <td>CMA</td>\n",
       "      <td>229.0</td>\n",
       "      <td>0.0</td>\n",
       "    </tr>\n",
       "    <tr>\n",
       "      <th>200</th>\n",
       "      <td>GGG</td>\n",
       "      <td>2014J</td>\n",
       "      <td>37442</td>\n",
       "      <td>CMA</td>\n",
       "      <td>229.0</td>\n",
       "      <td>0.0</td>\n",
       "    </tr>\n",
       "    <tr>\n",
       "      <th>201</th>\n",
       "      <td>GGG</td>\n",
       "      <td>2014J</td>\n",
       "      <td>37443</td>\n",
       "      <td>CMA</td>\n",
       "      <td>229.0</td>\n",
       "      <td>0.0</td>\n",
       "    </tr>\n",
       "    <tr>\n",
       "      <th>202</th>\n",
       "      <td>GGG</td>\n",
       "      <td>2014J</td>\n",
       "      <td>37435</td>\n",
       "      <td>TMA</td>\n",
       "      <td>61.0</td>\n",
       "      <td>0.0</td>\n",
       "    </tr>\n",
       "    <tr>\n",
       "      <th>203</th>\n",
       "      <td>GGG</td>\n",
       "      <td>2014J</td>\n",
       "      <td>37436</td>\n",
       "      <td>TMA</td>\n",
       "      <td>124.0</td>\n",
       "      <td>0.0</td>\n",
       "    </tr>\n",
       "    <tr>\n",
       "      <th>204</th>\n",
       "      <td>GGG</td>\n",
       "      <td>2014J</td>\n",
       "      <td>37437</td>\n",
       "      <td>TMA</td>\n",
       "      <td>173.0</td>\n",
       "      <td>0.0</td>\n",
       "    </tr>\n",
       "    <tr>\n",
       "      <th>205</th>\n",
       "      <td>GGG</td>\n",
       "      <td>2014J</td>\n",
       "      <td>37444</td>\n",
       "      <td>Exam</td>\n",
       "      <td>229.0</td>\n",
       "      <td>100.0</td>\n",
       "    </tr>\n",
       "  </tbody>\n",
       "</table>\n",
       "</div>"
      ],
      "text/plain": [
       "    code_module code_presentation  id_assessment assessment_type   date  \\\n",
       "176         GGG             2013J          37418             CMA  229.0   \n",
       "177         GGG             2013J          37419             CMA  229.0   \n",
       "178         GGG             2013J          37420             CMA  229.0   \n",
       "179         GGG             2013J          37421             CMA  229.0   \n",
       "180         GGG             2013J          37422             CMA  229.0   \n",
       "181         GGG             2013J          37423             CMA  229.0   \n",
       "182         GGG             2013J          37415             TMA   61.0   \n",
       "183         GGG             2013J          37416             TMA  124.0   \n",
       "184         GGG             2013J          37417             TMA  173.0   \n",
       "185         GGG             2013J          37424            Exam  229.0   \n",
       "186         GGG             2014B          37428             CMA  222.0   \n",
       "187         GGG             2014B          37429             CMA  222.0   \n",
       "188         GGG             2014B          37430             CMA  222.0   \n",
       "189         GGG             2014B          37431             CMA  222.0   \n",
       "190         GGG             2014B          37432             CMA  222.0   \n",
       "191         GGG             2014B          37433             CMA  222.0   \n",
       "192         GGG             2014B          37425             TMA   61.0   \n",
       "193         GGG             2014B          37426             TMA  117.0   \n",
       "194         GGG             2014B          37427             TMA  166.0   \n",
       "195         GGG             2014B          37434            Exam  222.0   \n",
       "196         GGG             2014J          37438             CMA  229.0   \n",
       "197         GGG             2014J          37439             CMA  229.0   \n",
       "198         GGG             2014J          37440             CMA  229.0   \n",
       "199         GGG             2014J          37441             CMA  229.0   \n",
       "200         GGG             2014J          37442             CMA  229.0   \n",
       "201         GGG             2014J          37443             CMA  229.0   \n",
       "202         GGG             2014J          37435             TMA   61.0   \n",
       "203         GGG             2014J          37436             TMA  124.0   \n",
       "204         GGG             2014J          37437             TMA  173.0   \n",
       "205         GGG             2014J          37444            Exam  229.0   \n",
       "\n",
       "     weight  \n",
       "176     0.0  \n",
       "177     0.0  \n",
       "178     0.0  \n",
       "179     0.0  \n",
       "180     0.0  \n",
       "181     0.0  \n",
       "182     0.0  \n",
       "183     0.0  \n",
       "184     0.0  \n",
       "185   100.0  \n",
       "186     0.0  \n",
       "187     0.0  \n",
       "188     0.0  \n",
       "189     0.0  \n",
       "190     0.0  \n",
       "191     0.0  \n",
       "192     0.0  \n",
       "193     0.0  \n",
       "194     0.0  \n",
       "195   100.0  \n",
       "196     0.0  \n",
       "197     0.0  \n",
       "198     0.0  \n",
       "199     0.0  \n",
       "200     0.0  \n",
       "201     0.0  \n",
       "202     0.0  \n",
       "203     0.0  \n",
       "204     0.0  \n",
       "205   100.0  "
      ]
     },
     "execution_count": 15,
     "metadata": {},
     "output_type": "execute_result"
    }
   ],
   "source": [
    "#просмотр полных данных по предмету GGG\n",
    "assessment[assessment.code_module == 'GGG']"
   ]
  },
  {
   "cell_type": "markdown",
   "id": "b297b6ff-6be4-4d56-9255-670ed11948f3",
   "metadata": {},
   "source": [
    "---\n",
    "\n",
    "Дата сдачи теста `CMA` по предметам `FFF` и `GGG` **совпадают** с датой сдачи экзамена. <br>\n",
    "Поэтому, предворительно можно заключить, что **<font color = 'green'>экзамен включает в себя все компьютерные тесты</font>**. И оценка будет выставлена на основе сдачи тестов `ТМА` и `CMA`. <br>\n",
    "Но в `GGG` тесты `TMA` не имеют веса и даты сдачи не совпадают с датой экзамена, что сомнительно, в данном случае, так как даты тестов проставлены.<br>\n",
    "\n",
    "**<font color = 'red'> Поэтому, надо после объединения таблиц, посмотреть сдавали ли студенты тесты с id_assessment, который указан по тестам, которые в weight имеют вес 0.</font>**\n",
    "\n",
    "---"
   ]
  },
  {
   "cell_type": "markdown",
   "id": "af8a9215-6c40-46a2-9482-b4206b1fc7ad",
   "metadata": {},
   "source": [
    "[[go to content]](#content)\n",
    "[[go to paragraph]](#assessment_uniq)"
   ]
  },
  {
   "cell_type": "markdown",
   "id": "b79fa488-76ad-4c3d-b2cc-394efd28a689",
   "metadata": {
    "jp-MarkdownHeadingCollapsed": true,
    "tags": []
   },
   "source": [
    "#### <font color = 'green'> 3.5 Наличие Exam по каждому предмету в семестре</font> <a name = \"assessment_exam\"></a>"
   ]
  },
  {
   "cell_type": "markdown",
   "id": "0ab22c04-2b4d-4596-a9cc-5bd825bc87ca",
   "metadata": {},
   "source": [
    "---\n",
    "\n",
    "**<font color = 'green'>при формулировании,что такое курс, предворительно не будем ограничивать себя обязательным наличием экзамена, не смотря на то, что в системе оценивания указан Exam в каждом семестре по предмету.</font>**\n",
    "\n",
    "Среди предметов есть один `CCC`, у которого у файле присутствует 2 экзамена в семестре `2014B`. Это может быть ошибкой, ниже <font color = 'red'>проверим, есть ли студенты, которые сдали два экзамена по предмету.</font>\n",
    "\n",
    "---"
   ]
  },
  {
   "cell_type": "code",
   "execution_count": 16,
   "id": "acb50aa1-0f77-4b44-8c05-c5b7cc127dec",
   "metadata": {
    "tags": []
   },
   "outputs": [
    {
     "data": {
      "text/plain": [
       "code_module  code_presentation  assessment_type\n",
       "AAA          2013J              Exam               100.0\n",
       "                                TMA                100.0\n",
       "             2014J              Exam               100.0\n",
       "                                TMA                100.0\n",
       "BBB          2013B              CMA                  5.0\n",
       "                                Exam               100.0\n",
       "                                TMA                 95.0\n",
       "             2013J              CMA                  5.0\n",
       "                                Exam               100.0\n",
       "                                TMA                 95.0\n",
       "             2014B              CMA                  5.0\n",
       "                                Exam               100.0\n",
       "                                TMA                 95.0\n",
       "             2014J              Exam               100.0\n",
       "                                TMA                100.0\n",
       "CCC          2014B              CMA                 25.0\n",
       "                                Exam               200.0\n",
       "                                TMA                 75.0\n",
       "             2014J              CMA                 25.0\n",
       "                                Exam               200.0\n",
       "                                TMA                 75.0\n",
       "DDD          2013B              CMA                 25.0\n",
       "                                Exam               100.0\n",
       "                                TMA                 75.0\n",
       "             2013J              Exam               100.0\n",
       "                                TMA                100.0\n",
       "             2014B              Exam               100.0\n",
       "                                TMA                100.0\n",
       "             2014J              Exam               100.0\n",
       "                                TMA                100.0\n",
       "EEE          2013J              Exam               100.0\n",
       "                                TMA                100.0\n",
       "             2014B              Exam               100.0\n",
       "                                TMA                100.0\n",
       "             2014J              Exam               100.0\n",
       "                                TMA                100.0\n",
       "FFF          2013B              CMA                  0.0\n",
       "                                Exam               100.0\n",
       "                                TMA                100.0\n",
       "             2013J              CMA                  0.0\n",
       "                                Exam               100.0\n",
       "                                TMA                100.0\n",
       "             2014B              CMA                  0.0\n",
       "                                Exam               100.0\n",
       "                                TMA                100.0\n",
       "             2014J              CMA                  0.0\n",
       "                                Exam               100.0\n",
       "                                TMA                100.0\n",
       "GGG          2013J              CMA                  0.0\n",
       "                                Exam               100.0\n",
       "                                TMA                  0.0\n",
       "             2014B              CMA                  0.0\n",
       "                                Exam               100.0\n",
       "                                TMA                  0.0\n",
       "             2014J              CMA                  0.0\n",
       "                                Exam               100.0\n",
       "                                TMA                  0.0\n",
       "Name: weight, dtype: float64"
      ]
     },
     "execution_count": 16,
     "metadata": {},
     "output_type": "execute_result"
    }
   ],
   "source": [
    "assessment.groupby(['code_module','code_presentation', 'assessment_type' ])['weight'].sum()"
   ]
  },
  {
   "cell_type": "markdown",
   "id": "31dfd69b-ec2b-4ea0-adf8-d1b64b3f7108",
   "metadata": {},
   "source": [
    "[[go to content]](#content)\n",
    "[[go to paragraph]](#assessment_exam)"
   ]
  },
  {
   "cell_type": "markdown",
   "id": "8a07eba4-cf40-4b68-b0e8-8e80db577beb",
   "metadata": {
    "jp-MarkdownHeadingCollapsed": true,
    "tags": []
   },
   "source": [
    "#### <font color = 'green'> 3.6 Замена Null в date</font><a name = \"assessment_date_null\"></a>"
   ]
  },
  {
   "cell_type": "markdown",
   "id": "eb2e26cb-bfcf-410b-991e-ca37384f77fc",
   "metadata": {},
   "source": [
    "---\n",
    "\n",
    "- <font color = 'green'> Заменим отсутствующие даты в `date`,  чтобы не накапливать пустые ячейки.</font><br>\n",
    "- Заполнять буду датами максимальной даты по предмету внутри семестра, предполагая, что крайний срок сдачи любого теста не может быть позже последнего теста в семестре<br>\n",
    "- Возможно, что отсутствие данных означают автоматический зачет.\n",
    "\n",
    "---"
   ]
  },
  {
   "cell_type": "code",
   "execution_count": 17,
   "id": "192e7fec-6e05-46c2-8754-8302e7986f02",
   "metadata": {},
   "outputs": [],
   "source": [
    "# производим группировку данных внутри одного семестра по предметам.\n",
    "# определяем, что в каждой группе нужно найти максимум и заполнить им отсутствующие значения\n",
    "\n",
    "assessment['date'] = assessment.date.fillna(assessment.groupby(['code_presentation', 'code_module'])['date'].transform('max'))"
   ]
  },
  {
   "cell_type": "code",
   "execution_count": 18,
   "id": "a51a0640-180e-42c0-8feb-92621eeae4d3",
   "metadata": {},
   "outputs": [
    {
     "name": "stdout",
     "output_type": "stream",
     "text": [
      "<class 'pandas.core.frame.DataFrame'>\n",
      "RangeIndex: 206 entries, 0 to 205\n",
      "Data columns (total 6 columns):\n",
      " #   Column             Non-Null Count  Dtype  \n",
      "---  ------             --------------  -----  \n",
      " 0   code_module        206 non-null    object \n",
      " 1   code_presentation  206 non-null    object \n",
      " 2   id_assessment      206 non-null    int64  \n",
      " 3   assessment_type    206 non-null    object \n",
      " 4   date               206 non-null    float64\n",
      " 5   weight             206 non-null    float64\n",
      "dtypes: float64(2), int64(1), object(3)\n",
      "memory usage: 9.8+ KB\n"
     ]
    }
   ],
   "source": [
    "# проверяем наличие пустых записей\n",
    "\n",
    "assessment.info()"
   ]
  },
  {
   "cell_type": "markdown",
   "id": "5f7924a2-f05f-48cf-a625-0bab7202acf0",
   "metadata": {},
   "source": [
    "[[go to content]](#content)\n",
    "[[go to paragraph]](#assessment_date_null)"
   ]
  },
  {
   "cell_type": "markdown",
   "id": "3ed2a949-590f-4b51-9f7e-8060098b7809",
   "metadata": {
    "jp-MarkdownHeadingCollapsed": true,
    "tags": []
   },
   "source": [
    "#### <font color = 'green'>3.7 Сокращение потребляемой памяти</font> <a name = \"assessment_memor\"></a>"
   ]
  },
  {
   "cell_type": "markdown",
   "id": "20596274-1ba4-43a4-8d54-ac454f9dd538",
   "metadata": {},
   "source": [
    "- создаем копию данных, чтобы призводить изменения и далее сравнивать производить проверку"
   ]
  },
  {
   "cell_type": "code",
   "execution_count": 19,
   "id": "462ec20f-f7d5-4057-a2ee-493f513e45a1",
   "metadata": {},
   "outputs": [],
   "source": [
    "#создание копии данных, для работы с уменьшением потребляемой памяти\n",
    "\n",
    "assessment_save = assessment.copy()"
   ]
  },
  {
   "cell_type": "markdown",
   "id": "d4f54798-3061-493a-88e1-3cc3c7378276",
   "metadata": {},
   "source": [
    "- цикл для пересохранения переменных в оптимальные типы, для хранения:  `id_assessment`, `date`, `weight` columns"
   ]
  },
  {
   "cell_type": "code",
   "execution_count": 20,
   "id": "e8ec0278-07c7-45a3-847c-c71af3de173a",
   "metadata": {
    "tags": []
   },
   "outputs": [
    {
     "name": "stdout",
     "output_type": "stream",
     "text": [
      "<class 'pandas.core.series.Series'>\n",
      "RangeIndex: 206 entries, 0 to 205\n",
      "Series name: id_assessment\n",
      "Non-Null Count  Dtype \n",
      "--------------  ----- \n",
      "206 non-null    uint16\n",
      "dtypes: uint16(1)\n",
      "memory usage: 540.0 bytes\n",
      "None\n",
      "<class 'pandas.core.series.Series'>\n",
      "RangeIndex: 206 entries, 0 to 205\n",
      "Series name: date\n",
      "Non-Null Count  Dtype  \n",
      "--------------  -----  \n",
      "206 non-null    float32\n",
      "dtypes: float32(1)\n",
      "memory usage: 952.0 bytes\n",
      "None\n",
      "<class 'pandas.core.series.Series'>\n",
      "RangeIndex: 206 entries, 0 to 205\n",
      "Series name: weight\n",
      "Non-Null Count  Dtype  \n",
      "--------------  -----  \n",
      "206 non-null    float32\n",
      "dtypes: float32(1)\n",
      "memory usage: 952.0 bytes\n",
      "None\n"
     ]
    }
   ],
   "source": [
    "#цикл для пересохранения переменных в оптимальные типы, для хранения:  'id_assessment', 'date', 'weight' columns\n",
    "\n",
    "change_columns = ['id_assessment', 'date', 'weight']\n",
    "to_types = ['unsigned','float', 'float']\n",
    "\n",
    "for i, j in zip (change_columns, to_types):\n",
    "    assessment_save[i] =  pd.to_numeric(assessment[i], downcast = j, errors = 'coerce')\n",
    "    print(assessment_save[i].info())\n"
   ]
  },
  {
   "cell_type": "markdown",
   "id": "b704763a-adcb-4015-b02d-513637506380",
   "metadata": {},
   "source": [
    "- проверка значений после изменения, путем получения суммы по числовым колонкам"
   ]
  },
  {
   "cell_type": "code",
   "execution_count": 21,
   "id": "e74fd6ae-fc39-4dc8-a92b-b6d93c8973a6",
   "metadata": {
    "tags": []
   },
   "outputs": [
    {
     "data": {
      "text/html": [
       "<div>\n",
       "<style scoped>\n",
       "    .dataframe tbody tr th:only-of-type {\n",
       "        vertical-align: middle;\n",
       "    }\n",
       "\n",
       "    .dataframe tbody tr th {\n",
       "        vertical-align: top;\n",
       "    }\n",
       "\n",
       "    .dataframe thead th {\n",
       "        text-align: right;\n",
       "    }\n",
       "</style>\n",
       "<table border=\"1\" class=\"dataframe\">\n",
       "  <thead>\n",
       "    <tr style=\"text-align: right;\">\n",
       "      <th></th>\n",
       "      <th>0</th>\n",
       "      <th>0</th>\n",
       "    </tr>\n",
       "  </thead>\n",
       "  <tbody>\n",
       "    <tr>\n",
       "      <th>id_assessment</th>\n",
       "      <td>5453639.0</td>\n",
       "      <td>5453639.0</td>\n",
       "    </tr>\n",
       "    <tr>\n",
       "      <th>date</th>\n",
       "      <td>30533.0</td>\n",
       "      <td>30533.0</td>\n",
       "    </tr>\n",
       "    <tr>\n",
       "      <th>weight</th>\n",
       "      <td>4300.0</td>\n",
       "      <td>4300.0</td>\n",
       "    </tr>\n",
       "  </tbody>\n",
       "</table>\n",
       "</div>"
      ],
      "text/plain": [
       "                       0          0\n",
       "id_assessment  5453639.0  5453639.0\n",
       "date             30533.0    30533.0\n",
       "weight            4300.0     4300.0"
      ]
     },
     "execution_count": 21,
     "metadata": {},
     "output_type": "execute_result"
    }
   ],
   "source": [
    "# проверка значений после изменения, путем получения суммы по числовым колонкам\n",
    "\n",
    "pd.concat([assessment[['id_assessment', 'date', 'weight']].sum().to_frame(), \n",
    "            assessment_save[['id_assessment', 'date', 'weight']].sum().to_frame()],\n",
    "           axis = 1, names = ['assessment', 'assessment_save'])"
   ]
  },
  {
   "cell_type": "markdown",
   "id": "ee013eea-04de-4bc0-9e23-4607ef6b8ac8",
   "metadata": {},
   "source": [
    "- полное сравнение таблиц до сокращение потребляемой памяти и после"
   ]
  },
  {
   "cell_type": "code",
   "execution_count": 22,
   "id": "aefc948d-1b2c-49c6-81d2-bcdee26cfeb3",
   "metadata": {},
   "outputs": [
    {
     "data": {
      "text/plain": [
       "code_module          0\n",
       "code_presentation    0\n",
       "id_assessment        0\n",
       "assessment_type      0\n",
       "date                 0\n",
       "weight               0\n",
       "dtype: int64"
      ]
     },
     "execution_count": 22,
     "metadata": {},
     "output_type": "execute_result"
    }
   ],
   "source": [
    "#полное сравнение таблиц до сокращения потребляемой памяти и после\n",
    "\n",
    "(assessment != assessment_save).sum()"
   ]
  },
  {
   "cell_type": "markdown",
   "id": "438c722d-6179-4257-847e-288bf12a56a5",
   "metadata": {},
   "source": [
    "[[go to content]](#content)\n",
    "[[go to paragraph]](#assessment_memor)"
   ]
  },
  {
   "cell_type": "markdown",
   "id": "0af64f4b-a02c-4448-a678-f0139a75fa67",
   "metadata": {
    "tags": []
   },
   "source": [
    "#### <font color = 'green'>3.8 Памятка </font><a name = \"assessment_notes\"></a>\n",
    "\n",
    "- После объединения таблиц:\n",
    "    - посмотреть сдавали ли студенты тесты с `id_assessment`, которые в `weight` имеют вес 0.\n",
    "    - сдавали ли студенты оба экзамена по предметк `CCC` в семестре `2014J`\n",
    "- При формулировании,что такое курс, вернуться к вопросу о необходимости сдачи экзамена\n",
    "- Пустые значения в `date` заменены максимальной датой сдачи теста в семестре по предмету"
   ]
  },
  {
   "cell_type": "markdown",
   "id": "c3a4d96c-f398-4d81-a1f3-5a057c4247d2",
   "metadata": {},
   "source": [
    "[[go to content]](#content)\n",
    "[[go to paragraph]](#assessment_notes)"
   ]
  },
  {
   "cell_type": "markdown",
   "id": "492e9de2-15ad-4848-8bbc-2706c6626656",
   "metadata": {
    "tags": []
   },
   "source": [
    "### <font color = 'blue'>4. Загрузка данных `courses`</font> <a name = \"download_courses\"></a>"
   ]
  },
  {
   "cell_type": "code",
   "execution_count": 23,
   "id": "58c72e01-7326-4dac-b8f7-01c4d08f2b9d",
   "metadata": {
    "tags": []
   },
   "outputs": [],
   "source": [
    "courses = pd.read_csv(final_link[1])"
   ]
  },
  {
   "cell_type": "code",
   "execution_count": 24,
   "id": "2ca4d6c6-5f85-44a7-845e-6e72cde36c47",
   "metadata": {},
   "outputs": [
    {
     "data": {
      "text/html": [
       "<div>\n",
       "<style scoped>\n",
       "    .dataframe tbody tr th:only-of-type {\n",
       "        vertical-align: middle;\n",
       "    }\n",
       "\n",
       "    .dataframe tbody tr th {\n",
       "        vertical-align: top;\n",
       "    }\n",
       "\n",
       "    .dataframe thead th {\n",
       "        text-align: right;\n",
       "    }\n",
       "</style>\n",
       "<table border=\"1\" class=\"dataframe\">\n",
       "  <thead>\n",
       "    <tr style=\"text-align: right;\">\n",
       "      <th></th>\n",
       "      <th>code_module</th>\n",
       "      <th>code_presentation</th>\n",
       "      <th>module_presentation_length</th>\n",
       "    </tr>\n",
       "  </thead>\n",
       "  <tbody>\n",
       "    <tr>\n",
       "      <th>0</th>\n",
       "      <td>AAA</td>\n",
       "      <td>2013J</td>\n",
       "      <td>268</td>\n",
       "    </tr>\n",
       "    <tr>\n",
       "      <th>1</th>\n",
       "      <td>AAA</td>\n",
       "      <td>2014J</td>\n",
       "      <td>269</td>\n",
       "    </tr>\n",
       "    <tr>\n",
       "      <th>2</th>\n",
       "      <td>BBB</td>\n",
       "      <td>2013J</td>\n",
       "      <td>268</td>\n",
       "    </tr>\n",
       "    <tr>\n",
       "      <th>3</th>\n",
       "      <td>BBB</td>\n",
       "      <td>2014J</td>\n",
       "      <td>262</td>\n",
       "    </tr>\n",
       "    <tr>\n",
       "      <th>4</th>\n",
       "      <td>BBB</td>\n",
       "      <td>2013B</td>\n",
       "      <td>240</td>\n",
       "    </tr>\n",
       "  </tbody>\n",
       "</table>\n",
       "</div>"
      ],
      "text/plain": [
       "  code_module code_presentation  module_presentation_length\n",
       "0         AAA             2013J                         268\n",
       "1         AAA             2014J                         269\n",
       "2         BBB             2013J                         268\n",
       "3         BBB             2014J                         262\n",
       "4         BBB             2013B                         240"
      ]
     },
     "execution_count": 24,
     "metadata": {},
     "output_type": "execute_result"
    }
   ],
   "source": [
    "courses.head()"
   ]
  },
  {
   "cell_type": "markdown",
   "id": "f042997e-7524-4750-a666-ffda029ca671",
   "metadata": {
    "jp-MarkdownHeadingCollapsed": true,
    "tags": []
   },
   "source": [
    "#### <font color = 'blue'>4.1  Проверка NULL и типов данных</font> <a name = \"courses_null_dtype\"></a>"
   ]
  },
  {
   "cell_type": "markdown",
   "id": "c61c3b4e-847c-40ba-914f-94552fb8a3f2",
   "metadata": {},
   "source": [
    "---\n",
    "В данных нет пропусков\n",
    "\n",
    "---"
   ]
  },
  {
   "cell_type": "code",
   "execution_count": 25,
   "id": "6adf3737-326c-4d8c-a541-6fc98d473b36",
   "metadata": {
    "tags": []
   },
   "outputs": [
    {
     "name": "stdout",
     "output_type": "stream",
     "text": [
      "<class 'pandas.core.frame.DataFrame'>\n",
      "RangeIndex: 22 entries, 0 to 21\n",
      "Data columns (total 3 columns):\n",
      " #   Column                      Non-Null Count  Dtype \n",
      "---  ------                      --------------  ----- \n",
      " 0   code_module                 22 non-null     object\n",
      " 1   code_presentation           22 non-null     object\n",
      " 2   module_presentation_length  22 non-null     int64 \n",
      "dtypes: int64(1), object(2)\n",
      "memory usage: 656.0+ bytes\n"
     ]
    }
   ],
   "source": [
    "courses.info()"
   ]
  },
  {
   "cell_type": "markdown",
   "id": "9e1068e3-a36b-4927-a892-d51719b5da5d",
   "metadata": {
    "jp-MarkdownHeadingCollapsed": true,
    "tags": []
   },
   "source": [
    "#### <font color = 'blue'>4.2 Исправление `module_presentation_length`</font> <a name = \"courses_module_presentation_length\"></a>"
   ]
  },
  {
   "cell_type": "markdown",
   "id": "8dc14414-16f1-4fce-a8b2-34f7df03fed5",
   "metadata": {},
   "source": [
    "---\n",
    "\n",
    "- колонка `module_presentation_length` - показывает продолжительность семестра `code_module`, поэтому ожидаются равные значения по всем предметам.\n",
    "- не по всем предметам внутри семестра длительность семестра равная\n",
    "- **<font color = 'green'>заменим ошибочные значения</font>**. Ошибочное значение то, которое встречается в семестре меньше раз.\n",
    "\n",
    "---"
   ]
  },
  {
   "cell_type": "code",
   "execution_count": 26,
   "id": "7079da48-131a-4a97-93a3-27d9ef9bfbe0",
   "metadata": {
    "tags": []
   },
   "outputs": [
    {
     "data": {
      "text/html": [
       "<div>\n",
       "<style scoped>\n",
       "    .dataframe tbody tr th:only-of-type {\n",
       "        vertical-align: middle;\n",
       "    }\n",
       "\n",
       "    .dataframe tbody tr th {\n",
       "        vertical-align: top;\n",
       "    }\n",
       "\n",
       "    .dataframe thead th {\n",
       "        text-align: right;\n",
       "    }\n",
       "</style>\n",
       "<table border=\"1\" class=\"dataframe\">\n",
       "  <thead>\n",
       "    <tr style=\"text-align: right;\">\n",
       "      <th></th>\n",
       "      <th>code_module</th>\n",
       "      <th>code_presentation</th>\n",
       "      <th>module_presentation_length</th>\n",
       "    </tr>\n",
       "  </thead>\n",
       "  <tbody>\n",
       "    <tr>\n",
       "      <th>4</th>\n",
       "      <td>BBB</td>\n",
       "      <td>2013B</td>\n",
       "      <td>240</td>\n",
       "    </tr>\n",
       "    <tr>\n",
       "      <th>10</th>\n",
       "      <td>DDD</td>\n",
       "      <td>2013B</td>\n",
       "      <td>240</td>\n",
       "    </tr>\n",
       "    <tr>\n",
       "      <th>17</th>\n",
       "      <td>FFF</td>\n",
       "      <td>2013B</td>\n",
       "      <td>240</td>\n",
       "    </tr>\n",
       "    <tr>\n",
       "      <th>0</th>\n",
       "      <td>AAA</td>\n",
       "      <td>2013J</td>\n",
       "      <td>268</td>\n",
       "    </tr>\n",
       "    <tr>\n",
       "      <th>2</th>\n",
       "      <td>BBB</td>\n",
       "      <td>2013J</td>\n",
       "      <td>268</td>\n",
       "    </tr>\n",
       "    <tr>\n",
       "      <th>8</th>\n",
       "      <td>DDD</td>\n",
       "      <td>2013J</td>\n",
       "      <td>261</td>\n",
       "    </tr>\n",
       "    <tr>\n",
       "      <th>12</th>\n",
       "      <td>EEE</td>\n",
       "      <td>2013J</td>\n",
       "      <td>268</td>\n",
       "    </tr>\n",
       "    <tr>\n",
       "      <th>15</th>\n",
       "      <td>FFF</td>\n",
       "      <td>2013J</td>\n",
       "      <td>268</td>\n",
       "    </tr>\n",
       "    <tr>\n",
       "      <th>19</th>\n",
       "      <td>GGG</td>\n",
       "      <td>2013J</td>\n",
       "      <td>261</td>\n",
       "    </tr>\n",
       "    <tr>\n",
       "      <th>5</th>\n",
       "      <td>BBB</td>\n",
       "      <td>2014B</td>\n",
       "      <td>234</td>\n",
       "    </tr>\n",
       "    <tr>\n",
       "      <th>7</th>\n",
       "      <td>CCC</td>\n",
       "      <td>2014B</td>\n",
       "      <td>241</td>\n",
       "    </tr>\n",
       "    <tr>\n",
       "      <th>11</th>\n",
       "      <td>DDD</td>\n",
       "      <td>2014B</td>\n",
       "      <td>241</td>\n",
       "    </tr>\n",
       "    <tr>\n",
       "      <th>14</th>\n",
       "      <td>EEE</td>\n",
       "      <td>2014B</td>\n",
       "      <td>241</td>\n",
       "    </tr>\n",
       "    <tr>\n",
       "      <th>18</th>\n",
       "      <td>FFF</td>\n",
       "      <td>2014B</td>\n",
       "      <td>241</td>\n",
       "    </tr>\n",
       "    <tr>\n",
       "      <th>21</th>\n",
       "      <td>GGG</td>\n",
       "      <td>2014B</td>\n",
       "      <td>241</td>\n",
       "    </tr>\n",
       "    <tr>\n",
       "      <th>1</th>\n",
       "      <td>AAA</td>\n",
       "      <td>2014J</td>\n",
       "      <td>269</td>\n",
       "    </tr>\n",
       "    <tr>\n",
       "      <th>3</th>\n",
       "      <td>BBB</td>\n",
       "      <td>2014J</td>\n",
       "      <td>262</td>\n",
       "    </tr>\n",
       "    <tr>\n",
       "      <th>6</th>\n",
       "      <td>CCC</td>\n",
       "      <td>2014J</td>\n",
       "      <td>269</td>\n",
       "    </tr>\n",
       "    <tr>\n",
       "      <th>9</th>\n",
       "      <td>DDD</td>\n",
       "      <td>2014J</td>\n",
       "      <td>262</td>\n",
       "    </tr>\n",
       "    <tr>\n",
       "      <th>13</th>\n",
       "      <td>EEE</td>\n",
       "      <td>2014J</td>\n",
       "      <td>269</td>\n",
       "    </tr>\n",
       "    <tr>\n",
       "      <th>16</th>\n",
       "      <td>FFF</td>\n",
       "      <td>2014J</td>\n",
       "      <td>269</td>\n",
       "    </tr>\n",
       "    <tr>\n",
       "      <th>20</th>\n",
       "      <td>GGG</td>\n",
       "      <td>2014J</td>\n",
       "      <td>269</td>\n",
       "    </tr>\n",
       "  </tbody>\n",
       "</table>\n",
       "</div>"
      ],
      "text/plain": [
       "   code_module code_presentation  module_presentation_length\n",
       "4          BBB             2013B                         240\n",
       "10         DDD             2013B                         240\n",
       "17         FFF             2013B                         240\n",
       "0          AAA             2013J                         268\n",
       "2          BBB             2013J                         268\n",
       "8          DDD             2013J                         261\n",
       "12         EEE             2013J                         268\n",
       "15         FFF             2013J                         268\n",
       "19         GGG             2013J                         261\n",
       "5          BBB             2014B                         234\n",
       "7          CCC             2014B                         241\n",
       "11         DDD             2014B                         241\n",
       "14         EEE             2014B                         241\n",
       "18         FFF             2014B                         241\n",
       "21         GGG             2014B                         241\n",
       "1          AAA             2014J                         269\n",
       "3          BBB             2014J                         262\n",
       "6          CCC             2014J                         269\n",
       "9          DDD             2014J                         262\n",
       "13         EEE             2014J                         269\n",
       "16         FFF             2014J                         269\n",
       "20         GGG             2014J                         269"
      ]
     },
     "execution_count": 26,
     "metadata": {},
     "output_type": "execute_result"
    }
   ],
   "source": [
    "courses.sort_values(by=['code_presentation','code_module'])"
   ]
  },
  {
   "cell_type": "markdown",
   "id": "d9075b4c-ca24-4e15-89ab-57b008fc4e0b",
   "metadata": {},
   "source": [
    "---\n",
    "**Ошибочные значения:**\n",
    "- `2013J` длительность 261 --> 268\n",
    "- `2014B` длительность 234 --> 241\n",
    "- `2014J` длительность 262 --> 269\n",
    "\n",
    "---"
   ]
  },
  {
   "cell_type": "code",
   "execution_count": 27,
   "id": "c2d6e0d2-4205-4574-b517-9ecb5529dff2",
   "metadata": {},
   "outputs": [
    {
     "data": {
      "text/plain": [
       "code_presentation  module_presentation_length\n",
       "2013B              240                           3\n",
       "2013J              261                           2\n",
       "                   268                           4\n",
       "2014B              234                           1\n",
       "                   241                           5\n",
       "2014J              262                           2\n",
       "                   269                           5\n",
       "dtype: int64"
      ]
     },
     "execution_count": 27,
     "metadata": {},
     "output_type": "execute_result"
    }
   ],
   "source": [
    "courses.groupby(['code_presentation', 'module_presentation_length']).size()"
   ]
  },
  {
   "cell_type": "code",
   "execution_count": 28,
   "id": "18099c83-4b76-4466-ba27-66cdc3cbafc6",
   "metadata": {},
   "outputs": [
    {
     "data": {
      "text/plain": [
       "code_presentation  module_presentation_length\n",
       "2013B              240                           3\n",
       "2013J              268                           6\n",
       "2014B              241                           6\n",
       "2014J              269                           7\n",
       "dtype: int64"
      ]
     },
     "execution_count": 28,
     "metadata": {},
     "output_type": "execute_result"
    }
   ],
   "source": [
    "# заменяем значения\n",
    "\n",
    "courses['module_presentation_length'] = courses.module_presentation_length.replace([261, 234, 262], [268, 241, 269])\n",
    "\n",
    "# courses.sort_values(by=['code_presentation','code_module'])\n",
    "\n",
    "courses.groupby(['code_presentation', 'module_presentation_length']).size()"
   ]
  },
  {
   "cell_type": "markdown",
   "id": "c82f235f-f026-4b78-8eff-5837c001c342",
   "metadata": {},
   "source": [
    "[[go to content]](#content)\n",
    "[[go to paragraph]](#courses_module_presentation_length)"
   ]
  },
  {
   "cell_type": "markdown",
   "id": "5857055e-0f91-45a7-99ea-46ef60ad9147",
   "metadata": {
    "jp-MarkdownHeadingCollapsed": true,
    "tags": []
   },
   "source": [
    "#### <font color = 'blue'> 4.3 Проверка используемых форматов данных</font> <a name = \"courses_format\"></a>"
   ]
  },
  {
   "cell_type": "markdown",
   "id": "310afe82-0009-487f-95fb-5566a8367ae4",
   "metadata": {
    "tags": []
   },
   "source": [
    "- проверяем границы значений *(если диапазон значений меньше, чем используемый тип, то лучше сменить тип на меньший)*\n",
    "- по описательной статистике min и max значение в численных переменных имеют размер меньше того, в котором они записаны\n",
    "    - `module_presentation_length` [240,269] "
   ]
  },
  {
   "cell_type": "code",
   "execution_count": 29,
   "id": "79719cb2-f798-48fc-bf2e-14d90eddb464",
   "metadata": {
    "tags": []
   },
   "outputs": [
    {
     "data": {
      "text/html": [
       "<div>\n",
       "<style scoped>\n",
       "    .dataframe tbody tr th:only-of-type {\n",
       "        vertical-align: middle;\n",
       "    }\n",
       "\n",
       "    .dataframe tbody tr th {\n",
       "        vertical-align: top;\n",
       "    }\n",
       "\n",
       "    .dataframe thead th {\n",
       "        text-align: right;\n",
       "    }\n",
       "</style>\n",
       "<table border=\"1\" class=\"dataframe\">\n",
       "  <thead>\n",
       "    <tr style=\"text-align: right;\">\n",
       "      <th></th>\n",
       "      <th>module_presentation_length</th>\n",
       "    </tr>\n",
       "  </thead>\n",
       "  <tbody>\n",
       "    <tr>\n",
       "      <th>count</th>\n",
       "      <td>22.000000</td>\n",
       "    </tr>\n",
       "    <tr>\n",
       "      <th>mean</th>\n",
       "      <td>257.136364</td>\n",
       "    </tr>\n",
       "    <tr>\n",
       "      <th>std</th>\n",
       "      <td>14.034975</td>\n",
       "    </tr>\n",
       "    <tr>\n",
       "      <th>min</th>\n",
       "      <td>240.000000</td>\n",
       "    </tr>\n",
       "    <tr>\n",
       "      <th>25%</th>\n",
       "      <td>241.000000</td>\n",
       "    </tr>\n",
       "    <tr>\n",
       "      <th>50%</th>\n",
       "      <td>268.000000</td>\n",
       "    </tr>\n",
       "    <tr>\n",
       "      <th>75%</th>\n",
       "      <td>269.000000</td>\n",
       "    </tr>\n",
       "    <tr>\n",
       "      <th>max</th>\n",
       "      <td>269.000000</td>\n",
       "    </tr>\n",
       "  </tbody>\n",
       "</table>\n",
       "</div>"
      ],
      "text/plain": [
       "       module_presentation_length\n",
       "count                   22.000000\n",
       "mean                   257.136364\n",
       "std                     14.034975\n",
       "min                    240.000000\n",
       "25%                    241.000000\n",
       "50%                    268.000000\n",
       "75%                    269.000000\n",
       "max                    269.000000"
      ]
     },
     "execution_count": 29,
     "metadata": {},
     "output_type": "execute_result"
    }
   ],
   "source": [
    "courses.describe()"
   ]
  },
  {
   "cell_type": "markdown",
   "id": "ff863781-bbf0-44e3-8ea3-31d06381c822",
   "metadata": {},
   "source": [
    "[[go to content]](#content)\n",
    "[[go to paragraph]](#courses_format)"
   ]
  },
  {
   "cell_type": "markdown",
   "id": "d76fb2c9-b48a-42e8-9f33-587792aac3ac",
   "metadata": {
    "jp-MarkdownHeadingCollapsed": true,
    "tags": []
   },
   "source": [
    "#### <font color = 'blue'>4.4 Сокращение потребляемой памяти</font> <a name = \"courses_memor\"></a>"
   ]
  },
  {
   "cell_type": "code",
   "execution_count": 30,
   "id": "5e55d55c-d456-47f8-bee8-320ee1d2367b",
   "metadata": {
    "tags": []
   },
   "outputs": [],
   "source": [
    "#создание копии данных, для работы с уменьшением потребляемой памяти\n",
    "\n",
    "course_save = courses.copy()"
   ]
  },
  {
   "cell_type": "code",
   "execution_count": 31,
   "id": "13d7532c-b0c0-44a6-9940-0918e9c87136",
   "metadata": {},
   "outputs": [],
   "source": [
    "# пересохранения переменной в оптимальный тип\n",
    "\n",
    "course_save['module_presentation_length'] = pd.to_numeric(course_save['module_presentation_length'], downcast = 'integer', errors = 'coerce')"
   ]
  },
  {
   "cell_type": "code",
   "execution_count": 32,
   "id": "1f421b88-77b5-441c-aa73-fe7c3cbce8f5",
   "metadata": {},
   "outputs": [
    {
     "name": "stdout",
     "output_type": "stream",
     "text": [
      "<class 'pandas.core.frame.DataFrame'>\n",
      "RangeIndex: 22 entries, 0 to 21\n",
      "Data columns (total 3 columns):\n",
      " #   Column                      Non-Null Count  Dtype \n",
      "---  ------                      --------------  ----- \n",
      " 0   code_module                 22 non-null     object\n",
      " 1   code_presentation           22 non-null     object\n",
      " 2   module_presentation_length  22 non-null     int16 \n",
      "dtypes: int16(1), object(2)\n",
      "memory usage: 524.0+ bytes\n"
     ]
    }
   ],
   "source": [
    "course_save.info()"
   ]
  },
  {
   "cell_type": "code",
   "execution_count": 33,
   "id": "2e00c1a5-c6b9-4f5b-bdb7-40bdb3e19bb3",
   "metadata": {},
   "outputs": [
    {
     "data": {
      "text/plain": [
       "code_module                   0\n",
       "code_presentation             0\n",
       "module_presentation_length    0\n",
       "dtype: int64"
      ]
     },
     "execution_count": 33,
     "metadata": {},
     "output_type": "execute_result"
    }
   ],
   "source": [
    "#полное сравнение таблиц до сокращение потребляемой памяти и после\n",
    "\n",
    "(courses !=  course_save).sum()"
   ]
  },
  {
   "cell_type": "markdown",
   "id": "38188c2c-1e04-4163-8936-5981220628c0",
   "metadata": {},
   "source": [
    "[[go to content]](#content)\n",
    "[[go to paragraph]](#courses_memor)"
   ]
  },
  {
   "cell_type": "markdown",
   "id": "79fbae13-a022-4537-b114-57c3802635f9",
   "metadata": {},
   "source": [
    "#### <font color = 'blue'> 4.5 Памятка</font><a name = \"courses_notes\"></a>\n",
    "---\n",
    "- привели время окончания семестра к единым срокам `module_presentation_length`\n",
    "- после объединения сравнивать сроки сдачи тестов с окончанием семестра по необходимости\n",
    "\n",
    "---"
   ]
  },
  {
   "cell_type": "markdown",
   "id": "2a566dac-8ce3-4924-86a9-1108832bf966",
   "metadata": {},
   "source": [
    "[[go to content]](#content)\n",
    "[[go to paragraph]](#courses_notes)"
   ]
  },
  {
   "cell_type": "markdown",
   "id": "8d2d49a7-2fed-42ef-a64b-c483a94781ee",
   "metadata": {
    "tags": []
   },
   "source": [
    "### <font color = 'purple'>5. Загрузка `studentAssessment`</font> <a name = \"download_studentAssessment\">"
   ]
  },
  {
   "cell_type": "code",
   "execution_count": 34,
   "id": "ecdeeb83-7199-40ff-af87-bed35dc19893",
   "metadata": {},
   "outputs": [],
   "source": [
    "# закгрузка данных\n",
    "\n",
    "studentAssessment = pd.read_csv(final_link[2])"
   ]
  },
  {
   "cell_type": "code",
   "execution_count": 35,
   "id": "d8cc93b2-7d4a-4afe-9b62-7e97cbbe94d0",
   "metadata": {},
   "outputs": [
    {
     "data": {
      "text/html": [
       "<div>\n",
       "<style scoped>\n",
       "    .dataframe tbody tr th:only-of-type {\n",
       "        vertical-align: middle;\n",
       "    }\n",
       "\n",
       "    .dataframe tbody tr th {\n",
       "        vertical-align: top;\n",
       "    }\n",
       "\n",
       "    .dataframe thead th {\n",
       "        text-align: right;\n",
       "    }\n",
       "</style>\n",
       "<table border=\"1\" class=\"dataframe\">\n",
       "  <thead>\n",
       "    <tr style=\"text-align: right;\">\n",
       "      <th></th>\n",
       "      <th>id_assessment</th>\n",
       "      <th>id_student</th>\n",
       "      <th>date_submitted</th>\n",
       "      <th>is_banked</th>\n",
       "      <th>score</th>\n",
       "    </tr>\n",
       "  </thead>\n",
       "  <tbody>\n",
       "    <tr>\n",
       "      <th>0</th>\n",
       "      <td>1752</td>\n",
       "      <td>11391</td>\n",
       "      <td>18</td>\n",
       "      <td>0</td>\n",
       "      <td>78.0</td>\n",
       "    </tr>\n",
       "    <tr>\n",
       "      <th>1</th>\n",
       "      <td>1752</td>\n",
       "      <td>28400</td>\n",
       "      <td>22</td>\n",
       "      <td>0</td>\n",
       "      <td>70.0</td>\n",
       "    </tr>\n",
       "    <tr>\n",
       "      <th>2</th>\n",
       "      <td>1752</td>\n",
       "      <td>31604</td>\n",
       "      <td>17</td>\n",
       "      <td>0</td>\n",
       "      <td>72.0</td>\n",
       "    </tr>\n",
       "    <tr>\n",
       "      <th>3</th>\n",
       "      <td>1752</td>\n",
       "      <td>32885</td>\n",
       "      <td>26</td>\n",
       "      <td>0</td>\n",
       "      <td>69.0</td>\n",
       "    </tr>\n",
       "    <tr>\n",
       "      <th>4</th>\n",
       "      <td>1752</td>\n",
       "      <td>38053</td>\n",
       "      <td>19</td>\n",
       "      <td>0</td>\n",
       "      <td>79.0</td>\n",
       "    </tr>\n",
       "  </tbody>\n",
       "</table>\n",
       "</div>"
      ],
      "text/plain": [
       "   id_assessment  id_student  date_submitted  is_banked  score\n",
       "0           1752       11391              18          0   78.0\n",
       "1           1752       28400              22          0   70.0\n",
       "2           1752       31604              17          0   72.0\n",
       "3           1752       32885              26          0   69.0\n",
       "4           1752       38053              19          0   79.0"
      ]
     },
     "execution_count": 35,
     "metadata": {},
     "output_type": "execute_result"
    }
   ],
   "source": [
    "studentAssessment.head()"
   ]
  },
  {
   "cell_type": "markdown",
   "id": "a87e1761-0656-4073-b66c-a1f7d1a2e2f8",
   "metadata": {},
   "source": [
    "[[go to content]](#content)\n",
    "[[go to paragraph]](#download_studentAssessment)"
   ]
  },
  {
   "cell_type": "markdown",
   "id": "4246309b-df14-4ec4-a73d-c8edfeb11208",
   "metadata": {
    "jp-MarkdownHeadingCollapsed": true,
    "tags": []
   },
   "source": [
    "#### <font color = 'purple'> 5.1  Проверка NULL, типов данных и уникальных значений</font><a name = \"studentAssessment_null_dtype\"></a>"
   ]
  },
  {
   "cell_type": "markdown",
   "id": "014b8758-8310-4f80-afe6-3f0303d8abdd",
   "metadata": {},
   "source": [
    "---\n",
    "- В колоке `score` отсутствуют 173 записи - 0,1% от всех записей<br>\n",
    "- Пояснений об отсутствубщих значениях нет:\n",
    "    - чтобы не путать возникшые пустые ячейки после merge можно заменить Null на -9999 *(-9999, будет характеризовать, что в исходной таблице не доставало данных)*<br> \n",
    "<br>   \n",
    "- <font color = 'red'>Кол-во уникальных `id_assessment` отличается от того-же параметра в таблице `assessment`</font>\n",
    "    - таблица `assessment` кол-во `id_assessment` - **206** \n",
    "    - таблица `studentAssessment` кол-во `id_assessment` - **188** \n",
    "    - кол-во недостающих записей в `studentAssessment` - **18**   \n",
    "**<font color = 'green'>Следовательно в `assessment` рекомендованный перечень тестов, но не обязательный.</font>**\n",
    "\n",
    "---\n",
    "\n",
    "Предположим, что баллы не проставлены у тех, кто уходил в академ и кому засчитан тест на основе раннее сданного:\n",
    "- среди 173 записей такой случай всего 1 ==> причина иная.\n",
    "\n",
    "Предположим, что не оценивались конкретные тесты:\n",
    "- тесты без оценки встречаются и среди оцененных\n",
    "\n",
    "Предположи, что это означает, что тест был не сдан:\n",
    "- альтернативой не сдачи является **0** баллов, такое значение присвоено в **329** записях\n",
    "- **162** `id_assessment` c оценкой **0** встречаются среди `id_assessment` без оценки, косвенно можем пологать, что <u>пропуски связанны с 0 значением</u>\n",
    "- дополнительно проверили, есть ли студенты, которые сдавали хотябы один тест больше 1 раза - исключаем записи со `score = Null`, как одну из попыток сдать тест.\n",
    "    - таких студентов нет.\n",
    "\n",
    "**<font color = 'green'>В результате, есть косвенные основания предпологать, что пропущенные оценки это -  0 баллы, но пока присвоим **-9999**, а после merge, проверим предположение** *(прежде посмотрим по каким семестрам и предметам это сделано)*</font>\n",
    "\n",
    "---"
   ]
  },
  {
   "cell_type": "code",
   "execution_count": 36,
   "id": "ef72fe9a-41b0-4e82-a1b3-56e8aa58f8de",
   "metadata": {},
   "outputs": [
    {
     "name": "stdout",
     "output_type": "stream",
     "text": [
      "<class 'pandas.core.frame.DataFrame'>\n",
      "RangeIndex: 173912 entries, 0 to 173911\n",
      "Data columns (total 5 columns):\n",
      " #   Column          Non-Null Count   Dtype  \n",
      "---  ------          --------------   -----  \n",
      " 0   id_assessment   173912 non-null  int64  \n",
      " 1   id_student      173912 non-null  int64  \n",
      " 2   date_submitted  173912 non-null  int64  \n",
      " 3   is_banked       173912 non-null  int64  \n",
      " 4   score           173739 non-null  float64\n",
      "dtypes: float64(1), int64(4)\n",
      "memory usage: 6.6 MB\n"
     ]
    }
   ],
   "source": [
    "#проверка наличия Null и типов данных\n",
    "\n",
    "studentAssessment.info()"
   ]
  },
  {
   "cell_type": "code",
   "execution_count": 37,
   "id": "aaa527bc-f3fc-4adc-bc1e-98a0ef3cd993",
   "metadata": {},
   "outputs": [
    {
     "data": {
      "text/plain": [
       "id_assessment       188\n",
       "id_student        23369\n",
       "date_submitted      312\n",
       "is_banked             2\n",
       "score               101\n",
       "dtype: int64"
      ]
     },
     "execution_count": 37,
     "metadata": {},
     "output_type": "execute_result"
    }
   ],
   "source": [
    "#кол-во уникальных значений по фичам\n",
    "\n",
    "studentAssessment.nunique()"
   ]
  },
  {
   "cell_type": "code",
   "execution_count": 38,
   "id": "05048dd1-5104-41e2-87a3-201a2b30c13c",
   "metadata": {},
   "outputs": [
    {
     "name": "stdout",
     "output_type": "stream",
     "text": [
      "Кол-во записей с пустым \"score\": 173\n",
      "Процент отсутствующих значений от всего числа записей:0.1\n"
     ]
    }
   ],
   "source": [
    "# расчет кол-ва записей у студентов, тест, которых не оценен\n",
    "\n",
    "print(f'Кол-во записей с пустым \"score\": {studentAssessment.score.isna().sum()}')\n",
    "\n",
    "print(f'Процент отсутствующих значений от всего числа записей:{np.round(studentAssessment.score.isna().sum()/len(studentAssessment.score)*100,2)}')"
   ]
  },
  {
   "cell_type": "code",
   "execution_count": 40,
   "id": "86922bb4-7a82-4bb0-ad12-3f4ed9fa35c3",
   "metadata": {},
   "outputs": [
    {
     "data": {
      "text/html": [
       "<div>\n",
       "<style scoped>\n",
       "    .dataframe tbody tr th:only-of-type {\n",
       "        vertical-align: middle;\n",
       "    }\n",
       "\n",
       "    .dataframe tbody tr th {\n",
       "        vertical-align: top;\n",
       "    }\n",
       "\n",
       "    .dataframe thead th {\n",
       "        text-align: right;\n",
       "    }\n",
       "</style>\n",
       "<table border=\"1\" class=\"dataframe\">\n",
       "  <thead>\n",
       "    <tr style=\"text-align: right;\">\n",
       "      <th></th>\n",
       "      <th>id_assessment</th>\n",
       "      <th>id_student</th>\n",
       "      <th>date_submitted</th>\n",
       "      <th>is_banked</th>\n",
       "      <th>score</th>\n",
       "    </tr>\n",
       "  </thead>\n",
       "  <tbody>\n",
       "    <tr>\n",
       "      <th>215</th>\n",
       "      <td>1752</td>\n",
       "      <td>721259</td>\n",
       "      <td>22</td>\n",
       "      <td>0</td>\n",
       "      <td>NaN</td>\n",
       "    </tr>\n",
       "    <tr>\n",
       "      <th>937</th>\n",
       "      <td>1754</td>\n",
       "      <td>260355</td>\n",
       "      <td>127</td>\n",
       "      <td>0</td>\n",
       "      <td>NaN</td>\n",
       "    </tr>\n",
       "    <tr>\n",
       "      <th>2364</th>\n",
       "      <td>1760</td>\n",
       "      <td>2606802</td>\n",
       "      <td>180</td>\n",
       "      <td>0</td>\n",
       "      <td>NaN</td>\n",
       "    </tr>\n",
       "    <tr>\n",
       "      <th>3358</th>\n",
       "      <td>14984</td>\n",
       "      <td>186780</td>\n",
       "      <td>77</td>\n",
       "      <td>0</td>\n",
       "      <td>NaN</td>\n",
       "    </tr>\n",
       "    <tr>\n",
       "      <th>3914</th>\n",
       "      <td>14984</td>\n",
       "      <td>531205</td>\n",
       "      <td>26</td>\n",
       "      <td>0</td>\n",
       "      <td>NaN</td>\n",
       "    </tr>\n",
       "    <tr>\n",
       "      <th>...</th>\n",
       "      <td>...</td>\n",
       "      <td>...</td>\n",
       "      <td>...</td>\n",
       "      <td>...</td>\n",
       "      <td>...</td>\n",
       "    </tr>\n",
       "    <tr>\n",
       "      <th>148929</th>\n",
       "      <td>34903</td>\n",
       "      <td>582670</td>\n",
       "      <td>241</td>\n",
       "      <td>0</td>\n",
       "      <td>NaN</td>\n",
       "    </tr>\n",
       "    <tr>\n",
       "      <th>159251</th>\n",
       "      <td>37415</td>\n",
       "      <td>610738</td>\n",
       "      <td>87</td>\n",
       "      <td>0</td>\n",
       "      <td>NaN</td>\n",
       "    </tr>\n",
       "    <tr>\n",
       "      <th>166390</th>\n",
       "      <td>37427</td>\n",
       "      <td>631786</td>\n",
       "      <td>221</td>\n",
       "      <td>0</td>\n",
       "      <td>NaN</td>\n",
       "    </tr>\n",
       "    <tr>\n",
       "      <th>169725</th>\n",
       "      <td>37435</td>\n",
       "      <td>648110</td>\n",
       "      <td>62</td>\n",
       "      <td>0</td>\n",
       "      <td>NaN</td>\n",
       "    </tr>\n",
       "    <tr>\n",
       "      <th>170103</th>\n",
       "      <td>37435</td>\n",
       "      <td>480914</td>\n",
       "      <td>49</td>\n",
       "      <td>0</td>\n",
       "      <td>NaN</td>\n",
       "    </tr>\n",
       "  </tbody>\n",
       "</table>\n",
       "<p>173 rows × 5 columns</p>\n",
       "</div>"
      ],
      "text/plain": [
       "        id_assessment  id_student  date_submitted  is_banked  score\n",
       "215              1752      721259              22          0    NaN\n",
       "937              1754      260355             127          0    NaN\n",
       "2364             1760     2606802             180          0    NaN\n",
       "3358            14984      186780              77          0    NaN\n",
       "3914            14984      531205              26          0    NaN\n",
       "...               ...         ...             ...        ...    ...\n",
       "148929          34903      582670             241          0    NaN\n",
       "159251          37415      610738              87          0    NaN\n",
       "166390          37427      631786             221          0    NaN\n",
       "169725          37435      648110              62          0    NaN\n",
       "170103          37435      480914              49          0    NaN\n",
       "\n",
       "[173 rows x 5 columns]"
      ]
     },
     "execution_count": 40,
     "metadata": {},
     "output_type": "execute_result"
    }
   ],
   "source": [
    "# просмотр записей с 0 значением 'score'\n",
    "\n",
    "studentAssessment[studentAssessment.score.isna()]"
   ]
  },
  {
   "cell_type": "code",
   "execution_count": 41,
   "id": "17cee401-0f4d-4799-b997-101fc46748ce",
   "metadata": {},
   "outputs": [
    {
     "data": {
      "text/html": [
       "<div>\n",
       "<style scoped>\n",
       "    .dataframe tbody tr th:only-of-type {\n",
       "        vertical-align: middle;\n",
       "    }\n",
       "\n",
       "    .dataframe tbody tr th {\n",
       "        vertical-align: top;\n",
       "    }\n",
       "\n",
       "    .dataframe thead th {\n",
       "        text-align: right;\n",
       "    }\n",
       "</style>\n",
       "<table border=\"1\" class=\"dataframe\">\n",
       "  <thead>\n",
       "    <tr style=\"text-align: right;\">\n",
       "      <th></th>\n",
       "      <th>id_assessment</th>\n",
       "      <th>id_student</th>\n",
       "      <th>date_submitted</th>\n",
       "      <th>is_banked</th>\n",
       "      <th>score</th>\n",
       "    </tr>\n",
       "  </thead>\n",
       "  <tbody>\n",
       "    <tr>\n",
       "      <th>16612</th>\n",
       "      <td>14997</td>\n",
       "      <td>501208</td>\n",
       "      <td>-1</td>\n",
       "      <td>1</td>\n",
       "      <td>NaN</td>\n",
       "    </tr>\n",
       "  </tbody>\n",
       "</table>\n",
       "</div>"
      ],
      "text/plain": [
       "       id_assessment  id_student  date_submitted  is_banked  score\n",
       "16612          14997      501208              -1          1    NaN"
      ]
     },
     "execution_count": 41,
     "metadata": {},
     "output_type": "execute_result"
    }
   ],
   "source": [
    "#просмотр сколько из тех, кто получал Null, имеет упоминание о перезачете теста\n",
    "\n",
    "studentAssessment[studentAssessment.score.isna()&studentAssessment.is_banked == 1]"
   ]
  },
  {
   "cell_type": "code",
   "execution_count": 118,
   "id": "4e5616e9-f871-48c7-8a05-d3beefa1866f",
   "metadata": {},
   "outputs": [
    {
     "name": "stdout",
     "output_type": "stream",
     "text": [
      "Тесты без оценок: [ 1752  1754  1760 14984 14985 14986 14987 14988 14989 14997 14998 14999\n",
      " 15000 15001 15008 15010 15011 15012 15013 15020 15021 15022 15024 24282\n",
      " 24284 24285 24291 24292 24293 25334 25335 25336 25337 25338 25339 25348\n",
      " 25349 25350 25353 25355 25356 25357 25358 25359 25360 25363 25364 25365\n",
      " 25366 25367 30710 30712 30714 30715 30719 30722 34860 34861 34862 34863\n",
      " 34864 34873 34874 34875 34876 34877 34886 34887 34888 34889 34890 34899\n",
      " 34900 34902 34903 37415 37427 37435]\n",
      "Кол-во: 78\n",
      "Студенты, по которым нет оценки за тест: 160\n",
      "\n",
      "Тесты, по которым есть часть оценок, а части нет: [ 1752  1754  1760 14984 14985 14986 14987 14988 14989 14997 14998 14999\n",
      " 15000 15001 15008 15010 15011 15012 15013 15020 15021 15022 15024 24282\n",
      " 24284 24285 24291 24292 24293 25334 25335 25336 25337 25338 25339 25348\n",
      " 25349 25350 25353 25355 25356 25357 25358 25359 25360 25363 25364 25365\n",
      " 25366 25367 30710 30712 30714 30715 30719 30722 34860 34861 34862 34863\n",
      " 34864 34873 34874 34875 34876 34877 34886 34887 34888 34889 34890 34899\n",
      " 34900 34902 34903 37415 37427 37435]\n",
      "Кол-во: (78,)\n",
      "Студенты, у которых есть оценка за тесты, по тестам где у других 160 нет оценки: 22141\n",
      "\n",
      "Кол-во совпадений среди тестов с Null и не Null: 78\n"
     ]
    }
   ],
   "source": [
    "#посмотрим по каким тестам у части записей нет оценки за тест и сравним, есть ли за эти тесты оцененные записи\n",
    "\n",
    "id_ass_no_score = studentAssessment[studentAssessment.score.isna()].id_assessment.unique() # тесты, по которым не проставлены оценки\n",
    "id_student_no_score = studentAssessment[studentAssessment.score.isna()].id_student.unique() # студенты, у которых нет оценок за тест\n",
    "\n",
    "print(f'Тесты без оценок: {id_ass_no_score}', f'Кол-во: {id_ass_no_score.shape[0]}', sep = '\\n')\n",
    "print(f'Студенты, по которым нет оценки за тест: {id_student_no_score.shape[0]}')\n",
    "\n",
    "print()\n",
    "\n",
    "id_ass_no_yes_score = studentAssessment[(studentAssessment.id_assessment.isin(id_ass_no_score))&(studentAssessment.score.notnull())].id_assessment.unique()\n",
    "print(f'Тесты, по которым есть часть оценок, а части нет: {id_ass_no_yes_score}', f'Кол-во: {id_ass_no_yes_score.shape}', sep = '\\n')\n",
    "print(f'Студенты, у которых есть оценка за тесты, по тестам где у других 160 нет оценки: {studentAssessment[(studentAssessment.id_assessment.isin(id_ass_no_score))&(studentAssessment.score.notnull())].id_student.nunique()}')\n",
    "\n",
    "print()\n",
    "\n",
    "print(f'Кол-во совпадений среди тестов с Null и не Null: {(id_ass_no_score == id_ass_no_yes_score).sum()}')"
   ]
  },
  {
   "cell_type": "code",
   "execution_count": 46,
   "id": "7f923030-7cdf-445d-9e01-883c4a715cc4",
   "metadata": {},
   "outputs": [
    {
     "data": {
      "text/html": [
       "<div>\n",
       "<style scoped>\n",
       "    .dataframe tbody tr th:only-of-type {\n",
       "        vertical-align: middle;\n",
       "    }\n",
       "\n",
       "    .dataframe tbody tr th {\n",
       "        vertical-align: top;\n",
       "    }\n",
       "\n",
       "    .dataframe thead th {\n",
       "        text-align: right;\n",
       "    }\n",
       "</style>\n",
       "<table border=\"1\" class=\"dataframe\">\n",
       "  <thead>\n",
       "    <tr style=\"text-align: right;\">\n",
       "      <th></th>\n",
       "      <th>id_assessment</th>\n",
       "      <th>id_student</th>\n",
       "      <th>date_submitted</th>\n",
       "      <th>is_banked</th>\n",
       "      <th>score</th>\n",
       "    </tr>\n",
       "  </thead>\n",
       "  <tbody>\n",
       "    <tr>\n",
       "      <th>785</th>\n",
       "      <td>1754</td>\n",
       "      <td>2456480</td>\n",
       "      <td>123</td>\n",
       "      <td>0</td>\n",
       "      <td>0.0</td>\n",
       "    </tr>\n",
       "    <tr>\n",
       "      <th>4322</th>\n",
       "      <td>14984</td>\n",
       "      <td>554986</td>\n",
       "      <td>24</td>\n",
       "      <td>0</td>\n",
       "      <td>0.0</td>\n",
       "    </tr>\n",
       "    <tr>\n",
       "      <th>4730</th>\n",
       "      <td>14985</td>\n",
       "      <td>141823</td>\n",
       "      <td>46</td>\n",
       "      <td>0</td>\n",
       "      <td>0.0</td>\n",
       "    </tr>\n",
       "    <tr>\n",
       "      <th>5391</th>\n",
       "      <td>14985</td>\n",
       "      <td>542259</td>\n",
       "      <td>46</td>\n",
       "      <td>0</td>\n",
       "      <td>0.0</td>\n",
       "    </tr>\n",
       "    <tr>\n",
       "      <th>5509</th>\n",
       "      <td>14985</td>\n",
       "      <td>549078</td>\n",
       "      <td>48</td>\n",
       "      <td>0</td>\n",
       "      <td>0.0</td>\n",
       "    </tr>\n",
       "    <tr>\n",
       "      <th>...</th>\n",
       "      <td>...</td>\n",
       "      <td>...</td>\n",
       "      <td>...</td>\n",
       "      <td>...</td>\n",
       "      <td>...</td>\n",
       "    </tr>\n",
       "    <tr>\n",
       "      <th>173723</th>\n",
       "      <td>37443</td>\n",
       "      <td>2378591</td>\n",
       "      <td>230</td>\n",
       "      <td>0</td>\n",
       "      <td>0.0</td>\n",
       "    </tr>\n",
       "    <tr>\n",
       "      <th>173791</th>\n",
       "      <td>37443</td>\n",
       "      <td>641112</td>\n",
       "      <td>233</td>\n",
       "      <td>0</td>\n",
       "      <td>0.0</td>\n",
       "    </tr>\n",
       "    <tr>\n",
       "      <th>173793</th>\n",
       "      <td>37443</td>\n",
       "      <td>641452</td>\n",
       "      <td>231</td>\n",
       "      <td>0</td>\n",
       "      <td>0.0</td>\n",
       "    </tr>\n",
       "    <tr>\n",
       "      <th>173805</th>\n",
       "      <td>37443</td>\n",
       "      <td>643206</td>\n",
       "      <td>236</td>\n",
       "      <td>0</td>\n",
       "      <td>0.0</td>\n",
       "    </tr>\n",
       "    <tr>\n",
       "      <th>173889</th>\n",
       "      <td>37443</td>\n",
       "      <td>380668</td>\n",
       "      <td>231</td>\n",
       "      <td>0</td>\n",
       "      <td>0.0</td>\n",
       "    </tr>\n",
       "  </tbody>\n",
       "</table>\n",
       "<p>329 rows × 5 columns</p>\n",
       "</div>"
      ],
      "text/plain": [
       "        id_assessment  id_student  date_submitted  is_banked  score\n",
       "785              1754     2456480             123          0    0.0\n",
       "4322            14984      554986              24          0    0.0\n",
       "4730            14985      141823              46          0    0.0\n",
       "5391            14985      542259              46          0    0.0\n",
       "5509            14985      549078              48          0    0.0\n",
       "...               ...         ...             ...        ...    ...\n",
       "173723          37443     2378591             230          0    0.0\n",
       "173791          37443      641112             233          0    0.0\n",
       "173793          37443      641452             231          0    0.0\n",
       "173805          37443      643206             236          0    0.0\n",
       "173889          37443      380668             231          0    0.0\n",
       "\n",
       "[329 rows x 5 columns]"
      ]
     },
     "execution_count": 46,
     "metadata": {},
     "output_type": "execute_result"
    }
   ],
   "source": [
    "#просмотр сколько записей с 0 баллов за тест\n",
    "\n",
    "studentAssessment[studentAssessment.score == 0]"
   ]
  },
  {
   "cell_type": "code",
   "execution_count": 94,
   "id": "33ecb881-5ef1-42de-8664-3d1a0173eb3e",
   "metadata": {},
   "outputs": [
    {
     "data": {
      "text/plain": [
       "162"
      ]
     },
     "execution_count": 94,
     "metadata": {},
     "output_type": "execute_result"
    }
   ],
   "source": [
    "#просмотр сколько записей получило за тест 0 баллов и есть ли среди них тесты с Null в score, если да, то будет основание присвоить 0 значения вместо -9999\n",
    "\n",
    "studentAssessment[(studentAssessment.id_assessment.isin(id_ass_no_score))&(studentAssessment.score==0)].id_assessment.count()"
   ]
  },
  {
   "cell_type": "code",
   "execution_count": 96,
   "id": "23bd5271-bea0-43ba-9d41-429a72ab409f",
   "metadata": {},
   "outputs": [
    {
     "data": {
      "text/plain": [
       "146"
      ]
     },
     "execution_count": 96,
     "metadata": {},
     "output_type": "execute_result"
    }
   ],
   "source": [
    "#кол-во уникальных студентов, получивших 0 по тесту, который у некотороых оценен как Null\n",
    "\n",
    "studentAssessment[(studentAssessment.id_assessment.isin(id_ass_no_score))&(studentAssessment.score==0)].id_student.nunique()"
   ]
  },
  {
   "cell_type": "code",
   "execution_count": 116,
   "id": "0d675aed-d8ee-4c26-a051-05ca6786f00b",
   "metadata": {},
   "outputs": [
    {
     "data": {
      "text/plain": [
       "1"
      ]
     },
     "execution_count": 116,
     "metadata": {},
     "output_type": "execute_result"
    }
   ],
   "source": [
    "#проверим, есть ли студенты, которые сдавали один и тот же тест 2 раза\n",
    "#убедимся, что не оцененные тесты не относятся к попвткам сдачи\n",
    "\n",
    "studentAssessment.groupby(['id_student','id_assessment'], dropna= False).size().max()"
   ]
  },
  {
   "cell_type": "markdown",
   "id": "3cc6ea6f-63ad-4689-b609-49bae676ea29",
   "metadata": {},
   "source": [
    "[[go to content]](#content)\n",
    "[[go to paragraph]](#studentAssessment_null_dtype)"
   ]
  },
  {
   "cell_type": "markdown",
   "id": "f71e2a0a-07e1-4402-9cb2-6b313f297cc9",
   "metadata": {
    "jp-MarkdownHeadingCollapsed": true,
    "tags": []
   },
   "source": [
    "#### <font color = 'purple'> 5.2 Замена Null в score</font> <a name = \"studentAssessment_score_null\"></a>"
   ]
  },
  {
   "cell_type": "markdown",
   "id": "385dc963-aace-4e6f-acf0-9b43b27560d5",
   "metadata": {},
   "source": [
    "- по результатам анализа "
   ]
  },
  {
   "cell_type": "code",
   "execution_count": 119,
   "id": "c4899ac4-906c-40e9-9947-61c84e6835f9",
   "metadata": {},
   "outputs": [],
   "source": [
    "#замена данных\n",
    "\n",
    "studentAssessment.score.replace(np.nan, -9999, inplace = True)"
   ]
  },
  {
   "cell_type": "markdown",
   "id": "babdce4b-b573-4473-bacf-fb74985f7210",
   "metadata": {},
   "source": [
    "[[go to content]](#content)\n",
    "[[go to paragraph]](#studentAssessment_score_null)"
   ]
  },
  {
   "cell_type": "markdown",
   "id": "25f90dae-3cec-4abe-aa66-55f522f156f5",
   "metadata": {
    "jp-MarkdownHeadingCollapsed": true,
    "tags": []
   },
   "source": [
    "#### <font color = 'purple'>5.3 Проверка используемых форматов данных и проверка отрицательных значений `date_submitted`</font> <a name = \"studentAssessment_format\"></a>"
   ]
  },
  {
   "cell_type": "markdown",
   "id": "a1025952-ad4f-4062-94c9-999a33ceb7d0",
   "metadata": {},
   "source": [
    "---\n",
    "\n",
    "- Проверим интервал численных переменных, сопоставим с используемым типом и при необходимости изменим тип\n",
    "- По описательной статистике max и min значение в численных переменных имеют размер меньше того, в котором они записаны\n",
    "\n",
    "---\n",
    "\n",
    "- Из описательной статистики следует, что есть студенты, которые сдали некоторые тесты до начала семестра **2057** записей:\n",
    "    - кол-во тестов, которые отправлены после начала семестра **171855**\n",
    "    - **1909** тех, кому тест засчитали на основании того, что он был сдан в одном из прошлых семестров\n",
    "        - у таких студентов `is_band` = **1** и `date_submitted` = **-1**\n",
    "    ***Студенты, которые получили перезачет по предмету имеют дату отправки теста -1***\n",
    "    - **148** студентов, у которых дата стоит досрочная\n",
    "        - кол-во уникальных `id_assessment`, которые сданы \"досрочно\" **13**\n",
    "        - а число отправленных решений по тестом изменяется от 2 до 40. <font color = 'green'>После merge посмотрим, что за тип тестов.</font>\n",
    "\n",
    "- ни у одного студента, у кого тест был сдан после начала семестра нет отметки о том, что тест перезасчитан `is_band` = 1\n",
    "\n",
    "---"
   ]
  },
  {
   "cell_type": "code",
   "execution_count": 167,
   "id": "6694a000-891b-4477-a944-4ebcc3b3f940",
   "metadata": {},
   "outputs": [
    {
     "name": "stdout",
     "output_type": "stream",
     "text": [
      "<class 'pandas.core.frame.DataFrame'>\n",
      "RangeIndex: 173912 entries, 0 to 173911\n",
      "Data columns (total 5 columns):\n",
      " #   Column          Non-Null Count   Dtype  \n",
      "---  ------          --------------   -----  \n",
      " 0   id_assessment   173912 non-null  int64  \n",
      " 1   id_student      173912 non-null  int64  \n",
      " 2   date_submitted  173912 non-null  int64  \n",
      " 3   is_banked       173912 non-null  int64  \n",
      " 4   score           173912 non-null  float64\n",
      "dtypes: float64(1), int64(4)\n",
      "memory usage: 6.6 MB\n"
     ]
    }
   ],
   "source": [
    "# выводим информацию о пустых ячейках и типах данных\n",
    "\n",
    "studentAssessment.info()"
   ]
  },
  {
   "cell_type": "code",
   "execution_count": 61,
   "id": "82648952-87b0-43c9-a253-187ebbd1c0c7",
   "metadata": {},
   "outputs": [
    {
     "data": {
      "text/html": [
       "<div>\n",
       "<style scoped>\n",
       "    .dataframe tbody tr th:only-of-type {\n",
       "        vertical-align: middle;\n",
       "    }\n",
       "\n",
       "    .dataframe tbody tr th {\n",
       "        vertical-align: top;\n",
       "    }\n",
       "\n",
       "    .dataframe thead th {\n",
       "        text-align: right;\n",
       "    }\n",
       "</style>\n",
       "<table border=\"1\" class=\"dataframe\">\n",
       "  <thead>\n",
       "    <tr style=\"text-align: right;\">\n",
       "      <th></th>\n",
       "      <th>id_assessment</th>\n",
       "      <th>id_student</th>\n",
       "      <th>date_submitted</th>\n",
       "      <th>is_banked</th>\n",
       "      <th>score</th>\n",
       "    </tr>\n",
       "  </thead>\n",
       "  <tbody>\n",
       "    <tr>\n",
       "      <th>count</th>\n",
       "      <td>173912.000000</td>\n",
       "      <td>1.739120e+05</td>\n",
       "      <td>173912.000000</td>\n",
       "      <td>173912.000000</td>\n",
       "      <td>173739.000000</td>\n",
       "    </tr>\n",
       "    <tr>\n",
       "      <th>mean</th>\n",
       "      <td>26553.803556</td>\n",
       "      <td>7.051507e+05</td>\n",
       "      <td>116.032942</td>\n",
       "      <td>0.010977</td>\n",
       "      <td>75.799573</td>\n",
       "    </tr>\n",
       "    <tr>\n",
       "      <th>std</th>\n",
       "      <td>8829.784254</td>\n",
       "      <td>5.523952e+05</td>\n",
       "      <td>71.484148</td>\n",
       "      <td>0.104194</td>\n",
       "      <td>18.798107</td>\n",
       "    </tr>\n",
       "    <tr>\n",
       "      <th>min</th>\n",
       "      <td>1752.000000</td>\n",
       "      <td>6.516000e+03</td>\n",
       "      <td>-11.000000</td>\n",
       "      <td>0.000000</td>\n",
       "      <td>0.000000</td>\n",
       "    </tr>\n",
       "    <tr>\n",
       "      <th>25%</th>\n",
       "      <td>15022.000000</td>\n",
       "      <td>5.044290e+05</td>\n",
       "      <td>51.000000</td>\n",
       "      <td>0.000000</td>\n",
       "      <td>65.000000</td>\n",
       "    </tr>\n",
       "    <tr>\n",
       "      <th>50%</th>\n",
       "      <td>25359.000000</td>\n",
       "      <td>5.852080e+05</td>\n",
       "      <td>116.000000</td>\n",
       "      <td>0.000000</td>\n",
       "      <td>80.000000</td>\n",
       "    </tr>\n",
       "    <tr>\n",
       "      <th>75%</th>\n",
       "      <td>34883.000000</td>\n",
       "      <td>6.344980e+05</td>\n",
       "      <td>173.000000</td>\n",
       "      <td>0.000000</td>\n",
       "      <td>90.000000</td>\n",
       "    </tr>\n",
       "    <tr>\n",
       "      <th>max</th>\n",
       "      <td>37443.000000</td>\n",
       "      <td>2.698588e+06</td>\n",
       "      <td>608.000000</td>\n",
       "      <td>1.000000</td>\n",
       "      <td>100.000000</td>\n",
       "    </tr>\n",
       "  </tbody>\n",
       "</table>\n",
       "</div>"
      ],
      "text/plain": [
       "       id_assessment    id_student  date_submitted      is_banked  \\\n",
       "count  173912.000000  1.739120e+05   173912.000000  173912.000000   \n",
       "mean    26553.803556  7.051507e+05      116.032942       0.010977   \n",
       "std      8829.784254  5.523952e+05       71.484148       0.104194   \n",
       "min      1752.000000  6.516000e+03      -11.000000       0.000000   \n",
       "25%     15022.000000  5.044290e+05       51.000000       0.000000   \n",
       "50%     25359.000000  5.852080e+05      116.000000       0.000000   \n",
       "75%     34883.000000  6.344980e+05      173.000000       0.000000   \n",
       "max     37443.000000  2.698588e+06      608.000000       1.000000   \n",
       "\n",
       "               score  \n",
       "count  173739.000000  \n",
       "mean       75.799573  \n",
       "std        18.798107  \n",
       "min         0.000000  \n",
       "25%        65.000000  \n",
       "50%        80.000000  \n",
       "75%        90.000000  \n",
       "max       100.000000  "
      ]
     },
     "execution_count": 61,
     "metadata": {},
     "output_type": "execute_result"
    }
   ],
   "source": [
    "#выводим описательную статистику\n",
    "\n",
    "studentAssessment.describe()"
   ]
  },
  {
   "cell_type": "code",
   "execution_count": 62,
   "id": "67871ca0-79b3-4d4a-a1b9-934708c2c2e9",
   "metadata": {},
   "outputs": [
    {
     "data": {
      "text/html": [
       "<div>\n",
       "<style scoped>\n",
       "    .dataframe tbody tr th:only-of-type {\n",
       "        vertical-align: middle;\n",
       "    }\n",
       "\n",
       "    .dataframe tbody tr th {\n",
       "        vertical-align: top;\n",
       "    }\n",
       "\n",
       "    .dataframe thead th {\n",
       "        text-align: right;\n",
       "    }\n",
       "</style>\n",
       "<table border=\"1\" class=\"dataframe\">\n",
       "  <thead>\n",
       "    <tr style=\"text-align: right;\">\n",
       "      <th></th>\n",
       "      <th>id_assessment</th>\n",
       "      <th>id_student</th>\n",
       "      <th>date_submitted</th>\n",
       "      <th>is_banked</th>\n",
       "      <th>score</th>\n",
       "    </tr>\n",
       "  </thead>\n",
       "  <tbody>\n",
       "    <tr>\n",
       "      <th>1641</th>\n",
       "      <td>1758</td>\n",
       "      <td>603861</td>\n",
       "      <td>-1</td>\n",
       "      <td>1</td>\n",
       "      <td>61.0</td>\n",
       "    </tr>\n",
       "    <tr>\n",
       "      <th>1685</th>\n",
       "      <td>1758</td>\n",
       "      <td>1970390</td>\n",
       "      <td>-1</td>\n",
       "      <td>1</td>\n",
       "      <td>78.0</td>\n",
       "    </tr>\n",
       "    <tr>\n",
       "      <th>1690</th>\n",
       "      <td>1758</td>\n",
       "      <td>2073016</td>\n",
       "      <td>-1</td>\n",
       "      <td>1</td>\n",
       "      <td>60.0</td>\n",
       "    </tr>\n",
       "    <tr>\n",
       "      <th>1693</th>\n",
       "      <td>1758</td>\n",
       "      <td>2139353</td>\n",
       "      <td>-1</td>\n",
       "      <td>1</td>\n",
       "      <td>65.0</td>\n",
       "    </tr>\n",
       "    <tr>\n",
       "      <th>1708</th>\n",
       "      <td>1758</td>\n",
       "      <td>2358969</td>\n",
       "      <td>-1</td>\n",
       "      <td>1</td>\n",
       "      <td>68.0</td>\n",
       "    </tr>\n",
       "    <tr>\n",
       "      <th>...</th>\n",
       "      <td>...</td>\n",
       "      <td>...</td>\n",
       "      <td>...</td>\n",
       "      <td>...</td>\n",
       "      <td>...</td>\n",
       "    </tr>\n",
       "    <tr>\n",
       "      <th>172516</th>\n",
       "      <td>37440</td>\n",
       "      <td>624767</td>\n",
       "      <td>-1</td>\n",
       "      <td>1</td>\n",
       "      <td>100.0</td>\n",
       "    </tr>\n",
       "    <tr>\n",
       "      <th>172526</th>\n",
       "      <td>37440</td>\n",
       "      <td>631446</td>\n",
       "      <td>-1</td>\n",
       "      <td>1</td>\n",
       "      <td>100.0</td>\n",
       "    </tr>\n",
       "    <tr>\n",
       "      <th>172717</th>\n",
       "      <td>37441</td>\n",
       "      <td>624767</td>\n",
       "      <td>-1</td>\n",
       "      <td>1</td>\n",
       "      <td>100.0</td>\n",
       "    </tr>\n",
       "    <tr>\n",
       "      <th>172727</th>\n",
       "      <td>37441</td>\n",
       "      <td>631446</td>\n",
       "      <td>-1</td>\n",
       "      <td>1</td>\n",
       "      <td>100.0</td>\n",
       "    </tr>\n",
       "    <tr>\n",
       "      <th>173239</th>\n",
       "      <td>37442</td>\n",
       "      <td>624767</td>\n",
       "      <td>-1</td>\n",
       "      <td>1</td>\n",
       "      <td>100.0</td>\n",
       "    </tr>\n",
       "  </tbody>\n",
       "</table>\n",
       "<p>2057 rows × 5 columns</p>\n",
       "</div>"
      ],
      "text/plain": [
       "        id_assessment  id_student  date_submitted  is_banked  score\n",
       "1641             1758      603861              -1          1   61.0\n",
       "1685             1758     1970390              -1          1   78.0\n",
       "1690             1758     2073016              -1          1   60.0\n",
       "1693             1758     2139353              -1          1   65.0\n",
       "1708             1758     2358969              -1          1   68.0\n",
       "...               ...         ...             ...        ...    ...\n",
       "172516          37440      624767              -1          1  100.0\n",
       "172526          37440      631446              -1          1  100.0\n",
       "172717          37441      624767              -1          1  100.0\n",
       "172727          37441      631446              -1          1  100.0\n",
       "173239          37442      624767              -1          1  100.0\n",
       "\n",
       "[2057 rows x 5 columns]"
      ]
     },
     "execution_count": 62,
     "metadata": {},
     "output_type": "execute_result"
    }
   ],
   "source": [
    "#выведем записи, у которых тест отправлен на проверку до начала семестра\n",
    "\n",
    "studentAssessment[studentAssessment.date_submitted<0]"
   ]
  },
  {
   "cell_type": "code",
   "execution_count": 64,
   "id": "2847d6c5-9cc1-47b2-8e93-3a44d74f33d3",
   "metadata": {},
   "outputs": [
    {
     "data": {
      "text/plain": [
       "is_banked\n",
       "0    171855\n",
       "dtype: int64"
      ]
     },
     "execution_count": 64,
     "metadata": {},
     "output_type": "execute_result"
    }
   ],
   "source": [
    "# кол-во студентов, у которых тест отправлен после начала семестра\n",
    "\n",
    "studentAssessment.query('date_submitted>=0').groupby('is_banked').size()\n"
   ]
  },
  {
   "cell_type": "code",
   "execution_count": 63,
   "id": "30ae1a03-7c47-40c3-bfb6-1471704eaed6",
   "metadata": {},
   "outputs": [
    {
     "data": {
      "text/plain": [
       "is_banked\n",
       "0     148\n",
       "1    1909\n",
       "dtype: int64"
      ]
     },
     "execution_count": 63,
     "metadata": {},
     "output_type": "execute_result"
    }
   ],
   "source": [
    "# кол-во студентов, у которых тест отправлен до начала семестра разделением на тех кто получил переучет теста\n",
    "\n",
    "studentAssessment.query('date_submitted<0').groupby('is_banked').size()\n"
   ]
  },
  {
   "cell_type": "code",
   "execution_count": 65,
   "id": "6d9a2ce9-f1cd-47a1-b94d-727cf0753ef6",
   "metadata": {},
   "outputs": [
    {
     "data": {
      "text/plain": [
       "is_banked\n",
       "1    1909\n",
       "dtype: int64"
      ]
     },
     "execution_count": 65,
     "metadata": {},
     "output_type": "execute_result"
    }
   ],
   "source": [
    "#студенты, чей тест отправлен до начала семестра и дата отправки = -1\n",
    "\n",
    "studentAssessment.query('is_banked == 1 & date_submitted == -1').groupby('is_banked').size()"
   ]
  },
  {
   "cell_type": "code",
   "execution_count": 175,
   "id": "72c1eb6c-ab84-4640-8f33-ffb554fe1e36",
   "metadata": {
    "tags": []
   },
   "outputs": [
    {
     "data": {
      "text/plain": [
       "<AxesSubplot:>"
      ]
     },
     "execution_count": 175,
     "metadata": {},
     "output_type": "execute_result"
    },
    {
     "data": {
      "image/png": "[encoded data removed]",
      "text/plain": [
       "<Figure size 432x288 with 1 Axes>"
      ]
     },
     "metadata": {
      "needs_background": "light"
     },
     "output_type": "display_data"
    }
   ],
   "source": [
    "# просмотр записи, которые по date_submitted, сдали тест раньше начала семестра\n",
    "\n",
    "studentAssessment.query('is_banked == 0 & date_submitted < -1').date_submitted.hist()"
   ]
  },
  {
   "cell_type": "code",
   "execution_count": 191,
   "id": "a5b81380-7cac-4543-b12f-c2f7ef1068e2",
   "metadata": {},
   "outputs": [
    {
     "data": {
      "text/html": [
       "<div>\n",
       "<style scoped>\n",
       "    .dataframe tbody tr th:only-of-type {\n",
       "        vertical-align: middle;\n",
       "    }\n",
       "\n",
       "    .dataframe tbody tr th {\n",
       "        vertical-align: top;\n",
       "    }\n",
       "\n",
       "    .dataframe thead th {\n",
       "        text-align: right;\n",
       "    }\n",
       "</style>\n",
       "<table border=\"1\" class=\"dataframe\">\n",
       "  <thead>\n",
       "    <tr style=\"text-align: right;\">\n",
       "      <th></th>\n",
       "      <th>id_assessment</th>\n",
       "      <th>id_student</th>\n",
       "    </tr>\n",
       "  </thead>\n",
       "  <tbody>\n",
       "    <tr>\n",
       "      <th>8</th>\n",
       "      <td>34865</td>\n",
       "      <td>40</td>\n",
       "    </tr>\n",
       "    <tr>\n",
       "      <th>3</th>\n",
       "      <td>15020</td>\n",
       "      <td>37</td>\n",
       "    </tr>\n",
       "    <tr>\n",
       "      <th>12</th>\n",
       "      <td>34904</td>\n",
       "      <td>15</td>\n",
       "    </tr>\n",
       "    <tr>\n",
       "      <th>2</th>\n",
       "      <td>15008</td>\n",
       "      <td>11</td>\n",
       "    </tr>\n",
       "    <tr>\n",
       "      <th>9</th>\n",
       "      <td>34866</td>\n",
       "      <td>10</td>\n",
       "    </tr>\n",
       "    <tr>\n",
       "      <th>0</th>\n",
       "      <td>14984</td>\n",
       "      <td>6</td>\n",
       "    </tr>\n",
       "    <tr>\n",
       "      <th>6</th>\n",
       "      <td>25355</td>\n",
       "      <td>5</td>\n",
       "    </tr>\n",
       "    <tr>\n",
       "      <th>13</th>\n",
       "      <td>34905</td>\n",
       "      <td>5</td>\n",
       "    </tr>\n",
       "    <tr>\n",
       "      <th>1</th>\n",
       "      <td>14996</td>\n",
       "      <td>4</td>\n",
       "    </tr>\n",
       "    <tr>\n",
       "      <th>5</th>\n",
       "      <td>25348</td>\n",
       "      <td>4</td>\n",
       "    </tr>\n",
       "    <tr>\n",
       "      <th>10</th>\n",
       "      <td>34873</td>\n",
       "      <td>4</td>\n",
       "    </tr>\n",
       "    <tr>\n",
       "      <th>7</th>\n",
       "      <td>34860</td>\n",
       "      <td>3</td>\n",
       "    </tr>\n",
       "    <tr>\n",
       "      <th>4</th>\n",
       "      <td>25334</td>\n",
       "      <td>2</td>\n",
       "    </tr>\n",
       "    <tr>\n",
       "      <th>11</th>\n",
       "      <td>34899</td>\n",
       "      <td>2</td>\n",
       "    </tr>\n",
       "  </tbody>\n",
       "</table>\n",
       "</div>"
      ],
      "text/plain": [
       "    id_assessment  id_student\n",
       "8           34865          40\n",
       "3           15020          37\n",
       "12          34904          15\n",
       "2           15008          11\n",
       "9           34866          10\n",
       "0           14984           6\n",
       "6           25355           5\n",
       "13          34905           5\n",
       "1           14996           4\n",
       "5           25348           4\n",
       "10          34873           4\n",
       "7           34860           3\n",
       "4           25334           2\n",
       "11          34899           2"
      ]
     },
     "execution_count": 191,
     "metadata": {},
     "output_type": "execute_result"
    }
   ],
   "source": [
    "#выведем тесты, которые сданы раньше начала семестра и не являются перезачетом\n",
    "\n",
    "studentAssessment.query('date_submitted<0&is_banked==0').groupby(['id_assessment'], as_index = False)['id_student'].count().sort_values(by = 'id_student', ascending = False)"
   ]
  },
  {
   "cell_type": "markdown",
   "id": "01ba20d4-eaf0-472a-a7b3-0c0a122a0816",
   "metadata": {},
   "source": [
    "[[go to content]](#content)\n",
    "[[go to paragraph]](#studentAssessment_format)"
   ]
  },
  {
   "cell_type": "markdown",
   "id": "253f3bd6-4888-4386-80c7-7b3c91096ecc",
   "metadata": {
    "jp-MarkdownHeadingCollapsed": true,
    "tags": []
   },
   "source": [
    "#### <font color = 'purple'> 5.4 Сокращение потребляемой памяти</font> <a name = \"studentAssessment_memor\"></a>"
   ]
  },
  {
   "cell_type": "code",
   "execution_count": 120,
   "id": "482a3a3b-9e19-4f21-a9b6-b52afca093b4",
   "metadata": {},
   "outputs": [],
   "source": [
    "#создание копии данных, для работы с уменьшением потребляемой памяти\n",
    "\n",
    "studentAssessment_save = studentAssessment.copy()"
   ]
  },
  {
   "cell_type": "code",
   "execution_count": 121,
   "id": "096887ce-b37a-4432-b292-642e3af28676",
   "metadata": {
    "collapsed": true,
    "jupyter": {
     "outputs_hidden": true
    },
    "tags": []
   },
   "outputs": [
    {
     "name": "stdout",
     "output_type": "stream",
     "text": [
      "<class 'pandas.core.series.Series'>\n",
      "RangeIndex: 173912 entries, 0 to 173911\n",
      "Series name: id_assessment\n",
      "Non-Null Count   Dtype\n",
      "--------------   -----\n",
      "173912 non-null  int32\n",
      "dtypes: int32(1)\n",
      "memory usage: 679.5 KB\n",
      "None\n",
      "<class 'pandas.core.series.Series'>\n",
      "RangeIndex: 173912 entries, 0 to 173911\n",
      "Series name: id_student\n",
      "Non-Null Count   Dtype\n",
      "--------------   -----\n",
      "173912 non-null  int32\n",
      "dtypes: int32(1)\n",
      "memory usage: 679.5 KB\n",
      "None\n",
      "<class 'pandas.core.series.Series'>\n",
      "RangeIndex: 173912 entries, 0 to 173911\n",
      "Series name: date_submitted\n",
      "Non-Null Count   Dtype\n",
      "--------------   -----\n",
      "173912 non-null  int16\n",
      "dtypes: int16(1)\n",
      "memory usage: 339.8 KB\n",
      "None\n",
      "<class 'pandas.core.series.Series'>\n",
      "RangeIndex: 173912 entries, 0 to 173911\n",
      "Series name: is_banked\n",
      "Non-Null Count   Dtype\n",
      "--------------   -----\n",
      "173912 non-null  int8 \n",
      "dtypes: int8(1)\n",
      "memory usage: 170.0 KB\n",
      "None\n",
      "<class 'pandas.core.series.Series'>\n",
      "RangeIndex: 173912 entries, 0 to 173911\n",
      "Series name: score\n",
      "Non-Null Count   Dtype  \n",
      "--------------   -----  \n",
      "173912 non-null  float32\n",
      "dtypes: float32(1)\n",
      "memory usage: 679.5 KB\n",
      "None\n"
     ]
    }
   ],
   "source": [
    "#change the types of the 'id_assessment', 'date', 'weight' columns\n",
    "\n",
    "change_columns = ['id_assessment', 'id_student', 'date_submitted', 'is_banked', 'score']\n",
    "to_types = ['integer','integer', 'integer', 'integer', 'float']\n",
    "\n",
    "for i, j in zip (change_columns, to_types):\n",
    "    studentAssessment_save[i] =  pd.to_numeric(studentAssessment[i], downcast = j, errors = 'coerce')\n",
    "    print(studentAssessment_save[i].info())"
   ]
  },
  {
   "cell_type": "code",
   "execution_count": 196,
   "id": "6017c985-9f37-406e-8712-f36ec766eaf6",
   "metadata": {},
   "outputs": [
    {
     "data": {
      "text/plain": [
       "id_assessment     0\n",
       "id_student        0\n",
       "date_submitted    0\n",
       "is_banked         0\n",
       "score             0\n",
       "dtype: int64"
      ]
     },
     "execution_count": 196,
     "metadata": {},
     "output_type": "execute_result"
    }
   ],
   "source": [
    "# полное сравнение таблиц до сокращения потребляемой памяти и после\n",
    "\n",
    "(studentAssessment_save != studentAssessment).sum()"
   ]
  },
  {
   "cell_type": "code",
   "execution_count": 199,
   "id": "aaccac3d-02d4-4668-ab49-df5a2dfcdb21",
   "metadata": {},
   "outputs": [
    {
     "data": {
      "text/plain": [
       "id_assessment     0\n",
       "id_student        0\n",
       "date_submitted    0\n",
       "is_banked         0\n",
       "score             0\n",
       "dtype: int64"
      ]
     },
     "execution_count": 199,
     "metadata": {},
     "output_type": "execute_result"
    }
   ],
   "source": [
    "# проверка на Null после изменений\n",
    "\n",
    "studentAssessment_save.isnull().sum()"
   ]
  },
  {
   "cell_type": "markdown",
   "id": "9573a970-c53c-407b-bc11-fcc74d4e29ce",
   "metadata": {},
   "source": [
    "[[go to content]](#content)\n",
    "[[go to paragraph]](#studentAssessment_memor)"
   ]
  },
  {
   "cell_type": "markdown",
   "id": "e6a4f8d3-cc32-4f88-a58a-7679f3e4564e",
   "metadata": {},
   "source": [
    "#### <font color = 'purple'> 5.5 Памятка </font><a name = \"studentAssessment_notes\"></a>\n",
    "---\n",
    "\n",
    "- пустым значениям в `score`, пока присвоено значение **-9999**\n",
    "- кол-во недостающих записей в `id_assessment` по сравнению с той же колонкой в таблице `assessment`- **18** \n",
    "- те, у кого отметка `is_band` = 1, имеют `date_submitted` = -1\n",
    "- после объединения ячеек необходимо посмотреть что за типы у тестов, которые не перезачтены но имеют дату отправки до начала семестра\n",
    "---"
   ]
  },
  {
   "cell_type": "markdown",
   "id": "e260e071-3049-4384-be7b-c8c6960541b7",
   "metadata": {},
   "source": [
    "[[go to content]](#content)\n",
    "[[go to paragraph]](#studentAssessment_notes)"
   ]
  },
  {
   "cell_type": "markdown",
   "id": "fe3ca96a-50fe-4a85-80aa-76c887aa9f76",
   "metadata": {
    "tags": []
   },
   "source": [
    "### <font color = '#00838F'> 6. Загрузка \"studentRegistrationt\"</font> <a name = \"download_studentRegistrationt\">"
   ]
  },
  {
   "cell_type": "code",
   "execution_count": 232,
   "id": "eb6996dd-19f6-4c10-b8bf-ed329058cc0a",
   "metadata": {},
   "outputs": [],
   "source": [
    "studentRegistrationt = pd.read_csv(final_link[3])"
   ]
  },
  {
   "cell_type": "code",
   "execution_count": 233,
   "id": "b268798c-0f69-4127-9686-58e189ad6f3d",
   "metadata": {
    "tags": []
   },
   "outputs": [
    {
     "data": {
      "text/html": [
       "<div>\n",
       "<style scoped>\n",
       "    .dataframe tbody tr th:only-of-type {\n",
       "        vertical-align: middle;\n",
       "    }\n",
       "\n",
       "    .dataframe tbody tr th {\n",
       "        vertical-align: top;\n",
       "    }\n",
       "\n",
       "    .dataframe thead th {\n",
       "        text-align: right;\n",
       "    }\n",
       "</style>\n",
       "<table border=\"1\" class=\"dataframe\">\n",
       "  <thead>\n",
       "    <tr style=\"text-align: right;\">\n",
       "      <th></th>\n",
       "      <th>code_module</th>\n",
       "      <th>code_presentation</th>\n",
       "      <th>id_student</th>\n",
       "      <th>date_registration</th>\n",
       "      <th>date_unregistration</th>\n",
       "    </tr>\n",
       "  </thead>\n",
       "  <tbody>\n",
       "    <tr>\n",
       "      <th>0</th>\n",
       "      <td>AAA</td>\n",
       "      <td>2013J</td>\n",
       "      <td>11391</td>\n",
       "      <td>-159.0</td>\n",
       "      <td>NaN</td>\n",
       "    </tr>\n",
       "    <tr>\n",
       "      <th>1</th>\n",
       "      <td>AAA</td>\n",
       "      <td>2013J</td>\n",
       "      <td>28400</td>\n",
       "      <td>-53.0</td>\n",
       "      <td>NaN</td>\n",
       "    </tr>\n",
       "    <tr>\n",
       "      <th>2</th>\n",
       "      <td>AAA</td>\n",
       "      <td>2013J</td>\n",
       "      <td>30268</td>\n",
       "      <td>-92.0</td>\n",
       "      <td>12.0</td>\n",
       "    </tr>\n",
       "    <tr>\n",
       "      <th>3</th>\n",
       "      <td>AAA</td>\n",
       "      <td>2013J</td>\n",
       "      <td>31604</td>\n",
       "      <td>-52.0</td>\n",
       "      <td>NaN</td>\n",
       "    </tr>\n",
       "    <tr>\n",
       "      <th>4</th>\n",
       "      <td>AAA</td>\n",
       "      <td>2013J</td>\n",
       "      <td>32885</td>\n",
       "      <td>-176.0</td>\n",
       "      <td>NaN</td>\n",
       "    </tr>\n",
       "  </tbody>\n",
       "</table>\n",
       "</div>"
      ],
      "text/plain": [
       "  code_module code_presentation  id_student  date_registration  \\\n",
       "0         AAA             2013J       11391             -159.0   \n",
       "1         AAA             2013J       28400              -53.0   \n",
       "2         AAA             2013J       30268              -92.0   \n",
       "3         AAA             2013J       31604              -52.0   \n",
       "4         AAA             2013J       32885             -176.0   \n",
       "\n",
       "   date_unregistration  \n",
       "0                  NaN  \n",
       "1                  NaN  \n",
       "2                 12.0  \n",
       "3                  NaN  \n",
       "4                  NaN  "
      ]
     },
     "execution_count": 233,
     "metadata": {},
     "output_type": "execute_result"
    }
   ],
   "source": [
    "studentRegistrationt.head()"
   ]
  },
  {
   "cell_type": "markdown",
   "id": "7066085a-8f91-4e57-bf01-27f5b972876c",
   "metadata": {},
   "source": [
    "[[go to content]](#content)\n",
    "[[go to paragraph]](#download_studentRegistrationt)"
   ]
  },
  {
   "cell_type": "markdown",
   "id": "e8b57409-3390-4c0f-b59d-4af15e3ee189",
   "metadata": {
    "jp-MarkdownHeadingCollapsed": true,
    "tags": []
   },
   "source": [
    "#### <font color = '#00838F'>6.1  Проверка NULL, типов данных и уникальных значений</font><a name = studentRegistrationt_null_dtype></a>"
   ]
  },
  {
   "cell_type": "markdown",
   "id": "1fe65d85-8ebb-4895-8144-ea7ba4efab98",
   "metadata": {},
   "source": [
    "---\n",
    "\n",
    "- **<font color = 'green'>в данных есть очень много пустых значений в `date_unregistration` 69 %, это означет, что тако процент студентов окончил предмет</font>**\n",
    "- в данных `date_registration` отсутствует 0.14% данных\n",
    "\n",
    "---"
   ]
  },
  {
   "cell_type": "code",
   "execution_count": 206,
   "id": "8c549676-c8d1-427c-a2c9-5fe5d40f4a2b",
   "metadata": {},
   "outputs": [
    {
     "data": {
      "text/plain": [
       "code_module                7\n",
       "code_presentation          4\n",
       "id_student             28785\n",
       "date_registration        332\n",
       "date_unregistration      416\n",
       "dtype: int64"
      ]
     },
     "execution_count": 206,
     "metadata": {},
     "output_type": "execute_result"
    }
   ],
   "source": [
    "studentRegistrationt.nunique()"
   ]
  },
  {
   "cell_type": "code",
   "execution_count": 207,
   "id": "5cd4730c-4b45-447a-b6c1-f56bfd820de5",
   "metadata": {},
   "outputs": [
    {
     "name": "stdout",
     "output_type": "stream",
     "text": [
      "<class 'pandas.core.frame.DataFrame'>\n",
      "RangeIndex: 32593 entries, 0 to 32592\n",
      "Data columns (total 5 columns):\n",
      " #   Column               Non-Null Count  Dtype  \n",
      "---  ------               --------------  -----  \n",
      " 0   code_module          32593 non-null  object \n",
      " 1   code_presentation    32593 non-null  object \n",
      " 2   id_student           32593 non-null  int64  \n",
      " 3   date_registration    32548 non-null  float64\n",
      " 4   date_unregistration  10072 non-null  float64\n",
      "dtypes: float64(2), int64(1), object(2)\n",
      "memory usage: 1.2+ MB\n"
     ]
    }
   ],
   "source": [
    "studentRegistrationt.info()"
   ]
  },
  {
   "cell_type": "code",
   "execution_count": 208,
   "id": "0cc049ab-c0c9-46ea-a216-dd8682f8bc61",
   "metadata": {
    "tags": []
   },
   "outputs": [
    {
     "name": "stdout",
     "output_type": "stream",
     "text": [
      "Кол-во Null в \"date_unregistratio\" : 22521\n",
      "Процент Null в \"date_unregistratio\" : 69.1\n",
      "\n",
      "Кол-во Null в \"date_registration\" : 45\n",
      "Процент Null в \"date_registration\" : 0.14\n"
     ]
    }
   ],
   "source": [
    "#кол-во Null в date_unregistration and date_registration\n",
    "\n",
    "print(f'Кол-во Null в \"date_unregistratio\" : {studentRegistrationt.date_unregistration.isna().sum()}')\n",
    "print(f'Процент Null в \"date_unregistratio\" : {np.round(studentRegistrationt.date_unregistration.isna().sum()/len(studentRegistrationt.date_unregistration)*100,2)}')\n",
    "print()\n",
    "print(f'Кол-во Null в \"date_registration\" : {studentRegistrationt.date_registration.isna().sum()}')\n",
    "print(f'Процент Null в \"date_registration\" : {np.round(studentRegistrationt.date_registration.isna().sum()/len(studentRegistrationt.date_registration)*100,2)}')"
   ]
  },
  {
   "cell_type": "markdown",
   "id": "77990062-5200-4990-bb34-132f5637fb7e",
   "metadata": {},
   "source": [
    "[[go to content]](#content)\n",
    "[[go to paragraph]](#studentRegistrationt_null_dtype)"
   ]
  },
  {
   "cell_type": "markdown",
   "id": "67611c7e-7d24-48d3-b059-9753ead29c63",
   "metadata": {
    "jp-MarkdownHeadingCollapsed": true,
    "tags": []
   },
   "source": [
    "#### <font color = '#00838F'>6.2 Замена и удаление Null в date_registration и date_unregistration </font><a name = \"studentRegistrationt_score_null\"></a>"
   ]
  },
  {
   "cell_type": "markdown",
   "id": "a92305ce-2e0c-4450-b177-c5b9e30836c9",
   "metadata": {},
   "source": [
    "---\n",
    "\n",
    "- среди записей о `date_registration` есть 6 записей, где нет данных о `date_registration` и `date_unregistration`. **<font color = 'green'>Это расценивается как ошибка, поэтому эти записи удалены.</font>**\n",
    "- в остальных 39 записях отсуствует только `date_registration`\n",
    "- также как и в других таблицах, заменяю оставшиеся **Null** на **-9999**, чтобы идентифицировать пустые записи в случае merge\n",
    "\n",
    "---"
   ]
  },
  {
   "cell_type": "code",
   "execution_count": 209,
   "id": "dbbaac1f-471f-4018-87d1-3721c987fee1",
   "metadata": {},
   "outputs": [
    {
     "data": {
      "text/plain": [
       "6"
      ]
     },
     "execution_count": 209,
     "metadata": {},
     "output_type": "execute_result"
    }
   ],
   "source": [
    "#проверка записей, у которых нет ни информации о регистрации ни о том, что была произведена отписка\n",
    "studentRegistrationt[studentRegistrationt.date_registration.isna()&studentRegistrationt.date_unregistration.isna()].id_student.count()"
   ]
  },
  {
   "cell_type": "code",
   "execution_count": 211,
   "id": "beed0678-dd3f-44ee-9f0a-3b06261fa538",
   "metadata": {},
   "outputs": [],
   "source": [
    "#удаление 6 записей где нет 'date_registration', 'date_unregistration'\n",
    "studentRegistrationt.dropna(subset = ['date_registration', 'date_unregistration'], how = 'all', inplace = True)"
   ]
  },
  {
   "cell_type": "code",
   "execution_count": 234,
   "id": "2f866851-45b1-48c0-b59b-8473a4d55fc9",
   "metadata": {},
   "outputs": [
    {
     "data": {
      "text/html": [
       "<div>\n",
       "<style scoped>\n",
       "    .dataframe tbody tr th:only-of-type {\n",
       "        vertical-align: middle;\n",
       "    }\n",
       "\n",
       "    .dataframe tbody tr th {\n",
       "        vertical-align: top;\n",
       "    }\n",
       "\n",
       "    .dataframe thead th {\n",
       "        text-align: right;\n",
       "    }\n",
       "</style>\n",
       "<table border=\"1\" class=\"dataframe\">\n",
       "  <thead>\n",
       "    <tr style=\"text-align: right;\">\n",
       "      <th></th>\n",
       "      <th>code_module</th>\n",
       "      <th>code_presentation</th>\n",
       "      <th>id_student</th>\n",
       "      <th>date_registration</th>\n",
       "      <th>date_unregistration</th>\n",
       "    </tr>\n",
       "  </thead>\n",
       "  <tbody>\n",
       "    <tr>\n",
       "      <th>0</th>\n",
       "      <td>AAA</td>\n",
       "      <td>2013J</td>\n",
       "      <td>11391</td>\n",
       "      <td>-159.0</td>\n",
       "      <td>-9999.0</td>\n",
       "    </tr>\n",
       "    <tr>\n",
       "      <th>1</th>\n",
       "      <td>AAA</td>\n",
       "      <td>2013J</td>\n",
       "      <td>28400</td>\n",
       "      <td>-53.0</td>\n",
       "      <td>-9999.0</td>\n",
       "    </tr>\n",
       "    <tr>\n",
       "      <th>3</th>\n",
       "      <td>AAA</td>\n",
       "      <td>2013J</td>\n",
       "      <td>31604</td>\n",
       "      <td>-52.0</td>\n",
       "      <td>-9999.0</td>\n",
       "    </tr>\n",
       "    <tr>\n",
       "      <th>4</th>\n",
       "      <td>AAA</td>\n",
       "      <td>2013J</td>\n",
       "      <td>32885</td>\n",
       "      <td>-176.0</td>\n",
       "      <td>-9999.0</td>\n",
       "    </tr>\n",
       "    <tr>\n",
       "      <th>5</th>\n",
       "      <td>AAA</td>\n",
       "      <td>2013J</td>\n",
       "      <td>38053</td>\n",
       "      <td>-110.0</td>\n",
       "      <td>-9999.0</td>\n",
       "    </tr>\n",
       "    <tr>\n",
       "      <th>...</th>\n",
       "      <td>...</td>\n",
       "      <td>...</td>\n",
       "      <td>...</td>\n",
       "      <td>...</td>\n",
       "      <td>...</td>\n",
       "    </tr>\n",
       "    <tr>\n",
       "      <th>32587</th>\n",
       "      <td>GGG</td>\n",
       "      <td>2014J</td>\n",
       "      <td>2620947</td>\n",
       "      <td>-23.0</td>\n",
       "      <td>-9999.0</td>\n",
       "    </tr>\n",
       "    <tr>\n",
       "      <th>32588</th>\n",
       "      <td>GGG</td>\n",
       "      <td>2014J</td>\n",
       "      <td>2640965</td>\n",
       "      <td>-4.0</td>\n",
       "      <td>-9999.0</td>\n",
       "    </tr>\n",
       "    <tr>\n",
       "      <th>32589</th>\n",
       "      <td>GGG</td>\n",
       "      <td>2014J</td>\n",
       "      <td>2645731</td>\n",
       "      <td>-23.0</td>\n",
       "      <td>-9999.0</td>\n",
       "    </tr>\n",
       "    <tr>\n",
       "      <th>32590</th>\n",
       "      <td>GGG</td>\n",
       "      <td>2014J</td>\n",
       "      <td>2648187</td>\n",
       "      <td>-129.0</td>\n",
       "      <td>-9999.0</td>\n",
       "    </tr>\n",
       "    <tr>\n",
       "      <th>32592</th>\n",
       "      <td>GGG</td>\n",
       "      <td>2014J</td>\n",
       "      <td>2684003</td>\n",
       "      <td>-28.0</td>\n",
       "      <td>-9999.0</td>\n",
       "    </tr>\n",
       "  </tbody>\n",
       "</table>\n",
       "<p>22521 rows × 5 columns</p>\n",
       "</div>"
      ],
      "text/plain": [
       "      code_module code_presentation  id_student  date_registration  \\\n",
       "0             AAA             2013J       11391             -159.0   \n",
       "1             AAA             2013J       28400              -53.0   \n",
       "3             AAA             2013J       31604              -52.0   \n",
       "4             AAA             2013J       32885             -176.0   \n",
       "5             AAA             2013J       38053             -110.0   \n",
       "...           ...               ...         ...                ...   \n",
       "32587         GGG             2014J     2620947              -23.0   \n",
       "32588         GGG             2014J     2640965               -4.0   \n",
       "32589         GGG             2014J     2645731              -23.0   \n",
       "32590         GGG             2014J     2648187             -129.0   \n",
       "32592         GGG             2014J     2684003              -28.0   \n",
       "\n",
       "       date_unregistration  \n",
       "0                  -9999.0  \n",
       "1                  -9999.0  \n",
       "3                  -9999.0  \n",
       "4                  -9999.0  \n",
       "5                  -9999.0  \n",
       "...                    ...  \n",
       "32587              -9999.0  \n",
       "32588              -9999.0  \n",
       "32589              -9999.0  \n",
       "32590              -9999.0  \n",
       "32592              -9999.0  \n",
       "\n",
       "[22521 rows x 5 columns]"
      ]
     },
     "execution_count": 234,
     "metadata": {},
     "output_type": "execute_result"
    }
   ],
   "source": [
    "# замена отсутсвующих значений о регистрации и отписки на -9999\n",
    "studentRegistrationt.date_unregistration.fillna(-9999, inplace = True)\n",
    "studentRegistrationt.date_registration.fillna(-9999, inplace = True)\n",
    "studentRegistrationt[studentRegistrationt.date_unregistration == -9999]"
   ]
  },
  {
   "cell_type": "code",
   "execution_count": 235,
   "id": "c129a4e2-7023-4175-bd6f-34803444a9a2",
   "metadata": {},
   "outputs": [
    {
     "data": {
      "text/plain": [
       "code_module            0\n",
       "code_presentation      0\n",
       "id_student             0\n",
       "date_registration      0\n",
       "date_unregistration    0\n",
       "dtype: int64"
      ]
     },
     "execution_count": 235,
     "metadata": {},
     "output_type": "execute_result"
    }
   ],
   "source": [
    "#проверка есть ли Null\n",
    "studentRegistrationt.isna().sum()"
   ]
  },
  {
   "cell_type": "code",
   "execution_count": 236,
   "id": "ee8be918-5e06-480d-952e-dd51f6f1c6f9",
   "metadata": {},
   "outputs": [
    {
     "data": {
      "text/plain": [
       "(39, 5)"
      ]
     },
     "execution_count": 236,
     "metadata": {},
     "output_type": "execute_result"
    }
   ],
   "source": [
    "#студенты, которые снялись с регистрации, но данных о регистрации у них нет\n",
    "\n",
    "student_not_reg_but_unreg = studentRegistrationt[(studentRegistrationt.date_registration==-9999)&(studentRegistrationt.date_unregistration!=-9999)]\n",
    "student_not_reg_but_unreg.shape"
   ]
  },
  {
   "cell_type": "markdown",
   "id": "9e818d05-b4ab-4d31-a99f-a8cf6f0994d5",
   "metadata": {},
   "source": [
    "[[go to content]](#content)\n",
    "[[go to paragraph]](#studentRegistrationt_score_null)"
   ]
  },
  {
   "cell_type": "markdown",
   "id": "ec826c40-519e-47d2-9a46-430596a545a4",
   "metadata": {
    "jp-MarkdownHeadingCollapsed": true,
    "tags": []
   },
   "source": [
    "#### <font color = '#00838F'> 6.3 Просмотр date_registration после начала семестра</font> <a name = \"studentRegistrationt_date_registration\"></a>"
   ]
  },
  {
   "cell_type": "markdown",
   "id": "92d3198b-4118-4fd2-8c12-ff34b1985e15",
   "metadata": {},
   "source": [
    "---\n",
    "\n",
    "- есть 234 студента, которые `date_registration` после начала семестра это **0.72%** записей, это могут быть, те кто был вольным слушателем, и после решил зарегистрироваться и аттестоваться по курсу\n",
    "- дата регистрации после начала курса не превышает срок курса `module_presentation_lenght`\n",
    "\n",
    "- более яркая ситуация с `date_unregistration` после начала семестра: **6975** регистрации снято или **21.4%**\n",
    "---"
   ]
  },
  {
   "cell_type": "code",
   "execution_count": 237,
   "id": "b1cf3cda-fad6-4baa-85c9-0f7e4b9d475d",
   "metadata": {},
   "outputs": [
    {
     "name": "stdout",
     "output_type": "stream",
     "text": [
      "регистрация после начала семестра: 234\n",
      "процент регистраций после начала семестра: 0.72\n"
     ]
    }
   ],
   "source": [
    "# проверка регистрации после начала семестра\n",
    "\n",
    "print(f'регистрация после начала семестра: {studentRegistrationt[studentRegistrationt.date_registration >0].id_student.count()}')\n",
    "print(f'процент регистраций после начала семестра: {np.round(studentRegistrationt[studentRegistrationt.date_registration >0].id_student.count()/len(studentRegistrationt.date_registration)*100,2)}')"
   ]
  },
  {
   "cell_type": "code",
   "execution_count": 238,
   "id": "7e610e57-8b37-4bad-b870-d0192ff46407",
   "metadata": {
    "tags": []
   },
   "outputs": [
    {
     "data": {
      "text/html": [
       "<div>\n",
       "<style scoped>\n",
       "    .dataframe tbody tr th:only-of-type {\n",
       "        vertical-align: middle;\n",
       "    }\n",
       "\n",
       "    .dataframe tbody tr th {\n",
       "        vertical-align: top;\n",
       "    }\n",
       "\n",
       "    .dataframe thead tr th {\n",
       "        text-align: left;\n",
       "    }\n",
       "\n",
       "    .dataframe thead tr:last-of-type th {\n",
       "        text-align: right;\n",
       "    }\n",
       "</style>\n",
       "<table border=\"1\" class=\"dataframe\">\n",
       "  <thead>\n",
       "    <tr>\n",
       "      <th></th>\n",
       "      <th></th>\n",
       "      <th colspan=\"2\" halign=\"left\">date_registration</th>\n",
       "    </tr>\n",
       "    <tr>\n",
       "      <th></th>\n",
       "      <th></th>\n",
       "      <th>min</th>\n",
       "      <th>max</th>\n",
       "    </tr>\n",
       "    <tr>\n",
       "      <th>code_presentation</th>\n",
       "      <th>code_module</th>\n",
       "      <th></th>\n",
       "      <th></th>\n",
       "    </tr>\n",
       "  </thead>\n",
       "  <tbody>\n",
       "    <tr>\n",
       "      <th rowspan=\"3\" valign=\"top\">2013B</th>\n",
       "      <th>BBB</th>\n",
       "      <td>2.0</td>\n",
       "      <td>69.0</td>\n",
       "    </tr>\n",
       "    <tr>\n",
       "      <th>DDD</th>\n",
       "      <td>2.0</td>\n",
       "      <td>167.0</td>\n",
       "    </tr>\n",
       "    <tr>\n",
       "      <th>FFF</th>\n",
       "      <td>3.0</td>\n",
       "      <td>17.0</td>\n",
       "    </tr>\n",
       "    <tr>\n",
       "      <th rowspan=\"6\" valign=\"top\">2013J</th>\n",
       "      <th>AAA</th>\n",
       "      <td>2.0</td>\n",
       "      <td>48.0</td>\n",
       "    </tr>\n",
       "    <tr>\n",
       "      <th>BBB</th>\n",
       "      <td>1.0</td>\n",
       "      <td>32.0</td>\n",
       "    </tr>\n",
       "    <tr>\n",
       "      <th>DDD</th>\n",
       "      <td>2.0</td>\n",
       "      <td>101.0</td>\n",
       "    </tr>\n",
       "    <tr>\n",
       "      <th>EEE</th>\n",
       "      <td>2.0</td>\n",
       "      <td>17.0</td>\n",
       "    </tr>\n",
       "    <tr>\n",
       "      <th>FFF</th>\n",
       "      <td>4.0</td>\n",
       "      <td>13.0</td>\n",
       "    </tr>\n",
       "    <tr>\n",
       "      <th>GGG</th>\n",
       "      <td>3.0</td>\n",
       "      <td>3.0</td>\n",
       "    </tr>\n",
       "    <tr>\n",
       "      <th rowspan=\"6\" valign=\"top\">2014B</th>\n",
       "      <th>BBB</th>\n",
       "      <td>3.0</td>\n",
       "      <td>81.0</td>\n",
       "    </tr>\n",
       "    <tr>\n",
       "      <th>CCC</th>\n",
       "      <td>5.0</td>\n",
       "      <td>12.0</td>\n",
       "    </tr>\n",
       "    <tr>\n",
       "      <th>DDD</th>\n",
       "      <td>2.0</td>\n",
       "      <td>82.0</td>\n",
       "    </tr>\n",
       "    <tr>\n",
       "      <th>EEE</th>\n",
       "      <td>3.0</td>\n",
       "      <td>12.0</td>\n",
       "    </tr>\n",
       "    <tr>\n",
       "      <th>FFF</th>\n",
       "      <td>2.0</td>\n",
       "      <td>40.0</td>\n",
       "    </tr>\n",
       "    <tr>\n",
       "      <th>GGG</th>\n",
       "      <td>2.0</td>\n",
       "      <td>6.0</td>\n",
       "    </tr>\n",
       "    <tr>\n",
       "      <th rowspan=\"7\" valign=\"top\">2014J</th>\n",
       "      <th>AAA</th>\n",
       "      <td>2.0</td>\n",
       "      <td>10.0</td>\n",
       "    </tr>\n",
       "    <tr>\n",
       "      <th>BBB</th>\n",
       "      <td>3.0</td>\n",
       "      <td>44.0</td>\n",
       "    </tr>\n",
       "    <tr>\n",
       "      <th>CCC</th>\n",
       "      <td>2.0</td>\n",
       "      <td>37.0</td>\n",
       "    </tr>\n",
       "    <tr>\n",
       "      <th>DDD</th>\n",
       "      <td>4.0</td>\n",
       "      <td>13.0</td>\n",
       "    </tr>\n",
       "    <tr>\n",
       "      <th>EEE</th>\n",
       "      <td>2.0</td>\n",
       "      <td>83.0</td>\n",
       "    </tr>\n",
       "    <tr>\n",
       "      <th>FFF</th>\n",
       "      <td>2.0</td>\n",
       "      <td>110.0</td>\n",
       "    </tr>\n",
       "    <tr>\n",
       "      <th>GGG</th>\n",
       "      <td>2.0</td>\n",
       "      <td>19.0</td>\n",
       "    </tr>\n",
       "  </tbody>\n",
       "</table>\n",
       "</div>"
      ],
      "text/plain": [
       "                              date_registration       \n",
       "                                            min    max\n",
       "code_presentation code_module                         \n",
       "2013B             BBB                       2.0   69.0\n",
       "                  DDD                       2.0  167.0\n",
       "                  FFF                       3.0   17.0\n",
       "2013J             AAA                       2.0   48.0\n",
       "                  BBB                       1.0   32.0\n",
       "                  DDD                       2.0  101.0\n",
       "                  EEE                       2.0   17.0\n",
       "                  FFF                       4.0   13.0\n",
       "                  GGG                       3.0    3.0\n",
       "2014B             BBB                       3.0   81.0\n",
       "                  CCC                       5.0   12.0\n",
       "                  DDD                       2.0   82.0\n",
       "                  EEE                       3.0   12.0\n",
       "                  FFF                       2.0   40.0\n",
       "                  GGG                       2.0    6.0\n",
       "2014J             AAA                       2.0   10.0\n",
       "                  BBB                       3.0   44.0\n",
       "                  CCC                       2.0   37.0\n",
       "                  DDD                       4.0   13.0\n",
       "                  EEE                       2.0   83.0\n",
       "                  FFF                       2.0  110.0\n",
       "                  GGG                       2.0   19.0"
      ]
     },
     "execution_count": 238,
     "metadata": {},
     "output_type": "execute_result"
    }
   ],
   "source": [
    "#на какие курсы регистрировались после начала экзамена\n",
    "\n",
    "studentRegistrationt.query('date_registration > 0').groupby(['code_presentation', 'code_module']).agg({'date_registration':['min', 'max']})"
   ]
  },
  {
   "cell_type": "code",
   "execution_count": 239,
   "id": "9a3db96c-e974-40a9-b160-607d9080a5b6",
   "metadata": {},
   "outputs": [
    {
     "name": "stdout",
     "output_type": "stream",
     "text": [
      "снятие с регистрации после начала семестра: 6975\n",
      "процент снятия с регистрации после начала семестра: 21.4\n"
     ]
    }
   ],
   "source": [
    "# проверка снятия с предмета после начала семестра\n",
    "\n",
    "print(f'снятие с регистрации после начала семестра: {studentRegistrationt[studentRegistrationt.date_unregistration >0].id_student.count()}')\n",
    "print(f'процент снятия с регистрации после начала семестра: {np.round(studentRegistrationt[studentRegistrationt.date_unregistration >0].id_student.count()/len(studentRegistrationt.date_unregistration)*100,2)}')"
   ]
  },
  {
   "cell_type": "markdown",
   "id": "ec893f8c-7185-4f68-9091-4d287a695c92",
   "metadata": {},
   "source": [
    "[[go to content]](#content)\n",
    "[[go to paragraph]](#studentRegistrationt_date_registration)"
   ]
  },
  {
   "cell_type": "markdown",
   "id": "0011ffa2-7644-4540-b2d7-e63033456f3d",
   "metadata": {
    "jp-MarkdownHeadingCollapsed": true,
    "tags": []
   },
   "source": [
    "#### <font color = '#00838F'> 6.4 Проверка используемых форматов данных</font><a name = \"studentRegistrationt_format\"></a>"
   ]
  },
  {
   "cell_type": "markdown",
   "id": "946133ea-1f52-4376-b5e2-b8fcd2042a43",
   "metadata": {},
   "source": [
    "---\n",
    "\n",
    "- проверяем границы значений, чтобы изменить тип записи данных на менее ресурсный\n",
    "- по описательной статистике max и min значение в численных переменных имеют размер меньше того, в котором они записаны\n",
    "\n",
    "---"
   ]
  },
  {
   "cell_type": "code",
   "execution_count": 240,
   "id": "8c59a6d4-3a95-48e5-afef-d648cd3c1abe",
   "metadata": {
    "tags": []
   },
   "outputs": [
    {
     "data": {
      "text/html": [
       "<div>\n",
       "<style scoped>\n",
       "    .dataframe tbody tr th:only-of-type {\n",
       "        vertical-align: middle;\n",
       "    }\n",
       "\n",
       "    .dataframe tbody tr th {\n",
       "        vertical-align: top;\n",
       "    }\n",
       "\n",
       "    .dataframe thead th {\n",
       "        text-align: right;\n",
       "    }\n",
       "</style>\n",
       "<table border=\"1\" class=\"dataframe\">\n",
       "  <thead>\n",
       "    <tr style=\"text-align: right;\">\n",
       "      <th></th>\n",
       "      <th>id_student</th>\n",
       "      <th>date_registration</th>\n",
       "      <th>date_unregistration</th>\n",
       "    </tr>\n",
       "  </thead>\n",
       "  <tbody>\n",
       "    <tr>\n",
       "      <th>count</th>\n",
       "      <td>3.259300e+04</td>\n",
       "      <td>32593.000000</td>\n",
       "      <td>32593.000000</td>\n",
       "    </tr>\n",
       "    <tr>\n",
       "      <th>mean</th>\n",
       "      <td>7.066877e+05</td>\n",
       "      <td>-83.120731</td>\n",
       "      <td>-6893.698647</td>\n",
       "    </tr>\n",
       "    <tr>\n",
       "      <th>std</th>\n",
       "      <td>5.491673e+05</td>\n",
       "      <td>371.979145</td>\n",
       "      <td>4643.736311</td>\n",
       "    </tr>\n",
       "    <tr>\n",
       "      <th>min</th>\n",
       "      <td>3.733000e+03</td>\n",
       "      <td>-9999.000000</td>\n",
       "      <td>-9999.000000</td>\n",
       "    </tr>\n",
       "    <tr>\n",
       "      <th>25%</th>\n",
       "      <td>5.085730e+05</td>\n",
       "      <td>-101.000000</td>\n",
       "      <td>-9999.000000</td>\n",
       "    </tr>\n",
       "    <tr>\n",
       "      <th>50%</th>\n",
       "      <td>5.903100e+05</td>\n",
       "      <td>-57.000000</td>\n",
       "      <td>-9999.000000</td>\n",
       "    </tr>\n",
       "    <tr>\n",
       "      <th>75%</th>\n",
       "      <td>6.444530e+05</td>\n",
       "      <td>-29.000000</td>\n",
       "      <td>-10.000000</td>\n",
       "    </tr>\n",
       "    <tr>\n",
       "      <th>max</th>\n",
       "      <td>2.716795e+06</td>\n",
       "      <td>167.000000</td>\n",
       "      <td>444.000000</td>\n",
       "    </tr>\n",
       "  </tbody>\n",
       "</table>\n",
       "</div>"
      ],
      "text/plain": [
       "         id_student  date_registration  date_unregistration\n",
       "count  3.259300e+04       32593.000000         32593.000000\n",
       "mean   7.066877e+05         -83.120731         -6893.698647\n",
       "std    5.491673e+05         371.979145          4643.736311\n",
       "min    3.733000e+03       -9999.000000         -9999.000000\n",
       "25%    5.085730e+05        -101.000000         -9999.000000\n",
       "50%    5.903100e+05         -57.000000         -9999.000000\n",
       "75%    6.444530e+05         -29.000000           -10.000000\n",
       "max    2.716795e+06         167.000000           444.000000"
      ]
     },
     "execution_count": 240,
     "metadata": {},
     "output_type": "execute_result"
    }
   ],
   "source": [
    "studentRegistrationt.describe()"
   ]
  },
  {
   "cell_type": "markdown",
   "id": "54f471f4-3f18-46c2-bcae-ac8b9373f8cc",
   "metadata": {},
   "source": [
    "[[go to content]](#content)\n",
    "[[go to paragraph]](#studentRegistrationt_format)"
   ]
  },
  {
   "cell_type": "markdown",
   "id": "71699a55-ec97-4f51-8eeb-39049128ae08",
   "metadata": {
    "jp-MarkdownHeadingCollapsed": true,
    "tags": []
   },
   "source": [
    "#### <font color = '#00838F'> 6.5 Сокращение потребляемой памяти</font> <a name = \"studentRegistrationt_memor\"></a>"
   ]
  },
  {
   "cell_type": "code",
   "execution_count": 241,
   "id": "875874f6-08ce-422b-9595-bc921e658f69",
   "metadata": {},
   "outputs": [],
   "source": [
    "# создание копии данных, для работы с уменьшением потребляемой памяти\n",
    "\n",
    "studentRegistrationt_save = studentRegistrationt.copy()"
   ]
  },
  {
   "cell_type": "code",
   "execution_count": 242,
   "id": "94ff5e73-bc67-45c1-9773-75c3c90c78e3",
   "metadata": {
    "tags": []
   },
   "outputs": [
    {
     "name": "stdout",
     "output_type": "stream",
     "text": [
      "<class 'pandas.core.series.Series'>\n",
      "RangeIndex: 32593 entries, 0 to 32592\n",
      "Series name: id_student\n",
      "Non-Null Count  Dtype\n",
      "--------------  -----\n",
      "32593 non-null  int32\n",
      "dtypes: int32(1)\n",
      "memory usage: 127.4 KB\n",
      "None\n",
      "<class 'pandas.core.series.Series'>\n",
      "RangeIndex: 32593 entries, 0 to 32592\n",
      "Series name: date_registration\n",
      "Non-Null Count  Dtype  \n",
      "--------------  -----  \n",
      "32593 non-null  float32\n",
      "dtypes: float32(1)\n",
      "memory usage: 127.4 KB\n",
      "None\n",
      "<class 'pandas.core.series.Series'>\n",
      "RangeIndex: 32593 entries, 0 to 32592\n",
      "Series name: date_unregistration\n",
      "Non-Null Count  Dtype  \n",
      "--------------  -----  \n",
      "32593 non-null  float32\n",
      "dtypes: float32(1)\n",
      "memory usage: 127.4 KB\n",
      "None\n"
     ]
    }
   ],
   "source": [
    "#цикл для пересохранения переменных в оптимальные типы, для хранения: 'id_student', 'date_registration', 'date_unregistration'\n",
    "\n",
    "change_columns = ['id_student', 'date_registration', 'date_unregistration']\n",
    "to_types = ['integer', 'float', 'float']\n",
    "\n",
    "for i, j in zip (change_columns, to_types):\n",
    "    studentRegistrationt_save[i] =  pd.to_numeric(studentRegistrationt[i], downcast = j, errors = 'coerce')\n",
    "    print(studentRegistrationt_save[i].info())"
   ]
  },
  {
   "cell_type": "code",
   "execution_count": 243,
   "id": "ac561c12-2df6-4285-b3da-a6b18cce121a",
   "metadata": {},
   "outputs": [
    {
     "data": {
      "text/plain": [
       "code_module            0\n",
       "code_presentation      0\n",
       "id_student             0\n",
       "date_registration      0\n",
       "date_unregistration    0\n",
       "dtype: int64"
      ]
     },
     "execution_count": 243,
     "metadata": {},
     "output_type": "execute_result"
    }
   ],
   "source": [
    "#проверка на Null после изменений\n",
    "\n",
    "studentRegistrationt_save.isna().sum()"
   ]
  },
  {
   "cell_type": "markdown",
   "id": "e79ead22-7d0c-41ea-8f57-f6938cf6cb4e",
   "metadata": {},
   "source": [
    "[[go to content]](#content)\n",
    "[[go to paragraph]](#studentRegistrationt_memor)"
   ]
  },
  {
   "cell_type": "markdown",
   "id": "2bbb2a6a-87a9-4244-a324-3d90507f43c5",
   "metadata": {},
   "source": [
    "#### <font color = '#00838F'> 6.5 Памятка</font> <a name = \"studentRegistrationt_notes\"></a>\n",
    "\n",
    "- в данных **-9999** в  `date_unregistration` означет, что студент окончил курс\n",
    "- в `date_registration` пустые значения заменены на **-9999**\n",
    "- регистрация после начала семестра, пока не расценивается как ошибка\n",
    "- 6 где `date_unregistration` и `date_registration` <font color = 'red'>пока не удалила, посмотрю есть ли уних оценки\n"
   ]
  },
  {
   "cell_type": "markdown",
   "id": "6a8f7a57-02ca-4a9f-a410-f2d4476ea2e8",
   "metadata": {},
   "source": [
    "[[go to content]](#content)\n",
    "[[go to paragraph]](#studentRegistrationt_notes)"
   ]
  },
  {
   "cell_type": "markdown",
   "id": "b91d0a5e-7fb1-4cfb-833d-e9648fce5581",
   "metadata": {
    "jp-MarkdownHeadingCollapsed": true,
    "tags": []
   },
   "source": [
    "### <font color = '#A93226'>7. JOIN TABLE</font> <a name = \"join\">"
   ]
  },
  {
   "cell_type": "markdown",
   "id": "a4734d32-cb83-40da-8f2f-de20a99eef64",
   "metadata": {
    "jp-MarkdownHeadingCollapsed": true,
    "tags": []
   },
   "source": [
    "#### <font color = '#A93226'>7.1 Размеры и кол-во уникальных значений во всех таблицах</font><a name = \"size\">"
   ]
  },
  {
   "cell_type": "code",
   "execution_count": 244,
   "id": "d0dfab38-cb9d-47a3-9eeb-e08c018db08e",
   "metadata": {
    "collapsed": true,
    "jupyter": {
     "outputs_hidden": true
    },
    "tags": []
   },
   "outputs": [
    {
     "name": "stdout",
     "output_type": "stream",
     "text": [
      "assessment_save\n",
      "(206, 6)\n",
      "code_module            7\n",
      "code_presentation      4\n",
      "id_assessment        206\n",
      "assessment_type        3\n",
      "date                  74\n",
      "weight                24\n",
      "dtype: int64\n",
      "\n",
      "course_save\n",
      "(22, 3)\n",
      "code_module                   7\n",
      "code_presentation             4\n",
      "module_presentation_length    4\n",
      "dtype: int64\n",
      "\n",
      "studentAssessment_save\n",
      "(173912, 5)\n",
      "id_assessment       188\n",
      "id_student        23369\n",
      "date_submitted      312\n",
      "is_banked             2\n",
      "score               102\n",
      "dtype: int64\n",
      "\n",
      "studentRegistrationt_save\n",
      "(32593, 5)\n",
      "code_module                7\n",
      "code_presentation          4\n",
      "id_student             28785\n",
      "date_registration        333\n",
      "date_unregistration      417\n",
      "dtype: int64\n"
     ]
    }
   ],
   "source": [
    "print('assessment_save')\n",
    "print(assessment_save.shape)\n",
    "print(assessment_save.nunique())\n",
    "print()\n",
    "print('course_save')\n",
    "print(course_save.shape)\n",
    "print(course_save.nunique())\n",
    "print()\n",
    "print('studentAssessment_save')\n",
    "print(studentAssessment_save.shape)\n",
    "print(studentAssessment_save.nunique())\n",
    "print()\n",
    "print('studentRegistrationt_save')\n",
    "print(studentRegistrationt_save.shape)\n",
    "print(studentRegistrationt_save.nunique())"
   ]
  },
  {
   "cell_type": "markdown",
   "id": "7b5beac9-17f5-4f8a-9c58-1afbeebed9b8",
   "metadata": {},
   "source": [
    "[[go to content]](#content)\n",
    "[[go to paragraph]](#size)"
   ]
  },
  {
   "cell_type": "markdown",
   "id": "b9063e16-2373-4ef8-becd-3cebcec908ba",
   "metadata": {
    "jp-MarkdownHeadingCollapsed": true,
    "tags": []
   },
   "source": [
    "#### <font color = '#A93226'>7.2. Join `studentRegistrationt_save` and `course_save` </font><a name = \"j_studentRegistrationt_save_course_save\">"
   ]
  },
  {
   "cell_type": "markdown",
   "id": "f5ab2b46-a918-4a18-8d6b-bb93500f8acb",
   "metadata": {},
   "source": [
    "---\n",
    "\n",
    "- объединение `studentRegistrationt_save` and `course_save` по:\n",
    "    - `code_module`\n",
    "    - `code_presentation`\n",
    "- тип join - **left**, потому что в таблице`studentRegistrationt_save` записи о студентах, зарегистрировавшихся на разные курсы, и необходимо заполнить по студентам и их тестам информацию о том, какая длительность у семестра.\n",
    "\n",
    "---"
   ]
  },
  {
   "cell_type": "code",
   "execution_count": 245,
   "id": "dd685d54-1300-4dff-a021-07c68558577b",
   "metadata": {},
   "outputs": [],
   "source": [
    "# merge two table studentRegistrationt_save and course_save by 'code_module', 'code_presentation' columns\n",
    "\n",
    "df_StReg_cours = studentRegistrationt_save.merge(course_save, how='left', on = ['code_module', 'code_presentation'] )"
   ]
  },
  {
   "cell_type": "code",
   "execution_count": 246,
   "id": "ba2d97cb-3966-4674-9d3c-707e578f37b9",
   "metadata": {
    "tags": []
   },
   "outputs": [
    {
     "data": {
      "text/plain": [
       "Index(['code_module', 'code_presentation', 'id_student', 'date_registration',\n",
       "       'date_unregistration', 'module_presentation_length'],\n",
       "      dtype='object')"
      ]
     },
     "execution_count": 246,
     "metadata": {},
     "output_type": "execute_result"
    }
   ],
   "source": [
    "#список колонок\n",
    "\n",
    "df_StReg_cours.columns"
   ]
  },
  {
   "cell_type": "code",
   "execution_count": 247,
   "id": "3bf8bd4d-46ef-4783-939a-9d856072db66",
   "metadata": {
    "tags": []
   },
   "outputs": [
    {
     "data": {
      "text/plain": [
       "(32593, 6)"
      ]
     },
     "execution_count": 247,
     "metadata": {},
     "output_type": "execute_result"
    }
   ],
   "source": [
    "# кол-во записей в новой таблице, соотвествует кол-ву записей в studentRegistrationt_save\n",
    "\n",
    "df_StReg_cours.shape"
   ]
  },
  {
   "cell_type": "code",
   "execution_count": 248,
   "id": "5a23e18a-47da-43e1-9480-9bcb210b4cb2",
   "metadata": {
    "tags": []
   },
   "outputs": [
    {
     "data": {
      "text/plain": [
       "code_module                   0\n",
       "code_presentation             0\n",
       "id_student                    0\n",
       "date_registration             0\n",
       "date_unregistration           0\n",
       "module_presentation_length    0\n",
       "dtype: int64"
      ]
     },
     "execution_count": 248,
     "metadata": {},
     "output_type": "execute_result"
    }
   ],
   "source": [
    "# кол-во пустых записей\n",
    "\n",
    "df_StReg_cours.isna().sum()"
   ]
  },
  {
   "cell_type": "code",
   "execution_count": 249,
   "id": "00eebfc9-37e0-4fc5-9d0f-22f2e5077c2c",
   "metadata": {
    "tags": []
   },
   "outputs": [
    {
     "data": {
      "text/plain": [
       "code_module                       7\n",
       "code_presentation                 4\n",
       "id_student                    28785\n",
       "date_registration               333\n",
       "date_unregistration             417\n",
       "module_presentation_length        4\n",
       "dtype: int64"
      ]
     },
     "execution_count": 249,
     "metadata": {},
     "output_type": "execute_result"
    }
   ],
   "source": [
    "# кол-во уникальных записей соответствует studentRegistrationt_save and course_save\n",
    "\n",
    "df_StReg_cours.nunique()"
   ]
  },
  {
   "cell_type": "markdown",
   "id": "55449e89-79ac-46e2-a37b-a9ff17870ec1",
   "metadata": {},
   "source": [
    "[[go to content]](#content)\n",
    "[[go to paragraph]](#j_studentRegistrationt_save_course_save)"
   ]
  },
  {
   "cell_type": "markdown",
   "id": "05339813-0b72-4394-b1ed-21253c11fd1d",
   "metadata": {
    "jp-MarkdownHeadingCollapsed": true,
    "tags": []
   },
   "source": [
    "#### <font color = '#A93226'>7.3. Join `studentAssessment_save` and `assessment_save` </font><a name = \"j_studentAssessment_save_assessment_save\">"
   ]
  },
  {
   "cell_type": "markdown",
   "id": "c2195682-da80-43d0-bbae-786587632817",
   "metadata": {},
   "source": [
    "---\n",
    "- объединение `studentAssessment_save` and `assessment_save` по:\n",
    "    - `id_assessment`\n",
    "- тип join - **left**, потому что в таблице`studentAssessment_save` записи о студентах, и их мы дополняем информациях о требованях к тестам, к какому предмету эти тесты относятся, какой крайних срок  сдачи\n",
    "---"
   ]
  },
  {
   "cell_type": "code",
   "execution_count": 250,
   "id": "b55e82ef-68ed-4ef9-b638-0b83b23c4eee",
   "metadata": {},
   "outputs": [],
   "source": [
    "# merge two table studentAssessment_save and assessment_save by 'id_assessment' columns\n",
    "\n",
    "df_StAs_as = studentAssessment_save.merge(assessment_save, how = 'left', on  = 'id_assessment')"
   ]
  },
  {
   "cell_type": "code",
   "execution_count": 251,
   "id": "c2bc3db3-1122-4a5e-8c35-2b011583f882",
   "metadata": {},
   "outputs": [
    {
     "data": {
      "text/plain": [
       "Index(['id_assessment', 'id_student', 'date_submitted', 'is_banked', 'score',\n",
       "       'code_module', 'code_presentation', 'assessment_type', 'date',\n",
       "       'weight'],\n",
       "      dtype='object')"
      ]
     },
     "execution_count": 251,
     "metadata": {},
     "output_type": "execute_result"
    }
   ],
   "source": [
    "#список колонок\n",
    "\n",
    "df_StAs_as.columns"
   ]
  },
  {
   "cell_type": "code",
   "execution_count": 252,
   "id": "ecd05e69-c9ce-48dc-9817-cacd683294b4",
   "metadata": {},
   "outputs": [
    {
     "data": {
      "text/plain": [
       "id_assessment        0\n",
       "id_student           0\n",
       "date_submitted       0\n",
       "is_banked            0\n",
       "score                0\n",
       "code_module          0\n",
       "code_presentation    0\n",
       "assessment_type      0\n",
       "date                 0\n",
       "weight               0\n",
       "dtype: int64"
      ]
     },
     "execution_count": 252,
     "metadata": {},
     "output_type": "execute_result"
    }
   ],
   "source": [
    "# кол-во пустых записей \n",
    "\n",
    "df_StAs_as.isna().sum()"
   ]
  },
  {
   "cell_type": "code",
   "execution_count": 253,
   "id": "ec2d3ddc-8deb-473a-b8f9-d3f6800df783",
   "metadata": {},
   "outputs": [
    {
     "data": {
      "text/plain": [
       "id_assessment          188\n",
       "id_student           23369\n",
       "date_submitted         312\n",
       "is_banked                2\n",
       "score                  102\n",
       "code_module              7\n",
       "code_presentation        4\n",
       "assessment_type          3\n",
       "date                    72\n",
       "weight                  24\n",
       "dtype: int64"
      ]
     },
     "execution_count": 253,
     "metadata": {},
     "output_type": "execute_result"
    }
   ],
   "source": [
    "# кол-во уникальных записей соответствует studentAssessment_save and assessment_save\n",
    "\n",
    "df_StAs_as.nunique()"
   ]
  },
  {
   "cell_type": "code",
   "execution_count": 254,
   "id": "ee4ac57f-c55b-48f0-b70c-c8ec4994c2ed",
   "metadata": {},
   "outputs": [
    {
     "data": {
      "text/html": [
       "<div>\n",
       "<style scoped>\n",
       "    .dataframe tbody tr th:only-of-type {\n",
       "        vertical-align: middle;\n",
       "    }\n",
       "\n",
       "    .dataframe tbody tr th {\n",
       "        vertical-align: top;\n",
       "    }\n",
       "\n",
       "    .dataframe thead th {\n",
       "        text-align: right;\n",
       "    }\n",
       "</style>\n",
       "<table border=\"1\" class=\"dataframe\">\n",
       "  <thead>\n",
       "    <tr style=\"text-align: right;\">\n",
       "      <th></th>\n",
       "      <th>id_assessment</th>\n",
       "      <th>id_student</th>\n",
       "      <th>date_submitted</th>\n",
       "      <th>is_banked</th>\n",
       "      <th>score</th>\n",
       "      <th>code_module</th>\n",
       "      <th>code_presentation</th>\n",
       "      <th>assessment_type</th>\n",
       "      <th>date</th>\n",
       "      <th>weight</th>\n",
       "    </tr>\n",
       "  </thead>\n",
       "  <tbody>\n",
       "    <tr>\n",
       "      <th>0</th>\n",
       "      <td>1752</td>\n",
       "      <td>11391</td>\n",
       "      <td>18</td>\n",
       "      <td>0</td>\n",
       "      <td>78.0</td>\n",
       "      <td>AAA</td>\n",
       "      <td>2013J</td>\n",
       "      <td>TMA</td>\n",
       "      <td>19.0</td>\n",
       "      <td>10.0</td>\n",
       "    </tr>\n",
       "    <tr>\n",
       "      <th>1</th>\n",
       "      <td>1752</td>\n",
       "      <td>28400</td>\n",
       "      <td>22</td>\n",
       "      <td>0</td>\n",
       "      <td>70.0</td>\n",
       "      <td>AAA</td>\n",
       "      <td>2013J</td>\n",
       "      <td>TMA</td>\n",
       "      <td>19.0</td>\n",
       "      <td>10.0</td>\n",
       "    </tr>\n",
       "    <tr>\n",
       "      <th>2</th>\n",
       "      <td>1752</td>\n",
       "      <td>31604</td>\n",
       "      <td>17</td>\n",
       "      <td>0</td>\n",
       "      <td>72.0</td>\n",
       "      <td>AAA</td>\n",
       "      <td>2013J</td>\n",
       "      <td>TMA</td>\n",
       "      <td>19.0</td>\n",
       "      <td>10.0</td>\n",
       "    </tr>\n",
       "    <tr>\n",
       "      <th>3</th>\n",
       "      <td>1752</td>\n",
       "      <td>32885</td>\n",
       "      <td>26</td>\n",
       "      <td>0</td>\n",
       "      <td>69.0</td>\n",
       "      <td>AAA</td>\n",
       "      <td>2013J</td>\n",
       "      <td>TMA</td>\n",
       "      <td>19.0</td>\n",
       "      <td>10.0</td>\n",
       "    </tr>\n",
       "    <tr>\n",
       "      <th>4</th>\n",
       "      <td>1752</td>\n",
       "      <td>38053</td>\n",
       "      <td>19</td>\n",
       "      <td>0</td>\n",
       "      <td>79.0</td>\n",
       "      <td>AAA</td>\n",
       "      <td>2013J</td>\n",
       "      <td>TMA</td>\n",
       "      <td>19.0</td>\n",
       "      <td>10.0</td>\n",
       "    </tr>\n",
       "  </tbody>\n",
       "</table>\n",
       "</div>"
      ],
      "text/plain": [
       "   id_assessment  id_student  date_submitted  is_banked  score code_module  \\\n",
       "0           1752       11391              18          0   78.0         AAA   \n",
       "1           1752       28400              22          0   70.0         AAA   \n",
       "2           1752       31604              17          0   72.0         AAA   \n",
       "3           1752       32885              26          0   69.0         AAA   \n",
       "4           1752       38053              19          0   79.0         AAA   \n",
       "\n",
       "  code_presentation assessment_type  date  weight  \n",
       "0             2013J             TMA  19.0    10.0  \n",
       "1             2013J             TMA  19.0    10.0  \n",
       "2             2013J             TMA  19.0    10.0  \n",
       "3             2013J             TMA  19.0    10.0  \n",
       "4             2013J             TMA  19.0    10.0  "
      ]
     },
     "execution_count": 254,
     "metadata": {},
     "output_type": "execute_result"
    }
   ],
   "source": [
    "df_StAs_as.head()"
   ]
  },
  {
   "cell_type": "markdown",
   "id": "ee57594b-a7be-4ac2-9ad2-0eb42052604e",
   "metadata": {},
   "source": [
    "[[go to content]](#content)\n",
    "[[go to paragraph]](#j_studentAssessment_save_assessment_save)"
   ]
  },
  {
   "cell_type": "markdown",
   "id": "5d3208b2-72f6-41a4-ad61-ac28c742f403",
   "metadata": {
    "jp-MarkdownHeadingCollapsed": true,
    "tags": []
   },
   "source": [
    "#### <font color = '#A93226'>7.4. Join `df_StAs_as` and `df_StReg_cours` </font><a name = \"j_df_StAs_as_df_StReg_cours\">"
   ]
  },
  {
   "cell_type": "markdown",
   "id": "ed1115d8-b13a-42bd-8e13-2120279ae83d",
   "metadata": {},
   "source": [
    "---\n",
    "- объединение таблиц `df_StAs_as` and `df_StReg_cours`, чтобы приступить к анализу по:\n",
    "    - `id_student`\n",
    "    - `code_module` \n",
    "    - `code_presentation`\n",
    "- использую `outer`, чтобы избежать ситуации, если студент упомянут только в одной из таблиц.\n",
    "- после объединения оказалось **6750** на половину пустых строк, в которых нет данных по резульатам тестирования, типу теста баллам по тестам, поэтому эти строки удаляем\n",
    "---"
   ]
  },
  {
   "cell_type": "code",
   "execution_count": 255,
   "id": "d3c1ba8c-2c08-4c2b-8bc2-e97383db1c9b",
   "metadata": {},
   "outputs": [
    {
     "name": "stdout",
     "output_type": "stream",
     "text": [
      "(173912, 10)\n"
     ]
    },
    {
     "data": {
      "text/plain": [
       "id_assessment          188\n",
       "id_student           23369\n",
       "date_submitted         312\n",
       "is_banked                2\n",
       "score                  102\n",
       "code_module              7\n",
       "code_presentation        4\n",
       "assessment_type          3\n",
       "date                    72\n",
       "weight                  24\n",
       "dtype: int64"
      ]
     },
     "execution_count": 255,
     "metadata": {},
     "output_type": "execute_result"
    }
   ],
   "source": [
    "print(df_StAs_as.shape)\n",
    "df_StAs_as.nunique()"
   ]
  },
  {
   "cell_type": "code",
   "execution_count": 256,
   "id": "112601f9-b475-4d53-bcc4-a2e9d715388f",
   "metadata": {},
   "outputs": [
    {
     "name": "stdout",
     "output_type": "stream",
     "text": [
      "(32593, 6)\n"
     ]
    },
    {
     "data": {
      "text/plain": [
       "code_module                       7\n",
       "code_presentation                 4\n",
       "id_student                    28785\n",
       "date_registration               333\n",
       "date_unregistration             417\n",
       "module_presentation_length        4\n",
       "dtype: int64"
      ]
     },
     "execution_count": 256,
     "metadata": {},
     "output_type": "execute_result"
    }
   ],
   "source": [
    "print(df_StReg_cours.shape)\n",
    "df_StReg_cours.nunique()"
   ]
  },
  {
   "cell_type": "code",
   "execution_count": 257,
   "id": "191d039a-4db1-4a24-aa35-ec45db987525",
   "metadata": {},
   "outputs": [],
   "source": [
    "# outer merge df_StReg_cours and df_StAs_as\n",
    "\n",
    "df_edu = df_StReg_cours.merge(df_StAs_as, how = 'outer', on = ['id_student', 'code_module', 'code_presentation'])"
   ]
  },
  {
   "cell_type": "code",
   "execution_count": 258,
   "id": "26486818-a764-4888-b8b5-43a7c4a64ba1",
   "metadata": {},
   "outputs": [
    {
     "data": {
      "text/plain": [
       "Index(['code_module', 'code_presentation', 'id_student', 'date_registration',\n",
       "       'date_unregistration', 'module_presentation_length', 'id_assessment',\n",
       "       'date_submitted', 'is_banked', 'score', 'assessment_type', 'date',\n",
       "       'weight'],\n",
       "      dtype='object')"
      ]
     },
     "execution_count": 258,
     "metadata": {},
     "output_type": "execute_result"
    }
   ],
   "source": [
    "#cписок колонок\n",
    "\n",
    "df_edu.columns"
   ]
  },
  {
   "cell_type": "code",
   "execution_count": 259,
   "id": "1536907c-d61f-41ca-8d69-f8fe2d3610d5",
   "metadata": {},
   "outputs": [
    {
     "data": {
      "text/plain": [
       "code_module                      0\n",
       "code_presentation                0\n",
       "id_student                       0\n",
       "date_registration                0\n",
       "date_unregistration              0\n",
       "module_presentation_length       0\n",
       "id_assessment                 6750\n",
       "date_submitted                6750\n",
       "is_banked                     6750\n",
       "score                         6750\n",
       "assessment_type               6750\n",
       "date                          6750\n",
       "weight                        6750\n",
       "dtype: int64"
      ]
     },
     "execution_count": 259,
     "metadata": {},
     "output_type": "execute_result"
    }
   ],
   "source": [
    "#количество пустых записей\n",
    "\n",
    "df_edu.isna().sum()"
   ]
  },
  {
   "cell_type": "code",
   "execution_count": 261,
   "id": "e97fad68-8185-401d-b179-85e091c5f180",
   "metadata": {},
   "outputs": [],
   "source": [
    "#удаление пустых ячеек\n",
    "\n",
    "df_edu.dropna(subset=['id_assessment', 'date_submitted', 'is_banked', 'score', 'assessment_type', 'date', 'weight'], how = 'all', inplace = True)"
   ]
  },
  {
   "cell_type": "code",
   "execution_count": 262,
   "id": "9894333b-4c44-4673-b6a1-b55401dde350",
   "metadata": {},
   "outputs": [
    {
     "data": {
      "text/plain": [
       "code_module                   0\n",
       "code_presentation             0\n",
       "id_student                    0\n",
       "date_registration             0\n",
       "date_unregistration           0\n",
       "module_presentation_length    0\n",
       "id_assessment                 0\n",
       "date_submitted                0\n",
       "is_banked                     0\n",
       "score                         0\n",
       "assessment_type               0\n",
       "date                          0\n",
       "weight                        0\n",
       "dtype: int64"
      ]
     },
     "execution_count": 262,
     "metadata": {},
     "output_type": "execute_result"
    }
   ],
   "source": [
    "#количество пустых записей\n",
    "\n",
    "df_edu.isna().sum()"
   ]
  },
  {
   "cell_type": "code",
   "execution_count": 263,
   "id": "eda15193-5175-42d1-9601-29ffb206b697",
   "metadata": {},
   "outputs": [
    {
     "data": {
      "text/plain": [
       "code_module                       7\n",
       "code_presentation                 4\n",
       "id_student                    23369\n",
       "date_registration               313\n",
       "date_unregistration             251\n",
       "module_presentation_length        4\n",
       "id_assessment                   188\n",
       "date_submitted                  312\n",
       "is_banked                         2\n",
       "score                           102\n",
       "assessment_type                   3\n",
       "date                             72\n",
       "weight                           24\n",
       "dtype: int64"
      ]
     },
     "execution_count": 263,
     "metadata": {},
     "output_type": "execute_result"
    }
   ],
   "source": [
    "df_edu.nunique()"
   ]
  },
  {
   "cell_type": "markdown",
   "id": "716fe87c-20d4-49b3-883b-49a1d9a8f624",
   "metadata": {},
   "source": [
    "[[go to content]](#content)\n",
    "[[go to paragraph]](#j_df_StAs_as_df_StReg_cours)"
   ]
  },
  {
   "cell_type": "markdown",
   "id": "7bcccc16-c827-4782-a733-97987f46d701",
   "metadata": {},
   "source": [
    "### <font color = '#34495E'>Вопросы из памятки</font><a name = \"Q_notes\">"
   ]
  },
  {
   "cell_type": "markdown",
   "id": "432b83df-e772-4d80-9608-8d1a124b0010",
   "metadata": {},
   "source": [
    "---\n",
    "- посмотреть сдавали ли студенты тесты с `id_assessment`, которые в `weight` имеют вес 0.\n",
    "- по всем предметам и семестрам, по которым отмечается 0 `weight`, студенты сдавали тесты:\n",
    "    -кол-во таких тестов 46987 или 27% от всего кол-ва тестов\n",
    "    -экзамены сдавались только по предметам `CCC` и `DDD`<br>\n",
    "    \n",
    "**<font color = 'green'> Определить сдан ли предмет или нет, по предметам, где в семестрах не проводились экзамены, получится только на основе зачета всех пройденных тестов.<br>\n",
    "    Поэтому будем считать, что колонка `weight` заполнена некорректо и опираться на требуемое кол-во тестов для получение зачета по предмету.<font>**\n",
    "\n",
    "- сдавали ли студенты оба экзамена по предметк `CCC` в семестре `2014J`:\n",
    "    - нет ниодного студента, который бы сдавал в одном семестре 2 разных экзамена по одному предмету `CCC`\n",
    "\n",
    "---\n",
    "[[go to paragraph]](#assessment_notes)"
   ]
  },
  {
   "cell_type": "code",
   "execution_count": 282,
   "id": "e1fbcef0-b069-4c8b-81c2-776fd8d8c1bc",
   "metadata": {},
   "outputs": [
    {
     "name": "stdout",
     "output_type": "stream",
     "text": [
      "46987\n",
      "27.0\n"
     ]
    }
   ],
   "source": [
    "# проверяем есть ли студенты, которые сдавали тесты с весом 0\n",
    "\n",
    "print(df_edu[df_edu.weight == 0].id_student.count())\n",
    "\n",
    "print(np.round(df_edu[df_edu.weight == 0].id_student.count()/(df_edu.id_student.count())*100))"
   ]
  },
  {
   "cell_type": "code",
   "execution_count": 283,
   "id": "7f49be24-3be1-4c49-8fe0-32aa64240d27",
   "metadata": {},
   "outputs": [
    {
     "data": {
      "text/html": [
       "<div>\n",
       "<style scoped>\n",
       "    .dataframe tbody tr th:only-of-type {\n",
       "        vertical-align: middle;\n",
       "    }\n",
       "\n",
       "    .dataframe tbody tr th {\n",
       "        vertical-align: top;\n",
       "    }\n",
       "\n",
       "    .dataframe thead th {\n",
       "        text-align: right;\n",
       "    }\n",
       "</style>\n",
       "<table border=\"1\" class=\"dataframe\">\n",
       "  <thead>\n",
       "    <tr style=\"text-align: right;\">\n",
       "      <th></th>\n",
       "      <th>code_presentation</th>\n",
       "      <th>code_module</th>\n",
       "      <th>assessment_type</th>\n",
       "      <th>id_student</th>\n",
       "    </tr>\n",
       "  </thead>\n",
       "  <tbody>\n",
       "    <tr>\n",
       "      <th>0</th>\n",
       "      <td>2013B</td>\n",
       "      <td>FFF</td>\n",
       "      <td>CMA</td>\n",
       "      <td>1094</td>\n",
       "    </tr>\n",
       "    <tr>\n",
       "      <th>1</th>\n",
       "      <td>2013J</td>\n",
       "      <td>FFF</td>\n",
       "      <td>CMA</td>\n",
       "      <td>1477</td>\n",
       "    </tr>\n",
       "    <tr>\n",
       "      <th>2</th>\n",
       "      <td>2013J</td>\n",
       "      <td>GGG</td>\n",
       "      <td>CMA</td>\n",
       "      <td>729</td>\n",
       "    </tr>\n",
       "    <tr>\n",
       "      <th>3</th>\n",
       "      <td>2013J</td>\n",
       "      <td>GGG</td>\n",
       "      <td>TMA</td>\n",
       "      <td>816</td>\n",
       "    </tr>\n",
       "    <tr>\n",
       "      <th>4</th>\n",
       "      <td>2014B</td>\n",
       "      <td>FFF</td>\n",
       "      <td>CMA</td>\n",
       "      <td>936</td>\n",
       "    </tr>\n",
       "    <tr>\n",
       "      <th>5</th>\n",
       "      <td>2014B</td>\n",
       "      <td>GGG</td>\n",
       "      <td>CMA</td>\n",
       "      <td>594</td>\n",
       "    </tr>\n",
       "    <tr>\n",
       "      <th>6</th>\n",
       "      <td>2014B</td>\n",
       "      <td>GGG</td>\n",
       "      <td>TMA</td>\n",
       "      <td>686</td>\n",
       "    </tr>\n",
       "    <tr>\n",
       "      <th>7</th>\n",
       "      <td>2014J</td>\n",
       "      <td>BBB</td>\n",
       "      <td>TMA</td>\n",
       "      <td>1776</td>\n",
       "    </tr>\n",
       "    <tr>\n",
       "      <th>8</th>\n",
       "      <td>2014J</td>\n",
       "      <td>FFF</td>\n",
       "      <td>CMA</td>\n",
       "      <td>1462</td>\n",
       "    </tr>\n",
       "    <tr>\n",
       "      <th>9</th>\n",
       "      <td>2014J</td>\n",
       "      <td>GGG</td>\n",
       "      <td>CMA</td>\n",
       "      <td>534</td>\n",
       "    </tr>\n",
       "    <tr>\n",
       "      <th>10</th>\n",
       "      <td>2014J</td>\n",
       "      <td>GGG</td>\n",
       "      <td>TMA</td>\n",
       "      <td>603</td>\n",
       "    </tr>\n",
       "  </tbody>\n",
       "</table>\n",
       "</div>"
      ],
      "text/plain": [
       "   code_presentation code_module assessment_type  id_student\n",
       "0              2013B         FFF             CMA        1094\n",
       "1              2013J         FFF             CMA        1477\n",
       "2              2013J         GGG             CMA         729\n",
       "3              2013J         GGG             TMA         816\n",
       "4              2014B         FFF             CMA         936\n",
       "5              2014B         GGG             CMA         594\n",
       "6              2014B         GGG             TMA         686\n",
       "7              2014J         BBB             TMA        1776\n",
       "8              2014J         FFF             CMA        1462\n",
       "9              2014J         GGG             CMA         534\n",
       "10             2014J         GGG             TMA         603"
      ]
     },
     "execution_count": 283,
     "metadata": {},
     "output_type": "execute_result"
    }
   ],
   "source": [
    "#кол-во студентов, которые сдавали тесты с весом 0 разделенные на семестр и предметы\n",
    "\n",
    "df_edu[df_edu.weight == 0].groupby(['code_presentation', 'code_module', 'assessment_type'], as_index = False)['id_student'].nunique()\n"
   ]
  },
  {
   "cell_type": "code",
   "execution_count": 284,
   "id": "fe0bd1a5-9735-4295-bf81-c120bfa1b49b",
   "metadata": {},
   "outputs": [
    {
     "data": {
      "text/html": [
       "<div>\n",
       "<style scoped>\n",
       "    .dataframe tbody tr th:only-of-type {\n",
       "        vertical-align: middle;\n",
       "    }\n",
       "\n",
       "    .dataframe tbody tr th {\n",
       "        vertical-align: top;\n",
       "    }\n",
       "\n",
       "    .dataframe thead th {\n",
       "        text-align: right;\n",
       "    }\n",
       "</style>\n",
       "<table border=\"1\" class=\"dataframe\">\n",
       "  <thead>\n",
       "    <tr style=\"text-align: right;\">\n",
       "      <th></th>\n",
       "      <th>code_presentation</th>\n",
       "      <th>code_module</th>\n",
       "      <th>assessment_type</th>\n",
       "      <th>id_student</th>\n",
       "    </tr>\n",
       "  </thead>\n",
       "  <tbody>\n",
       "    <tr>\n",
       "      <th>0</th>\n",
       "      <td>2013B</td>\n",
       "      <td>FFF</td>\n",
       "      <td>CMA</td>\n",
       "      <td>41</td>\n",
       "    </tr>\n",
       "    <tr>\n",
       "      <th>1</th>\n",
       "      <td>2013J</td>\n",
       "      <td>FFF</td>\n",
       "      <td>CMA</td>\n",
       "      <td>30</td>\n",
       "    </tr>\n",
       "    <tr>\n",
       "      <th>2</th>\n",
       "      <td>2014B</td>\n",
       "      <td>FFF</td>\n",
       "      <td>CMA</td>\n",
       "      <td>28</td>\n",
       "    </tr>\n",
       "    <tr>\n",
       "      <th>3</th>\n",
       "      <td>2014J</td>\n",
       "      <td>BBB</td>\n",
       "      <td>TMA</td>\n",
       "      <td>37</td>\n",
       "    </tr>\n",
       "    <tr>\n",
       "      <th>4</th>\n",
       "      <td>2014J</td>\n",
       "      <td>FFF</td>\n",
       "      <td>CMA</td>\n",
       "      <td>64</td>\n",
       "    </tr>\n",
       "    <tr>\n",
       "      <th>5</th>\n",
       "      <td>2014J</td>\n",
       "      <td>GGG</td>\n",
       "      <td>CMA</td>\n",
       "      <td>2</td>\n",
       "    </tr>\n",
       "    <tr>\n",
       "      <th>6</th>\n",
       "      <td>2014J</td>\n",
       "      <td>GGG</td>\n",
       "      <td>TMA</td>\n",
       "      <td>3</td>\n",
       "    </tr>\n",
       "  </tbody>\n",
       "</table>\n",
       "</div>"
      ],
      "text/plain": [
       "  code_presentation code_module assessment_type  id_student\n",
       "0             2013B         FFF             CMA          41\n",
       "1             2013J         FFF             CMA          30\n",
       "2             2014B         FFF             CMA          28\n",
       "3             2014J         BBB             TMA          37\n",
       "4             2014J         FFF             CMA          64\n",
       "5             2014J         GGG             CMA           2\n",
       "6             2014J         GGG             TMA           3"
      ]
     },
     "execution_count": 284,
     "metadata": {},
     "output_type": "execute_result"
    }
   ],
   "source": [
    "#по всем предметам и семестрам, которые были выявлены, как аномальные c весом равным 0, студенты сдавали тесты и до начала семестра\n",
    "\n",
    "df_edu[df_edu.weight == 0].query('date_submitted < 0').groupby(['code_presentation', 'code_module', 'assessment_type'], as_index = False)['id_student'].nunique()"
   ]
  },
  {
   "cell_type": "code",
   "execution_count": 128,
   "id": "cf5059f6-429b-466f-bf7b-a1a37a88de46",
   "metadata": {},
   "outputs": [
    {
     "data": {
      "text/html": [
       "<div>\n",
       "<style scoped>\n",
       "    .dataframe tbody tr th:only-of-type {\n",
       "        vertical-align: middle;\n",
       "    }\n",
       "\n",
       "    .dataframe tbody tr th {\n",
       "        vertical-align: top;\n",
       "    }\n",
       "\n",
       "    .dataframe thead th {\n",
       "        text-align: right;\n",
       "    }\n",
       "</style>\n",
       "<table border=\"1\" class=\"dataframe\">\n",
       "  <thead>\n",
       "    <tr style=\"text-align: right;\">\n",
       "      <th></th>\n",
       "      <th>code_presentation</th>\n",
       "      <th>code_module</th>\n",
       "      <th>assessment_type</th>\n",
       "      <th>id_student</th>\n",
       "    </tr>\n",
       "  </thead>\n",
       "  <tbody>\n",
       "    <tr>\n",
       "      <th>0</th>\n",
       "      <td>2013B</td>\n",
       "      <td>DDD</td>\n",
       "      <td>Exam</td>\n",
       "      <td>602</td>\n",
       "    </tr>\n",
       "    <tr>\n",
       "      <th>1</th>\n",
       "      <td>2013J</td>\n",
       "      <td>DDD</td>\n",
       "      <td>Exam</td>\n",
       "      <td>968</td>\n",
       "    </tr>\n",
       "    <tr>\n",
       "      <th>2</th>\n",
       "      <td>2014B</td>\n",
       "      <td>CCC</td>\n",
       "      <td>Exam</td>\n",
       "      <td>747</td>\n",
       "    </tr>\n",
       "    <tr>\n",
       "      <th>3</th>\n",
       "      <td>2014B</td>\n",
       "      <td>DDD</td>\n",
       "      <td>Exam</td>\n",
       "      <td>524</td>\n",
       "    </tr>\n",
       "    <tr>\n",
       "      <th>4</th>\n",
       "      <td>2014J</td>\n",
       "      <td>CCC</td>\n",
       "      <td>Exam</td>\n",
       "      <td>1168</td>\n",
       "    </tr>\n",
       "    <tr>\n",
       "      <th>5</th>\n",
       "      <td>2014J</td>\n",
       "      <td>DDD</td>\n",
       "      <td>Exam</td>\n",
       "      <td>950</td>\n",
       "    </tr>\n",
       "  </tbody>\n",
       "</table>\n",
       "</div>"
      ],
      "text/plain": [
       "  code_presentation code_module assessment_type  id_student\n",
       "0             2013B         DDD            Exam         602\n",
       "1             2013J         DDD            Exam         968\n",
       "2             2014B         CCC            Exam         747\n",
       "3             2014B         DDD            Exam         524\n",
       "4             2014J         CCC            Exam        1168\n",
       "5             2014J         DDD            Exam         950"
      ]
     },
     "execution_count": 128,
     "metadata": {},
     "output_type": "execute_result"
    }
   ],
   "source": [
    "# теперь можно убедиться, что по предметам где вес тестов равен 0 у нас нет экзаменов, поэтому сдача тестов для нас все таки важна и не может иметь вес 0.\n",
    "\n",
    "df_edu.query('assessment_type == \"Exam\"').groupby(['code_presentation', 'code_module', 'assessment_type'], as_index = False)['id_student'].nunique()"
   ]
  },
  {
   "cell_type": "code",
   "execution_count": 130,
   "id": "9369b7bb-0ba0-4ba0-be4c-90094daaba84",
   "metadata": {},
   "outputs": [
    {
     "data": {
      "text/plain": [
       "id_student         2697181\n",
       "assessment_type          1\n",
       "dtype: int64"
      ]
     },
     "execution_count": 130,
     "metadata": {},
     "output_type": "execute_result"
    }
   ],
   "source": [
    "#проверим есть ли студенты, которые сдавали 2 разных экзамента по предмету CCC\n",
    "\n",
    "# таких студентов нет, это значит, что нет студентов, которые сдавали бы экзамен в нескольких семестрах по одному предмету\n",
    "\n",
    "df_edu.query('assessment_type == \"Exam\"&code_module == \"CCC\"').groupby(['id_student'], as_index = False)['assessment_type'].nunique().max()"
   ]
  },
  {
   "cell_type": "markdown",
   "id": "be137c6a-50ed-48d8-b7d2-b8a28f6262a6",
   "metadata": {},
   "source": [
    "---\n",
    "- после объединения сравнивать сроки сдачи тестов с окончанием семестра по необходимости\n",
    "    - 52183 тестов были сданы после `deadline`\n",
    "---\n",
    "[[go to paragraph]](#courses_notes)"
   ]
  },
  {
   "cell_type": "code",
   "execution_count": 289,
   "id": "c80bcbfd-40a7-4267-9e7c-492111e90c89",
   "metadata": {},
   "outputs": [],
   "source": [
    "df_edu['deadline'] = df_edu.date - abs(df_edu.date_submitted)"
   ]
  },
  {
   "cell_type": "code",
   "execution_count": 290,
   "id": "25e6f34c-84b5-46ee-8ae7-c9a095f16c93",
   "metadata": {},
   "outputs": [
    {
     "data": {
      "text/plain": [
       "52183"
      ]
     },
     "execution_count": 290,
     "metadata": {},
     "output_type": "execute_result"
    }
   ],
   "source": [
    "(df_edu.deadline < 0).sum()"
   ]
  },
  {
   "cell_type": "code",
   "execution_count": 291,
   "id": "ece2524d-e0a2-4351-853b-5361ffe7d1d6",
   "metadata": {},
   "outputs": [
    {
     "data": {
      "text/html": [
       "<div>\n",
       "<style scoped>\n",
       "    .dataframe tbody tr th:only-of-type {\n",
       "        vertical-align: middle;\n",
       "    }\n",
       "\n",
       "    .dataframe tbody tr th {\n",
       "        vertical-align: top;\n",
       "    }\n",
       "\n",
       "    .dataframe thead th {\n",
       "        text-align: right;\n",
       "    }\n",
       "</style>\n",
       "<table border=\"1\" class=\"dataframe\">\n",
       "  <thead>\n",
       "    <tr style=\"text-align: right;\">\n",
       "      <th></th>\n",
       "      <th>code_module</th>\n",
       "      <th>code_presentation</th>\n",
       "      <th>id_student</th>\n",
       "      <th>date_registration</th>\n",
       "      <th>date_unregistration</th>\n",
       "      <th>module_presentation_length</th>\n",
       "      <th>id_assessment</th>\n",
       "      <th>date_submitted</th>\n",
       "      <th>is_banked</th>\n",
       "      <th>score</th>\n",
       "      <th>assessment_type</th>\n",
       "      <th>date</th>\n",
       "      <th>weight</th>\n",
       "      <th>deadline</th>\n",
       "    </tr>\n",
       "  </thead>\n",
       "  <tbody>\n",
       "    <tr>\n",
       "      <th>5</th>\n",
       "      <td>AAA</td>\n",
       "      <td>2013J</td>\n",
       "      <td>28400</td>\n",
       "      <td>-53.0</td>\n",
       "      <td>-9999.0</td>\n",
       "      <td>268</td>\n",
       "      <td>1752.0</td>\n",
       "      <td>22.0</td>\n",
       "      <td>0.0</td>\n",
       "      <td>70.0</td>\n",
       "      <td>TMA</td>\n",
       "      <td>19.0</td>\n",
       "      <td>10.0</td>\n",
       "      <td>-3.0</td>\n",
       "    </tr>\n",
       "    <tr>\n",
       "      <th>7</th>\n",
       "      <td>AAA</td>\n",
       "      <td>2013J</td>\n",
       "      <td>28400</td>\n",
       "      <td>-53.0</td>\n",
       "      <td>-9999.0</td>\n",
       "      <td>268</td>\n",
       "      <td>1754.0</td>\n",
       "      <td>121.0</td>\n",
       "      <td>0.0</td>\n",
       "      <td>70.0</td>\n",
       "      <td>TMA</td>\n",
       "      <td>117.0</td>\n",
       "      <td>20.0</td>\n",
       "      <td>-4.0</td>\n",
       "    </tr>\n",
       "    <tr>\n",
       "      <th>16</th>\n",
       "      <td>AAA</td>\n",
       "      <td>2013J</td>\n",
       "      <td>32885</td>\n",
       "      <td>-176.0</td>\n",
       "      <td>-9999.0</td>\n",
       "      <td>268</td>\n",
       "      <td>1752.0</td>\n",
       "      <td>26.0</td>\n",
       "      <td>0.0</td>\n",
       "      <td>69.0</td>\n",
       "      <td>TMA</td>\n",
       "      <td>19.0</td>\n",
       "      <td>10.0</td>\n",
       "      <td>-7.0</td>\n",
       "    </tr>\n",
       "    <tr>\n",
       "      <th>17</th>\n",
       "      <td>AAA</td>\n",
       "      <td>2013J</td>\n",
       "      <td>32885</td>\n",
       "      <td>-176.0</td>\n",
       "      <td>-9999.0</td>\n",
       "      <td>268</td>\n",
       "      <td>1753.0</td>\n",
       "      <td>75.0</td>\n",
       "      <td>0.0</td>\n",
       "      <td>30.0</td>\n",
       "      <td>TMA</td>\n",
       "      <td>54.0</td>\n",
       "      <td>20.0</td>\n",
       "      <td>-21.0</td>\n",
       "    </tr>\n",
       "    <tr>\n",
       "      <th>18</th>\n",
       "      <td>AAA</td>\n",
       "      <td>2013J</td>\n",
       "      <td>32885</td>\n",
       "      <td>-176.0</td>\n",
       "      <td>-9999.0</td>\n",
       "      <td>268</td>\n",
       "      <td>1754.0</td>\n",
       "      <td>124.0</td>\n",
       "      <td>0.0</td>\n",
       "      <td>63.0</td>\n",
       "      <td>TMA</td>\n",
       "      <td>117.0</td>\n",
       "      <td>20.0</td>\n",
       "      <td>-7.0</td>\n",
       "    </tr>\n",
       "    <tr>\n",
       "      <th>...</th>\n",
       "      <td>...</td>\n",
       "      <td>...</td>\n",
       "      <td>...</td>\n",
       "      <td>...</td>\n",
       "      <td>...</td>\n",
       "      <td>...</td>\n",
       "      <td>...</td>\n",
       "      <td>...</td>\n",
       "      <td>...</td>\n",
       "      <td>...</td>\n",
       "      <td>...</td>\n",
       "      <td>...</td>\n",
       "      <td>...</td>\n",
       "      <td>...</td>\n",
       "    </tr>\n",
       "    <tr>\n",
       "      <th>180616</th>\n",
       "      <td>GGG</td>\n",
       "      <td>2014J</td>\n",
       "      <td>2606765</td>\n",
       "      <td>-64.0</td>\n",
       "      <td>-9999.0</td>\n",
       "      <td>269</td>\n",
       "      <td>37436.0</td>\n",
       "      <td>132.0</td>\n",
       "      <td>0.0</td>\n",
       "      <td>80.0</td>\n",
       "      <td>TMA</td>\n",
       "      <td>124.0</td>\n",
       "      <td>0.0</td>\n",
       "      <td>-8.0</td>\n",
       "    </tr>\n",
       "    <tr>\n",
       "      <th>180617</th>\n",
       "      <td>GGG</td>\n",
       "      <td>2014J</td>\n",
       "      <td>2606765</td>\n",
       "      <td>-64.0</td>\n",
       "      <td>-9999.0</td>\n",
       "      <td>269</td>\n",
       "      <td>37437.0</td>\n",
       "      <td>185.0</td>\n",
       "      <td>0.0</td>\n",
       "      <td>55.0</td>\n",
       "      <td>TMA</td>\n",
       "      <td>173.0</td>\n",
       "      <td>0.0</td>\n",
       "      <td>-12.0</td>\n",
       "    </tr>\n",
       "    <tr>\n",
       "      <th>180627</th>\n",
       "      <td>GGG</td>\n",
       "      <td>2014J</td>\n",
       "      <td>2620947</td>\n",
       "      <td>-23.0</td>\n",
       "      <td>-9999.0</td>\n",
       "      <td>269</td>\n",
       "      <td>37437.0</td>\n",
       "      <td>179.0</td>\n",
       "      <td>0.0</td>\n",
       "      <td>75.0</td>\n",
       "      <td>TMA</td>\n",
       "      <td>173.0</td>\n",
       "      <td>0.0</td>\n",
       "      <td>-6.0</td>\n",
       "    </tr>\n",
       "    <tr>\n",
       "      <th>180635</th>\n",
       "      <td>GGG</td>\n",
       "      <td>2014J</td>\n",
       "      <td>2645731</td>\n",
       "      <td>-23.0</td>\n",
       "      <td>-9999.0</td>\n",
       "      <td>269</td>\n",
       "      <td>37435.0</td>\n",
       "      <td>68.0</td>\n",
       "      <td>0.0</td>\n",
       "      <td>80.0</td>\n",
       "      <td>TMA</td>\n",
       "      <td>61.0</td>\n",
       "      <td>0.0</td>\n",
       "      <td>-7.0</td>\n",
       "    </tr>\n",
       "    <tr>\n",
       "      <th>180637</th>\n",
       "      <td>GGG</td>\n",
       "      <td>2014J</td>\n",
       "      <td>2645731</td>\n",
       "      <td>-23.0</td>\n",
       "      <td>-9999.0</td>\n",
       "      <td>269</td>\n",
       "      <td>37437.0</td>\n",
       "      <td>177.0</td>\n",
       "      <td>0.0</td>\n",
       "      <td>72.0</td>\n",
       "      <td>TMA</td>\n",
       "      <td>173.0</td>\n",
       "      <td>0.0</td>\n",
       "      <td>-4.0</td>\n",
       "    </tr>\n",
       "  </tbody>\n",
       "</table>\n",
       "<p>52183 rows × 14 columns</p>\n",
       "</div>"
      ],
      "text/plain": [
       "       code_module code_presentation  id_student  date_registration  \\\n",
       "5              AAA             2013J       28400              -53.0   \n",
       "7              AAA             2013J       28400              -53.0   \n",
       "16             AAA             2013J       32885             -176.0   \n",
       "17             AAA             2013J       32885             -176.0   \n",
       "18             AAA             2013J       32885             -176.0   \n",
       "...            ...               ...         ...                ...   \n",
       "180616         GGG             2014J     2606765              -64.0   \n",
       "180617         GGG             2014J     2606765              -64.0   \n",
       "180627         GGG             2014J     2620947              -23.0   \n",
       "180635         GGG             2014J     2645731              -23.0   \n",
       "180637         GGG             2014J     2645731              -23.0   \n",
       "\n",
       "        date_unregistration  module_presentation_length  id_assessment  \\\n",
       "5                   -9999.0                         268         1752.0   \n",
       "7                   -9999.0                         268         1754.0   \n",
       "16                  -9999.0                         268         1752.0   \n",
       "17                  -9999.0                         268         1753.0   \n",
       "18                  -9999.0                         268         1754.0   \n",
       "...                     ...                         ...            ...   \n",
       "180616              -9999.0                         269        37436.0   \n",
       "180617              -9999.0                         269        37437.0   \n",
       "180627              -9999.0                         269        37437.0   \n",
       "180635              -9999.0                         269        37435.0   \n",
       "180637              -9999.0                         269        37437.0   \n",
       "\n",
       "        date_submitted  is_banked  score assessment_type   date  weight  \\\n",
       "5                 22.0        0.0   70.0             TMA   19.0    10.0   \n",
       "7                121.0        0.0   70.0             TMA  117.0    20.0   \n",
       "16                26.0        0.0   69.0             TMA   19.0    10.0   \n",
       "17                75.0        0.0   30.0             TMA   54.0    20.0   \n",
       "18               124.0        0.0   63.0             TMA  117.0    20.0   \n",
       "...                ...        ...    ...             ...    ...     ...   \n",
       "180616           132.0        0.0   80.0             TMA  124.0     0.0   \n",
       "180617           185.0        0.0   55.0             TMA  173.0     0.0   \n",
       "180627           179.0        0.0   75.0             TMA  173.0     0.0   \n",
       "180635            68.0        0.0   80.0             TMA   61.0     0.0   \n",
       "180637           177.0        0.0   72.0             TMA  173.0     0.0   \n",
       "\n",
       "        deadline  \n",
       "5           -3.0  \n",
       "7           -4.0  \n",
       "16          -7.0  \n",
       "17         -21.0  \n",
       "18          -7.0  \n",
       "...          ...  \n",
       "180616      -8.0  \n",
       "180617     -12.0  \n",
       "180627      -6.0  \n",
       "180635      -7.0  \n",
       "180637      -4.0  \n",
       "\n",
       "[52183 rows x 14 columns]"
      ]
     },
     "execution_count": 291,
     "metadata": {},
     "output_type": "execute_result"
    }
   ],
   "source": [
    "df_edu[df_edu.deadline < 0]"
   ]
  },
  {
   "cell_type": "code",
   "execution_count": 131,
   "id": "d129174f-59df-4c5b-9f26-7361a72f21e8",
   "metadata": {},
   "outputs": [
    {
     "data": {
      "text/plain": [
       "id_student         2698251\n",
       "assessment_type          1\n",
       "dtype: int64"
      ]
     },
     "execution_count": 131,
     "metadata": {},
     "output_type": "execute_result"
    }
   ],
   "source": [
    "#проверим есть ли пересечение по студентам при сдаче экзамена DDD\n",
    "#также пересечений по студентам, которые сдавали экзамен DDD нет по семестрам\n",
    "\n",
    "df_edu.query('assessment_type == \"Exam\"&code_module == \"DDD\"').groupby(['id_student'], as_index = False)['assessment_type'].nunique().max()"
   ]
  },
  {
   "cell_type": "code",
   "execution_count": 132,
   "id": "037a1777-2b72-41a4-b82e-ffdddb270514",
   "metadata": {},
   "outputs": [
    {
     "data": {
      "text/plain": [
       "id_student         2698251\n",
       "assessment_type          1\n",
       "dtype: int64"
      ]
     },
     "execution_count": 132,
     "metadata": {},
     "output_type": "execute_result"
    }
   ],
   "source": [
    "#проверим много ли пересечений по студентам, котоорые сдавали экзамены по предмету CCC и DDD\n",
    "#также пересечений нет. Это значит что у нас курс не состоит из нескольких предметов, а только из одного и захватывает только один семестр.\n",
    "\n",
    "df_edu.query('assessment_type == \"Exam\"&(code_module == \"DDD\"|code_module == \"CCC\")').groupby(['id_student'], as_index = False)['assessment_type'].nunique().max()"
   ]
  },
  {
   "cell_type": "code",
   "execution_count": 155,
   "id": "ae343555-273c-4ab1-b0e2-346b84387a45",
   "metadata": {},
   "outputs": [
    {
     "data": {
      "text/plain": [
       "code_presentation  code_module  assessment_type\n",
       "2013J              GGG          TMA                1\n",
       "2014B              GGG          TMA                1\n",
       "2014J              BBB          TMA                4\n",
       "                   GGG          TMA                2\n",
       "dtype: int64"
      ]
     },
     "execution_count": 155,
     "metadata": {},
     "output_type": "execute_result"
    }
   ],
   "source": [
    "# не оцененные тесты, у которых вес равен 0\n",
    "\n",
    "df_edu.query('score == -9999&weight==0').groupby(['code_presentation', 'code_module', 'assessment_type']).size()"
   ]
  },
  {
   "cell_type": "code",
   "execution_count": 126,
   "id": "e3a26ddd-a6a0-471a-b5ce-196e452caba7",
   "metadata": {},
   "outputs": [
    {
     "data": {
      "text/plain": [
       "1371"
      ]
     },
     "execution_count": 126,
     "metadata": {},
     "output_type": "execute_result"
    }
   ],
   "source": [
    "# выявим ID студентов, которые учаться на предмете 2013B FFF, чтобы проверить больше ли их чем тех кто сдали до начала семестра тесты, чтобы исключить возможноть общего предворительного тестирования\n",
    "# очевидно - это не предворительное тестирование\n",
    "\n",
    "df_edu.query('code_presentation == \"2013B\"&code_module == \"FFF\"').id_student.nunique()"
   ]
  },
  {
   "cell_type": "code",
   "execution_count": 160,
   "id": "e10cc7b4-94da-4bae-9503-27432763ab57",
   "metadata": {},
   "outputs": [
    {
     "data": {
      "text/plain": [
       "code_presentation  code_module  assessment_type\n",
       "2013B              BBB          TMA                16\n",
       "                   DDD          TMA                18\n",
       "                   FFF          TMA                14\n",
       "2013J              AAA          TMA                 2\n",
       "                   BBB          TMA                10\n",
       "                   DDD          TMA                 8\n",
       "                   EEE          TMA                 3\n",
       "                   FFF          TMA                12\n",
       "2014B              BBB          TMA                17\n",
       "                   CCC          TMA                 5\n",
       "                   DDD          TMA                11\n",
       "                   EEE          TMA                 2\n",
       "                   FFF          TMA                11\n",
       "2014J              AAA          TMA                 1\n",
       "                   BBB          TMA                 6\n",
       "                   CCC          TMA                 6\n",
       "                   DDD          TMA                12\n",
       "                   EEE          TMA                 2\n",
       "                   FFF          TMA                 9\n",
       "dtype: int64"
      ]
     },
     "execution_count": 160,
     "metadata": {},
     "output_type": "execute_result"
    }
   ],
   "source": [
    "#не оцененными оказались только тесты, которые проводил преподаватель\n",
    "\n",
    "df_edu.query('score == -9999&weight>1').groupby(['code_presentation', 'code_module', 'assessment_type']).size()"
   ]
  },
  {
   "cell_type": "code",
   "execution_count": 162,
   "id": "5b8f9070-d03f-45a0-b908-b0ba028884f5",
   "metadata": {},
   "outputs": [
    {
     "data": {
      "text/plain": [
       "code_module\n",
       "AAA     3\n",
       "BBB    49\n",
       "CCC    11\n",
       "DDD    49\n",
       "EEE     7\n",
       "FFF    46\n",
       "dtype: int64"
      ]
     },
     "execution_count": 162,
     "metadata": {},
     "output_type": "execute_result"
    }
   ],
   "source": [
    "#кол-во неоцененных тестом преподавателем по предметам\n",
    "\n",
    "df_edu.query('score == -9999&weight>1').groupby(['code_module']).size()"
   ]
  },
  {
   "cell_type": "code",
   "execution_count": 165,
   "id": "901ca7b6-efde-4be9-b6c0-78fffc0c22df",
   "metadata": {},
   "outputs": [
    {
     "data": {
      "text/plain": [
       "95"
      ]
     },
     "execution_count": 165,
     "metadata": {},
     "output_type": "execute_result"
    }
   ],
   "source": [
    "#неоцененные тесты, студенты, которых снялись с тестов,таких 101 запись или 95 уникальных студентов\n",
    "\n",
    "# df_edu.query('score == -9999&date_unregistration==-9999')\n",
    "df_edu.query('score == -9999&date_unregistration==-9999').id_student.nunique()"
   ]
  },
  {
   "cell_type": "code",
   "execution_count": 168,
   "id": "07e4b75e-7f58-43eb-8ab1-85265ef815de",
   "metadata": {},
   "outputs": [
    {
     "data": {
      "text/html": [
       "<div>\n",
       "<style scoped>\n",
       "    .dataframe tbody tr th:only-of-type {\n",
       "        vertical-align: middle;\n",
       "    }\n",
       "\n",
       "    .dataframe tbody tr th {\n",
       "        vertical-align: top;\n",
       "    }\n",
       "\n",
       "    .dataframe thead th {\n",
       "        text-align: right;\n",
       "    }\n",
       "</style>\n",
       "<table border=\"1\" class=\"dataframe\">\n",
       "  <thead>\n",
       "    <tr style=\"text-align: right;\">\n",
       "      <th></th>\n",
       "      <th>code_module</th>\n",
       "      <th>code_presentation</th>\n",
       "      <th>id_student</th>\n",
       "      <th>date_registration</th>\n",
       "      <th>date_unregistration</th>\n",
       "      <th>module_presentation_length</th>\n",
       "      <th>id_assessment</th>\n",
       "      <th>date_submitted</th>\n",
       "      <th>is_banked</th>\n",
       "      <th>score</th>\n",
       "      <th>assessment_type</th>\n",
       "      <th>date</th>\n",
       "      <th>weight</th>\n",
       "    </tr>\n",
       "  </thead>\n",
       "  <tbody>\n",
       "    <tr>\n",
       "      <th>18500</th>\n",
       "      <td>BBB</td>\n",
       "      <td>2013J</td>\n",
       "      <td>501208</td>\n",
       "      <td>-46.0</td>\n",
       "      <td>-9999.0</td>\n",
       "      <td>268</td>\n",
       "      <td>14997.0</td>\n",
       "      <td>-1.0</td>\n",
       "      <td>1.0</td>\n",
       "      <td>-9999.0</td>\n",
       "      <td>TMA</td>\n",
       "      <td>47.0</td>\n",
       "      <td>18.0</td>\n",
       "    </tr>\n",
       "    <tr>\n",
       "      <th>75813</th>\n",
       "      <td>DDD</td>\n",
       "      <td>2013B</td>\n",
       "      <td>555297</td>\n",
       "      <td>-25.0</td>\n",
       "      <td>5.0</td>\n",
       "      <td>240</td>\n",
       "      <td>25334.0</td>\n",
       "      <td>-2.0</td>\n",
       "      <td>0.0</td>\n",
       "      <td>-9999.0</td>\n",
       "      <td>TMA</td>\n",
       "      <td>25.0</td>\n",
       "      <td>7.5</td>\n",
       "    </tr>\n",
       "  </tbody>\n",
       "</table>\n",
       "</div>"
      ],
      "text/plain": [
       "      code_module code_presentation  id_student  date_registration  \\\n",
       "18500         BBB             2013J      501208              -46.0   \n",
       "75813         DDD             2013B      555297              -25.0   \n",
       "\n",
       "       date_unregistration  module_presentation_length  id_assessment  \\\n",
       "18500              -9999.0                         268        14997.0   \n",
       "75813                  5.0                         240        25334.0   \n",
       "\n",
       "       date_submitted  is_banked   score assessment_type  date  weight  \n",
       "18500            -1.0        1.0 -9999.0             TMA  47.0    18.0  \n",
       "75813            -2.0        0.0 -9999.0             TMA  25.0     7.5  "
      ]
     },
     "execution_count": 168,
     "metadata": {},
     "output_type": "execute_result"
    }
   ],
   "source": [
    "df_edu.query('score == -9999&date_submitted<0')"
   ]
  },
  {
   "cell_type": "code",
   "execution_count": 195,
   "id": "458c8d1f-ad4d-4c23-bf55-642139b05583",
   "metadata": {},
   "outputs": [
    {
     "data": {
      "text/html": [
       "<div>\n",
       "<style scoped>\n",
       "    .dataframe tbody tr th:only-of-type {\n",
       "        vertical-align: middle;\n",
       "    }\n",
       "\n",
       "    .dataframe tbody tr th {\n",
       "        vertical-align: top;\n",
       "    }\n",
       "\n",
       "    .dataframe thead th {\n",
       "        text-align: right;\n",
       "    }\n",
       "</style>\n",
       "<table border=\"1\" class=\"dataframe\">\n",
       "  <thead>\n",
       "    <tr style=\"text-align: right;\">\n",
       "      <th></th>\n",
       "      <th>code_module</th>\n",
       "      <th>code_presentation</th>\n",
       "      <th>id_student</th>\n",
       "      <th>date_registration</th>\n",
       "      <th>date_unregistration</th>\n",
       "      <th>module_presentation_length</th>\n",
       "      <th>id_assessment</th>\n",
       "      <th>date_submitted</th>\n",
       "      <th>is_banked</th>\n",
       "      <th>score</th>\n",
       "      <th>assessment_type</th>\n",
       "      <th>date</th>\n",
       "      <th>weight</th>\n",
       "    </tr>\n",
       "  </thead>\n",
       "  <tbody>\n",
       "    <tr>\n",
       "      <th>40274</th>\n",
       "      <td>BBB</td>\n",
       "      <td>2014J</td>\n",
       "      <td>114402</td>\n",
       "      <td>-9.0</td>\n",
       "      <td>-9999.0</td>\n",
       "      <td>269</td>\n",
       "      <td>15020.0</td>\n",
       "      <td>-4.0</td>\n",
       "      <td>0.0</td>\n",
       "      <td>100.0</td>\n",
       "      <td>TMA</td>\n",
       "      <td>19.0</td>\n",
       "      <td>0.0</td>\n",
       "    </tr>\n",
       "    <tr>\n",
       "      <th>40423</th>\n",
       "      <td>BBB</td>\n",
       "      <td>2014J</td>\n",
       "      <td>191973</td>\n",
       "      <td>-87.0</td>\n",
       "      <td>-9999.0</td>\n",
       "      <td>269</td>\n",
       "      <td>15020.0</td>\n",
       "      <td>-5.0</td>\n",
       "      <td>0.0</td>\n",
       "      <td>1.0</td>\n",
       "      <td>TMA</td>\n",
       "      <td>19.0</td>\n",
       "      <td>0.0</td>\n",
       "    </tr>\n",
       "    <tr>\n",
       "      <th>41510</th>\n",
       "      <td>BBB</td>\n",
       "      <td>2014J</td>\n",
       "      <td>534428</td>\n",
       "      <td>-81.0</td>\n",
       "      <td>-9999.0</td>\n",
       "      <td>269</td>\n",
       "      <td>15020.0</td>\n",
       "      <td>-3.0</td>\n",
       "      <td>0.0</td>\n",
       "      <td>1.0</td>\n",
       "      <td>TMA</td>\n",
       "      <td>19.0</td>\n",
       "      <td>0.0</td>\n",
       "    </tr>\n",
       "    <tr>\n",
       "      <th>41986</th>\n",
       "      <td>BBB</td>\n",
       "      <td>2014J</td>\n",
       "      <td>577467</td>\n",
       "      <td>-51.0</td>\n",
       "      <td>-9999.0</td>\n",
       "      <td>269</td>\n",
       "      <td>15020.0</td>\n",
       "      <td>-3.0</td>\n",
       "      <td>0.0</td>\n",
       "      <td>100.0</td>\n",
       "      <td>TMA</td>\n",
       "      <td>19.0</td>\n",
       "      <td>0.0</td>\n",
       "    </tr>\n",
       "    <tr>\n",
       "      <th>42106</th>\n",
       "      <td>BBB</td>\n",
       "      <td>2014J</td>\n",
       "      <td>582460</td>\n",
       "      <td>-70.0</td>\n",
       "      <td>-9999.0</td>\n",
       "      <td>269</td>\n",
       "      <td>15020.0</td>\n",
       "      <td>-2.0</td>\n",
       "      <td>0.0</td>\n",
       "      <td>100.0</td>\n",
       "      <td>TMA</td>\n",
       "      <td>19.0</td>\n",
       "      <td>0.0</td>\n",
       "    </tr>\n",
       "    <tr>\n",
       "      <th>...</th>\n",
       "      <td>...</td>\n",
       "      <td>...</td>\n",
       "      <td>...</td>\n",
       "      <td>...</td>\n",
       "      <td>...</td>\n",
       "      <td>...</td>\n",
       "      <td>...</td>\n",
       "      <td>...</td>\n",
       "      <td>...</td>\n",
       "      <td>...</td>\n",
       "      <td>...</td>\n",
       "      <td>...</td>\n",
       "      <td>...</td>\n",
       "    </tr>\n",
       "    <tr>\n",
       "      <th>153197</th>\n",
       "      <td>FFF</td>\n",
       "      <td>2014J</td>\n",
       "      <td>598540</td>\n",
       "      <td>-153.0</td>\n",
       "      <td>-9999.0</td>\n",
       "      <td>269</td>\n",
       "      <td>34905.0</td>\n",
       "      <td>-2.0</td>\n",
       "      <td>0.0</td>\n",
       "      <td>75.0</td>\n",
       "      <td>CMA</td>\n",
       "      <td>241.0</td>\n",
       "      <td>0.0</td>\n",
       "    </tr>\n",
       "    <tr>\n",
       "      <th>154157</th>\n",
       "      <td>FFF</td>\n",
       "      <td>2014J</td>\n",
       "      <td>625802</td>\n",
       "      <td>-44.0</td>\n",
       "      <td>-9999.0</td>\n",
       "      <td>269</td>\n",
       "      <td>34904.0</td>\n",
       "      <td>-2.0</td>\n",
       "      <td>0.0</td>\n",
       "      <td>66.0</td>\n",
       "      <td>CMA</td>\n",
       "      <td>241.0</td>\n",
       "      <td>0.0</td>\n",
       "    </tr>\n",
       "    <tr>\n",
       "      <th>156360</th>\n",
       "      <td>FFF</td>\n",
       "      <td>2014J</td>\n",
       "      <td>646540</td>\n",
       "      <td>-24.0</td>\n",
       "      <td>-9999.0</td>\n",
       "      <td>269</td>\n",
       "      <td>34904.0</td>\n",
       "      <td>-2.0</td>\n",
       "      <td>0.0</td>\n",
       "      <td>100.0</td>\n",
       "      <td>CMA</td>\n",
       "      <td>241.0</td>\n",
       "      <td>0.0</td>\n",
       "    </tr>\n",
       "    <tr>\n",
       "      <th>158345</th>\n",
       "      <td>FFF</td>\n",
       "      <td>2014J</td>\n",
       "      <td>654834</td>\n",
       "      <td>-129.0</td>\n",
       "      <td>-9999.0</td>\n",
       "      <td>269</td>\n",
       "      <td>34904.0</td>\n",
       "      <td>-2.0</td>\n",
       "      <td>0.0</td>\n",
       "      <td>83.0</td>\n",
       "      <td>CMA</td>\n",
       "      <td>241.0</td>\n",
       "      <td>0.0</td>\n",
       "    </tr>\n",
       "    <tr>\n",
       "      <th>164524</th>\n",
       "      <td>FFF</td>\n",
       "      <td>2014J</td>\n",
       "      <td>2459292</td>\n",
       "      <td>-29.0</td>\n",
       "      <td>-9999.0</td>\n",
       "      <td>269</td>\n",
       "      <td>34904.0</td>\n",
       "      <td>-2.0</td>\n",
       "      <td>0.0</td>\n",
       "      <td>100.0</td>\n",
       "      <td>CMA</td>\n",
       "      <td>241.0</td>\n",
       "      <td>0.0</td>\n",
       "    </tr>\n",
       "  </tbody>\n",
       "</table>\n",
       "<p>81 rows × 13 columns</p>\n",
       "</div>"
      ],
      "text/plain": [
       "       code_module code_presentation  id_student  date_registration  \\\n",
       "40274          BBB             2014J      114402               -9.0   \n",
       "40423          BBB             2014J      191973              -87.0   \n",
       "41510          BBB             2014J      534428              -81.0   \n",
       "41986          BBB             2014J      577467              -51.0   \n",
       "42106          BBB             2014J      582460              -70.0   \n",
       "...            ...               ...         ...                ...   \n",
       "153197         FFF             2014J      598540             -153.0   \n",
       "154157         FFF             2014J      625802              -44.0   \n",
       "156360         FFF             2014J      646540              -24.0   \n",
       "158345         FFF             2014J      654834             -129.0   \n",
       "164524         FFF             2014J     2459292              -29.0   \n",
       "\n",
       "        date_unregistration  module_presentation_length  id_assessment  \\\n",
       "40274               -9999.0                         269        15020.0   \n",
       "40423               -9999.0                         269        15020.0   \n",
       "41510               -9999.0                         269        15020.0   \n",
       "41986               -9999.0                         269        15020.0   \n",
       "42106               -9999.0                         269        15020.0   \n",
       "...                     ...                         ...            ...   \n",
       "153197              -9999.0                         269        34905.0   \n",
       "154157              -9999.0                         269        34904.0   \n",
       "156360              -9999.0                         269        34904.0   \n",
       "158345              -9999.0                         269        34904.0   \n",
       "164524              -9999.0                         269        34904.0   \n",
       "\n",
       "        date_submitted  is_banked  score assessment_type   date  weight  \n",
       "40274             -4.0        0.0  100.0             TMA   19.0     0.0  \n",
       "40423             -5.0        0.0    1.0             TMA   19.0     0.0  \n",
       "41510             -3.0        0.0    1.0             TMA   19.0     0.0  \n",
       "41986             -3.0        0.0  100.0             TMA   19.0     0.0  \n",
       "42106             -2.0        0.0  100.0             TMA   19.0     0.0  \n",
       "...                ...        ...    ...             ...    ...     ...  \n",
       "153197            -2.0        0.0   75.0             CMA  241.0     0.0  \n",
       "154157            -2.0        0.0   66.0             CMA  241.0     0.0  \n",
       "156360            -2.0        0.0  100.0             CMA  241.0     0.0  \n",
       "158345            -2.0        0.0   83.0             CMA  241.0     0.0  \n",
       "164524            -2.0        0.0  100.0             CMA  241.0     0.0  \n",
       "\n",
       "[81 rows x 13 columns]"
      ]
     },
     "execution_count": 195,
     "metadata": {},
     "output_type": "execute_result"
    }
   ],
   "source": [
    "#список тестов, которые были засчитаны до начала семестра у студентов, которые закончили предмет\n",
    "\n",
    "df_edu.query('date_unregistration == -9999&date_submitted<-1&is_banked==0&weight==0')"
   ]
  },
  {
   "cell_type": "markdown",
   "id": "ec06379d-152a-4e44-87df-885510013d63",
   "metadata": {
    "tags": []
   },
   "source": [
    "### 8. Задание 1<a name = \"task_1\">"
   ]
  },
  {
   "cell_type": "markdown",
   "id": "138b65f7-c190-4b63-a055-2114ef77a52a",
   "metadata": {},
   "source": [
    "**Сколько студентов успешно сдали только один курс? (Успешная сдача — это зачёт по курсу на экзамене)**\n",
    "\n",
    "- assessment_type - содержит Exam - экзамен по курсу\n",
    "- weight - вес теста\n",
    "- score - содержит оценку за экзамен по курсу, если она меньше 40 то курс не сдан\n",
    "- id_student - индивидуальный номер студента\n",
    "\n",
    "Перед, решила убедится, что каждом id_assessment есть только один экзамен<br>\n",
    "Отбираем только те записи, где значение в Exam в assessment_type больше либо равно 40, чтобы считать только зачтенные курсы, дополнительно отфильтруем по weight , так как знаем, что 100 % - это значение для экзамена.<br>\n",
    "Группируюсь по студентам, чтобы посчитать количество сданных курсов у каждого.<br>\n",
    "Потом отбираю, только тех студентов, у которых кол-во сданных экзаментов, только 1"
   ]
  },
  {
   "cell_type": "markdown",
   "id": "489eefc1-6a5e-4f89-aa75-10fec385f6a9",
   "metadata": {
    "tags": []
   },
   "source": [
    "#### 8.1 Формулирование определения курса <a name = \"task_1_course_def\">"
   ]
  },
  {
   "cell_type": "markdown",
   "id": "d13868df-815e-4cfe-8312-ea84bb9d63db",
   "metadata": {},
   "source": [
    "- визуализируем как распределяются баллы по тестам, в отдельном семестре, по каждому предмету\n",
    "- распределния унимодальные, однако есть много  одинаковых пиков по сдаче тестов CMA и в семестре 2014J по предмету BBB, есть большое количество тех кто сдал на 100 балов и тех, кто сдал на 0. Однако, мы выяснили, что вес в этом тесте не равен 0.\n",
    "- визуально отметка в 40 баллов, как результат успешной сдачи - справедлива."
   ]
  },
  {
   "cell_type": "code",
   "execution_count": 88,
   "id": "9eca56c4-378d-4925-8772-b1241524520b",
   "metadata": {
    "jupyter": {
     "source_hidden": true
    },
    "tags": []
   },
   "outputs": [
    {
     "data": {
      "image/png": "[encoded data removed]",
      "text/plain": [
       "<Figure size 2160x360 with 2 Axes>"
      ]
     },
     "metadata": {
      "needs_background": "light"
     },
     "output_type": "display_data"
    }
   ],
   "source": [
    "fig, axes = plt.subplots(nrows = 1, ncols=2, figsize = (30,5), sharey=True)\n",
    "\n",
    "semes = ['2013J', '2014J']\n",
    "\n",
    "for i, j in zip(semes, axes.flatten()):\n",
    "        presentation = i\n",
    "        sns.histplot(data = df_edu.query('score>=0&code_presentation == @presentation&code_module ==\"AAA\"'), x = 'score', ax = j,  hue = 'assessment_type', stat ='count')\n",
    "        j.set_title(presentation+' ' + 'AAA', fontsize = 13)\n",
    "plt.show()"
   ]
  },
  {
   "cell_type": "code",
   "execution_count": 89,
   "id": "cf4665f9-4534-46fa-acd3-22d7e6ef16d1",
   "metadata": {
    "jupyter": {
     "source_hidden": true
    },
    "tags": []
   },
   "outputs": [
    {
     "data": {
      "image/png": "[encoded data removed]",
      "text/plain": [
       "<Figure size 2160x360 with 4 Axes>"
      ]
     },
     "metadata": {
      "needs_background": "light"
     },
     "output_type": "display_data"
    }
   ],
   "source": [
    "fig, axes = plt.subplots(nrows = 1, ncols=4, figsize = (30,5), sharey=True)\n",
    "\n",
    "semes = ['2013B', '2013J', '2014B', '2014J']\n",
    "\n",
    "for i, j in zip(semes, axes.flatten()):\n",
    "        presentation = i\n",
    "        sns.histplot(data = df_edu.query('score>=0&code_presentation == @presentation&code_module ==\"BBB\"'), x = 'score', ax = j,  hue = 'assessment_type', stat ='count', hue_order= ['Exam', 'TMA', 'CMA'])\n",
    "        j.set_title(presentation+' ' + 'BBB', fontsize = 13)\n",
    "\n",
    "plt.show()"
   ]
  },
  {
   "cell_type": "code",
   "execution_count": 90,
   "id": "1bbaeeb8-c6a2-45e3-b800-89f50669125d",
   "metadata": {
    "jupyter": {
     "source_hidden": true
    },
    "tags": []
   },
   "outputs": [
    {
     "data": {
      "image/png": "[encoded data removed]",
      "text/plain": [
       "<Figure size 2160x360 with 2 Axes>"
      ]
     },
     "metadata": {
      "needs_background": "light"
     },
     "output_type": "display_data"
    }
   ],
   "source": [
    "fig, axes = plt.subplots(nrows = 1, ncols=2, figsize = (30,5), sharey=True)\n",
    "\n",
    "semes = ['2014B', '2014J']\n",
    "\n",
    "for i, j in zip(semes, axes.flatten()):\n",
    "        presentation = i\n",
    "        sns.histplot(data = df_edu.query('score>=0&code_presentation == @presentation&code_module ==\"CCC\"'), x = 'score', ax = j,  hue = 'assessment_type', stat ='count', bins = 100, hue_order= ['Exam', 'TMA', 'CMA'])\n",
    "        j.set_title(presentation+' ' + 'CCC', fontsize = 13)\n",
    "\n",
    "# fig.delaxes(axes[0])\n",
    "# fig.delaxes(axes[2])\n",
    "plt.show()"
   ]
  },
  {
   "cell_type": "code",
   "execution_count": 91,
   "id": "bfddb401-bd53-45ff-bfb1-f019d63aa8b5",
   "metadata": {
    "jupyter": {
     "source_hidden": true
    },
    "tags": []
   },
   "outputs": [
    {
     "data": {
      "image/png": "[encoded data removed]",
      "text/plain": [
       "<Figure size 2160x360 with 4 Axes>"
      ]
     },
     "metadata": {
      "needs_background": "light"
     },
     "output_type": "display_data"
    }
   ],
   "source": [
    "fig, axes = plt.subplots(nrows = 1, ncols=4, figsize = (30,5), sharey=True)\n",
    "\n",
    "semes = ['2013B', '2013J', '2014B', '2014J']\n",
    "\n",
    "for i, j in zip(semes, axes.flatten()):\n",
    "        presentation = i\n",
    "        sns.histplot(data = df_edu.query('score>=0&code_presentation == @presentation&code_module ==\"DDD\"'), x = 'score', ax = j,  hue = 'assessment_type', stat ='count', hue_order= ['Exam', 'TMA', 'CMA'], bins = 100)\n",
    "        j.set_title(presentation+' ' + 'DDD', fontsize = 13)\n",
    "\n",
    "plt.show()"
   ]
  },
  {
   "cell_type": "code",
   "execution_count": 92,
   "id": "e9759479-b020-4ae6-bbe8-0099502608da",
   "metadata": {
    "jupyter": {
     "source_hidden": true
    },
    "tags": []
   },
   "outputs": [
    {
     "data": {
      "image/png": "[encoded data removed]",
      "text/plain": [
       "<Figure size 2160x360 with 3 Axes>"
      ]
     },
     "metadata": {
      "needs_background": "light"
     },
     "output_type": "display_data"
    }
   ],
   "source": [
    "fig, axes = plt.subplots(nrows = 1, ncols=3, figsize = (30,5), sharey=True)\n",
    "\n",
    "semes = ['2013J', '2014B', '2014J']\n",
    "\n",
    "for i, j in zip(semes, axes.flatten()):\n",
    "        presentation = i\n",
    "        sns.histplot(data = df_edu.query('score>=0&code_presentation == @presentation&code_module ==\"EEE\"'), x = 'score', ax = j,  hue = 'assessment_type', stat ='count', hue_order= ['Exam', 'TMA', 'CMA'], bins = 100)\n",
    "        j.set_title(presentation+' ' + 'EEE', fontsize = 13)\n",
    "# fig.delaxes(axes[2])\n",
    "plt.show()"
   ]
  },
  {
   "cell_type": "code",
   "execution_count": 93,
   "id": "4935af2a-35e8-4ff5-8f83-f053fccb9259",
   "metadata": {
    "jupyter": {
     "source_hidden": true
    },
    "tags": []
   },
   "outputs": [
    {
     "data": {
      "image/png": "[encoded data removed]",
      "text/plain": [
       "<Figure size 2160x360 with 3 Axes>"
      ]
     },
     "metadata": {
      "needs_background": "light"
     },
     "output_type": "display_data"
    }
   ],
   "source": [
    "fig, axes = plt.subplots(nrows = 1, ncols=3, figsize = (30,5), sharey=True)\n",
    "\n",
    "semes = ['2013J', '2014B', '2014J']\n",
    "\n",
    "for i, j in zip(semes, axes.flatten()):\n",
    "        presentation = i\n",
    "        sns.histplot(data = df_edu.query('score>=0&code_presentation == @presentation&code_module ==\"FFF\"'), x = 'score', ax = j, hue = 'assessment_type', stat ='count', hue_order= ['Exam', 'TMA', 'CMA'], bins=100)\n",
    "        j.set_title(presentation+' ' + 'FFF', fontsize = 13)\n",
    "# fig.delaxes(axes[2])\n",
    "plt.show()"
   ]
  },
  {
   "cell_type": "code",
   "execution_count": 94,
   "id": "f29960c5-0779-4893-b4a0-07bd3ab46ab0",
   "metadata": {
    "jupyter": {
     "source_hidden": true
    },
    "tags": []
   },
   "outputs": [
    {
     "data": {
      "image/png": "[encoded data removed]",
      "text/plain": [
       "<Figure size 2160x360 with 3 Axes>"
      ]
     },
     "metadata": {
      "needs_background": "light"
     },
     "output_type": "display_data"
    }
   ],
   "source": [
    "fig, axes = plt.subplots(nrows = 1, ncols=3, figsize = (30,5), sharey=True)\n",
    "\n",
    "semes = ['2013J', '2014B', '2014J']\n",
    "\n",
    "for i, j in zip(semes, axes.flatten()):\n",
    "        presentation = i\n",
    "        sns.histplot(data = df_edu.query('score>=0&code_presentation == @presentation&code_module ==\"GGG\"'), x = 'score', ax = j, hue = 'assessment_type', stat ='count', hue_order= ['Exam', 'TMA', 'CMA'], bins=100)\n",
    "        j.set_title(presentation+' ' + 'GGG', fontsize = 13)\n",
    "# fig.delaxes(axes[2])\n",
    "plt.show()"
   ]
  },
  {
   "cell_type": "markdown",
   "id": "4e5ec32f-d198-4451-8eb1-311ff24d10e8",
   "metadata": {},
   "source": [
    "- оценка CMA, по предмету BBB имеют округление, судя по всему тест можно сдать только на 0, 20, 40, 60, 80, 100 баллов.\n",
    "- при проверке веса экзамена, оказывается, что он имеет малый вес, возможно, это означает, что он очень легкий."
   ]
  },
  {
   "cell_type": "code",
   "execution_count": 95,
   "id": "88d4ed73-1972-487d-b229-b6afa539a145",
   "metadata": {
    "tags": []
   },
   "outputs": [
    {
     "data": {
      "text/plain": [
       "assessment_type  score\n",
       "CMA              100.0    9494\n",
       "                 80.0     4170\n",
       "                 60.0     1649\n",
       "                 40.0      529\n",
       "                 20.0      100\n",
       "                 0.0        16\n",
       "dtype: int64"
      ]
     },
     "metadata": {},
     "output_type": "display_data"
    },
    {
     "data": {
      "text/plain": [
       "assessment_type  score  weight\n",
       "CMA              100.0  1.0       9494\n",
       "                 80.0   1.0       4170\n",
       "                 60.0   1.0       1649\n",
       "                 40.0   1.0        529\n",
       "                 20.0   1.0        100\n",
       "                 0.0    1.0         16\n",
       "dtype: int64"
      ]
     },
     "metadata": {},
     "output_type": "display_data"
    }
   ],
   "source": [
    "#количество оценок по CMA по предмету BBB\n",
    "\n",
    "display(df_edu.query('code_module ==\"BBB\"&assessment_type==\"CMA\"').groupby(['assessment_type', 'score']).size().sort_values(ascending = False))\n",
    "\n",
    "#вес тестов и кол-во отправленных тестов\n",
    "\n",
    "display(df_edu.query('code_module ==\"BBB\"&assessment_type==\"CMA\"').groupby(['assessment_type', 'score', 'weight']).size().sort_values(ascending = False))"
   ]
  },
  {
   "cell_type": "markdown",
   "id": "f0a20162-94e8-4ac5-9623-4b55f550b981",
   "metadata": {},
   "source": [
    "- оценка CMA, по предмету ССС более разнообразны, но по графикам тоже есть пики с высоким кол-ом сдачи на определенный балл.\n",
    "- при проверке веса экзамена, вес тоже разнообразный, но веса по прежнему не очень высокие, максимальный вес 8%."
   ]
  },
  {
   "cell_type": "code",
   "execution_count": 96,
   "id": "ece8cf99-06c5-4071-aae7-41f4f091c4aa",
   "metadata": {
    "tags": []
   },
   "outputs": [
    {
     "data": {
      "text/plain": [
       "assessment_type  score\n",
       "CMA              100.0    1220\n",
       "                 89.0      544\n",
       "                 78.0      448\n",
       "                 67.0      357\n",
       "                 96.0      314\n",
       "                          ... \n",
       "                 18.0        3\n",
       "                 14.0        2\n",
       "                 5.0         1\n",
       "                 16.0        1\n",
       "                 99.0        1\n",
       "Length: 98, dtype: int64"
      ]
     },
     "metadata": {},
     "output_type": "display_data"
    },
    {
     "data": {
      "text/html": [
       "<div>\n",
       "<style scoped>\n",
       "    .dataframe tbody tr th:only-of-type {\n",
       "        vertical-align: middle;\n",
       "    }\n",
       "\n",
       "    .dataframe tbody tr th {\n",
       "        vertical-align: top;\n",
       "    }\n",
       "\n",
       "    .dataframe thead th {\n",
       "        text-align: right;\n",
       "    }\n",
       "</style>\n",
       "<table border=\"1\" class=\"dataframe\">\n",
       "  <thead>\n",
       "    <tr style=\"text-align: right;\">\n",
       "      <th></th>\n",
       "      <th>assessment_type</th>\n",
       "      <th>score</th>\n",
       "      <th>weight</th>\n",
       "      <th>id_student</th>\n",
       "    </tr>\n",
       "  </thead>\n",
       "  <tbody>\n",
       "    <tr>\n",
       "      <th>207</th>\n",
       "      <td>CMA</td>\n",
       "      <td>100.0</td>\n",
       "      <td>8.0</td>\n",
       "      <td>363</td>\n",
       "    </tr>\n",
       "    <tr>\n",
       "      <th>74</th>\n",
       "      <td>CMA</td>\n",
       "      <td>39.0</td>\n",
       "      <td>8.0</td>\n",
       "      <td>18</td>\n",
       "    </tr>\n",
       "    <tr>\n",
       "      <th>155</th>\n",
       "      <td>CMA</td>\n",
       "      <td>76.0</td>\n",
       "      <td>8.0</td>\n",
       "      <td>29</td>\n",
       "    </tr>\n",
       "    <tr>\n",
       "      <th>88</th>\n",
       "      <td>CMA</td>\n",
       "      <td>45.0</td>\n",
       "      <td>8.0</td>\n",
       "      <td>5</td>\n",
       "    </tr>\n",
       "    <tr>\n",
       "      <th>86</th>\n",
       "      <td>CMA</td>\n",
       "      <td>44.0</td>\n",
       "      <td>8.0</td>\n",
       "      <td>21</td>\n",
       "    </tr>\n",
       "    <tr>\n",
       "      <th>...</th>\n",
       "      <td>...</td>\n",
       "      <td>...</td>\n",
       "      <td>...</td>\n",
       "      <td>...</td>\n",
       "    </tr>\n",
       "    <tr>\n",
       "      <th>60</th>\n",
       "      <td>CMA</td>\n",
       "      <td>33.0</td>\n",
       "      <td>2.0</td>\n",
       "      <td>60</td>\n",
       "    </tr>\n",
       "    <tr>\n",
       "      <th>158</th>\n",
       "      <td>CMA</td>\n",
       "      <td>78.0</td>\n",
       "      <td>2.0</td>\n",
       "      <td>351</td>\n",
       "    </tr>\n",
       "    <tr>\n",
       "      <th>84</th>\n",
       "      <td>CMA</td>\n",
       "      <td>44.0</td>\n",
       "      <td>2.0</td>\n",
       "      <td>102</td>\n",
       "    </tr>\n",
       "    <tr>\n",
       "      <th>163</th>\n",
       "      <td>CMA</td>\n",
       "      <td>80.0</td>\n",
       "      <td>2.0</td>\n",
       "      <td>192</td>\n",
       "    </tr>\n",
       "    <tr>\n",
       "      <th>0</th>\n",
       "      <td>CMA</td>\n",
       "      <td>0.0</td>\n",
       "      <td>2.0</td>\n",
       "      <td>64</td>\n",
       "    </tr>\n",
       "  </tbody>\n",
       "</table>\n",
       "<p>208 rows × 4 columns</p>\n",
       "</div>"
      ],
      "text/plain": [
       "    assessment_type  score  weight  id_student\n",
       "207             CMA  100.0     8.0         363\n",
       "74              CMA   39.0     8.0          18\n",
       "155             CMA   76.0     8.0          29\n",
       "88              CMA   45.0     8.0           5\n",
       "86              CMA   44.0     8.0          21\n",
       "..              ...    ...     ...         ...\n",
       "60              CMA   33.0     2.0          60\n",
       "158             CMA   78.0     2.0         351\n",
       "84              CMA   44.0     2.0         102\n",
       "163             CMA   80.0     2.0         192\n",
       "0               CMA    0.0     2.0          64\n",
       "\n",
       "[208 rows x 4 columns]"
      ]
     },
     "metadata": {},
     "output_type": "display_data"
    }
   ],
   "source": [
    "#количество оценок по CMA по предмету CCC\n",
    "\n",
    "display(df_edu.query('code_module ==\"CCC\"&assessment_type==\"CMA\"').groupby(['assessment_type', 'score']).size().sort_values(ascending = False))\n",
    "\n",
    "#вес тестов и кол-во отправленных тестов\n",
    "\n",
    "display(df_edu.query('code_module ==\"CCC\"&assessment_type==\"CMA\"').groupby(['assessment_type', 'score', 'weight'], as_index = False).agg({'id_student' : 'count'}).sort_values(by = 'weight', ascending = False))"
   ]
  },
  {
   "cell_type": "markdown",
   "id": "8a60294a-9469-4012-aa64-6b9161a8dfc9",
   "metadata": {},
   "source": [
    "- оценка CMA, по предмету GGG более разнообразны, но по графикам тоже есть пики с высоким кол-ом сдачи на определенный балл.\n",
    "- при проверке веса экзамена, вес всех тестов 0%."
   ]
  },
  {
   "cell_type": "code",
   "execution_count": 97,
   "id": "c3e7753c-07ab-443f-8471-99fc47f806a0",
   "metadata": {
    "tags": []
   },
   "outputs": [
    {
     "data": {
      "text/plain": [
       "assessment_type  score\n",
       "CMA              100.0    5327\n",
       "                 80.0     2558\n",
       "                 60.0     1071\n",
       "                 40.0      337\n",
       "                 20.0       97\n",
       "                 72.0       39\n",
       "                 0.0        35\n",
       "                 52.0       24\n",
       "                 92.0       13\n",
       "                 48.0       11\n",
       "                 32.0       10\n",
       "                 88.0        9\n",
       "                 68.0        8\n",
       "                 64.0        5\n",
       "                 44.0        4\n",
       "                 84.0        4\n",
       "                 12.0        3\n",
       "                 4.0         2\n",
       "                 28.0        2\n",
       "dtype: int64"
      ]
     },
     "metadata": {},
     "output_type": "display_data"
    },
    {
     "data": {
      "text/plain": [
       "assessment_type  score  weight\n",
       "CMA              100.0  0.0       5327\n",
       "                 80.0   0.0       2558\n",
       "                 60.0   0.0       1071\n",
       "                 40.0   0.0        337\n",
       "                 20.0   0.0         97\n",
       "                 72.0   0.0         39\n",
       "                 0.0    0.0         35\n",
       "                 52.0   0.0         24\n",
       "                 92.0   0.0         13\n",
       "                 48.0   0.0         11\n",
       "                 32.0   0.0         10\n",
       "                 88.0   0.0          9\n",
       "                 68.0   0.0          8\n",
       "                 64.0   0.0          5\n",
       "                 44.0   0.0          4\n",
       "                 84.0   0.0          4\n",
       "                 12.0   0.0          3\n",
       "                 4.0    0.0          2\n",
       "                 28.0   0.0          2\n",
       "dtype: int64"
      ]
     },
     "metadata": {},
     "output_type": "display_data"
    }
   ],
   "source": [
    "#количество оценок по CMA по предмету GGG \n",
    "\n",
    "display(df_edu.query('code_module ==\"GGG\"&assessment_type==\"CMA\"').groupby(['assessment_type', 'score']).size().sort_values(ascending = False))\n",
    "\n",
    "#вес тестов и кол-во отправленных тестов\n",
    "display(df_edu.query('code_module ==\"GGG\"&assessment_type==\"CMA\"').groupby(['assessment_type', 'score', 'weight']).size().sort_values(ascending = False))"
   ]
  },
  {
   "cell_type": "markdown",
   "id": "efe878cf-af72-47c2-9a6e-428afbc455df",
   "metadata": {},
   "source": [
    "- проверка сколько записей с весом = 0 - в объединенном df_edu, чтобы снять вопрос поставленный о 0 весе тестов.\n",
    "- кол-во тестов с весом 0, равно 27%\n",
    "- кол-во записей о том, что тест был сдан успешно score > 40 26 %"
   ]
  },
  {
   "cell_type": "code",
   "execution_count": 98,
   "id": "f6917dda-c267-48f3-8ed9-8cca37127e21",
   "metadata": {},
   "outputs": [
    {
     "name": "stdout",
     "output_type": "stream",
     "text": [
      "Процент записей с weight = 0 : 27.02\n",
      "Процент записей с weight = 0 : 26.12\n"
     ]
    }
   ],
   "source": [
    "#процент тестов с весом 0\n",
    "print(f'Процент записей с weight = 0 : {np.round(df_edu.query(\"weight==0\").weight.count()/len(df_edu.weight)*100,2)}')\n",
    "\n",
    "#процент успешных сдачь теста с весом 0\n",
    "print(f'Процент записей с weight = 0 : {np.round(df_edu.query(\"weight==0&score>40\").weight.count()/len(df_edu.weight)*100,2)}')"
   ]
  },
  {
   "cell_type": "markdown",
   "id": "96bbd80f-cb1d-4c0a-b2f0-61227271c062",
   "metadata": {},
   "source": [
    "- распределение баллов по семестрам."
   ]
  },
  {
   "cell_type": "code",
   "execution_count": 99,
   "id": "e180f3cb-b320-4ed9-857f-e63c1bf623a9",
   "metadata": {
    "jupyter": {
     "source_hidden": true
    },
    "tags": []
   },
   "outputs": [
    {
     "data": {
      "image/png": "[encoded data removed]",
      "text/plain": [
       "<Figure size 2160x360 with 4 Axes>"
      ]
     },
     "metadata": {
      "needs_background": "light"
     },
     "output_type": "display_data"
    }
   ],
   "source": [
    "\n",
    "fig, axes = plt.subplots(nrows = 1, ncols=4, figsize = (30,5), sharey=True)\n",
    "\n",
    "semes = ['2013B','2013J', '2014B', '2014J']\n",
    "\n",
    "for i, j in zip(semes, axes.flatten()):\n",
    "        presentation = i\n",
    "        sns.histplot(data = df_edu.query('score>=0&code_presentation == @presentation'), x = 'score', ax = j, hue = 'assessment_type', stat ='count', hue_order= ['Exam', 'TMA', 'CMA'], bins=100)\n",
    "        j.set_title(presentation+' ', fontsize = 13)\n",
    "# fig.delaxes(axes[2])\n",
    "plt.show()"
   ]
  },
  {
   "cell_type": "markdown",
   "id": "6ccb023a-cc73-4ae5-bfcd-59fbbd73259b",
   "metadata": {},
   "source": [
    "- кол-во и список предметов в семестре, что предположительно и является курсом"
   ]
  },
  {
   "cell_type": "code",
   "execution_count": 100,
   "id": "6dc516cd-008a-497f-99d0-37eb6887df12",
   "metadata": {
    "jupyter": {
     "source_hidden": true
    },
    "tags": []
   },
   "outputs": [
    {
     "data": {
      "image/png": "[encoded data removed]",
      "text/plain": [
       "<Figure size 2160x360 with 4 Axes>"
      ]
     },
     "metadata": {
      "needs_background": "light"
     },
     "output_type": "display_data"
    }
   ],
   "source": [
    "fig, axes = plt.subplots(nrows = 1, ncols=4, figsize = (30,5), sharey=True)\n",
    "\n",
    "semes = ['2013B','2013J', '2014B', '2014J']\n",
    "\n",
    "for i, j in zip(semes, axes.flatten()):\n",
    "        presentation = i\n",
    "        sns.histplot(data = df_edu.query('score>=0&code_presentation == @presentation'), x = 'code_module', ax = j, stat ='count', bins=100)\n",
    "        j.set_title(presentation+' ', fontsize = 13)\n",
    "# fig.delaxes(axes[2])\n",
    "plt.show()"
   ]
  },
  {
   "cell_type": "markdown",
   "id": "1f1f6da4-bc53-4c10-9f2f-ea4337f90e3a",
   "metadata": {},
   "source": [
    "- Проверим дублируются ли студенты в каждом следующем семестре.\n",
    "- Если они будут дублироваться в привалюрующем количестве, то логично предположить, что курс захватывает 2 семестра."
   ]
  },
  {
   "cell_type": "code",
   "execution_count": 148,
   "id": "57aa5bb5-cf6d-44d5-98ca-60101a45b42e",
   "metadata": {},
   "outputs": [
    {
     "data": {
      "text/plain": [
       "code_presentation\n",
       "2013B    3803\n",
       "2013J    7098\n",
       "2014B    5748\n",
       "2014J    8613\n",
       "Name: id_student, dtype: int64"
      ]
     },
     "execution_count": 148,
     "metadata": {},
     "output_type": "execute_result"
    }
   ],
   "source": [
    "df_edu.groupby('code_presentation')['id_student'].nunique()"
   ]
  },
  {
   "cell_type": "code",
   "execution_count": 149,
   "id": "473befae-8ea5-4af0-9b22-481af2ca0596",
   "metadata": {
    "tags": []
   },
   "outputs": [
    {
     "name": "stdout",
     "output_type": "stream",
     "text": [
      "Кол-во уникальных студентов: 3803\n"
     ]
    },
    {
     "data": {
      "text/html": [
       "<div>\n",
       "<style scoped>\n",
       "    .dataframe tbody tr th:only-of-type {\n",
       "        vertical-align: middle;\n",
       "    }\n",
       "\n",
       "    .dataframe tbody tr th {\n",
       "        vertical-align: top;\n",
       "    }\n",
       "\n",
       "    .dataframe thead th {\n",
       "        text-align: right;\n",
       "    }\n",
       "</style>\n",
       "<table border=\"1\" class=\"dataframe\">\n",
       "  <thead>\n",
       "    <tr style=\"text-align: right;\">\n",
       "      <th></th>\n",
       "      <th>id_student</th>\n",
       "      <th>id_assessment</th>\n",
       "    </tr>\n",
       "  </thead>\n",
       "  <tbody>\n",
       "    <tr>\n",
       "      <th>0</th>\n",
       "      <td>23629</td>\n",
       "      <td>4</td>\n",
       "    </tr>\n",
       "    <tr>\n",
       "      <th>1</th>\n",
       "      <td>25107</td>\n",
       "      <td>11</td>\n",
       "    </tr>\n",
       "    <tr>\n",
       "      <th>2</th>\n",
       "      <td>27891</td>\n",
       "      <td>6</td>\n",
       "    </tr>\n",
       "    <tr>\n",
       "      <th>3</th>\n",
       "      <td>29144</td>\n",
       "      <td>9</td>\n",
       "    </tr>\n",
       "    <tr>\n",
       "      <th>4</th>\n",
       "      <td>31663</td>\n",
       "      <td>11</td>\n",
       "    </tr>\n",
       "  </tbody>\n",
       "</table>\n",
       "</div>"
      ],
      "text/plain": [
       "   id_student  id_assessment\n",
       "0       23629              4\n",
       "1       25107             11\n",
       "2       27891              6\n",
       "3       29144              9\n",
       "4       31663             11"
      ]
     },
     "metadata": {},
     "output_type": "display_data"
    }
   ],
   "source": [
    "#уникальные студенты, которые учились в 2013B\n",
    "B_2013 = df_edu.query('code_presentation == \"2013B\"').groupby(['id_student'], as_index = False)['id_assessment'].count()\n",
    "\n",
    "print(f'Кол-во уникальных студентов: {B_2013.id_student.count()}')\n",
    "\n",
    "display(B_2013.head())"
   ]
  },
  {
   "cell_type": "code",
   "execution_count": 150,
   "id": "ea6fae6f-b40b-446d-90ad-bfa3fc75cc97",
   "metadata": {
    "tags": []
   },
   "outputs": [
    {
     "name": "stdout",
     "output_type": "stream",
     "text": [
      "Кол-во уникальных студентов: 7098\n"
     ]
    },
    {
     "data": {
      "text/html": [
       "<div>\n",
       "<style scoped>\n",
       "    .dataframe tbody tr th:only-of-type {\n",
       "        vertical-align: middle;\n",
       "    }\n",
       "\n",
       "    .dataframe tbody tr th {\n",
       "        vertical-align: top;\n",
       "    }\n",
       "\n",
       "    .dataframe thead th {\n",
       "        text-align: right;\n",
       "    }\n",
       "</style>\n",
       "<table border=\"1\" class=\"dataframe\">\n",
       "  <thead>\n",
       "    <tr style=\"text-align: right;\">\n",
       "      <th></th>\n",
       "      <th>id_student</th>\n",
       "      <th>id_assessment</th>\n",
       "    </tr>\n",
       "  </thead>\n",
       "  <tbody>\n",
       "    <tr>\n",
       "      <th>0</th>\n",
       "      <td>8462</td>\n",
       "      <td>3</td>\n",
       "    </tr>\n",
       "    <tr>\n",
       "      <th>1</th>\n",
       "      <td>11391</td>\n",
       "      <td>5</td>\n",
       "    </tr>\n",
       "    <tr>\n",
       "      <th>2</th>\n",
       "      <td>23798</td>\n",
       "      <td>11</td>\n",
       "    </tr>\n",
       "    <tr>\n",
       "      <th>3</th>\n",
       "      <td>24391</td>\n",
       "      <td>9</td>\n",
       "    </tr>\n",
       "    <tr>\n",
       "      <th>4</th>\n",
       "      <td>26023</td>\n",
       "      <td>9</td>\n",
       "    </tr>\n",
       "  </tbody>\n",
       "</table>\n",
       "</div>"
      ],
      "text/plain": [
       "   id_student  id_assessment\n",
       "0        8462              3\n",
       "1       11391              5\n",
       "2       23798             11\n",
       "3       24391              9\n",
       "4       26023              9"
      ]
     },
     "metadata": {},
     "output_type": "display_data"
    }
   ],
   "source": [
    "#уникальные студенты, которые учились в 2013J\n",
    "J_2013 = df_edu.query('code_presentation == \"2013J\"').groupby(['id_student'], as_index = False)['id_assessment'].count()\n",
    "\n",
    "print(f'Кол-во уникальных студентов: {J_2013.id_student.count()}')\n",
    "\n",
    "display(J_2013.head())"
   ]
  },
  {
   "cell_type": "code",
   "execution_count": 151,
   "id": "8e00925a-07dc-4c2b-8ae0-07aeb9041d74",
   "metadata": {
    "tags": []
   },
   "outputs": [
    {
     "data": {
      "text/html": [
       "<div>\n",
       "<style scoped>\n",
       "    .dataframe tbody tr th:only-of-type {\n",
       "        vertical-align: middle;\n",
       "    }\n",
       "\n",
       "    .dataframe tbody tr th {\n",
       "        vertical-align: top;\n",
       "    }\n",
       "\n",
       "    .dataframe thead th {\n",
       "        text-align: right;\n",
       "    }\n",
       "</style>\n",
       "<table border=\"1\" class=\"dataframe\">\n",
       "  <thead>\n",
       "    <tr style=\"text-align: right;\">\n",
       "      <th></th>\n",
       "      <th>id_student</th>\n",
       "      <th>id_assessment</th>\n",
       "    </tr>\n",
       "  </thead>\n",
       "  <tbody>\n",
       "    <tr>\n",
       "      <th>0</th>\n",
       "      <td>24186</td>\n",
       "      <td>8</td>\n",
       "    </tr>\n",
       "    <tr>\n",
       "      <th>1</th>\n",
       "      <td>24213</td>\n",
       "      <td>7</td>\n",
       "    </tr>\n",
       "    <tr>\n",
       "      <th>2</th>\n",
       "      <td>25150</td>\n",
       "      <td>4</td>\n",
       "    </tr>\n",
       "    <tr>\n",
       "      <th>3</th>\n",
       "      <td>25997</td>\n",
       "      <td>2</td>\n",
       "    </tr>\n",
       "    <tr>\n",
       "      <th>4</th>\n",
       "      <td>26211</td>\n",
       "      <td>12</td>\n",
       "    </tr>\n",
       "  </tbody>\n",
       "</table>\n",
       "</div>"
      ],
      "text/plain": [
       "   id_student  id_assessment\n",
       "0       24186              8\n",
       "1       24213              7\n",
       "2       25150              4\n",
       "3       25997              2\n",
       "4       26211             12"
      ]
     },
     "execution_count": 151,
     "metadata": {},
     "output_type": "execute_result"
    }
   ],
   "source": [
    "#уникальные студенты, которые учились в 2014B\n",
    "\n",
    "B_2014 = df_edu.query('code_presentation == \"2014B\"').groupby(['id_student'], as_index = False)['id_assessment'].count()\n",
    "B_2014.head()"
   ]
  },
  {
   "cell_type": "code",
   "execution_count": 152,
   "id": "064a9db8-0ee9-4d90-b2a2-39adee19703c",
   "metadata": {
    "tags": []
   },
   "outputs": [
    {
     "data": {
      "text/html": [
       "<div>\n",
       "<style scoped>\n",
       "    .dataframe tbody tr th:only-of-type {\n",
       "        vertical-align: middle;\n",
       "    }\n",
       "\n",
       "    .dataframe tbody tr th {\n",
       "        vertical-align: top;\n",
       "    }\n",
       "\n",
       "    .dataframe thead th {\n",
       "        text-align: right;\n",
       "    }\n",
       "</style>\n",
       "<table border=\"1\" class=\"dataframe\">\n",
       "  <thead>\n",
       "    <tr style=\"text-align: right;\">\n",
       "      <th></th>\n",
       "      <th>id_student</th>\n",
       "      <th>id_assessment</th>\n",
       "    </tr>\n",
       "  </thead>\n",
       "  <tbody>\n",
       "    <tr>\n",
       "      <th>0</th>\n",
       "      <td>6516</td>\n",
       "      <td>5</td>\n",
       "    </tr>\n",
       "    <tr>\n",
       "      <th>1</th>\n",
       "      <td>8462</td>\n",
       "      <td>4</td>\n",
       "    </tr>\n",
       "    <tr>\n",
       "      <th>2</th>\n",
       "      <td>23698</td>\n",
       "      <td>9</td>\n",
       "    </tr>\n",
       "    <tr>\n",
       "      <th>3</th>\n",
       "      <td>24734</td>\n",
       "      <td>5</td>\n",
       "    </tr>\n",
       "    <tr>\n",
       "      <th>4</th>\n",
       "      <td>25261</td>\n",
       "      <td>1</td>\n",
       "    </tr>\n",
       "  </tbody>\n",
       "</table>\n",
       "</div>"
      ],
      "text/plain": [
       "   id_student  id_assessment\n",
       "0        6516              5\n",
       "1        8462              4\n",
       "2       23698              9\n",
       "3       24734              5\n",
       "4       25261              1"
      ]
     },
     "execution_count": 152,
     "metadata": {},
     "output_type": "execute_result"
    }
   ],
   "source": [
    "#уникальные студенты, которые учились в 2014J\n",
    "J_2014 = df_edu.query('code_presentation == \"2014J\"').groupby(['id_student'], as_index = False)['id_assessment'].count()\n",
    "J_2014.head()"
   ]
  },
  {
   "cell_type": "code",
   "execution_count": 153,
   "id": "5e38d0e9-5e87-4051-84c2-5e56f887f4e3",
   "metadata": {},
   "outputs": [
    {
     "name": "stdout",
     "output_type": "stream",
     "text": [
      "Количество студентов, которые встречаются в обоих семестрах 2013J и 2013B: 99\n",
      "Процент студентов, которые встречаются в обоих семестрах 2013J и 2013B: 0.91\n"
     ]
    }
   ],
   "source": [
    "#проверка есть ли среди x и y общие студенты.\n",
    "print(f'Количество студентов, которые встречаются в обоих семестрах 2013J и 2013B: {(B_2013.id_student.isin(J_2013.id_student)).sum()}')\n",
    "\n",
    "#Процент студентов, котрые встречаются в x и y\n",
    "print(f'Процент студентов, которые встречаются в обоих семестрах 2013J и 2013B: {np.round(99/(len(B_2013.id_student)+len(J_2013.id_student))*100,2)}')"
   ]
  },
  {
   "cell_type": "code",
   "execution_count": 154,
   "id": "5733d718-c6f3-44e2-8a7d-0b9f7004a2df",
   "metadata": {},
   "outputs": [
    {
     "name": "stdout",
     "output_type": "stream",
     "text": [
      "Количество студентов, которые встречаются в обоих семестрах 2014J и 2014B: 527\n",
      "Процент студентов, которые встречаются в обоих семестрах 2014J и 2014B: 3.67\n"
     ]
    }
   ],
   "source": [
    "#проверка есть ли сруди x и y общие студенты.\n",
    "print(f'Количество студентов, которые встречаются в обоих семестрах 2014J и 2014B: {(B_2014.id_student.isin(J_2014.id_student)).sum()}')\n",
    "\n",
    "#Процент студентов, котрые встречаются в x и y\n",
    "print(f'Процент студентов, которые встречаются в обоих семестрах 2014J и 2014B: {np.round(527/(len(B_2014.id_student)+len(J_2014.id_student))*100,2)}')"
   ]
  },
  {
   "cell_type": "code",
   "execution_count": 155,
   "id": "6d27184c-80b3-41fc-b2ae-b6f6efbc47c1",
   "metadata": {},
   "outputs": [
    {
     "name": "stdout",
     "output_type": "stream",
     "text": [
      "Количество студентов, которые встречаются в обоих семестрах 2013B и 2014B: 201\n",
      "Процент студентов, которые встречаются в обоих семестрах 2013B и 2014B: 1.75\n"
     ]
    }
   ],
   "source": [
    "#проверка есть ли сруди x и y общие студенты.\n",
    "print(f'Количество студентов, которые встречаются в обоих семестрах 2013B и 2014B: {(B_2013.id_student.isin(B_2014.id_student)).sum()}')\n",
    "\n",
    "#Процент студентов, котрые встречаются в x и y\n",
    "print(f'Процент студентов, которые встречаются в обоих семестрах 2013B и 2014B: {np.round(201/(len(B_2014.id_student)+len(B_2014.id_student))*100,2)}')"
   ]
  },
  {
   "cell_type": "code",
   "execution_count": 156,
   "id": "7d10eb34-03b9-40c4-9457-ea326ea6694c",
   "metadata": {},
   "outputs": [
    {
     "name": "stdout",
     "output_type": "stream",
     "text": [
      "Количество студентов, которые встречаются в обоих семестрах 2013J и 2014J: 669\n",
      "Процент студентов, которые встречаются в обоих семестрах 2013J и 2014J: 3.88\n"
     ]
    }
   ],
   "source": [
    "#проверка есть ли сруди x и y общие студенты.\n",
    "print(f'Количество студентов, которые встречаются в обоих семестрах 2013J и 2014J: {(J_2013.id_student.isin(J_2014.id_student)).sum()}')\n",
    "\n",
    "#Процент студентов, котрые встречаются в x и y\n",
    "print(f'Процент студентов, которые встречаются в обоих семестрах 2013J и 2014J: {np.round(669/(len(J_2014.id_student)+len(J_2014.id_student))*100,2)}')"
   ]
  },
  {
   "cell_type": "markdown",
   "id": "957159d8-20c4-41af-99a6-a56c31a103cc",
   "metadata": {
    "tags": []
   },
   "source": [
    "- Дублирование студентов, по семестрам есть, в различных комбинациях, но их кол-во очень мало, меньше 5%\n",
    "- Поэтому это является дополнительным утверждением, что курс проходит внутри одного семестра. А выше проверяя студентов, которые сдают экзамены, мы выясняем, что предметы тоже в курсе не пересекаются.\n",
    "\n",
    "Следовательно курс это предмет, которых проходится в одном семестре.\n",
    "Дополнительно в рамках поставленнх задачь и того как определяется курс, нам не важна последовательность семестров B и J.\n",
    "Но для себя определим, алфавитную последовательность\n",
    "\n",
    "**На основе проведенного анализа, курсом будет считаться отдельный прелмет, пройденный в течении семестра.**<br>\n",
    "**Полностью сданным курсом считается семестр, по которому сданы все тесты и экзамены больше чем на 40 баллов в течении одного семестра**"
   ]
  },
  {
   "cell_type": "markdown",
   "id": "efac9812-9b09-49ca-89e6-21dfe7f0e8fe",
   "metadata": {
    "tags": []
   },
   "source": [
    "#### 8.2 Расчет кол-ва успешно сданных курсов <a name = \"task_1_exam_pass\">"
   ]
  },
  {
   "cell_type": "markdown",
   "id": "96eca214-1e42-482f-8e53-d24f8793425d",
   "metadata": {},
   "source": [
    "Сколько студентов успешно сдали только один курс? (**Успешная сдача — это зачёт по курсу на экзамене**)\n",
    "- успешно сдало экзамен - 3802 студента\n",
    "Но этоне учитывает, те курсы , по которым не проводились Exam."
   ]
  },
  {
   "cell_type": "code",
   "execution_count": 109,
   "id": "18c98d90-ffca-4c33-b584-75ca0e1749a9",
   "metadata": {},
   "outputs": [
    {
     "data": {
      "text/html": [
       "<div>\n",
       "<style scoped>\n",
       "    .dataframe tbody tr th:only-of-type {\n",
       "        vertical-align: middle;\n",
       "    }\n",
       "\n",
       "    .dataframe tbody tr th {\n",
       "        vertical-align: top;\n",
       "    }\n",
       "\n",
       "    .dataframe thead th {\n",
       "        text-align: right;\n",
       "    }\n",
       "</style>\n",
       "<table border=\"1\" class=\"dataframe\">\n",
       "  <thead>\n",
       "    <tr style=\"text-align: right;\">\n",
       "      <th></th>\n",
       "      <th>0</th>\n",
       "    </tr>\n",
       "  </thead>\n",
       "  <tbody>\n",
       "    <tr>\n",
       "      <th>id_student</th>\n",
       "      <td>3802</td>\n",
       "    </tr>\n",
       "    <tr>\n",
       "      <th>size</th>\n",
       "      <td>3802</td>\n",
       "    </tr>\n",
       "  </tbody>\n",
       "</table>\n",
       "</div>"
      ],
      "text/plain": [
       "               0\n",
       "id_student  3802\n",
       "size        3802"
      ]
     },
     "execution_count": 109,
     "metadata": {},
     "output_type": "execute_result"
    }
   ],
   "source": [
    "#считаем сколько студентов успешно сдали экзамен\n",
    "\n",
    "(df_edu.\n",
    " query('assessment_type == \"Exam\" & score >= 40 & weight == 100').\n",
    " groupby('id_student', as_index = False).\n",
    " size().\n",
    " query('size == 1').count().to_frame())"
   ]
  },
  {
   "cell_type": "markdown",
   "id": "00ed1908-2759-4595-a30f-212ff14c4a8a",
   "metadata": {},
   "source": [
    "- Посчитаем кол-во студентов, которые сдали успешно, только один курс, учитывая предметы, по которым не сдавался экзамен\n",
    "    - `df_edu_drop` таблица, где удалены все дублирующиеся записи о пересдаче теста. Чтобы можно было посчитать, какое кол-во тестов, нужно сдать по курсу, чтобы его завершить.*в данном случае нас интересует полная сдача, так как мы знаем, что фактически экзамены проводились в ограниченном числе курсов, то предполагаем, что там где экзамен не сдается, для того, чтобы завершить курс, надо сдать все тесты больше чем на 40 баллов*\n",
    "    - `num_test_exam` кол-во тестов в курсе, которые необходимо сдать (курс- это все предметы, пройденный в одном семестре)\n",
    "    - `num_pass_tests` кол-во студентов, и тестов, которые они успешно сдали\n",
    "    - `pass_modul` объединенная таблица, где у каждого студента проставлено кол-во фактически сданных им тестов и среднее время, которое он потратьл на сдачу каждого предмета в курсе, а также утвержденные нормативы по срокам сдачи и кол-ву тестов\n",
    "    - '_pass' - фактические,\n",
    "    - '_aim' - утвержденные\n",
    "    \n",
    "- поясним, что успешно сданным курсом, считаем тот, у которого все тесты и экзамены были сданы до даты окончания семестра.\n",
    "- зачет с прошлого курса считается\n",
    "- не учитываем тех, кто отписался от курса\n",
    "\n",
    "\n",
    "<font color = 'green'>Успешно сдало **только** один курс 10343 студентов или практически 45%. Доля, достаточно большая, но нужно учесть, что это онлайн курс, имеющий гибкую систему.</font>"
   ]
  },
  {
   "cell_type": "code",
   "execution_count": 160,
   "id": "8faf3466-3060-42c5-a758-344f99e7c0fb",
   "metadata": {
    "collapsed": true,
    "jupyter": {
     "outputs_hidden": true
    },
    "tags": []
   },
   "outputs": [
    {
     "data": {
      "text/html": [
       "<div>\n",
       "<style scoped>\n",
       "    .dataframe tbody tr th:only-of-type {\n",
       "        vertical-align: middle;\n",
       "    }\n",
       "\n",
       "    .dataframe tbody tr th {\n",
       "        vertical-align: top;\n",
       "    }\n",
       "\n",
       "    .dataframe thead th {\n",
       "        text-align: right;\n",
       "    }\n",
       "</style>\n",
       "<table border=\"1\" class=\"dataframe\">\n",
       "  <thead>\n",
       "    <tr style=\"text-align: right;\">\n",
       "      <th></th>\n",
       "      <th>code_presentation</th>\n",
       "      <th>code_module</th>\n",
       "      <th>num_tests</th>\n",
       "      <th>avg_date_submitted</th>\n",
       "      <th>module_presentation_length</th>\n",
       "    </tr>\n",
       "  </thead>\n",
       "  <tbody>\n",
       "    <tr>\n",
       "      <th>0</th>\n",
       "      <td>2013B</td>\n",
       "      <td>BBB</td>\n",
       "      <td>11</td>\n",
       "      <td>105.088058</td>\n",
       "      <td>240.0</td>\n",
       "    </tr>\n",
       "    <tr>\n",
       "      <th>1</th>\n",
       "      <td>2013B</td>\n",
       "      <td>DDD</td>\n",
       "      <td>14</td>\n",
       "      <td>143.811325</td>\n",
       "      <td>240.0</td>\n",
       "    </tr>\n",
       "    <tr>\n",
       "      <th>2</th>\n",
       "      <td>2013B</td>\n",
       "      <td>FFF</td>\n",
       "      <td>12</td>\n",
       "      <td>151.967621</td>\n",
       "      <td>240.0</td>\n",
       "    </tr>\n",
       "    <tr>\n",
       "      <th>3</th>\n",
       "      <td>2013J</td>\n",
       "      <td>AAA</td>\n",
       "      <td>5</td>\n",
       "      <td>109.236984</td>\n",
       "      <td>268.0</td>\n",
       "    </tr>\n",
       "    <tr>\n",
       "      <th>4</th>\n",
       "      <td>2013J</td>\n",
       "      <td>BBB</td>\n",
       "      <td>11</td>\n",
       "      <td>113.117287</td>\n",
       "      <td>268.0</td>\n",
       "    </tr>\n",
       "    <tr>\n",
       "      <th>5</th>\n",
       "      <td>2013J</td>\n",
       "      <td>DDD</td>\n",
       "      <td>7</td>\n",
       "      <td>179.842926</td>\n",
       "      <td>268.0</td>\n",
       "    </tr>\n",
       "    <tr>\n",
       "      <th>6</th>\n",
       "      <td>2013J</td>\n",
       "      <td>EEE</td>\n",
       "      <td>4</td>\n",
       "      <td>91.077667</td>\n",
       "      <td>268.0</td>\n",
       "    </tr>\n",
       "    <tr>\n",
       "      <th>7</th>\n",
       "      <td>2013J</td>\n",
       "      <td>FFF</td>\n",
       "      <td>12</td>\n",
       "      <td>159.953003</td>\n",
       "      <td>268.0</td>\n",
       "    </tr>\n",
       "    <tr>\n",
       "      <th>8</th>\n",
       "      <td>2013J</td>\n",
       "      <td>GGG</td>\n",
       "      <td>9</td>\n",
       "      <td>172.804413</td>\n",
       "      <td>268.0</td>\n",
       "    </tr>\n",
       "    <tr>\n",
       "      <th>9</th>\n",
       "      <td>2014B</td>\n",
       "      <td>BBB</td>\n",
       "      <td>11</td>\n",
       "      <td>100.179649</td>\n",
       "      <td>241.0</td>\n",
       "    </tr>\n",
       "    <tr>\n",
       "      <th>10</th>\n",
       "      <td>2014B</td>\n",
       "      <td>CCC</td>\n",
       "      <td>9</td>\n",
       "      <td>135.672943</td>\n",
       "      <td>241.0</td>\n",
       "    </tr>\n",
       "    <tr>\n",
       "      <th>11</th>\n",
       "      <td>2014B</td>\n",
       "      <td>DDD</td>\n",
       "      <td>7</td>\n",
       "      <td>165.564453</td>\n",
       "      <td>241.0</td>\n",
       "    </tr>\n",
       "    <tr>\n",
       "      <th>12</th>\n",
       "      <td>2014B</td>\n",
       "      <td>EEE</td>\n",
       "      <td>4</td>\n",
       "      <td>86.443817</td>\n",
       "      <td>241.0</td>\n",
       "    </tr>\n",
       "    <tr>\n",
       "      <th>13</th>\n",
       "      <td>2014B</td>\n",
       "      <td>FFF</td>\n",
       "      <td>12</td>\n",
       "      <td>155.042496</td>\n",
       "      <td>241.0</td>\n",
       "    </tr>\n",
       "    <tr>\n",
       "      <th>14</th>\n",
       "      <td>2014B</td>\n",
       "      <td>GGG</td>\n",
       "      <td>9</td>\n",
       "      <td>166.572830</td>\n",
       "      <td>241.0</td>\n",
       "    </tr>\n",
       "    <tr>\n",
       "      <th>15</th>\n",
       "      <td>2014J</td>\n",
       "      <td>AAA</td>\n",
       "      <td>5</td>\n",
       "      <td>109.062668</td>\n",
       "      <td>269.0</td>\n",
       "    </tr>\n",
       "    <tr>\n",
       "      <th>16</th>\n",
       "      <td>2014J</td>\n",
       "      <td>BBB</td>\n",
       "      <td>5</td>\n",
       "      <td>99.115417</td>\n",
       "      <td>269.0</td>\n",
       "    </tr>\n",
       "    <tr>\n",
       "      <th>17</th>\n",
       "      <td>2014J</td>\n",
       "      <td>CCC</td>\n",
       "      <td>9</td>\n",
       "      <td>141.561401</td>\n",
       "      <td>269.0</td>\n",
       "    </tr>\n",
       "    <tr>\n",
       "      <th>18</th>\n",
       "      <td>2014J</td>\n",
       "      <td>DDD</td>\n",
       "      <td>7</td>\n",
       "      <td>141.073837</td>\n",
       "      <td>269.0</td>\n",
       "    </tr>\n",
       "    <tr>\n",
       "      <th>19</th>\n",
       "      <td>2014J</td>\n",
       "      <td>EEE</td>\n",
       "      <td>4</td>\n",
       "      <td>94.278725</td>\n",
       "      <td>269.0</td>\n",
       "    </tr>\n",
       "    <tr>\n",
       "      <th>20</th>\n",
       "      <td>2014J</td>\n",
       "      <td>FFF</td>\n",
       "      <td>12</td>\n",
       "      <td>166.070435</td>\n",
       "      <td>269.0</td>\n",
       "    </tr>\n",
       "    <tr>\n",
       "      <th>21</th>\n",
       "      <td>2014J</td>\n",
       "      <td>GGG</td>\n",
       "      <td>9</td>\n",
       "      <td>172.681427</td>\n",
       "      <td>269.0</td>\n",
       "    </tr>\n",
       "  </tbody>\n",
       "</table>\n",
       "</div>"
      ],
      "text/plain": [
       "   code_presentation code_module  num_tests  avg_date_submitted  \\\n",
       "0              2013B         BBB         11          105.088058   \n",
       "1              2013B         DDD         14          143.811325   \n",
       "2              2013B         FFF         12          151.967621   \n",
       "3              2013J         AAA          5          109.236984   \n",
       "4              2013J         BBB         11          113.117287   \n",
       "5              2013J         DDD          7          179.842926   \n",
       "6              2013J         EEE          4           91.077667   \n",
       "7              2013J         FFF         12          159.953003   \n",
       "8              2013J         GGG          9          172.804413   \n",
       "9              2014B         BBB         11          100.179649   \n",
       "10             2014B         CCC          9          135.672943   \n",
       "11             2014B         DDD          7          165.564453   \n",
       "12             2014B         EEE          4           86.443817   \n",
       "13             2014B         FFF         12          155.042496   \n",
       "14             2014B         GGG          9          166.572830   \n",
       "15             2014J         AAA          5          109.062668   \n",
       "16             2014J         BBB          5           99.115417   \n",
       "17             2014J         CCC          9          141.561401   \n",
       "18             2014J         DDD          7          141.073837   \n",
       "19             2014J         EEE          4           94.278725   \n",
       "20             2014J         FFF         12          166.070435   \n",
       "21             2014J         GGG          9          172.681427   \n",
       "\n",
       "    module_presentation_length  \n",
       "0                        240.0  \n",
       "1                        240.0  \n",
       "2                        240.0  \n",
       "3                        268.0  \n",
       "4                        268.0  \n",
       "5                        268.0  \n",
       "6                        268.0  \n",
       "7                        268.0  \n",
       "8                        268.0  \n",
       "9                        241.0  \n",
       "10                       241.0  \n",
       "11                       241.0  \n",
       "12                       241.0  \n",
       "13                       241.0  \n",
       "14                       241.0  \n",
       "15                       269.0  \n",
       "16                       269.0  \n",
       "17                       269.0  \n",
       "18                       269.0  \n",
       "19                       269.0  \n",
       "20                       269.0  \n",
       "21                       269.0  "
      ]
     },
     "execution_count": 160,
     "metadata": {},
     "output_type": "execute_result"
    }
   ],
   "source": [
    "#удаляю дублирующие строки в df_edu\n",
    "\n",
    "df_edu_drop = df_edu.drop_duplicates(subset = ['code_presentation', 'code_module', 'assessment_type', 'id_assessment', 'id_student'])\n",
    "\n",
    "# расчет кол-во уникальных тестов в каждом семестре по отедельному предмету, то есть по отдельному курсу. Это нужно, чтобы определить все ли студенты сдали необходимое кол-во курсов в семестре.\n",
    "\n",
    "num_test_exam = (df_edu_drop.\n",
    "                 groupby([ 'code_presentation', 'code_module', 'assessment_type'], as_index = False).\n",
    "                 agg({'id_assessment':'nunique', 'date' :'mean', 'module_presentation_length':'mean'}).\n",
    "                 groupby([ 'code_presentation', 'code_module'], as_index = False).agg({'id_assessment':'sum', 'date' :'mean', 'module_presentation_length':'mean'}).\n",
    "                 rename(columns = {'id_assessment': 'num_tests', 'date' : 'avg_date_submitted'})\n",
    "                )\n",
    "num_test_exam"
   ]
  },
  {
   "cell_type": "code",
   "execution_count": 172,
   "id": "6345da1f-cb75-42d9-a497-3df285298362",
   "metadata": {},
   "outputs": [
    {
     "data": {
      "image/png": "[encoded data removed]",
      "text/plain": [
       "<Figure size 1080x360 with 1 Axes>"
      ]
     },
     "metadata": {
      "needs_background": "light"
     },
     "output_type": "display_data"
    }
   ],
   "source": [
    "#кол-во тестов, которые надо сдать по предмету в каждом семестре\n",
    "\n",
    "plt.figure(figsize = (15,5))\n",
    "\n",
    "ax = sns.barplot(data = num_test_exam, x = 'code_presentation', y = 'num_tests', hue = 'code_module', palette = 'pastel')\n",
    "for i in ax.containers:\n",
    "    ax.bar_label(i,)"
   ]
  },
  {
   "cell_type": "code",
   "execution_count": 174,
   "id": "0cc7d96b-cb10-4d34-9470-23964038f6a3",
   "metadata": {
    "tags": []
   },
   "outputs": [
    {
     "data": {
      "text/html": [
       "<div>\n",
       "<style scoped>\n",
       "    .dataframe tbody tr th:only-of-type {\n",
       "        vertical-align: middle;\n",
       "    }\n",
       "\n",
       "    .dataframe tbody tr th {\n",
       "        vertical-align: top;\n",
       "    }\n",
       "\n",
       "    .dataframe thead th {\n",
       "        text-align: right;\n",
       "    }\n",
       "</style>\n",
       "<table border=\"1\" class=\"dataframe\">\n",
       "  <thead>\n",
       "    <tr style=\"text-align: right;\">\n",
       "      <th></th>\n",
       "      <th>id_student</th>\n",
       "      <th>code_presentation</th>\n",
       "      <th>code_module</th>\n",
       "      <th>num_tests</th>\n",
       "      <th>avg_date_submitted</th>\n",
       "    </tr>\n",
       "  </thead>\n",
       "  <tbody>\n",
       "    <tr>\n",
       "      <th>0</th>\n",
       "      <td>6516</td>\n",
       "      <td>2014J</td>\n",
       "      <td>AAA</td>\n",
       "      <td>5</td>\n",
       "      <td>111.60</td>\n",
       "    </tr>\n",
       "    <tr>\n",
       "      <th>1</th>\n",
       "      <td>8462</td>\n",
       "      <td>2013J</td>\n",
       "      <td>DDD</td>\n",
       "      <td>3</td>\n",
       "      <td>55.00</td>\n",
       "    </tr>\n",
       "    <tr>\n",
       "      <th>2</th>\n",
       "      <td>8462</td>\n",
       "      <td>2014J</td>\n",
       "      <td>DDD</td>\n",
       "      <td>4</td>\n",
       "      <td>-1.00</td>\n",
       "    </tr>\n",
       "    <tr>\n",
       "      <th>3</th>\n",
       "      <td>11391</td>\n",
       "      <td>2013J</td>\n",
       "      <td>AAA</td>\n",
       "      <td>5</td>\n",
       "      <td>112.40</td>\n",
       "    </tr>\n",
       "    <tr>\n",
       "      <th>4</th>\n",
       "      <td>23629</td>\n",
       "      <td>2013B</td>\n",
       "      <td>BBB</td>\n",
       "      <td>4</td>\n",
       "      <td>55.75</td>\n",
       "    </tr>\n",
       "  </tbody>\n",
       "</table>\n",
       "</div>"
      ],
      "text/plain": [
       "   id_student code_presentation code_module  num_tests  avg_date_submitted\n",
       "0        6516             2014J         AAA          5              111.60\n",
       "1        8462             2013J         DDD          3               55.00\n",
       "2        8462             2014J         DDD          4               -1.00\n",
       "3       11391             2013J         AAA          5              112.40\n",
       "4       23629             2013B         BBB          4               55.75"
      ]
     },
     "execution_count": 174,
     "metadata": {},
     "output_type": "execute_result"
    }
   ],
   "source": [
    "#отбираю студентов, у которых оценка за тест и экзамен score >40, тесты сданы вовремя, и сортирую по возрастанию времени сдачи тестов и экзаменов\n",
    "\n",
    "num_pass_tests = df_edu.query('score >= 40&date_submitted <= date').sort_values(by = 'date_submitted')\n",
    "\n",
    "#удаляю дубликаты, чтобы исключить студентов, которые сдавали один и тот же тест 2 раза. Удаляю первые втречаемые повторения, чтобы остались только последние сданные тесты.\n",
    "#Для себя явно указываю параметр keep = 'first', который и отвечает за удаление первых встречаемых повторений\n",
    "\n",
    "num_pass_tests.drop_duplicates(subset = ['id_student', 'code_module', 'code_presentation', 'id_assessment', 'assessment_type'], keep= 'first', inplace = True)\n",
    "\n",
    "#считаю сколько экзаменов и тестов сдал каждый студент и среднее время сдачи экзаменов и тестов. \n",
    "#Отрицательные значения говорят о досрочной сдачи. Поэтому среднее может сильно смещаться\n",
    "num_pass_tests = (\n",
    "                  df_edu.query('score >= 40').\n",
    "                  groupby(['id_student', 'code_presentation', 'code_module', 'assessment_type'], as_index = False).\n",
    "                  agg({'id_assessment':'nunique', 'date_submitted' :'mean'}).\n",
    "                  groupby(['id_student', 'code_presentation', 'code_module'], as_index = False).\n",
    "                  agg({'id_assessment':'sum', 'date_submitted' :'mean'}).\n",
    "                  rename(columns = {'id_assessment': 'num_tests', 'date_submitted' : 'avg_date_submitted'})\n",
    "                 )\n",
    "num_pass_tests.head()"
   ]
  },
  {
   "cell_type": "code",
   "execution_count": 175,
   "id": "51c9f9d0-8026-4e4f-b8a3-dc4008742835",
   "metadata": {},
   "outputs": [
    {
     "data": {
      "text/html": [
       "<div>\n",
       "<style scoped>\n",
       "    .dataframe tbody tr th:only-of-type {\n",
       "        vertical-align: middle;\n",
       "    }\n",
       "\n",
       "    .dataframe tbody tr th {\n",
       "        vertical-align: top;\n",
       "    }\n",
       "\n",
       "    .dataframe thead th {\n",
       "        text-align: right;\n",
       "    }\n",
       "</style>\n",
       "<table border=\"1\" class=\"dataframe\">\n",
       "  <thead>\n",
       "    <tr style=\"text-align: right;\">\n",
       "      <th></th>\n",
       "      <th>id_student</th>\n",
       "      <th>code_presentation</th>\n",
       "      <th>code_module</th>\n",
       "      <th>num_tests_pass</th>\n",
       "      <th>avg_date_submitted_pass</th>\n",
       "      <th>num_tests_aim</th>\n",
       "      <th>avg_date_submitted_aim</th>\n",
       "      <th>module_presentation_length</th>\n",
       "    </tr>\n",
       "  </thead>\n",
       "  <tbody>\n",
       "    <tr>\n",
       "      <th>0</th>\n",
       "      <td>6516</td>\n",
       "      <td>2014J</td>\n",
       "      <td>AAA</td>\n",
       "      <td>5</td>\n",
       "      <td>111.60</td>\n",
       "      <td>5</td>\n",
       "      <td>109.062668</td>\n",
       "      <td>269.0</td>\n",
       "    </tr>\n",
       "    <tr>\n",
       "      <th>1</th>\n",
       "      <td>8462</td>\n",
       "      <td>2013J</td>\n",
       "      <td>DDD</td>\n",
       "      <td>3</td>\n",
       "      <td>55.00</td>\n",
       "      <td>7</td>\n",
       "      <td>179.842926</td>\n",
       "      <td>268.0</td>\n",
       "    </tr>\n",
       "    <tr>\n",
       "      <th>2</th>\n",
       "      <td>8462</td>\n",
       "      <td>2014J</td>\n",
       "      <td>DDD</td>\n",
       "      <td>4</td>\n",
       "      <td>-1.00</td>\n",
       "      <td>7</td>\n",
       "      <td>141.073837</td>\n",
       "      <td>269.0</td>\n",
       "    </tr>\n",
       "    <tr>\n",
       "      <th>3</th>\n",
       "      <td>11391</td>\n",
       "      <td>2013J</td>\n",
       "      <td>AAA</td>\n",
       "      <td>5</td>\n",
       "      <td>112.40</td>\n",
       "      <td>5</td>\n",
       "      <td>109.236984</td>\n",
       "      <td>268.0</td>\n",
       "    </tr>\n",
       "    <tr>\n",
       "      <th>4</th>\n",
       "      <td>23629</td>\n",
       "      <td>2013B</td>\n",
       "      <td>BBB</td>\n",
       "      <td>4</td>\n",
       "      <td>55.75</td>\n",
       "      <td>11</td>\n",
       "      <td>105.088058</td>\n",
       "      <td>240.0</td>\n",
       "    </tr>\n",
       "  </tbody>\n",
       "</table>\n",
       "</div>"
      ],
      "text/plain": [
       "   id_student code_presentation code_module  num_tests_pass  \\\n",
       "0        6516             2014J         AAA               5   \n",
       "1        8462             2013J         DDD               3   \n",
       "2        8462             2014J         DDD               4   \n",
       "3       11391             2013J         AAA               5   \n",
       "4       23629             2013B         BBB               4   \n",
       "\n",
       "   avg_date_submitted_pass  num_tests_aim  avg_date_submitted_aim  \\\n",
       "0                   111.60              5              109.062668   \n",
       "1                    55.00              7              179.842926   \n",
       "2                    -1.00              7              141.073837   \n",
       "3                   112.40              5              109.236984   \n",
       "4                    55.75             11              105.088058   \n",
       "\n",
       "   module_presentation_length  \n",
       "0                       269.0  \n",
       "1                       268.0  \n",
       "2                       269.0  \n",
       "3                       268.0  \n",
       "4                       240.0  "
      ]
     },
     "execution_count": 175,
     "metadata": {},
     "output_type": "execute_result"
    }
   ],
   "source": [
    "#объединениe таблицы с данными по сдаче тестов студентами, и тестов, которые необходимо сдать студентам\n",
    "\n",
    "pass_modul = num_pass_tests.merge(num_test_exam, how = 'left', on=['code_presentation', 'code_module'], suffixes = ['_pass','_aim'])\n",
    "pass_modul.head()"
   ]
  },
  {
   "cell_type": "code",
   "execution_count": 176,
   "id": "38efc2ab-b4b3-4fe0-8a29-e3a67c6ea621",
   "metadata": {},
   "outputs": [
    {
     "name": "stdout",
     "output_type": "stream",
     "text": [
      "<class 'pandas.core.frame.DataFrame'>\n",
      "Int64Index: 25243 entries, 0 to 25242\n",
      "Data columns (total 8 columns):\n",
      " #   Column                      Non-Null Count  Dtype  \n",
      "---  ------                      --------------  -----  \n",
      " 0   id_student                  25243 non-null  int32  \n",
      " 1   code_presentation           25243 non-null  object \n",
      " 2   code_module                 25243 non-null  object \n",
      " 3   num_tests_pass              25243 non-null  int64  \n",
      " 4   avg_date_submitted_pass     25243 non-null  float64\n",
      " 5   num_tests_aim               25243 non-null  int64  \n",
      " 6   avg_date_submitted_aim      25243 non-null  float32\n",
      " 7   module_presentation_length  25243 non-null  float64\n",
      "dtypes: float32(1), float64(2), int32(1), int64(2), object(2)\n",
      "memory usage: 1.5+ MB\n"
     ]
    }
   ],
   "source": [
    "pass_modul.info()"
   ]
  },
  {
   "cell_type": "code",
   "execution_count": 177,
   "id": "65252d88-2eed-4395-ae95-438afbe180ba",
   "metadata": {},
   "outputs": [
    {
     "data": {
      "text/plain": [
       "10343"
      ]
     },
     "execution_count": 177,
     "metadata": {},
     "output_type": "execute_result"
    }
   ],
   "source": [
    "# находим студентов, котoрые сдали только один курс, то есть только один предмет за один семестр в течении всего обучения\n",
    "\n",
    "(\n",
    "    pass_modul.\n",
    "    query('num_tests_pass == num_tests_aim'). #отбор только тех, кто сдал нужное кол-во тестов по предметам\n",
    "    groupby('id_student', as_index = False).\n",
    "    agg({'code_presentation':'count', 'code_module': 'count'}). #считаем кол-во курсов, которые завершил студент\n",
    "    rename(columns = {'code_presentation': 'num_code_presentation', 'code_module':'num_code_module'}).\n",
    "    query('num_code_presentation==1&num_code_module==1'). #выбираем, только тех, которые полностью завершили только 1 курс\n",
    "    id_student.nunique()\n",
    ")"
   ]
  },
  {
   "cell_type": "code",
   "execution_count": 115,
   "id": "8cfeb5c2-aee1-4517-9336-8b7752cbfa57",
   "metadata": {},
   "outputs": [
    {
     "name": "stdout",
     "output_type": "stream",
     "text": [
      "Процент студентов, сдавших только один курс: 44.26\n"
     ]
    }
   ],
   "source": [
    "#процент студентов, сдавших один курс, от всего кол-ва студентов\n",
    "\n",
    "print(f'Процент студентов, сдавших только один курс: {np.round(10343/df_edu.id_student.nunique()*100,2)}')"
   ]
  },
  {
   "cell_type": "markdown",
   "id": "16019354-902d-434d-89be-2f26e32539b4",
   "metadata": {
    "tags": []
   },
   "source": [
    "### 9. Задание 2<a name = \"task_2\">"
   ]
  },
  {
   "cell_type": "markdown",
   "id": "4f57fb31-752a-4a5b-96db-2343af039f33",
   "metadata": {},
   "source": [
    "Задание: Выяви самый сложный и самый простой экзамен: найди курсы и экзамены в рамках курса, которые обладают самой низкой и самой высокой завершаемостью*. (10 баллов)\n",
    "\n",
    "*завершаемость = кол-во успешных экзаменов / кол-во всех попыток сдать экзамен\n"
   ]
  },
  {
   "cell_type": "markdown",
   "id": "228a0c75-7b27-4ff6-8484-fb53aafbb53d",
   "metadata": {
    "tags": []
   },
   "source": [
    "#### 9.2 Рассчет самого завершаемого экзамена в рамках каждого курса<a name = \"task_9_2\">"
   ]
  },
  {
   "cell_type": "markdown",
   "id": "820d5e7a-9238-4902-a8fb-bc90a13e35b7",
   "metadata": {},
   "source": [
    "- Самый **легкий экзамен в курсе 2014B DDD** - его сдали 91% студентов\n",
    "- Самым **сложый экзамен в курсе 2013B DDD** - его сдали 79% студентов"
   ]
  },
  {
   "cell_type": "code",
   "execution_count": 116,
   "id": "ee6af7d4-4a75-479d-9515-874a5308f487",
   "metadata": {
    "tags": []
   },
   "outputs": [
    {
     "data": {
      "text/html": [
       "<div>\n",
       "<style scoped>\n",
       "    .dataframe tbody tr th:only-of-type {\n",
       "        vertical-align: middle;\n",
       "    }\n",
       "\n",
       "    .dataframe tbody tr th {\n",
       "        vertical-align: top;\n",
       "    }\n",
       "\n",
       "    .dataframe thead th {\n",
       "        text-align: right;\n",
       "    }\n",
       "</style>\n",
       "<table border=\"1\" class=\"dataframe\">\n",
       "  <thead>\n",
       "    <tr style=\"text-align: right;\">\n",
       "      <th></th>\n",
       "      <th></th>\n",
       "      <th></th>\n",
       "      <th>0</th>\n",
       "    </tr>\n",
       "    <tr>\n",
       "      <th>code_presentation</th>\n",
       "      <th>code_module</th>\n",
       "      <th>id_assessment</th>\n",
       "      <th></th>\n",
       "    </tr>\n",
       "  </thead>\n",
       "  <tbody>\n",
       "    <tr>\n",
       "      <th>2013B</th>\n",
       "      <th>DDD</th>\n",
       "      <th>25340.0</th>\n",
       "      <td>478</td>\n",
       "    </tr>\n",
       "    <tr>\n",
       "      <th>2013J</th>\n",
       "      <th>DDD</th>\n",
       "      <th>25354.0</th>\n",
       "      <td>856</td>\n",
       "    </tr>\n",
       "    <tr>\n",
       "      <th rowspan=\"2\" valign=\"top\">2014B</th>\n",
       "      <th>CCC</th>\n",
       "      <th>24290.0</th>\n",
       "      <td>650</td>\n",
       "    </tr>\n",
       "    <tr>\n",
       "      <th>DDD</th>\n",
       "      <th>25361.0</th>\n",
       "      <td>478</td>\n",
       "    </tr>\n",
       "    <tr>\n",
       "      <th rowspan=\"2\" valign=\"top\">2014J</th>\n",
       "      <th>CCC</th>\n",
       "      <th>24299.0</th>\n",
       "      <td>995</td>\n",
       "    </tr>\n",
       "    <tr>\n",
       "      <th>DDD</th>\n",
       "      <th>25368.0</th>\n",
       "      <td>825</td>\n",
       "    </tr>\n",
       "  </tbody>\n",
       "</table>\n",
       "</div>"
      ],
      "text/plain": [
       "                                               0\n",
       "code_presentation code_module id_assessment     \n",
       "2013B             DDD         25340.0        478\n",
       "2013J             DDD         25354.0        856\n",
       "2014B             CCC         24290.0        650\n",
       "                  DDD         25361.0        478\n",
       "2014J             CCC         24299.0        995\n",
       "                  DDD         25368.0        825"
      ]
     },
     "execution_count": 116,
     "metadata": {},
     "output_type": "execute_result"
    }
   ],
   "source": [
    "#идентификационные номера экзаменов, которые были успешно сданы\n",
    "\n",
    "df_edu.query('score > 40 & assessment_type == \"Exam\"' ).groupby(['code_presentation', 'code_module', 'id_assessment']).size().to_frame()"
   ]
  },
  {
   "cell_type": "code",
   "execution_count": 117,
   "id": "dc313332-33f6-4ddf-ae24-963953de7d05",
   "metadata": {},
   "outputs": [],
   "source": [
    "#создание колонки, для отслеживания, сдан ли экзамен до deadline\n",
    "\n",
    "df_edu['proportion_deadline'] = df_edu.date/df_edu.date_submitted"
   ]
  },
  {
   "cell_type": "code",
   "execution_count": 118,
   "id": "3c4838e3-4598-45e0-8769-1bf439f12018",
   "metadata": {
    "tags": []
   },
   "outputs": [
    {
     "data": {
      "text/html": [
       "<div>\n",
       "<style scoped>\n",
       "    .dataframe tbody tr th:only-of-type {\n",
       "        vertical-align: middle;\n",
       "    }\n",
       "\n",
       "    .dataframe tbody tr th {\n",
       "        vertical-align: top;\n",
       "    }\n",
       "\n",
       "    .dataframe thead th {\n",
       "        text-align: right;\n",
       "    }\n",
       "</style>\n",
       "<table border=\"1\" class=\"dataframe\">\n",
       "  <thead>\n",
       "    <tr style=\"text-align: right;\">\n",
       "      <th></th>\n",
       "      <th>code_presentation</th>\n",
       "      <th>code_module</th>\n",
       "      <th>id_assessment</th>\n",
       "      <th>percentage</th>\n",
       "      <th>course</th>\n",
       "    </tr>\n",
       "  </thead>\n",
       "  <tbody>\n",
       "    <tr>\n",
       "      <th>0</th>\n",
       "      <td>2013B</td>\n",
       "      <td>DDD</td>\n",
       "      <td>25340.0</td>\n",
       "      <td>79.40</td>\n",
       "      <td>2013B_DDD</td>\n",
       "    </tr>\n",
       "    <tr>\n",
       "      <th>1</th>\n",
       "      <td>2013J</td>\n",
       "      <td>DDD</td>\n",
       "      <td>25354.0</td>\n",
       "      <td>88.43</td>\n",
       "      <td>2013J_DDD</td>\n",
       "    </tr>\n",
       "    <tr>\n",
       "      <th>2</th>\n",
       "      <td>2014B</td>\n",
       "      <td>CCC</td>\n",
       "      <td>24290.0</td>\n",
       "      <td>87.01</td>\n",
       "      <td>2014B_CCC</td>\n",
       "    </tr>\n",
       "    <tr>\n",
       "      <th>3</th>\n",
       "      <td>2014B</td>\n",
       "      <td>DDD</td>\n",
       "      <td>25361.0</td>\n",
       "      <td>91.22</td>\n",
       "      <td>2014B_DDD</td>\n",
       "    </tr>\n",
       "    <tr>\n",
       "      <th>4</th>\n",
       "      <td>2014J</td>\n",
       "      <td>CCC</td>\n",
       "      <td>24299.0</td>\n",
       "      <td>85.19</td>\n",
       "      <td>2014J_CCC</td>\n",
       "    </tr>\n",
       "    <tr>\n",
       "      <th>5</th>\n",
       "      <td>2014J</td>\n",
       "      <td>DDD</td>\n",
       "      <td>25368.0</td>\n",
       "      <td>86.84</td>\n",
       "      <td>2014J_DDD</td>\n",
       "    </tr>\n",
       "  </tbody>\n",
       "</table>\n",
       "</div>"
      ],
      "text/plain": [
       "  code_presentation code_module  id_assessment  percentage     course\n",
       "0             2013B         DDD        25340.0       79.40  2013B_DDD\n",
       "1             2013J         DDD        25354.0       88.43  2013J_DDD\n",
       "2             2014B         CCC        24290.0       87.01  2014B_CCC\n",
       "3             2014B         DDD        25361.0       91.22  2014B_DDD\n",
       "4             2014J         CCC        24299.0       85.19  2014J_CCC\n",
       "5             2014J         DDD        25368.0       86.84  2014J_DDD"
      ]
     },
     "execution_count": 118,
     "metadata": {},
     "output_type": "execute_result"
    }
   ],
   "source": [
    "#считаем самый завершаемый экзамен в курсах\n",
    "\n",
    "ax_exam = (\n",
    "    df_edu.query('score > 40 & assessment_type == \"Exam\"&proportion_deadline!=0').groupby(['code_presentation', 'code_module', 'id_assessment']).size()\n",
    "    / df_edu.query('assessment_type == \"Exam\"' ).groupby(['code_presentation', 'code_module', 'id_assessment']).size()\n",
    ").mul(100).round(2).reset_index().rename(columns = {0: 'percentage'})\n",
    "\n",
    "ax_exam['course'] = ax_exam.code_presentation + '_' + ax_exam.code_module\n",
    "ax_exam.sort_values(by = ['code_presentation', 'percentage'])"
   ]
  },
  {
   "cell_type": "code",
   "execution_count": 119,
   "id": "f15ff7a4-b54e-48a9-b84d-3c7531f875a6",
   "metadata": {
    "jupyter": {
     "source_hidden": true
    },
    "tags": []
   },
   "outputs": [
    {
     "data": {
      "image/png": "[encoded data removed]",
      "text/plain": [
       "<Figure size 720x360 with 1 Axes>"
      ]
     },
     "metadata": {
      "needs_background": "light"
     },
     "output_type": "display_data"
    }
   ],
   "source": [
    "#график с отражением самого завершаемого экзамена в каждом курсе\n",
    "plt.figure(figsize = (10,5))\n",
    "plt.rcParams['axes.spines.top'] = False # remove  frame's top line\n",
    "plt.rcParams['axes.spines.right'] = False # remove  frame's right line\n",
    "\n",
    "clrs_palette = ['purple' if x == max(ax_exam.percentage) or x == min(ax_exam.percentage) else 'lightgrey' for x in ax_exam.percentage]\n",
    "axes = sns.barplot( x =ax_exam.course, y = ax_exam.percentage, palette = clrs_palette )\n",
    "axes.tick_params(axis = 'x', rotation = 45)\n",
    "axes.set_xlabel('Экзамен', fontsize = 15)\n",
    "axes.set_ylabel('Процент завершаемости', fontsize = 15)\n",
    "axes.bar_label(axes.containers[0], fontsize = 13)\n",
    "plt.show()"
   ]
  },
  {
   "cell_type": "markdown",
   "id": "a3f6242c-9f92-4ecf-b5ec-0b6b534f3ebb",
   "metadata": {
    "tags": []
   },
   "source": [
    "#### 9.2 Рассчет самого завершаемого курса<a name = \"task_9_3\">"
   ]
  },
  {
   "cell_type": "markdown",
   "id": "257d628a-1b6a-46a3-9b20-f04652a25423",
   "metadata": {},
   "source": [
    "Рассчит доли завершаемости курсов:\n",
    "1. рассчитываем сколько всего студентоы сделало попыток сдать задания по курсу, с учетом дублирований `num_test_course`\n",
    "2. рассчитываем кол-во студентов, которые сдали курс `pass_num_test_course`\n",
    "3. рассчитываем завершаемость курса `pass_num_test_course`\n",
    "\n",
    "- Самый **легкий курс 2013J AAA** - его сдали 20% студентов\n",
    "- Самым **сложый курс 2013B DDD** - его сдали 2% студентов"
   ]
  },
  {
   "cell_type": "code",
   "execution_count": 120,
   "id": "8bd944b7-1472-48f4-90c4-04e236d20e06",
   "metadata": {
    "tags": []
   },
   "outputs": [
    {
     "data": {
      "text/html": [
       "<div>\n",
       "<style scoped>\n",
       "    .dataframe tbody tr th:only-of-type {\n",
       "        vertical-align: middle;\n",
       "    }\n",
       "\n",
       "    .dataframe tbody tr th {\n",
       "        vertical-align: top;\n",
       "    }\n",
       "\n",
       "    .dataframe thead th {\n",
       "        text-align: right;\n",
       "    }\n",
       "</style>\n",
       "<table border=\"1\" class=\"dataframe\">\n",
       "  <thead>\n",
       "    <tr style=\"text-align: right;\">\n",
       "      <th></th>\n",
       "      <th>code_presentation</th>\n",
       "      <th>code_module</th>\n",
       "      <th>id_student</th>\n",
       "    </tr>\n",
       "  </thead>\n",
       "  <tbody>\n",
       "    <tr>\n",
       "      <th>0</th>\n",
       "      <td>2013B</td>\n",
       "      <td>BBB</td>\n",
       "      <td>1369</td>\n",
       "    </tr>\n",
       "    <tr>\n",
       "      <th>1</th>\n",
       "      <td>2013B</td>\n",
       "      <td>DDD</td>\n",
       "      <td>1065</td>\n",
       "    </tr>\n",
       "    <tr>\n",
       "      <th>2</th>\n",
       "      <td>2013B</td>\n",
       "      <td>FFF</td>\n",
       "      <td>1371</td>\n",
       "    </tr>\n",
       "    <tr>\n",
       "      <th>3</th>\n",
       "      <td>2013J</td>\n",
       "      <td>AAA</td>\n",
       "      <td>365</td>\n",
       "    </tr>\n",
       "    <tr>\n",
       "      <th>4</th>\n",
       "      <td>2013J</td>\n",
       "      <td>BBB</td>\n",
       "      <td>1710</td>\n",
       "    </tr>\n",
       "    <tr>\n",
       "      <th>5</th>\n",
       "      <td>2013J</td>\n",
       "      <td>DDD</td>\n",
       "      <td>1507</td>\n",
       "    </tr>\n",
       "    <tr>\n",
       "      <th>6</th>\n",
       "      <td>2013J</td>\n",
       "      <td>EEE</td>\n",
       "      <td>827</td>\n",
       "    </tr>\n",
       "    <tr>\n",
       "      <th>7</th>\n",
       "      <td>2013J</td>\n",
       "      <td>FFF</td>\n",
       "      <td>1874</td>\n",
       "    </tr>\n",
       "    <tr>\n",
       "      <th>8</th>\n",
       "      <td>2013J</td>\n",
       "      <td>GGG</td>\n",
       "      <td>819</td>\n",
       "    </tr>\n",
       "    <tr>\n",
       "      <th>9</th>\n",
       "      <td>2014B</td>\n",
       "      <td>BBB</td>\n",
       "      <td>1205</td>\n",
       "    </tr>\n",
       "    <tr>\n",
       "      <th>10</th>\n",
       "      <td>2014B</td>\n",
       "      <td>CCC</td>\n",
       "      <td>1415</td>\n",
       "    </tr>\n",
       "    <tr>\n",
       "      <th>11</th>\n",
       "      <td>2014B</td>\n",
       "      <td>DDD</td>\n",
       "      <td>944</td>\n",
       "    </tr>\n",
       "    <tr>\n",
       "      <th>12</th>\n",
       "      <td>2014B</td>\n",
       "      <td>EEE</td>\n",
       "      <td>536</td>\n",
       "    </tr>\n",
       "    <tr>\n",
       "      <th>13</th>\n",
       "      <td>2014B</td>\n",
       "      <td>FFF</td>\n",
       "      <td>1206</td>\n",
       "    </tr>\n",
       "    <tr>\n",
       "      <th>14</th>\n",
       "      <td>2014B</td>\n",
       "      <td>GGG</td>\n",
       "      <td>689</td>\n",
       "    </tr>\n",
       "    <tr>\n",
       "      <th>15</th>\n",
       "      <td>2014J</td>\n",
       "      <td>AAA</td>\n",
       "      <td>340</td>\n",
       "    </tr>\n",
       "    <tr>\n",
       "      <th>16</th>\n",
       "      <td>2014J</td>\n",
       "      <td>BBB</td>\n",
       "      <td>1793</td>\n",
       "    </tr>\n",
       "    <tr>\n",
       "      <th>17</th>\n",
       "      <td>2014J</td>\n",
       "      <td>CCC</td>\n",
       "      <td>1998</td>\n",
       "    </tr>\n",
       "    <tr>\n",
       "      <th>18</th>\n",
       "      <td>2014J</td>\n",
       "      <td>DDD</td>\n",
       "      <td>1428</td>\n",
       "    </tr>\n",
       "    <tr>\n",
       "      <th>19</th>\n",
       "      <td>2014J</td>\n",
       "      <td>EEE</td>\n",
       "      <td>935</td>\n",
       "    </tr>\n",
       "    <tr>\n",
       "      <th>20</th>\n",
       "      <td>2014J</td>\n",
       "      <td>FFF</td>\n",
       "      <td>1843</td>\n",
       "    </tr>\n",
       "    <tr>\n",
       "      <th>21</th>\n",
       "      <td>2014J</td>\n",
       "      <td>GGG</td>\n",
       "      <td>604</td>\n",
       "    </tr>\n",
       "  </tbody>\n",
       "</table>\n",
       "</div>"
      ],
      "text/plain": [
       "   code_presentation code_module  id_student\n",
       "0              2013B         BBB        1369\n",
       "1              2013B         DDD        1065\n",
       "2              2013B         FFF        1371\n",
       "3              2013J         AAA         365\n",
       "4              2013J         BBB        1710\n",
       "5              2013J         DDD        1507\n",
       "6              2013J         EEE         827\n",
       "7              2013J         FFF        1874\n",
       "8              2013J         GGG         819\n",
       "9              2014B         BBB        1205\n",
       "10             2014B         CCC        1415\n",
       "11             2014B         DDD         944\n",
       "12             2014B         EEE         536\n",
       "13             2014B         FFF        1206\n",
       "14             2014B         GGG         689\n",
       "15             2014J         AAA         340\n",
       "16             2014J         BBB        1793\n",
       "17             2014J         CCC        1998\n",
       "18             2014J         DDD        1428\n",
       "19             2014J         EEE         935\n",
       "20             2014J         FFF        1843\n",
       "21             2014J         GGG         604"
      ]
     },
     "execution_count": 120,
     "metadata": {},
     "output_type": "execute_result"
    }
   ],
   "source": [
    "#общее кол-во отправленных тестов, в каждом курсе\n",
    "\n",
    "num_test_course = df_edu.query('date_submitted.notnull()').groupby(['code_presentation', 'code_module'], as_index=False)['id_student'].nunique().sort_values(by=['code_presentation', 'code_module', 'id_student'])\n",
    "num_test_course"
   ]
  },
  {
   "cell_type": "code",
   "execution_count": 121,
   "id": "0e237a28-d78d-4227-adc0-3b16824a4172",
   "metadata": {
    "tags": []
   },
   "outputs": [
    {
     "data": {
      "text/html": [
       "<div>\n",
       "<style scoped>\n",
       "    .dataframe tbody tr th:only-of-type {\n",
       "        vertical-align: middle;\n",
       "    }\n",
       "\n",
       "    .dataframe tbody tr th {\n",
       "        vertical-align: top;\n",
       "    }\n",
       "\n",
       "    .dataframe thead th {\n",
       "        text-align: right;\n",
       "    }\n",
       "</style>\n",
       "<table border=\"1\" class=\"dataframe\">\n",
       "  <thead>\n",
       "    <tr style=\"text-align: right;\">\n",
       "      <th></th>\n",
       "      <th>code_presentation</th>\n",
       "      <th>code_module</th>\n",
       "      <th>id_student</th>\n",
       "    </tr>\n",
       "  </thead>\n",
       "  <tbody>\n",
       "    <tr>\n",
       "      <th>0</th>\n",
       "      <td>2013B</td>\n",
       "      <td>BBB</td>\n",
       "      <td>488</td>\n",
       "    </tr>\n",
       "    <tr>\n",
       "      <th>1</th>\n",
       "      <td>2013B</td>\n",
       "      <td>DDD</td>\n",
       "      <td>250</td>\n",
       "    </tr>\n",
       "    <tr>\n",
       "      <th>2</th>\n",
       "      <td>2013B</td>\n",
       "      <td>FFF</td>\n",
       "      <td>726</td>\n",
       "    </tr>\n",
       "    <tr>\n",
       "      <th>3</th>\n",
       "      <td>2013J</td>\n",
       "      <td>AAA</td>\n",
       "      <td>273</td>\n",
       "    </tr>\n",
       "    <tr>\n",
       "      <th>4</th>\n",
       "      <td>2013J</td>\n",
       "      <td>BBB</td>\n",
       "      <td>731</td>\n",
       "    </tr>\n",
       "    <tr>\n",
       "      <th>5</th>\n",
       "      <td>2013J</td>\n",
       "      <td>DDD</td>\n",
       "      <td>541</td>\n",
       "    </tr>\n",
       "    <tr>\n",
       "      <th>6</th>\n",
       "      <td>2013J</td>\n",
       "      <td>EEE</td>\n",
       "      <td>584</td>\n",
       "    </tr>\n",
       "    <tr>\n",
       "      <th>7</th>\n",
       "      <td>2013J</td>\n",
       "      <td>FFF</td>\n",
       "      <td>942</td>\n",
       "    </tr>\n",
       "    <tr>\n",
       "      <th>8</th>\n",
       "      <td>2013J</td>\n",
       "      <td>GGG</td>\n",
       "      <td>383</td>\n",
       "    </tr>\n",
       "    <tr>\n",
       "      <th>9</th>\n",
       "      <td>2014B</td>\n",
       "      <td>BBB</td>\n",
       "      <td>427</td>\n",
       "    </tr>\n",
       "    <tr>\n",
       "      <th>10</th>\n",
       "      <td>2014B</td>\n",
       "      <td>CCC</td>\n",
       "      <td>342</td>\n",
       "    </tr>\n",
       "    <tr>\n",
       "      <th>11</th>\n",
       "      <td>2014B</td>\n",
       "      <td>DDD</td>\n",
       "      <td>274</td>\n",
       "    </tr>\n",
       "    <tr>\n",
       "      <th>12</th>\n",
       "      <td>2014B</td>\n",
       "      <td>EEE</td>\n",
       "      <td>335</td>\n",
       "    </tr>\n",
       "    <tr>\n",
       "      <th>13</th>\n",
       "      <td>2014B</td>\n",
       "      <td>FFF</td>\n",
       "      <td>589</td>\n",
       "    </tr>\n",
       "    <tr>\n",
       "      <th>14</th>\n",
       "      <td>2014B</td>\n",
       "      <td>GGG</td>\n",
       "      <td>314</td>\n",
       "    </tr>\n",
       "    <tr>\n",
       "      <th>15</th>\n",
       "      <td>2014J</td>\n",
       "      <td>AAA</td>\n",
       "      <td>246</td>\n",
       "    </tr>\n",
       "    <tr>\n",
       "      <th>16</th>\n",
       "      <td>2014J</td>\n",
       "      <td>BBB</td>\n",
       "      <td>695</td>\n",
       "    </tr>\n",
       "    <tr>\n",
       "      <th>17</th>\n",
       "      <td>2014J</td>\n",
       "      <td>CCC</td>\n",
       "      <td>577</td>\n",
       "    </tr>\n",
       "    <tr>\n",
       "      <th>18</th>\n",
       "      <td>2014J</td>\n",
       "      <td>DDD</td>\n",
       "      <td>638</td>\n",
       "    </tr>\n",
       "    <tr>\n",
       "      <th>19</th>\n",
       "      <td>2014J</td>\n",
       "      <td>EEE</td>\n",
       "      <td>657</td>\n",
       "    </tr>\n",
       "    <tr>\n",
       "      <th>20</th>\n",
       "      <td>2014J</td>\n",
       "      <td>FFF</td>\n",
       "      <td>966</td>\n",
       "    </tr>\n",
       "    <tr>\n",
       "      <th>21</th>\n",
       "      <td>2014J</td>\n",
       "      <td>GGG</td>\n",
       "      <td>274</td>\n",
       "    </tr>\n",
       "  </tbody>\n",
       "</table>\n",
       "</div>"
      ],
      "text/plain": [
       "   code_presentation code_module  id_student\n",
       "0              2013B         BBB         488\n",
       "1              2013B         DDD         250\n",
       "2              2013B         FFF         726\n",
       "3              2013J         AAA         273\n",
       "4              2013J         BBB         731\n",
       "5              2013J         DDD         541\n",
       "6              2013J         EEE         584\n",
       "7              2013J         FFF         942\n",
       "8              2013J         GGG         383\n",
       "9              2014B         BBB         427\n",
       "10             2014B         CCC         342\n",
       "11             2014B         DDD         274\n",
       "12             2014B         EEE         335\n",
       "13             2014B         FFF         589\n",
       "14             2014B         GGG         314\n",
       "15             2014J         AAA         246\n",
       "16             2014J         BBB         695\n",
       "17             2014J         CCC         577\n",
       "18             2014J         DDD         638\n",
       "19             2014J         EEE         657\n",
       "20             2014J         FFF         966\n",
       "21             2014J         GGG         274"
      ]
     },
     "execution_count": 121,
     "metadata": {},
     "output_type": "execute_result"
    }
   ],
   "source": [
    "#кол-во студентов, успешно сдавших курс\n",
    "\n",
    "pass_num_test_course = (\n",
    "    pass_modul.query('num_tests_pass == num_tests_aim').\n",
    "    groupby(['code_presentation', 'code_module', 'id_student'], as_index = False)['num_tests_pass'].\n",
    "    sum().groupby(['code_presentation', 'code_module'], as_index=False)['id_student'].\n",
    "    nunique()).sort_values(by=['code_presentation', 'code_module', 'id_student'])\n",
    "pass_num_test_course"
   ]
  },
  {
   "cell_type": "code",
   "execution_count": 122,
   "id": "b8d172f8-120d-43bf-acaf-09fa8fcec947",
   "metadata": {
    "tags": []
   },
   "outputs": [
    {
     "data": {
      "text/html": [
       "<div>\n",
       "<style scoped>\n",
       "    .dataframe tbody tr th:only-of-type {\n",
       "        vertical-align: middle;\n",
       "    }\n",
       "\n",
       "    .dataframe tbody tr th {\n",
       "        vertical-align: top;\n",
       "    }\n",
       "\n",
       "    .dataframe thead th {\n",
       "        text-align: right;\n",
       "    }\n",
       "</style>\n",
       "<table border=\"1\" class=\"dataframe\">\n",
       "  <thead>\n",
       "    <tr style=\"text-align: right;\">\n",
       "      <th></th>\n",
       "      <th>code_presentation</th>\n",
       "      <th>code_module</th>\n",
       "      <th>id_student</th>\n",
       "      <th>proportion</th>\n",
       "      <th>course</th>\n",
       "    </tr>\n",
       "  </thead>\n",
       "  <tbody>\n",
       "    <tr>\n",
       "      <th>0</th>\n",
       "      <td>2013B</td>\n",
       "      <td>BBB</td>\n",
       "      <td>488</td>\n",
       "      <td>35.65</td>\n",
       "      <td>2013B_BBB</td>\n",
       "    </tr>\n",
       "    <tr>\n",
       "      <th>1</th>\n",
       "      <td>2013B</td>\n",
       "      <td>DDD</td>\n",
       "      <td>250</td>\n",
       "      <td>23.47</td>\n",
       "      <td>2013B_DDD</td>\n",
       "    </tr>\n",
       "    <tr>\n",
       "      <th>2</th>\n",
       "      <td>2013B</td>\n",
       "      <td>FFF</td>\n",
       "      <td>726</td>\n",
       "      <td>52.95</td>\n",
       "      <td>2013B_FFF</td>\n",
       "    </tr>\n",
       "    <tr>\n",
       "      <th>3</th>\n",
       "      <td>2013J</td>\n",
       "      <td>AAA</td>\n",
       "      <td>273</td>\n",
       "      <td>74.79</td>\n",
       "      <td>2013J_AAA</td>\n",
       "    </tr>\n",
       "    <tr>\n",
       "      <th>4</th>\n",
       "      <td>2013J</td>\n",
       "      <td>BBB</td>\n",
       "      <td>731</td>\n",
       "      <td>42.75</td>\n",
       "      <td>2013J_BBB</td>\n",
       "    </tr>\n",
       "    <tr>\n",
       "      <th>5</th>\n",
       "      <td>2013J</td>\n",
       "      <td>DDD</td>\n",
       "      <td>541</td>\n",
       "      <td>35.90</td>\n",
       "      <td>2013J_DDD</td>\n",
       "    </tr>\n",
       "    <tr>\n",
       "      <th>6</th>\n",
       "      <td>2013J</td>\n",
       "      <td>EEE</td>\n",
       "      <td>584</td>\n",
       "      <td>70.62</td>\n",
       "      <td>2013J_EEE</td>\n",
       "    </tr>\n",
       "    <tr>\n",
       "      <th>7</th>\n",
       "      <td>2013J</td>\n",
       "      <td>FFF</td>\n",
       "      <td>942</td>\n",
       "      <td>50.27</td>\n",
       "      <td>2013J_FFF</td>\n",
       "    </tr>\n",
       "    <tr>\n",
       "      <th>8</th>\n",
       "      <td>2013J</td>\n",
       "      <td>GGG</td>\n",
       "      <td>383</td>\n",
       "      <td>46.76</td>\n",
       "      <td>2013J_GGG</td>\n",
       "    </tr>\n",
       "    <tr>\n",
       "      <th>9</th>\n",
       "      <td>2014B</td>\n",
       "      <td>BBB</td>\n",
       "      <td>427</td>\n",
       "      <td>35.44</td>\n",
       "      <td>2014B_BBB</td>\n",
       "    </tr>\n",
       "    <tr>\n",
       "      <th>10</th>\n",
       "      <td>2014B</td>\n",
       "      <td>CCC</td>\n",
       "      <td>342</td>\n",
       "      <td>24.17</td>\n",
       "      <td>2014B_CCC</td>\n",
       "    </tr>\n",
       "    <tr>\n",
       "      <th>11</th>\n",
       "      <td>2014B</td>\n",
       "      <td>DDD</td>\n",
       "      <td>274</td>\n",
       "      <td>29.03</td>\n",
       "      <td>2014B_DDD</td>\n",
       "    </tr>\n",
       "    <tr>\n",
       "      <th>12</th>\n",
       "      <td>2014B</td>\n",
       "      <td>EEE</td>\n",
       "      <td>335</td>\n",
       "      <td>62.50</td>\n",
       "      <td>2014B_EEE</td>\n",
       "    </tr>\n",
       "    <tr>\n",
       "      <th>13</th>\n",
       "      <td>2014B</td>\n",
       "      <td>FFF</td>\n",
       "      <td>589</td>\n",
       "      <td>48.84</td>\n",
       "      <td>2014B_FFF</td>\n",
       "    </tr>\n",
       "    <tr>\n",
       "      <th>14</th>\n",
       "      <td>2014B</td>\n",
       "      <td>GGG</td>\n",
       "      <td>314</td>\n",
       "      <td>45.57</td>\n",
       "      <td>2014B_GGG</td>\n",
       "    </tr>\n",
       "    <tr>\n",
       "      <th>15</th>\n",
       "      <td>2014J</td>\n",
       "      <td>AAA</td>\n",
       "      <td>246</td>\n",
       "      <td>72.35</td>\n",
       "      <td>2014J_AAA</td>\n",
       "    </tr>\n",
       "    <tr>\n",
       "      <th>16</th>\n",
       "      <td>2014J</td>\n",
       "      <td>BBB</td>\n",
       "      <td>695</td>\n",
       "      <td>38.76</td>\n",
       "      <td>2014J_BBB</td>\n",
       "    </tr>\n",
       "    <tr>\n",
       "      <th>17</th>\n",
       "      <td>2014J</td>\n",
       "      <td>CCC</td>\n",
       "      <td>577</td>\n",
       "      <td>28.88</td>\n",
       "      <td>2014J_CCC</td>\n",
       "    </tr>\n",
       "    <tr>\n",
       "      <th>18</th>\n",
       "      <td>2014J</td>\n",
       "      <td>DDD</td>\n",
       "      <td>638</td>\n",
       "      <td>44.68</td>\n",
       "      <td>2014J_DDD</td>\n",
       "    </tr>\n",
       "    <tr>\n",
       "      <th>19</th>\n",
       "      <td>2014J</td>\n",
       "      <td>EEE</td>\n",
       "      <td>657</td>\n",
       "      <td>70.27</td>\n",
       "      <td>2014J_EEE</td>\n",
       "    </tr>\n",
       "    <tr>\n",
       "      <th>20</th>\n",
       "      <td>2014J</td>\n",
       "      <td>FFF</td>\n",
       "      <td>966</td>\n",
       "      <td>52.41</td>\n",
       "      <td>2014J_FFF</td>\n",
       "    </tr>\n",
       "    <tr>\n",
       "      <th>21</th>\n",
       "      <td>2014J</td>\n",
       "      <td>GGG</td>\n",
       "      <td>274</td>\n",
       "      <td>45.36</td>\n",
       "      <td>2014J_GGG</td>\n",
       "    </tr>\n",
       "  </tbody>\n",
       "</table>\n",
       "</div>"
      ],
      "text/plain": [
       "   code_presentation code_module  id_student  proportion     course\n",
       "0              2013B         BBB         488       35.65  2013B_BBB\n",
       "1              2013B         DDD         250       23.47  2013B_DDD\n",
       "2              2013B         FFF         726       52.95  2013B_FFF\n",
       "3              2013J         AAA         273       74.79  2013J_AAA\n",
       "4              2013J         BBB         731       42.75  2013J_BBB\n",
       "5              2013J         DDD         541       35.90  2013J_DDD\n",
       "6              2013J         EEE         584       70.62  2013J_EEE\n",
       "7              2013J         FFF         942       50.27  2013J_FFF\n",
       "8              2013J         GGG         383       46.76  2013J_GGG\n",
       "9              2014B         BBB         427       35.44  2014B_BBB\n",
       "10             2014B         CCC         342       24.17  2014B_CCC\n",
       "11             2014B         DDD         274       29.03  2014B_DDD\n",
       "12             2014B         EEE         335       62.50  2014B_EEE\n",
       "13             2014B         FFF         589       48.84  2014B_FFF\n",
       "14             2014B         GGG         314       45.57  2014B_GGG\n",
       "15             2014J         AAA         246       72.35  2014J_AAA\n",
       "16             2014J         BBB         695       38.76  2014J_BBB\n",
       "17             2014J         CCC         577       28.88  2014J_CCC\n",
       "18             2014J         DDD         638       44.68  2014J_DDD\n",
       "19             2014J         EEE         657       70.27  2014J_EEE\n",
       "20             2014J         FFF         966       52.41  2014J_FFF\n",
       "21             2014J         GGG         274       45.36  2014J_GGG"
      ]
     },
     "execution_count": 122,
     "metadata": {},
     "output_type": "execute_result"
    }
   ],
   "source": [
    "#расчет завершаемости курса\n",
    "pass_num_test_course['proportion'] = np.round(pass_num_test_course.id_student/num_test_course.id_student*100,2)\n",
    "pass_num_test_course['course'] = pass_num_test_course.code_presentation + '_' + pass_num_test_course.code_module\n",
    "pass_num_test_course"
   ]
  },
  {
   "cell_type": "code",
   "execution_count": 123,
   "id": "13d421e9-8b23-431b-9786-86ecfd023153",
   "metadata": {},
   "outputs": [
    {
     "data": {
      "image/png": "[encoded data removed]",
      "text/plain": [
       "<Figure size 1224x360 with 1 Axes>"
      ]
     },
     "metadata": {
      "needs_background": "light"
     },
     "output_type": "display_data"
    }
   ],
   "source": [
    "plt.figure(figsize = (17,5))\n",
    "plt.rcParams['axes.spines.top'] = False # remove  frame's top line\n",
    "plt.rcParams['axes.spines.right'] = False # remove  frame's right line\n",
    "\n",
    "clrs = ['green' if (x == max(pass_num_test_course.proportion)) or (x == min(pass_num_test_course.proportion)) else 'lightgrey' for x in pass_num_test_course.proportion]\n",
    "axes = sns.barplot(data= pass_num_test_course, x ='course', y = 'proportion', palette= clrs)\n",
    "axes.tick_params(axis = 'x', rotation = 45)\n",
    "axes.set_xlabel('Курс', fontsize = 15)\n",
    "axes.set_ylabel('Процент завершаемости', fontsize = 15)\n",
    "axes.bar_label(axes.containers[0], fontsize = 13)\n",
    "plt.show()"
   ]
  },
  {
   "cell_type": "markdown",
   "id": "1088d456-7dc8-4848-8ffc-6a58012663ed",
   "metadata": {
    "tags": []
   },
   "source": [
    "### 10. Задание 3<a name = \"task_3\">"
   ]
  },
  {
   "cell_type": "markdown",
   "id": "58310d84-b316-4987-b761-b488663b4efc",
   "metadata": {},
   "source": [
    "Задание: По каждому предмету определи средний срок сдачи экзаменов \n",
    "- *(под сдачей понимаем последнее успешное прохождение экзамена студентом)*"
   ]
  },
  {
   "cell_type": "markdown",
   "id": "28eca5fd-4de2-413b-8255-4c70825b5039",
   "metadata": {
    "tags": []
   },
   "source": [
    "#### 10.1 Средний срок сдачи экзамена, по каждому предмету<a name = \"task_10_1\">\n",
    "\n",
    "- ранее выяснили, что экзамены сдавались не по всем курсам, поэтому в первом случае рассчитаем только средний срок сдачи экзаменов по курсам, где они встречатся:\n",
    "\n",
    "CCC |239.34\n",
    "----|------\n",
    "DDD\t|238.0\n",
    "\n"
   ]
  },
  {
   "cell_type": "markdown",
   "id": "e99ce2bd-7418-4fc5-9ea4-b7735a5647d1",
   "metadata": {},
   "source": [
    "- найдем студентов, которые сдавали экзамен несколько раз\n",
    "- оставим только тот экзамен, который был сдан позже"
   ]
  },
  {
   "cell_type": "code",
   "execution_count": 124,
   "id": "2c8aa57f-3096-4983-b202-58cf74106d0d",
   "metadata": {},
   "outputs": [],
   "source": [
    "#собрала все индексы студентов, которые сдавали экзамен по предмету больше чем один раз\n",
    "\n",
    "date_mean = df_edu.query('assessment_type == \"Exam\" & score > 40').groupby(['id_student', 'code_module']).date_submitted.size().sort_values(ascending = False).to_frame().query('date_submitted > 1')"
   ]
  },
  {
   "cell_type": "code",
   "execution_count": 125,
   "id": "7bf2fbe3-21ba-4658-a3f5-257d1ed53d01",
   "metadata": {},
   "outputs": [
    {
     "data": {
      "text/html": [
       "<div>\n",
       "<style scoped>\n",
       "    .dataframe tbody tr th:only-of-type {\n",
       "        vertical-align: middle;\n",
       "    }\n",
       "\n",
       "    .dataframe tbody tr th {\n",
       "        vertical-align: top;\n",
       "    }\n",
       "\n",
       "    .dataframe thead th {\n",
       "        text-align: right;\n",
       "    }\n",
       "</style>\n",
       "<table border=\"1\" class=\"dataframe\">\n",
       "  <thead>\n",
       "    <tr style=\"text-align: right;\">\n",
       "      <th></th>\n",
       "      <th></th>\n",
       "      <th>date_submitted</th>\n",
       "    </tr>\n",
       "    <tr>\n",
       "      <th>id_student</th>\n",
       "      <th>code_module</th>\n",
       "      <th></th>\n",
       "    </tr>\n",
       "  </thead>\n",
       "  <tbody>\n",
       "    <tr>\n",
       "      <th>605118</th>\n",
       "      <th>DDD</th>\n",
       "      <td>2</td>\n",
       "    </tr>\n",
       "    <tr>\n",
       "      <th>593903</th>\n",
       "      <th>DDD</th>\n",
       "      <td>2</td>\n",
       "    </tr>\n",
       "  </tbody>\n",
       "</table>\n",
       "</div>"
      ],
      "text/plain": [
       "                        date_submitted\n",
       "id_student code_module                \n",
       "605118     DDD                       2\n",
       "593903     DDD                       2"
      ]
     },
     "execution_count": 125,
     "metadata": {},
     "output_type": "execute_result"
    }
   ],
   "source": [
    "date_mean"
   ]
  },
  {
   "cell_type": "code",
   "execution_count": 126,
   "id": "98d684ae-a25e-4410-9f24-4fd3370f9d87",
   "metadata": {},
   "outputs": [
    {
     "data": {
      "text/plain": [
       "(4280, 14)"
      ]
     },
     "execution_count": 126,
     "metadata": {},
     "output_type": "execute_result"
    }
   ],
   "source": [
    "#удалим записи студентов, которые сдавали экзамен больше 1 раза\n",
    "\n",
    "date_avg = df_edu.query('assessment_type == \"Exam\"&score > 40').sort_values(by = 'date_submitted').drop_duplicates(subset = ['id_student','code_module'], keep = 'first')\n",
    "date_avg.shape"
   ]
  },
  {
   "cell_type": "code",
   "execution_count": 127,
   "id": "eea4f523-acf8-4bfa-b500-1dbda0c1c1ed",
   "metadata": {},
   "outputs": [
    {
     "data": {
      "text/plain": [
       "0"
      ]
     },
     "execution_count": 127,
     "metadata": {},
     "output_type": "execute_result"
    }
   ],
   "source": [
    "#проверка на наличие nan\n",
    "\n",
    "date_avg.date_submitted.isna().sum()"
   ]
  },
  {
   "cell_type": "code",
   "execution_count": 128,
   "id": "7730174b-608a-4ac6-bee5-b0d7cb2196ee",
   "metadata": {
    "tags": []
   },
   "outputs": [
    {
     "data": {
      "text/plain": [
       "count    4280.000000\n",
       "mean      238.525701\n",
       "std         5.687573\n",
       "min       229.000000\n",
       "25%       234.000000\n",
       "50%       241.000000\n",
       "75%       243.000000\n",
       "max       285.000000\n",
       "Name: date_submitted, dtype: float64"
      ]
     },
     "execution_count": 128,
     "metadata": {},
     "output_type": "execute_result"
    }
   ],
   "source": [
    "#проверка статистики, проверить чтобы не было явных аномалий\n",
    "\n",
    "date_avg.date_submitted.describe()"
   ]
  },
  {
   "cell_type": "code",
   "execution_count": 129,
   "id": "99266a8b-09b3-45e4-9aac-0becbee5ad45",
   "metadata": {
    "jupyter": {
     "source_hidden": true
    },
    "tags": []
   },
   "outputs": [
    {
     "data": {
      "text/html": [
       "<div>\n",
       "<style scoped>\n",
       "    .dataframe tbody tr th:only-of-type {\n",
       "        vertical-align: middle;\n",
       "    }\n",
       "\n",
       "    .dataframe tbody tr th {\n",
       "        vertical-align: top;\n",
       "    }\n",
       "\n",
       "    .dataframe thead th {\n",
       "        text-align: right;\n",
       "    }\n",
       "</style>\n",
       "<table border=\"1\" class=\"dataframe\">\n",
       "  <thead>\n",
       "    <tr style=\"text-align: right;\">\n",
       "      <th></th>\n",
       "      <th>code_module</th>\n",
       "      <th>date_submitted</th>\n",
       "    </tr>\n",
       "  </thead>\n",
       "  <tbody>\n",
       "    <tr>\n",
       "      <th>0</th>\n",
       "      <td>CCC</td>\n",
       "      <td>239.34</td>\n",
       "    </tr>\n",
       "    <tr>\n",
       "      <th>1</th>\n",
       "      <td>DDD</td>\n",
       "      <td>238.02</td>\n",
       "    </tr>\n",
       "  </tbody>\n",
       "</table>\n",
       "</div>"
      ],
      "text/plain": [
       "  code_module  date_submitted\n",
       "0         CCC          239.34\n",
       "1         DDD          238.02"
      ]
     },
     "execution_count": 129,
     "metadata": {},
     "output_type": "execute_result"
    }
   ],
   "source": [
    "#считаем среднее время сдачи экзамена по предмету\n",
    "\n",
    "ax_date_avg = date_avg.groupby('code_module', as_index = False)['date_submitted'].mean().round(2)\n",
    "ax_date_avg.head()"
   ]
  },
  {
   "cell_type": "code",
   "execution_count": 130,
   "id": "41978dd4-8e4b-4063-966c-2316324a4c10",
   "metadata": {
    "jupyter": {
     "source_hidden": true
    },
    "tags": []
   },
   "outputs": [
    {
     "data": {
      "text/plain": [
       "[Text(0, 0, '239.34'), Text(0, 0, '238.02')]"
      ]
     },
     "execution_count": 130,
     "metadata": {},
     "output_type": "execute_result"
    },
    {
     "data": {
      "image/png": "[encoded data removed]",
      "text/plain": [
       "<Figure size 432x288 with 1 Axes>"
      ]
     },
     "metadata": {
      "needs_background": "light"
     },
     "output_type": "display_data"
    }
   ],
   "source": [
    "#barplot среднего времени сдачи предмета, основываясь только на экзамене\n",
    "\n",
    "axes = sns.barplot(data = ax_date_avg, x = 'code_module', y = 'date_submitted')\n",
    "axes.bar_label(axes.containers[0], fontsize = 13)"
   ]
  },
  {
   "cell_type": "markdown",
   "id": "e9a7ff7f-54b7-424a-bb37-1897174909f0",
   "metadata": {
    "tags": []
   },
   "source": [
    "#### 10.2 Средний срок сдачи курса<a name = \"task_10_2\">\n",
    "\n",
    "Взять в расчет среднего времени сдачи курса экзамены и тесты, так как не по всем предметам внутри семестра есть экзамены.<br>\n",
    "Полезной, в данном случае, являются таблица, полученная на шаге 8.2\n",
    ">- `pass_modul`"
   ]
  },
  {
   "cell_type": "code",
   "execution_count": 131,
   "id": "5ac8597c-4394-49e0-b197-aaadd20ce38c",
   "metadata": {
    "tags": []
   },
   "outputs": [
    {
     "data": {
      "text/html": [
       "<div>\n",
       "<style scoped>\n",
       "    .dataframe tbody tr th:only-of-type {\n",
       "        vertical-align: middle;\n",
       "    }\n",
       "\n",
       "    .dataframe tbody tr th {\n",
       "        vertical-align: top;\n",
       "    }\n",
       "\n",
       "    .dataframe thead th {\n",
       "        text-align: right;\n",
       "    }\n",
       "</style>\n",
       "<table border=\"1\" class=\"dataframe\">\n",
       "  <thead>\n",
       "    <tr style=\"text-align: right;\">\n",
       "      <th></th>\n",
       "      <th>code_module</th>\n",
       "      <th>avg_date_submitted_pass</th>\n",
       "    </tr>\n",
       "  </thead>\n",
       "  <tbody>\n",
       "    <tr>\n",
       "      <th>0</th>\n",
       "      <td>AAA</td>\n",
       "      <td>114.18</td>\n",
       "    </tr>\n",
       "    <tr>\n",
       "      <th>1</th>\n",
       "      <td>BBB</td>\n",
       "      <td>113.07</td>\n",
       "    </tr>\n",
       "    <tr>\n",
       "      <th>2</th>\n",
       "      <td>CCC</td>\n",
       "      <td>158.00</td>\n",
       "    </tr>\n",
       "    <tr>\n",
       "      <th>3</th>\n",
       "      <td>DDD</td>\n",
       "      <td>167.05</td>\n",
       "    </tr>\n",
       "    <tr>\n",
       "      <th>4</th>\n",
       "      <td>EEE</td>\n",
       "      <td>95.90</td>\n",
       "    </tr>\n",
       "    <tr>\n",
       "      <th>5</th>\n",
       "      <td>FFF</td>\n",
       "      <td>125.25</td>\n",
       "    </tr>\n",
       "    <tr>\n",
       "      <th>6</th>\n",
       "      <td>GGG</td>\n",
       "      <td>146.40</td>\n",
       "    </tr>\n",
       "  </tbody>\n",
       "</table>\n",
       "</div>"
      ],
      "text/plain": [
       "  code_module  avg_date_submitted_pass\n",
       "0         AAA                   114.18\n",
       "1         BBB                   113.07\n",
       "2         CCC                   158.00\n",
       "3         DDD                   167.05\n",
       "4         EEE                    95.90\n",
       "5         FFF                   125.25\n",
       "6         GGG                   146.40"
      ]
     },
     "execution_count": 131,
     "metadata": {},
     "output_type": "execute_result"
    }
   ],
   "source": [
    "# считаем среднее кол-во дней которое понадобилось студентам для полной сдачи предмета, учиывая все типы тестов и предметы.\n",
    "\n",
    "ax_pass_modul = pass_modul.query('num_tests_pass == num_tests_aim').groupby('code_module', as_index = False)['avg_date_submitted_pass'].mean().round(2)\n",
    "ax_pass_modul"
   ]
  },
  {
   "cell_type": "code",
   "execution_count": 132,
   "id": "f4603055-f81d-4eac-8be2-7591e6814489",
   "metadata": {
    "jupyter": {
     "source_hidden": true
    },
    "tags": []
   },
   "outputs": [
    {
     "data": {
      "image/png": "[encoded data removed]",
      "text/plain": [
       "<Figure size 720x360 with 1 Axes>"
      ]
     },
     "metadata": {
      "needs_background": "light"
     },
     "output_type": "display_data"
    }
   ],
   "source": [
    "#график среднего времени сдачи предмета за все время обучения в течении всех сесместров\n",
    "\n",
    "plt.figure(figsize = (10,5))\n",
    "plt.rcParams['axes.spines.top'] = False # remove  frame's top line\n",
    "plt.rcParams['axes.spines.right'] = False # remove  frame's right line\n",
    "\n",
    "clrs = ['#82E0AA' if (x == max(ax_pass_modul.avg_date_submitted_pass)) or (x == min(ax_pass_modul.avg_date_submitted_pass)) else 'lightgrey' for x in ax_pass_modul.avg_date_submitted_pass]\n",
    "axes = sns.barplot(data= ax_pass_modul, x ='code_module', y = 'avg_date_submitted_pass', palette= clrs)\n",
    "axes.set_xlabel('Дисциплина', fontsize = 15)\n",
    "axes.set_ylabel('Среднее время сдачи', fontsize = 15)\n",
    "# axes.set_xticklabels(axes.get_xticks(), size=13)\n",
    "axes.bar_label(axes.containers[0], fontsize = 13)\n",
    "axes.set_title('Среднее время сдачи предмета за все время обучения', fontsize = 15)\n",
    "plt.xticks(fontsize=13)\n",
    "plt.show()\n",
    "#b.set_yticklabels(b.get_yticks(), size = 15)"
   ]
  },
  {
   "cell_type": "markdown",
   "id": "3d53009e-c4d7-4026-bc6d-da672a57d502",
   "metadata": {
    "tags": []
   },
   "source": [
    "### 11. Задание 4<a name = \"task_4\">"
   ]
  },
  {
   "cell_type": "markdown",
   "id": "f5c23fd5-1dde-4caa-b51e-c572724464f5",
   "metadata": {},
   "source": [
    "Задание: Выяви самые популярные предметы (ТОП-3) по количеству регистраций на них. А также предметы с самым большим оттоком (ТОП-3).\n",
    "\n",
    "- Популярными предметами в случае сформулированного задания будут считаться, те предметы на которые больше всего зарегистрировалось уникальных студентов\n",
    "\n",
    ">- **Популярные предметы: FFF, BBB, DDD**\n",
    ">- **Не популярные предметы: FFF, DDD, CCC**"
   ]
  },
  {
   "cell_type": "code",
   "execution_count": 133,
   "id": "92f8e2fe-dfe4-44cb-af3e-24c975bbb30b",
   "metadata": {
    "tags": []
   },
   "outputs": [
    {
     "data": {
      "text/html": [
       "<div>\n",
       "<style scoped>\n",
       "    .dataframe tbody tr th:only-of-type {\n",
       "        vertical-align: middle;\n",
       "    }\n",
       "\n",
       "    .dataframe tbody tr th {\n",
       "        vertical-align: top;\n",
       "    }\n",
       "\n",
       "    .dataframe thead th {\n",
       "        text-align: right;\n",
       "    }\n",
       "</style>\n",
       "<table border=\"1\" class=\"dataframe\">\n",
       "  <thead>\n",
       "    <tr style=\"text-align: right;\">\n",
       "      <th></th>\n",
       "      <th>code_module</th>\n",
       "      <th>date_registration</th>\n",
       "      <th>id_student</th>\n",
       "      <th>proportion</th>\n",
       "    </tr>\n",
       "  </thead>\n",
       "  <tbody>\n",
       "    <tr>\n",
       "      <th>0</th>\n",
       "      <td>AAA</td>\n",
       "      <td>3149</td>\n",
       "      <td>677</td>\n",
       "      <td>2.70</td>\n",
       "    </tr>\n",
       "    <tr>\n",
       "      <th>6</th>\n",
       "      <td>GGG</td>\n",
       "      <td>15219</td>\n",
       "      <td>2107</td>\n",
       "      <td>8.40</td>\n",
       "    </tr>\n",
       "    <tr>\n",
       "      <th>4</th>\n",
       "      <td>EEE</td>\n",
       "      <td>7892</td>\n",
       "      <td>2268</td>\n",
       "      <td>9.04</td>\n",
       "    </tr>\n",
       "    <tr>\n",
       "      <th>2</th>\n",
       "      <td>CCC</td>\n",
       "      <td>18939</td>\n",
       "      <td>3317</td>\n",
       "      <td>13.22</td>\n",
       "    </tr>\n",
       "    <tr>\n",
       "      <th>3</th>\n",
       "      <td>DDD</td>\n",
       "      <td>30859</td>\n",
       "      <td>4698</td>\n",
       "      <td>18.73</td>\n",
       "    </tr>\n",
       "    <tr>\n",
       "      <th>1</th>\n",
       "      <td>BBB</td>\n",
       "      <td>43032</td>\n",
       "      <td>5960</td>\n",
       "      <td>23.76</td>\n",
       "    </tr>\n",
       "    <tr>\n",
       "      <th>5</th>\n",
       "      <td>FFF</td>\n",
       "      <td>54815</td>\n",
       "      <td>6058</td>\n",
       "      <td>24.15</td>\n",
       "    </tr>\n",
       "  </tbody>\n",
       "</table>\n",
       "</div>"
      ],
      "text/plain": [
       "  code_module  date_registration  id_student  proportion\n",
       "0         AAA               3149         677        2.70\n",
       "6         GGG              15219        2107        8.40\n",
       "4         EEE               7892        2268        9.04\n",
       "2         CCC              18939        3317       13.22\n",
       "3         DDD              30859        4698       18.73\n",
       "1         BBB              43032        5960       23.76\n",
       "5         FFF              54815        6058       24.15"
      ]
     },
     "execution_count": 133,
     "metadata": {},
     "output_type": "execute_result"
    }
   ],
   "source": [
    "# общее кол-во регистраций с исключением NULL\n",
    "# в таблице Studentregistration на первых шагах отсутствующие значения заменены на -9999, чтобы при объединении таблиц не перепутать, те кто не зарегистрировался.\n",
    "\n",
    "popular_modul = df_edu.query('date_registration != -9999').groupby('code_module', as_index = False).agg({'date_registration':'count', 'id_student': 'nunique'}).sort_values(by = 'id_student')\n",
    "popular_modul['proportion'] = (popular_modul.id_student / popular_modul.id_student.sum()*100).round(2)\n",
    "popular_modul"
   ]
  },
  {
   "cell_type": "code",
   "execution_count": 134,
   "id": "8bcc49b4-e8d4-4672-aefa-bfa964715137",
   "metadata": {},
   "outputs": [
    {
     "data": {
      "text/html": [
       "<div>\n",
       "<style scoped>\n",
       "    .dataframe tbody tr th:only-of-type {\n",
       "        vertical-align: middle;\n",
       "    }\n",
       "\n",
       "    .dataframe tbody tr th {\n",
       "        vertical-align: top;\n",
       "    }\n",
       "\n",
       "    .dataframe thead th {\n",
       "        text-align: right;\n",
       "    }\n",
       "</style>\n",
       "<table border=\"1\" class=\"dataframe\">\n",
       "  <thead>\n",
       "    <tr style=\"text-align: right;\">\n",
       "      <th></th>\n",
       "      <th>code_module</th>\n",
       "      <th>date_unregistration</th>\n",
       "      <th>id_student</th>\n",
       "      <th>proportion</th>\n",
       "    </tr>\n",
       "  </thead>\n",
       "  <tbody>\n",
       "    <tr>\n",
       "      <th>0</th>\n",
       "      <td>AAA</td>\n",
       "      <td>220</td>\n",
       "      <td>88</td>\n",
       "      <td>1.97</td>\n",
       "    </tr>\n",
       "    <tr>\n",
       "      <th>6</th>\n",
       "      <td>GGG</td>\n",
       "      <td>270</td>\n",
       "      <td>108</td>\n",
       "      <td>2.42</td>\n",
       "    </tr>\n",
       "    <tr>\n",
       "      <th>4</th>\n",
       "      <td>EEE</td>\n",
       "      <td>421</td>\n",
       "      <td>234</td>\n",
       "      <td>5.24</td>\n",
       "    </tr>\n",
       "    <tr>\n",
       "      <th>1</th>\n",
       "      <td>BBB</td>\n",
       "      <td>2693</td>\n",
       "      <td>855</td>\n",
       "      <td>19.13</td>\n",
       "    </tr>\n",
       "    <tr>\n",
       "      <th>2</th>\n",
       "      <td>CCC</td>\n",
       "      <td>2531</td>\n",
       "      <td>1017</td>\n",
       "      <td>22.76</td>\n",
       "    </tr>\n",
       "    <tr>\n",
       "      <th>3</th>\n",
       "      <td>DDD</td>\n",
       "      <td>3523</td>\n",
       "      <td>1068</td>\n",
       "      <td>23.90</td>\n",
       "    </tr>\n",
       "    <tr>\n",
       "      <th>5</th>\n",
       "      <td>FFF</td>\n",
       "      <td>3397</td>\n",
       "      <td>1099</td>\n",
       "      <td>24.59</td>\n",
       "    </tr>\n",
       "  </tbody>\n",
       "</table>\n",
       "</div>"
      ],
      "text/plain": [
       "  code_module  date_unregistration  id_student  proportion\n",
       "0         AAA                  220          88        1.97\n",
       "6         GGG                  270         108        2.42\n",
       "4         EEE                  421         234        5.24\n",
       "1         BBB                 2693         855       19.13\n",
       "2         CCC                 2531        1017       22.76\n",
       "3         DDD                 3523        1068       23.90\n",
       "5         FFF                 3397        1099       24.59"
      ]
     },
     "execution_count": 134,
     "metadata": {},
     "output_type": "execute_result"
    }
   ],
   "source": [
    "#общее кол-во снятий с регистрации с исключением NULL\n",
    "#в таблице Studentregistration на первх шагах отсутствующие значения заменены на -9999, чтобы при объединении таблиц не перепутать, те кто не зарегистрировался.\n",
    "\n",
    "unpopular_modul = df_edu.query('date_unregistration != -9999').groupby('code_module', as_index = False).agg({'date_unregistration':'count', 'id_student': 'nunique'}).sort_values(by = 'id_student')\n",
    "unpopular_modul['proportion'] =( unpopular_modul.id_student / unpopular_modul.id_student.sum()*100).round(2)\n",
    "unpopular_modul"
   ]
  },
  {
   "cell_type": "code",
   "execution_count": 135,
   "id": "a73af907-b6b1-4233-bd3b-57b681bce6ec",
   "metadata": {
    "jupyter": {
     "source_hidden": true
    },
    "tags": []
   },
   "outputs": [
    {
     "data": {
      "image/png": "[encoded data removed]",
      "text/plain": [
       "<Figure size 1080x360 with 2 Axes>"
      ]
     },
     "metadata": {
      "needs_background": "light"
     },
     "output_type": "display_data"
    }
   ],
   "source": [
    "fig, axes = plt.subplots(nrows = 1, ncols =2, figsize = (15,5))\n",
    "plt.rcParams['axes.spines.top'] = False # remove  frame's top line\n",
    "plt.rcParams['axes.spines.right'] = False # remove  frame's right line\n",
    "\n",
    "sns.barplot(data= popular_modul, x ='code_module', y = 'proportion', color = '#4DD0E1', ax = axes[0])\n",
    "axes[0].set_xlabel('Дисциплина', fontsize = 15)\n",
    "axes[0].set_ylabel('Доля регистраций', fontsize = 15)\n",
    "# axes.set_xticklabels(axes.get_xticks(), size=13)\n",
    "axes[0].bar_label(axes[0].containers[0], fontsize = 13)\n",
    "axes[0].set_title('Доля регистраций уникальных студентов на предмет', fontsize = 15)\n",
    "\n",
    "sns.barplot(data= unpopular_modul, x ='code_module', y = 'proportion', color = '#C39BD3', ax = axes[1])\n",
    "axes[1].set_xlabel('Дисциплина', fontsize = 15)\n",
    "axes[1].set_ylabel('Доля регистраций', fontsize = 15)\n",
    "# axes.set_xticklabels(axes.get_xticks(), size=13)\n",
    "axes[1].bar_label(axes[1].containers[0], fontsize = 13)\n",
    "axes[1].set_title('Доля отписки уникальных студентов от предмета', fontsize = 15)\n",
    "\n",
    "plt.xticks(fontsize=13)\n",
    "plt.show()\n",
    "#b.set_yticklabels(b.get_yticks(), size = 15)"
   ]
  },
  {
   "cell_type": "markdown",
   "id": "043b4541-9189-4052-9406-f5fcc4b86a7d",
   "metadata": {},
   "source": [
    "- Среди самого популярного и одновременно не популярного оказались предеметы FFF и DDD, так как вероятно, вообще интерес к ним намного больше\n",
    "- Поэтому посмотрим популярность, на основе отношения отписки к подписке\n",
    "- Рассматривая такое отношение, получаем что :\n",
    ">- кол-во описок по отношению к подпискам самое большое по предметам: ССС, DDD, FFF\n",
    ">- кол-во регистраций по отношению к опискам больше по предметам: GGG, EEE, AAA"
   ]
  },
  {
   "cell_type": "code",
   "execution_count": 136,
   "id": "7188e89d-de3b-4705-a9d7-5dff5110b99b",
   "metadata": {
    "tags": []
   },
   "outputs": [
    {
     "data": {
      "text/html": [
       "<div>\n",
       "<style scoped>\n",
       "    .dataframe tbody tr th:only-of-type {\n",
       "        vertical-align: middle;\n",
       "    }\n",
       "\n",
       "    .dataframe tbody tr th {\n",
       "        vertical-align: top;\n",
       "    }\n",
       "\n",
       "    .dataframe thead th {\n",
       "        text-align: right;\n",
       "    }\n",
       "</style>\n",
       "<table border=\"1\" class=\"dataframe\">\n",
       "  <thead>\n",
       "    <tr style=\"text-align: right;\">\n",
       "      <th></th>\n",
       "      <th>code_module</th>\n",
       "      <th>date_unregistration</th>\n",
       "      <th>id_student_un</th>\n",
       "      <th>proportion_un</th>\n",
       "      <th>date_registration</th>\n",
       "      <th>id_student_pop</th>\n",
       "      <th>proportion_pop</th>\n",
       "      <th>rating</th>\n",
       "    </tr>\n",
       "  </thead>\n",
       "  <tbody>\n",
       "    <tr>\n",
       "      <th>1</th>\n",
       "      <td>GGG</td>\n",
       "      <td>270</td>\n",
       "      <td>108</td>\n",
       "      <td>2.42</td>\n",
       "      <td>15219</td>\n",
       "      <td>2107</td>\n",
       "      <td>8.40</td>\n",
       "      <td>5.13</td>\n",
       "    </tr>\n",
       "    <tr>\n",
       "      <th>2</th>\n",
       "      <td>EEE</td>\n",
       "      <td>421</td>\n",
       "      <td>234</td>\n",
       "      <td>5.24</td>\n",
       "      <td>7892</td>\n",
       "      <td>2268</td>\n",
       "      <td>9.04</td>\n",
       "      <td>10.32</td>\n",
       "    </tr>\n",
       "    <tr>\n",
       "      <th>0</th>\n",
       "      <td>AAA</td>\n",
       "      <td>220</td>\n",
       "      <td>88</td>\n",
       "      <td>1.97</td>\n",
       "      <td>3149</td>\n",
       "      <td>677</td>\n",
       "      <td>2.70</td>\n",
       "      <td>13.00</td>\n",
       "    </tr>\n",
       "    <tr>\n",
       "      <th>3</th>\n",
       "      <td>BBB</td>\n",
       "      <td>2693</td>\n",
       "      <td>855</td>\n",
       "      <td>19.13</td>\n",
       "      <td>43032</td>\n",
       "      <td>5960</td>\n",
       "      <td>23.76</td>\n",
       "      <td>14.35</td>\n",
       "    </tr>\n",
       "    <tr>\n",
       "      <th>6</th>\n",
       "      <td>FFF</td>\n",
       "      <td>3397</td>\n",
       "      <td>1099</td>\n",
       "      <td>24.59</td>\n",
       "      <td>54815</td>\n",
       "      <td>6058</td>\n",
       "      <td>24.15</td>\n",
       "      <td>18.14</td>\n",
       "    </tr>\n",
       "    <tr>\n",
       "      <th>5</th>\n",
       "      <td>DDD</td>\n",
       "      <td>3523</td>\n",
       "      <td>1068</td>\n",
       "      <td>23.90</td>\n",
       "      <td>30859</td>\n",
       "      <td>4698</td>\n",
       "      <td>18.73</td>\n",
       "      <td>22.73</td>\n",
       "    </tr>\n",
       "    <tr>\n",
       "      <th>4</th>\n",
       "      <td>CCC</td>\n",
       "      <td>2531</td>\n",
       "      <td>1017</td>\n",
       "      <td>22.76</td>\n",
       "      <td>18939</td>\n",
       "      <td>3317</td>\n",
       "      <td>13.22</td>\n",
       "      <td>30.66</td>\n",
       "    </tr>\n",
       "  </tbody>\n",
       "</table>\n",
       "</div>"
      ],
      "text/plain": [
       "  code_module  date_unregistration  id_student_un  proportion_un  \\\n",
       "1         GGG                  270            108           2.42   \n",
       "2         EEE                  421            234           5.24   \n",
       "0         AAA                  220             88           1.97   \n",
       "3         BBB                 2693            855          19.13   \n",
       "6         FFF                 3397           1099          24.59   \n",
       "5         DDD                 3523           1068          23.90   \n",
       "4         CCC                 2531           1017          22.76   \n",
       "\n",
       "   date_registration  id_student_pop  proportion_pop  rating  \n",
       "1              15219            2107            8.40    5.13  \n",
       "2               7892            2268            9.04   10.32  \n",
       "0               3149             677            2.70   13.00  \n",
       "3              43032            5960           23.76   14.35  \n",
       "6              54815            6058           24.15   18.14  \n",
       "5              30859            4698           18.73   22.73  \n",
       "4              18939            3317           13.22   30.66  "
      ]
     },
     "execution_count": 136,
     "metadata": {},
     "output_type": "execute_result"
    }
   ],
   "source": [
    "# расчет рейтинга курса на оснвове отношения кол-ва регистраций,к количеству отписок\n",
    "rating_modul = unpopular_modul.merge(popular_modul, how = 'inner', on = 'code_module', suffixes = ['_un', '_pop'])\n",
    "\n",
    "#считаем долю отписок к подпискам, по каждому предмету\n",
    "rating_modul['rating'] = np.round(rating_modul.id_student_un/rating_modul.id_student_pop *100,2)\n",
    "rating_modul.sort_values(by = 'rating', inplace = True)\n",
    "rating_modul"
   ]
  },
  {
   "cell_type": "code",
   "execution_count": 137,
   "id": "368a2341-579e-4870-bacb-88bd187c13a8",
   "metadata": {
    "jupyter": {
     "source_hidden": true
    },
    "tags": []
   },
   "outputs": [
    {
     "data": {
      "image/png": "[encoded data removed]",
      "text/plain": [
       "<Figure size 720x360 with 1 Axes>"
      ]
     },
     "metadata": {
      "needs_background": "light"
     },
     "output_type": "display_data"
    }
   ],
   "source": [
    "plt.figure(figsize = (10,5))\n",
    "plt.rcParams['axes.spines.top'] = False # remove  frame's top line\n",
    "plt.rcParams['axes.spines.right'] = False # remove  frame's right line\n",
    "\n",
    "axes = sns.barplot(data= rating_modul, x ='code_module', y = 'rating', color = '#F06292')\n",
    "axes.set_xlabel('Дисциплина', fontsize = 15)\n",
    "axes.set_ylabel('Доля регистраций', fontsize = 15)\n",
    "# axes.set_xticklabels(axes.get_xticks(), size=13)\n",
    "axes.bar_label(axes.containers[0], fontsize = 13)\n",
    "axes.set_title('Отношение кол-во отписок к количеству регистраций', fontsize = 15)\n",
    "plt.xticks(fontsize=13)\n",
    "plt.show()\n",
    "#b.set_yticklabels(b.get_yticks(), size = 15)"
   ]
  },
  {
   "cell_type": "markdown",
   "id": "7fed6ee6-2240-482b-baa3-29afa403a762",
   "metadata": {
    "tags": []
   },
   "source": [
    "### 12. Задание 5<a name = \"task_5\">"
   ]
  },
  {
   "cell_type": "markdown",
   "id": "cee2d597-0606-4804-b0ee-ebe7359a09b5",
   "metadata": {},
   "source": [
    "Задача: Используя pandas, в период с начала 2013 по конец 2014 выяви семестр с самой низкой завершаемостью курсов и самыми долгими средними сроками сдачи курсов.  (15 баллов)\n",
    "\n",
    "- **Семестр с самой низкой завершаемостью 2013B**\n",
    "- **Семестр с самым долгим временем сдачи 2014J**"
   ]
  },
  {
   "cell_type": "code",
   "execution_count": 138,
   "id": "7fcdd707-3d11-464a-a29a-238254b18e18",
   "metadata": {},
   "outputs": [
    {
     "data": {
      "text/html": [
       "<div>\n",
       "<style scoped>\n",
       "    .dataframe tbody tr th:only-of-type {\n",
       "        vertical-align: middle;\n",
       "    }\n",
       "\n",
       "    .dataframe tbody tr th {\n",
       "        vertical-align: top;\n",
       "    }\n",
       "\n",
       "    .dataframe thead th {\n",
       "        text-align: right;\n",
       "    }\n",
       "</style>\n",
       "<table border=\"1\" class=\"dataframe\">\n",
       "  <thead>\n",
       "    <tr style=\"text-align: right;\">\n",
       "      <th></th>\n",
       "      <th>code_presentation</th>\n",
       "      <th>num_pass</th>\n",
       "      <th>avg_pass_time</th>\n",
       "    </tr>\n",
       "  </thead>\n",
       "  <tbody>\n",
       "    <tr>\n",
       "      <th>0</th>\n",
       "      <td>2013B</td>\n",
       "      <td>1464</td>\n",
       "      <td>124.41</td>\n",
       "    </tr>\n",
       "    <tr>\n",
       "      <th>2</th>\n",
       "      <td>2014B</td>\n",
       "      <td>2281</td>\n",
       "      <td>128.81</td>\n",
       "    </tr>\n",
       "    <tr>\n",
       "      <th>1</th>\n",
       "      <td>2013J</td>\n",
       "      <td>3454</td>\n",
       "      <td>128.57</td>\n",
       "    </tr>\n",
       "    <tr>\n",
       "      <th>3</th>\n",
       "      <td>2014J</td>\n",
       "      <td>4053</td>\n",
       "      <td>130.92</td>\n",
       "    </tr>\n",
       "  </tbody>\n",
       "</table>\n",
       "</div>"
      ],
      "text/plain": [
       "  code_presentation  num_pass  avg_pass_time\n",
       "0             2013B      1464         124.41\n",
       "2             2014B      2281         128.81\n",
       "1             2013J      3454         128.57\n",
       "3             2014J      4053         130.92"
      ]
     },
     "execution_count": 138,
     "metadata": {},
     "output_type": "execute_result"
    }
   ],
   "source": [
    "#кол-во успешной сдачи курсво, в каждом семестре и среднее время сдачи\n",
    "pass_modul_tests = (\n",
    "    pass_modul.query('num_tests_pass == num_tests_aim').\n",
    "    groupby('code_presentation', as_index = False).\n",
    "    agg({'id_student': 'count', 'avg_date_submitted_pass':'mean'}).\n",
    "    rename(columns = {'id_student':'num_pass', 'avg_date_submitted_pass':'avg_pass_time'}).\n",
    "    round(2).sort_values(by = ['num_pass','avg_pass_time']))\n",
    "pass_modul_tests"
   ]
  },
  {
   "cell_type": "code",
   "execution_count": 139,
   "id": "9c5444c7-2bf7-403f-a031-3affd710eade",
   "metadata": {},
   "outputs": [
    {
     "data": {
      "text/html": [
       "<div>\n",
       "<style scoped>\n",
       "    .dataframe tbody tr th:only-of-type {\n",
       "        vertical-align: middle;\n",
       "    }\n",
       "\n",
       "    .dataframe tbody tr th {\n",
       "        vertical-align: top;\n",
       "    }\n",
       "\n",
       "    .dataframe thead th {\n",
       "        text-align: right;\n",
       "    }\n",
       "</style>\n",
       "<table border=\"1\" class=\"dataframe\">\n",
       "  <thead>\n",
       "    <tr style=\"text-align: right;\">\n",
       "      <th></th>\n",
       "      <th>code_presentation</th>\n",
       "      <th>num_trying</th>\n",
       "      <th>avg_trying_time</th>\n",
       "    </tr>\n",
       "  </thead>\n",
       "  <tbody>\n",
       "    <tr>\n",
       "      <th>0</th>\n",
       "      <td>2013B</td>\n",
       "      <td>33824</td>\n",
       "      <td>124.986650</td>\n",
       "    </tr>\n",
       "    <tr>\n",
       "      <th>1</th>\n",
       "      <td>2013J</td>\n",
       "      <td>49018</td>\n",
       "      <td>129.588643</td>\n",
       "    </tr>\n",
       "    <tr>\n",
       "      <th>2</th>\n",
       "      <td>2014B</td>\n",
       "      <td>38896</td>\n",
       "      <td>130.261243</td>\n",
       "    </tr>\n",
       "    <tr>\n",
       "      <th>3</th>\n",
       "      <td>2014J</td>\n",
       "      <td>52174</td>\n",
       "      <td>135.162556</td>\n",
       "    </tr>\n",
       "  </tbody>\n",
       "</table>\n",
       "</div>"
      ],
      "text/plain": [
       "  code_presentation  num_trying  avg_trying_time\n",
       "0             2013B       33824       124.986650\n",
       "1             2013J       49018       129.588643\n",
       "2             2014B       38896       130.261243\n",
       "3             2014J       52174       135.162556"
      ]
     },
     "execution_count": 139,
     "metadata": {},
     "output_type": "execute_result"
    }
   ],
   "source": [
    "#подсчет всего кол-ва сдачи курсов студентами и среднее время сдачи\n",
    "\n",
    "num_trying_pass_tests = (\n",
    "                  df_edu.groupby(['code_presentation', 'code_module', 'assessment_type'], as_index = False).\n",
    "                  agg({'id_assessment':'count', 'date_submitted' :'mean'}).\n",
    "                  groupby(['code_presentation'], as_index = False).\n",
    "                  agg({'id_assessment':'sum', 'date_submitted' :'mean'}).\n",
    "                  rename(columns={'id_assessment': 'num_trying', 'date_submitted': 'avg_trying_time'})\n",
    "                 )\n",
    "num_trying_pass_tests.head()"
   ]
  },
  {
   "cell_type": "code",
   "execution_count": 140,
   "id": "5aec8412-a552-4cfc-814b-a4d0cc5a6026",
   "metadata": {},
   "outputs": [
    {
     "data": {
      "text/html": [
       "<div>\n",
       "<style scoped>\n",
       "    .dataframe tbody tr th:only-of-type {\n",
       "        vertical-align: middle;\n",
       "    }\n",
       "\n",
       "    .dataframe tbody tr th {\n",
       "        vertical-align: top;\n",
       "    }\n",
       "\n",
       "    .dataframe thead th {\n",
       "        text-align: right;\n",
       "    }\n",
       "</style>\n",
       "<table border=\"1\" class=\"dataframe\">\n",
       "  <thead>\n",
       "    <tr style=\"text-align: right;\">\n",
       "      <th></th>\n",
       "      <th>code_presentation</th>\n",
       "      <th>num_pass</th>\n",
       "      <th>avg_pass_time</th>\n",
       "      <th>num_trying</th>\n",
       "      <th>avg_trying_time</th>\n",
       "    </tr>\n",
       "  </thead>\n",
       "  <tbody>\n",
       "    <tr>\n",
       "      <th>0</th>\n",
       "      <td>2013B</td>\n",
       "      <td>1464</td>\n",
       "      <td>124.41</td>\n",
       "      <td>33824</td>\n",
       "      <td>124.986650</td>\n",
       "    </tr>\n",
       "    <tr>\n",
       "      <th>1</th>\n",
       "      <td>2014B</td>\n",
       "      <td>2281</td>\n",
       "      <td>128.81</td>\n",
       "      <td>38896</td>\n",
       "      <td>130.261243</td>\n",
       "    </tr>\n",
       "    <tr>\n",
       "      <th>2</th>\n",
       "      <td>2013J</td>\n",
       "      <td>3454</td>\n",
       "      <td>128.57</td>\n",
       "      <td>49018</td>\n",
       "      <td>129.588643</td>\n",
       "    </tr>\n",
       "    <tr>\n",
       "      <th>3</th>\n",
       "      <td>2014J</td>\n",
       "      <td>4053</td>\n",
       "      <td>130.92</td>\n",
       "      <td>52174</td>\n",
       "      <td>135.162556</td>\n",
       "    </tr>\n",
       "  </tbody>\n",
       "</table>\n",
       "</div>"
      ],
      "text/plain": [
       "  code_presentation  num_pass  avg_pass_time  num_trying  avg_trying_time\n",
       "0             2013B      1464         124.41       33824       124.986650\n",
       "1             2014B      2281         128.81       38896       130.261243\n",
       "2             2013J      3454         128.57       49018       129.588643\n",
       "3             2014J      4053         130.92       52174       135.162556"
      ]
     },
     "execution_count": 140,
     "metadata": {},
     "output_type": "execute_result"
    }
   ],
   "source": [
    "#объединени таблиц с данными по сдаче курсов в семестрах\n",
    "#объединяем кол-во успешных сдач курсов в семестре, с общим количеством попыток сдать курс в семестре\n",
    "\n",
    "trying_pass_modul = pass_modul_tests.merge(num_trying_pass_tests, how = 'left', on=['code_presentation'], suffixes = ['_pass','_aim'])\n",
    "trying_pass_modul.head()"
   ]
  },
  {
   "cell_type": "code",
   "execution_count": 141,
   "id": "2278bdb3-e99e-415b-a430-9434799d79f3",
   "metadata": {},
   "outputs": [
    {
     "data": {
      "text/html": [
       "<div>\n",
       "<style scoped>\n",
       "    .dataframe tbody tr th:only-of-type {\n",
       "        vertical-align: middle;\n",
       "    }\n",
       "\n",
       "    .dataframe tbody tr th {\n",
       "        vertical-align: top;\n",
       "    }\n",
       "\n",
       "    .dataframe thead th {\n",
       "        text-align: right;\n",
       "    }\n",
       "</style>\n",
       "<table border=\"1\" class=\"dataframe\">\n",
       "  <thead>\n",
       "    <tr style=\"text-align: right;\">\n",
       "      <th></th>\n",
       "      <th>code_presentation</th>\n",
       "      <th>num_pass</th>\n",
       "      <th>avg_pass_time</th>\n",
       "      <th>num_trying</th>\n",
       "      <th>avg_trying_time</th>\n",
       "      <th>proportion_percentage</th>\n",
       "    </tr>\n",
       "  </thead>\n",
       "  <tbody>\n",
       "    <tr>\n",
       "      <th>0</th>\n",
       "      <td>2013B</td>\n",
       "      <td>1464</td>\n",
       "      <td>124.41</td>\n",
       "      <td>33824</td>\n",
       "      <td>124.986650</td>\n",
       "      <td>4.33</td>\n",
       "    </tr>\n",
       "    <tr>\n",
       "      <th>1</th>\n",
       "      <td>2014B</td>\n",
       "      <td>2281</td>\n",
       "      <td>128.81</td>\n",
       "      <td>38896</td>\n",
       "      <td>130.261243</td>\n",
       "      <td>5.86</td>\n",
       "    </tr>\n",
       "    <tr>\n",
       "      <th>2</th>\n",
       "      <td>2013J</td>\n",
       "      <td>3454</td>\n",
       "      <td>128.57</td>\n",
       "      <td>49018</td>\n",
       "      <td>129.588643</td>\n",
       "      <td>7.05</td>\n",
       "    </tr>\n",
       "    <tr>\n",
       "      <th>3</th>\n",
       "      <td>2014J</td>\n",
       "      <td>4053</td>\n",
       "      <td>130.92</td>\n",
       "      <td>52174</td>\n",
       "      <td>135.162556</td>\n",
       "      <td>7.77</td>\n",
       "    </tr>\n",
       "  </tbody>\n",
       "</table>\n",
       "</div>"
      ],
      "text/plain": [
       "  code_presentation  num_pass  avg_pass_time  num_trying  avg_trying_time  \\\n",
       "0             2013B      1464         124.41       33824       124.986650   \n",
       "1             2014B      2281         128.81       38896       130.261243   \n",
       "2             2013J      3454         128.57       49018       129.588643   \n",
       "3             2014J      4053         130.92       52174       135.162556   \n",
       "\n",
       "   proportion_percentage  \n",
       "0                   4.33  \n",
       "1                   5.86  \n",
       "2                   7.05  \n",
       "3                   7.77  "
      ]
     },
     "execution_count": 141,
     "metadata": {},
     "output_type": "execute_result"
    }
   ],
   "source": [
    "#рассчываем завершаемость курсов в семестре\n",
    "\n",
    "trying_pass_modul['proportion_percentage'] = (trying_pass_modul.num_pass/ trying_pass_modul.num_trying*100).round(2)\n",
    "trying_pass_modul"
   ]
  },
  {
   "cell_type": "code",
   "execution_count": 142,
   "id": "73ba97d1-962c-4db5-85f9-3721321c4d40",
   "metadata": {
    "jupyter": {
     "source_hidden": true
    },
    "tags": []
   },
   "outputs": [
    {
     "data": {
      "image/png": "[encoded data removed]",
      "text/plain": [
       "<Figure size 720x360 with 2 Axes>"
      ]
     },
     "metadata": {
      "needs_background": "light"
     },
     "output_type": "display_data"
    }
   ],
   "source": [
    "f, (ax1, ax2) = plt.subplots(2, 1, figsize=(10, 5), sharex=True)\n",
    "plt.subplots_adjust(left=0.1,\n",
    "                    bottom=0.2,\n",
    "                    right=1,\n",
    "                    top=1,\n",
    "                    wspace=0.5,\n",
    "                    hspace=0.5)\n",
    "\n",
    "sns.barplot(x=trying_pass_modul.code_presentation, y=trying_pass_modul.proportion_percentage, palette=\"rocket\", ax=ax1)\n",
    "ax1.axhline(0, color=\"k\", clip_on=False)\n",
    "ax1.set_ylabel(\"Кол-во завершений\")\n",
    "ax1.set_xlabel('Семестр', fontsize = 12)\n",
    "ax1.set_title('Завершаемость курсов в семестре')\n",
    "ax1.bar_label(ax1.containers[0], fontsize = 12)\n",
    "\n",
    "sns.barplot(x=trying_pass_modul.code_presentation, y=trying_pass_modul.avg_trying_time, palette=\"rocket\", ax=ax2)\n",
    "ax2.axhline(0, color=\"k\", clip_on=False)\n",
    "ax2.set_xlabel('Семестр', fontsize = 12)\n",
    "ax2.set_ylabel(\"Среднее время\")\n",
    "ax2.set_title('Среднее время сдачи курсов в семестре')\n",
    "ax2.bar_label(ax2.containers[0], fontsize = 12)\n",
    "\n",
    "plt.show()"
   ]
  },
  {
   "cell_type": "markdown",
   "id": "ea174f0d-2ebd-46c3-856e-9f5f20444912",
   "metadata": {},
   "source": [
    "### 13. Задание 6<a name = \"task_6\">"
   ]
  },
  {
   "cell_type": "markdown",
   "id": "2e7d8b74-f2c1-4ce7-b7af-993d588812ee",
   "metadata": {
    "tags": []
   },
   "source": [
    "Задача: Часто для качественного анализа аудитории использую подходы, основанные на сегментации. Используя python, построй адаптированные RFM-кластеры студентов, чтобы качественно оценить свою аудиторию. В адаптированной кластеризации можешь выбрать следующие метрики: \n",
    "- R - среднее время сдачи одного экзамена, \n",
    "- F - завершаемость курсов, \n",
    "- M - среднее количество баллов, получаемое за экзамен. \n",
    "\n",
    "Для каждого RFM-сегмента построй границы метрик recency, frequency и monetary для интерпретации этих кластеров."
   ]
  },
  {
   "cell_type": "markdown",
   "id": "4792cac4-bc14-4edc-9ffb-61efd075f320",
   "metadata": {},
   "source": [
    "Для RFM выбран последний семестр 2014J, так как он имеет полный список предметов<br>\n",
    "Так как он последний, то отражает последние тенденции обучения"
   ]
  },
  {
   "cell_type": "markdown",
   "id": "a6e20533-7fce-4adb-b38f-3752dad310c2",
   "metadata": {},
   "source": [
    "- считаю сколько экзаменов и тестов сдал каждый студент и среднее время сдачи экзаменов и тестов. \n",
    "- отрицательные значения говорят о досрочной сдачи. Поэтому среднее может сильно смещаться в семестре 2014J - последний, поэтому их мы удаляем.\n",
    "- рассчитываем кол-во уникальных тестов по каждому курсу в семесте \n",
    "- объединяем полученные таблицы с целью расчета параметров RFM"
   ]
  },
  {
   "cell_type": "code",
   "execution_count": 143,
   "id": "f6038515-0f83-4cbf-b594-4d7b04a5f2c0",
   "metadata": {},
   "outputs": [
    {
     "data": {
      "text/html": [
       "<div>\n",
       "<style scoped>\n",
       "    .dataframe tbody tr th:only-of-type {\n",
       "        vertical-align: middle;\n",
       "    }\n",
       "\n",
       "    .dataframe tbody tr th {\n",
       "        vertical-align: top;\n",
       "    }\n",
       "\n",
       "    .dataframe thead th {\n",
       "        text-align: right;\n",
       "    }\n",
       "</style>\n",
       "<table border=\"1\" class=\"dataframe\">\n",
       "  <thead>\n",
       "    <tr style=\"text-align: right;\">\n",
       "      <th></th>\n",
       "      <th>id_student</th>\n",
       "      <th>code_presentation</th>\n",
       "      <th>code_module</th>\n",
       "      <th>id_assessment</th>\n",
       "      <th>date_submitted</th>\n",
       "      <th>score</th>\n",
       "    </tr>\n",
       "  </thead>\n",
       "  <tbody>\n",
       "    <tr>\n",
       "      <th>0</th>\n",
       "      <td>6516</td>\n",
       "      <td>2014J</td>\n",
       "      <td>AAA</td>\n",
       "      <td>5</td>\n",
       "      <td>111.600000</td>\n",
       "      <td>61.799999</td>\n",
       "    </tr>\n",
       "    <tr>\n",
       "      <th>1</th>\n",
       "      <td>23698</td>\n",
       "      <td>2014J</td>\n",
       "      <td>CCC</td>\n",
       "      <td>9</td>\n",
       "      <td>160.833333</td>\n",
       "      <td>75.833336</td>\n",
       "    </tr>\n",
       "    <tr>\n",
       "      <th>2</th>\n",
       "      <td>24734</td>\n",
       "      <td>2014J</td>\n",
       "      <td>AAA</td>\n",
       "      <td>4</td>\n",
       "      <td>136.000000</td>\n",
       "      <td>49.000000</td>\n",
       "    </tr>\n",
       "    <tr>\n",
       "      <th>3</th>\n",
       "      <td>25261</td>\n",
       "      <td>2014J</td>\n",
       "      <td>CCC</td>\n",
       "      <td>1</td>\n",
       "      <td>21.000000</td>\n",
       "      <td>78.000000</td>\n",
       "    </tr>\n",
       "    <tr>\n",
       "      <th>4</th>\n",
       "      <td>25572</td>\n",
       "      <td>2014J</td>\n",
       "      <td>DDD</td>\n",
       "      <td>1</td>\n",
       "      <td>20.000000</td>\n",
       "      <td>80.000000</td>\n",
       "    </tr>\n",
       "  </tbody>\n",
       "</table>\n",
       "</div>"
      ],
      "text/plain": [
       "   id_student code_presentation code_module  id_assessment  date_submitted  \\\n",
       "0        6516             2014J         AAA              5      111.600000   \n",
       "1       23698             2014J         CCC              9      160.833333   \n",
       "2       24734             2014J         AAA              4      136.000000   \n",
       "3       25261             2014J         CCC              1       21.000000   \n",
       "4       25572             2014J         DDD              1       20.000000   \n",
       "\n",
       "       score  \n",
       "0  61.799999  \n",
       "1  75.833336  \n",
       "2  49.000000  \n",
       "3  78.000000  \n",
       "4  80.000000  "
      ]
     },
     "execution_count": 143,
     "metadata": {},
     "output_type": "execute_result"
    }
   ],
   "source": [
    "num_pass_tests_2014J = (\n",
    "                  df_edu.query('score >= 40 & code_presentation == \"2014J\" & is_banked == 0').\n",
    "                  groupby(['id_student', 'code_presentation', 'code_module', 'assessment_type'], as_index = False).\n",
    "                  agg({'id_assessment':'nunique', 'date_submitted' :'mean', 'score' : 'mean'}).\n",
    "                  groupby(['id_student', 'code_presentation', 'code_module'], as_index = False).\n",
    "                  agg({'id_assessment':'sum', 'date_submitted' :'mean', 'score' : 'mean'})\n",
    "                 )\n",
    "num_pass_tests_2014J.head()"
   ]
  },
  {
   "cell_type": "code",
   "execution_count": 144,
   "id": "4fb64747-7c7e-4502-b378-5a0f0f836422",
   "metadata": {},
   "outputs": [
    {
     "data": {
      "text/plain": [
       "(8576, 6)"
      ]
     },
     "execution_count": 144,
     "metadata": {},
     "output_type": "execute_result"
    }
   ],
   "source": [
    "num_pass_tests_2014J.shape"
   ]
  },
  {
   "cell_type": "code",
   "execution_count": 145,
   "id": "78bfb9b2-2935-4c77-85c3-64c4a72836bd",
   "metadata": {},
   "outputs": [],
   "source": [
    "#удаляем досрочные даты сдачи \n",
    "\n",
    "num_pass_tests_2014J.drop(num_pass_tests_2014J[num_pass_tests_2014J.date_submitted < 0].index, inplace = True)"
   ]
  },
  {
   "cell_type": "code",
   "execution_count": 146,
   "id": "bb4e5f63-3d2d-41ed-8c18-fb70d5ef7f2c",
   "metadata": {},
   "outputs": [
    {
     "data": {
      "text/plain": [
       "(8573, 6)"
      ]
     },
     "execution_count": 146,
     "metadata": {},
     "output_type": "execute_result"
    }
   ],
   "source": [
    "#кол-во экзаменов и тестов, которе сдал каждый студент без учета перезачета\n",
    "\n",
    "num_pass_tests_2014J.shape"
   ]
  },
  {
   "cell_type": "code",
   "execution_count": 147,
   "id": "69054a55-de82-42c7-bafa-f0d1fa8c4784",
   "metadata": {},
   "outputs": [
    {
     "data": {
      "text/html": [
       "<div>\n",
       "<style scoped>\n",
       "    .dataframe tbody tr th:only-of-type {\n",
       "        vertical-align: middle;\n",
       "    }\n",
       "\n",
       "    .dataframe tbody tr th {\n",
       "        vertical-align: top;\n",
       "    }\n",
       "\n",
       "    .dataframe thead th {\n",
       "        text-align: right;\n",
       "    }\n",
       "</style>\n",
       "<table border=\"1\" class=\"dataframe\">\n",
       "  <thead>\n",
       "    <tr style=\"text-align: right;\">\n",
       "      <th></th>\n",
       "      <th>code_presentation</th>\n",
       "      <th>code_module</th>\n",
       "      <th>id_assessment</th>\n",
       "      <th>date_submitted</th>\n",
       "    </tr>\n",
       "  </thead>\n",
       "  <tbody>\n",
       "    <tr>\n",
       "      <th>0</th>\n",
       "      <td>2014J</td>\n",
       "      <td>AAA</td>\n",
       "      <td>5</td>\n",
       "      <td>108.731530</td>\n",
       "    </tr>\n",
       "    <tr>\n",
       "      <th>1</th>\n",
       "      <td>2014J</td>\n",
       "      <td>BBB</td>\n",
       "      <td>5</td>\n",
       "      <td>97.581668</td>\n",
       "    </tr>\n",
       "    <tr>\n",
       "      <th>2</th>\n",
       "      <td>2014J</td>\n",
       "      <td>CCC</td>\n",
       "      <td>9</td>\n",
       "      <td>152.058345</td>\n",
       "    </tr>\n",
       "    <tr>\n",
       "      <th>3</th>\n",
       "      <td>2014J</td>\n",
       "      <td>DDD</td>\n",
       "      <td>7</td>\n",
       "      <td>163.422265</td>\n",
       "    </tr>\n",
       "    <tr>\n",
       "      <th>4</th>\n",
       "      <td>2014J</td>\n",
       "      <td>EEE</td>\n",
       "      <td>4</td>\n",
       "      <td>93.094147</td>\n",
       "    </tr>\n",
       "    <tr>\n",
       "      <th>5</th>\n",
       "      <td>2014J</td>\n",
       "      <td>FFF</td>\n",
       "      <td>12</td>\n",
       "      <td>123.321161</td>\n",
       "    </tr>\n",
       "    <tr>\n",
       "      <th>6</th>\n",
       "      <td>2014J</td>\n",
       "      <td>GGG</td>\n",
       "      <td>9</td>\n",
       "      <td>146.440722</td>\n",
       "    </tr>\n",
       "  </tbody>\n",
       "</table>\n",
       "</div>"
      ],
      "text/plain": [
       "  code_presentation code_module  id_assessment  date_submitted\n",
       "0             2014J         AAA              5      108.731530\n",
       "1             2014J         BBB              5       97.581668\n",
       "2             2014J         CCC              9      152.058345\n",
       "3             2014J         DDD              7      163.422265\n",
       "4             2014J         EEE              4       93.094147\n",
       "5             2014J         FFF             12      123.321161\n",
       "6             2014J         GGG              9      146.440722"
      ]
     },
     "execution_count": 147,
     "metadata": {},
     "output_type": "execute_result"
    }
   ],
   "source": [
    "# кол-во уникальных тестов в семестре по каждому курсу\n",
    "\n",
    "num_test_exam_2014J = df_edu_drop.query('code_presentation == \"2014J\"').groupby([ 'code_presentation', 'code_module', 'assessment_type'], as_index = False).agg({'id_assessment':'nunique', 'date_submitted' :'mean'}).groupby([ 'code_presentation', 'code_module'], as_index = False).agg({'id_assessment':'sum', 'date_submitted' :'mean'})\n",
    "num_test_exam_2014J"
   ]
  },
  {
   "cell_type": "code",
   "execution_count": 148,
   "id": "5633a7de-e595-45f9-9a4f-535b62371193",
   "metadata": {},
   "outputs": [
    {
     "data": {
      "text/html": [
       "<div>\n",
       "<style scoped>\n",
       "    .dataframe tbody tr th:only-of-type {\n",
       "        vertical-align: middle;\n",
       "    }\n",
       "\n",
       "    .dataframe tbody tr th {\n",
       "        vertical-align: top;\n",
       "    }\n",
       "\n",
       "    .dataframe thead th {\n",
       "        text-align: right;\n",
       "    }\n",
       "</style>\n",
       "<table border=\"1\" class=\"dataframe\">\n",
       "  <thead>\n",
       "    <tr style=\"text-align: right;\">\n",
       "      <th></th>\n",
       "      <th>id_student</th>\n",
       "      <th>code_presentation</th>\n",
       "      <th>code_module</th>\n",
       "      <th>id_assessment_pass</th>\n",
       "      <th>date_submitted_pass</th>\n",
       "      <th>score</th>\n",
       "      <th>id_assessment_requier</th>\n",
       "      <th>date_submitted_requier</th>\n",
       "    </tr>\n",
       "  </thead>\n",
       "  <tbody>\n",
       "    <tr>\n",
       "      <th>0</th>\n",
       "      <td>6516</td>\n",
       "      <td>2014J</td>\n",
       "      <td>AAA</td>\n",
       "      <td>5</td>\n",
       "      <td>111.600000</td>\n",
       "      <td>61.799999</td>\n",
       "      <td>5</td>\n",
       "      <td>108.731530</td>\n",
       "    </tr>\n",
       "    <tr>\n",
       "      <th>1</th>\n",
       "      <td>23698</td>\n",
       "      <td>2014J</td>\n",
       "      <td>CCC</td>\n",
       "      <td>9</td>\n",
       "      <td>160.833333</td>\n",
       "      <td>75.833336</td>\n",
       "      <td>9</td>\n",
       "      <td>152.058345</td>\n",
       "    </tr>\n",
       "    <tr>\n",
       "      <th>2</th>\n",
       "      <td>24734</td>\n",
       "      <td>2014J</td>\n",
       "      <td>AAA</td>\n",
       "      <td>4</td>\n",
       "      <td>136.000000</td>\n",
       "      <td>49.000000</td>\n",
       "      <td>5</td>\n",
       "      <td>108.731530</td>\n",
       "    </tr>\n",
       "    <tr>\n",
       "      <th>3</th>\n",
       "      <td>25261</td>\n",
       "      <td>2014J</td>\n",
       "      <td>CCC</td>\n",
       "      <td>1</td>\n",
       "      <td>21.000000</td>\n",
       "      <td>78.000000</td>\n",
       "      <td>9</td>\n",
       "      <td>152.058345</td>\n",
       "    </tr>\n",
       "    <tr>\n",
       "      <th>4</th>\n",
       "      <td>25572</td>\n",
       "      <td>2014J</td>\n",
       "      <td>DDD</td>\n",
       "      <td>1</td>\n",
       "      <td>20.000000</td>\n",
       "      <td>80.000000</td>\n",
       "      <td>7</td>\n",
       "      <td>163.422265</td>\n",
       "    </tr>\n",
       "    <tr>\n",
       "      <th>...</th>\n",
       "      <td>...</td>\n",
       "      <td>...</td>\n",
       "      <td>...</td>\n",
       "      <td>...</td>\n",
       "      <td>...</td>\n",
       "      <td>...</td>\n",
       "      <td>...</td>\n",
       "      <td>...</td>\n",
       "    </tr>\n",
       "    <tr>\n",
       "      <th>8568</th>\n",
       "      <td>2694788</td>\n",
       "      <td>2014J</td>\n",
       "      <td>AAA</td>\n",
       "      <td>1</td>\n",
       "      <td>17.000000</td>\n",
       "      <td>51.000000</td>\n",
       "      <td>5</td>\n",
       "      <td>108.731530</td>\n",
       "    </tr>\n",
       "    <tr>\n",
       "      <th>8569</th>\n",
       "      <td>2694919</td>\n",
       "      <td>2014J</td>\n",
       "      <td>BBB</td>\n",
       "      <td>5</td>\n",
       "      <td>106.200000</td>\n",
       "      <td>73.400002</td>\n",
       "      <td>5</td>\n",
       "      <td>97.581668</td>\n",
       "    </tr>\n",
       "    <tr>\n",
       "      <th>8570</th>\n",
       "      <td>2697921</td>\n",
       "      <td>2014J</td>\n",
       "      <td>FFF</td>\n",
       "      <td>12</td>\n",
       "      <td>141.985714</td>\n",
       "      <td>78.714287</td>\n",
       "      <td>12</td>\n",
       "      <td>123.321161</td>\n",
       "    </tr>\n",
       "    <tr>\n",
       "      <th>8571</th>\n",
       "      <td>2698577</td>\n",
       "      <td>2014J</td>\n",
       "      <td>BBB</td>\n",
       "      <td>5</td>\n",
       "      <td>106.200000</td>\n",
       "      <td>64.400002</td>\n",
       "      <td>5</td>\n",
       "      <td>97.581668</td>\n",
       "    </tr>\n",
       "    <tr>\n",
       "      <th>8572</th>\n",
       "      <td>2698588</td>\n",
       "      <td>2014J</td>\n",
       "      <td>BBB</td>\n",
       "      <td>5</td>\n",
       "      <td>106.800000</td>\n",
       "      <td>92.400002</td>\n",
       "      <td>5</td>\n",
       "      <td>97.581668</td>\n",
       "    </tr>\n",
       "  </tbody>\n",
       "</table>\n",
       "<p>8573 rows × 8 columns</p>\n",
       "</div>"
      ],
      "text/plain": [
       "      id_student code_presentation code_module  id_assessment_pass  \\\n",
       "0           6516             2014J         AAA                   5   \n",
       "1          23698             2014J         CCC                   9   \n",
       "2          24734             2014J         AAA                   4   \n",
       "3          25261             2014J         CCC                   1   \n",
       "4          25572             2014J         DDD                   1   \n",
       "...          ...               ...         ...                 ...   \n",
       "8568     2694788             2014J         AAA                   1   \n",
       "8569     2694919             2014J         BBB                   5   \n",
       "8570     2697921             2014J         FFF                  12   \n",
       "8571     2698577             2014J         BBB                   5   \n",
       "8572     2698588             2014J         BBB                   5   \n",
       "\n",
       "      date_submitted_pass      score  id_assessment_requier  \\\n",
       "0              111.600000  61.799999                      5   \n",
       "1              160.833333  75.833336                      9   \n",
       "2              136.000000  49.000000                      5   \n",
       "3               21.000000  78.000000                      9   \n",
       "4               20.000000  80.000000                      7   \n",
       "...                   ...        ...                    ...   \n",
       "8568            17.000000  51.000000                      5   \n",
       "8569           106.200000  73.400002                      5   \n",
       "8570           141.985714  78.714287                     12   \n",
       "8571           106.200000  64.400002                      5   \n",
       "8572           106.800000  92.400002                      5   \n",
       "\n",
       "      date_submitted_requier  \n",
       "0                 108.731530  \n",
       "1                 152.058345  \n",
       "2                 108.731530  \n",
       "3                 152.058345  \n",
       "4                 163.422265  \n",
       "...                      ...  \n",
       "8568              108.731530  \n",
       "8569               97.581668  \n",
       "8570              123.321161  \n",
       "8571               97.581668  \n",
       "8572               97.581668  \n",
       "\n",
       "[8573 rows x 8 columns]"
      ]
     },
     "execution_count": 148,
     "metadata": {},
     "output_type": "execute_result"
    }
   ],
   "source": [
    "#объединяем таблицы для RFM\n",
    "\n",
    "df_rfm = num_pass_tests_2014J.merge(num_test_exam_2014J, how = 'left', on =['code_presentation', 'code_module'], suffixes= ['_pass', '_requier'])\n",
    "df_rfm"
   ]
  },
  {
   "cell_type": "markdown",
   "id": "0f968ccc-3b07-4f10-96a1-6e9e67267ea9",
   "metadata": {},
   "source": [
    "- считаем долю завершенных курсов в семестре `df_rfm['test_proportion']`\n",
    "- считаем талицу `df_rfm_score`, которая содержит параметры о времени сдачи, завершаемости и кол-ве баллов"
   ]
  },
  {
   "cell_type": "code",
   "execution_count": 149,
   "id": "12bb55f0-cb22-4bba-a31f-83c2cc57b8de",
   "metadata": {},
   "outputs": [
    {
     "data": {
      "text/html": [
       "<div>\n",
       "<style scoped>\n",
       "    .dataframe tbody tr th:only-of-type {\n",
       "        vertical-align: middle;\n",
       "    }\n",
       "\n",
       "    .dataframe tbody tr th {\n",
       "        vertical-align: top;\n",
       "    }\n",
       "\n",
       "    .dataframe thead th {\n",
       "        text-align: right;\n",
       "    }\n",
       "</style>\n",
       "<table border=\"1\" class=\"dataframe\">\n",
       "  <thead>\n",
       "    <tr style=\"text-align: right;\">\n",
       "      <th></th>\n",
       "      <th>id_student</th>\n",
       "      <th>code_presentation</th>\n",
       "      <th>code_module</th>\n",
       "      <th>id_assessment_pass</th>\n",
       "      <th>date_submitted_pass</th>\n",
       "      <th>score</th>\n",
       "      <th>id_assessment_requier</th>\n",
       "      <th>date_submitted_requier</th>\n",
       "      <th>test_proportion</th>\n",
       "    </tr>\n",
       "  </thead>\n",
       "  <tbody>\n",
       "    <tr>\n",
       "      <th>0</th>\n",
       "      <td>6516</td>\n",
       "      <td>2014J</td>\n",
       "      <td>AAA</td>\n",
       "      <td>5</td>\n",
       "      <td>111.600000</td>\n",
       "      <td>61.799999</td>\n",
       "      <td>5</td>\n",
       "      <td>108.731530</td>\n",
       "      <td>1.000000</td>\n",
       "    </tr>\n",
       "    <tr>\n",
       "      <th>1</th>\n",
       "      <td>23698</td>\n",
       "      <td>2014J</td>\n",
       "      <td>CCC</td>\n",
       "      <td>9</td>\n",
       "      <td>160.833333</td>\n",
       "      <td>75.833336</td>\n",
       "      <td>9</td>\n",
       "      <td>152.058345</td>\n",
       "      <td>1.000000</td>\n",
       "    </tr>\n",
       "    <tr>\n",
       "      <th>2</th>\n",
       "      <td>24734</td>\n",
       "      <td>2014J</td>\n",
       "      <td>AAA</td>\n",
       "      <td>4</td>\n",
       "      <td>136.000000</td>\n",
       "      <td>49.000000</td>\n",
       "      <td>5</td>\n",
       "      <td>108.731530</td>\n",
       "      <td>0.800000</td>\n",
       "    </tr>\n",
       "    <tr>\n",
       "      <th>3</th>\n",
       "      <td>25261</td>\n",
       "      <td>2014J</td>\n",
       "      <td>CCC</td>\n",
       "      <td>1</td>\n",
       "      <td>21.000000</td>\n",
       "      <td>78.000000</td>\n",
       "      <td>9</td>\n",
       "      <td>152.058345</td>\n",
       "      <td>0.111111</td>\n",
       "    </tr>\n",
       "    <tr>\n",
       "      <th>4</th>\n",
       "      <td>25572</td>\n",
       "      <td>2014J</td>\n",
       "      <td>DDD</td>\n",
       "      <td>1</td>\n",
       "      <td>20.000000</td>\n",
       "      <td>80.000000</td>\n",
       "      <td>7</td>\n",
       "      <td>163.422265</td>\n",
       "      <td>0.142857</td>\n",
       "    </tr>\n",
       "  </tbody>\n",
       "</table>\n",
       "</div>"
      ],
      "text/plain": [
       "   id_student code_presentation code_module  id_assessment_pass  \\\n",
       "0        6516             2014J         AAA                   5   \n",
       "1       23698             2014J         CCC                   9   \n",
       "2       24734             2014J         AAA                   4   \n",
       "3       25261             2014J         CCC                   1   \n",
       "4       25572             2014J         DDD                   1   \n",
       "\n",
       "   date_submitted_pass      score  id_assessment_requier  \\\n",
       "0           111.600000  61.799999                      5   \n",
       "1           160.833333  75.833336                      9   \n",
       "2           136.000000  49.000000                      5   \n",
       "3            21.000000  78.000000                      9   \n",
       "4            20.000000  80.000000                      7   \n",
       "\n",
       "   date_submitted_requier  test_proportion  \n",
       "0              108.731530         1.000000  \n",
       "1              152.058345         1.000000  \n",
       "2              108.731530         0.800000  \n",
       "3              152.058345         0.111111  \n",
       "4              163.422265         0.142857  "
      ]
     },
     "execution_count": 149,
     "metadata": {},
     "output_type": "execute_result"
    }
   ],
   "source": [
    "#доля завершонных текстов и экзаменов по предмету в рамках последненго семестра\n",
    "\n",
    "df_rfm['test_proportion'] = df_rfm.id_assessment_pass / df_rfm.id_assessment_requier\n",
    "df_rfm.head(5)"
   ]
  },
  {
   "cell_type": "code",
   "execution_count": 150,
   "id": "4da482c1-5066-4476-818b-6ef5f771f87c",
   "metadata": {},
   "outputs": [
    {
     "data": {
      "text/html": [
       "<div>\n",
       "<style scoped>\n",
       "    .dataframe tbody tr th:only-of-type {\n",
       "        vertical-align: middle;\n",
       "    }\n",
       "\n",
       "    .dataframe tbody tr th {\n",
       "        vertical-align: top;\n",
       "    }\n",
       "\n",
       "    .dataframe thead th {\n",
       "        text-align: right;\n",
       "    }\n",
       "</style>\n",
       "<table border=\"1\" class=\"dataframe\">\n",
       "  <thead>\n",
       "    <tr style=\"text-align: right;\">\n",
       "      <th></th>\n",
       "      <th>id_student</th>\n",
       "      <th>date_submitted_pass</th>\n",
       "      <th>date_submitted_requier</th>\n",
       "      <th>score</th>\n",
       "      <th>test_proportion</th>\n",
       "    </tr>\n",
       "  </thead>\n",
       "  <tbody>\n",
       "    <tr>\n",
       "      <th>0</th>\n",
       "      <td>6516</td>\n",
       "      <td>111.600000</td>\n",
       "      <td>108.731530</td>\n",
       "      <td>61.799999</td>\n",
       "      <td>1.000000</td>\n",
       "    </tr>\n",
       "    <tr>\n",
       "      <th>1</th>\n",
       "      <td>23698</td>\n",
       "      <td>160.833333</td>\n",
       "      <td>152.058345</td>\n",
       "      <td>75.833336</td>\n",
       "      <td>1.000000</td>\n",
       "    </tr>\n",
       "    <tr>\n",
       "      <th>2</th>\n",
       "      <td>24734</td>\n",
       "      <td>136.000000</td>\n",
       "      <td>108.731530</td>\n",
       "      <td>49.000000</td>\n",
       "      <td>0.800000</td>\n",
       "    </tr>\n",
       "    <tr>\n",
       "      <th>3</th>\n",
       "      <td>25261</td>\n",
       "      <td>21.000000</td>\n",
       "      <td>152.058345</td>\n",
       "      <td>78.000000</td>\n",
       "      <td>0.111111</td>\n",
       "    </tr>\n",
       "    <tr>\n",
       "      <th>4</th>\n",
       "      <td>25572</td>\n",
       "      <td>20.000000</td>\n",
       "      <td>163.422265</td>\n",
       "      <td>80.000000</td>\n",
       "      <td>0.142857</td>\n",
       "    </tr>\n",
       "  </tbody>\n",
       "</table>\n",
       "</div>"
      ],
      "text/plain": [
       "   id_student  date_submitted_pass  date_submitted_requier      score  \\\n",
       "0        6516           111.600000              108.731530  61.799999   \n",
       "1       23698           160.833333              152.058345  75.833336   \n",
       "2       24734           136.000000              108.731530  49.000000   \n",
       "3       25261            21.000000              152.058345  78.000000   \n",
       "4       25572            20.000000              163.422265  80.000000   \n",
       "\n",
       "   test_proportion  \n",
       "0         1.000000  \n",
       "1         1.000000  \n",
       "2         0.800000  \n",
       "3         0.111111  \n",
       "4         0.142857  "
      ]
     },
     "execution_count": 150,
     "metadata": {},
     "output_type": "execute_result"
    }
   ],
   "source": [
    "# рассчитываем рабочую таблицу\n",
    "\n",
    "df_rfm_score = df_rfm.groupby('id_student', as_index = False).agg({'date_submitted_pass': 'mean', 'date_submitted_requier': 'mean', 'score':'mean' , 'test_proportion' : 'mean'})\n",
    "df_rfm_score.head()"
   ]
  },
  {
   "cell_type": "markdown",
   "id": "61d1b8a1-38de-4a97-a5ba-4a777dc29d77",
   "metadata": {},
   "source": [
    "- рассчитываем `recency` используя разделение на 4 равные группы, практически на 4 квантиля.\n",
    "- чем раньше сдали тем лучше, поэтому у самого маленького срока будет самое большое значение"
   ]
  },
  {
   "cell_type": "code",
   "execution_count": 151,
   "id": "c728ae68-9d16-4ff9-af70-2a7cc33b720f",
   "metadata": {},
   "outputs": [],
   "source": [
    "#расчет recency \n",
    "\n",
    "df_rfm_score['recency'] = 5-(pd.qcut(df_rfm_score.date_submitted_pass, 4, labels = False)+1)"
   ]
  },
  {
   "cell_type": "code",
   "execution_count": 152,
   "id": "70fda8c1-3dd7-4721-96af-85d445324732",
   "metadata": {},
   "outputs": [
    {
     "data": {
      "text/plain": [
       "recency\n",
       "1    {154.2, 163.75, 163.5, 163.625, 163.125, 163.2...\n",
       "2    {112.41428571428571, 140.14285714285714, 135.3...\n",
       "3    {107.54285714285714, 110.79166666666666, 96.83...\n",
       "4    {0.0, 1.0, 3.0, 4.0, 5.0, 7.0, 8.0, 9.0, 10.0,...\n",
       "Name: date_submitted_pass, dtype: object"
      ]
     },
     "execution_count": 152,
     "metadata": {},
     "output_type": "execute_result"
    }
   ],
   "source": [
    "# проверка разделения\n",
    "df_rfm_score.groupby('recency')['date_submitted_pass'].agg(set)"
   ]
  },
  {
   "cell_type": "code",
   "execution_count": 153,
   "id": "7b1b23d9-deb6-4ab2-a0dc-36bae4039425",
   "metadata": {},
   "outputs": [
    {
     "data": {
      "text/html": [
       "<div>\n",
       "<style scoped>\n",
       "    .dataframe tbody tr th:only-of-type {\n",
       "        vertical-align: middle;\n",
       "    }\n",
       "\n",
       "    .dataframe tbody tr th {\n",
       "        vertical-align: top;\n",
       "    }\n",
       "\n",
       "    .dataframe thead th {\n",
       "        text-align: right;\n",
       "    }\n",
       "</style>\n",
       "<table border=\"1\" class=\"dataframe\">\n",
       "  <thead>\n",
       "    <tr style=\"text-align: right;\">\n",
       "      <th></th>\n",
       "      <th>mean</th>\n",
       "      <th>count</th>\n",
       "    </tr>\n",
       "    <tr>\n",
       "      <th>recency</th>\n",
       "      <th></th>\n",
       "      <th></th>\n",
       "    </tr>\n",
       "  </thead>\n",
       "  <tbody>\n",
       "    <tr>\n",
       "      <th>1</th>\n",
       "      <td>166.411472</td>\n",
       "      <td>2071</td>\n",
       "    </tr>\n",
       "    <tr>\n",
       "      <th>2</th>\n",
       "      <td>128.950326</td>\n",
       "      <td>2070</td>\n",
       "    </tr>\n",
       "    <tr>\n",
       "      <th>3</th>\n",
       "      <td>98.806932</td>\n",
       "      <td>2072</td>\n",
       "    </tr>\n",
       "    <tr>\n",
       "      <th>4</th>\n",
       "      <td>39.511532</td>\n",
       "      <td>2071</td>\n",
       "    </tr>\n",
       "  </tbody>\n",
       "</table>\n",
       "</div>"
      ],
      "text/plain": [
       "               mean  count\n",
       "recency                   \n",
       "1        166.411472   2071\n",
       "2        128.950326   2070\n",
       "3         98.806932   2072\n",
       "4         39.511532   2071"
      ]
     },
     "execution_count": 153,
     "metadata": {},
     "output_type": "execute_result"
    }
   ],
   "source": [
    "#проверка recency на равность групп\n",
    "\n",
    "df_rfm_score.groupby('recency')['date_submitted_pass'].agg(['mean', 'count'])"
   ]
  },
  {
   "cell_type": "markdown",
   "id": "3b9bd833-07b5-4667-b0d5-761ae5997a8c",
   "metadata": {},
   "source": [
    "- рассчитываем `frequency`, использовать тут же метод как для расчета recency не получится, так как доля завершенных курсов намного больше и молучить равные по размеру группы не получиться.\n",
    "- разделение вручную на 3 группы:\n",
    ">- значение 4 у группы где курсы сданы полностью\n",
    ">- значение 3 где завершаемость от 0.5 до 1\n",
    ">- значение 2 где  завершаемость от 0 до 0.5"
   ]
  },
  {
   "cell_type": "code",
   "execution_count": 154,
   "id": "29938789-4929-4520-922f-3cf89999f6f1",
   "metadata": {
    "tags": []
   },
   "outputs": [
    {
     "data": {
      "text/html": [
       "<div>\n",
       "<style scoped>\n",
       "    .dataframe tbody tr th:only-of-type {\n",
       "        vertical-align: middle;\n",
       "    }\n",
       "\n",
       "    .dataframe tbody tr th {\n",
       "        vertical-align: top;\n",
       "    }\n",
       "\n",
       "    .dataframe thead th {\n",
       "        text-align: right;\n",
       "    }\n",
       "</style>\n",
       "<table border=\"1\" class=\"dataframe\">\n",
       "  <thead>\n",
       "    <tr style=\"text-align: right;\">\n",
       "      <th></th>\n",
       "      <th>id_student</th>\n",
       "    </tr>\n",
       "    <tr>\n",
       "      <th>test_proportion</th>\n",
       "      <th></th>\n",
       "    </tr>\n",
       "  </thead>\n",
       "  <tbody>\n",
       "    <tr>\n",
       "      <th>1.000000</th>\n",
       "      <td>3833</td>\n",
       "    </tr>\n",
       "    <tr>\n",
       "      <th>0.800000</th>\n",
       "      <td>584</td>\n",
       "    </tr>\n",
       "    <tr>\n",
       "      <th>0.111111</th>\n",
       "      <td>263</td>\n",
       "    </tr>\n",
       "    <tr>\n",
       "      <th>0.888889</th>\n",
       "      <td>234</td>\n",
       "    </tr>\n",
       "    <tr>\n",
       "      <th>0.333333</th>\n",
       "      <td>214</td>\n",
       "    </tr>\n",
       "    <tr>\n",
       "      <th>...</th>\n",
       "      <td>...</td>\n",
       "    </tr>\n",
       "    <tr>\n",
       "      <th>0.642857</th>\n",
       "      <td>1</td>\n",
       "    </tr>\n",
       "    <tr>\n",
       "      <th>0.634921</th>\n",
       "      <td>1</td>\n",
       "    </tr>\n",
       "    <tr>\n",
       "      <th>0.194444</th>\n",
       "      <td>1</td>\n",
       "    </tr>\n",
       "    <tr>\n",
       "      <th>0.563492</th>\n",
       "      <td>1</td>\n",
       "    </tr>\n",
       "    <tr>\n",
       "      <th>0.579365</th>\n",
       "      <td>1</td>\n",
       "    </tr>\n",
       "  </tbody>\n",
       "</table>\n",
       "<p>87 rows × 1 columns</p>\n",
       "</div>"
      ],
      "text/plain": [
       "                 id_student\n",
       "test_proportion            \n",
       "1.000000               3833\n",
       "0.800000                584\n",
       "0.111111                263\n",
       "0.888889                234\n",
       "0.333333                214\n",
       "...                     ...\n",
       "0.642857                  1\n",
       "0.634921                  1\n",
       "0.194444                  1\n",
       "0.563492                  1\n",
       "0.579365                  1\n",
       "\n",
       "[87 rows x 1 columns]"
      ]
     },
     "execution_count": 154,
     "metadata": {},
     "output_type": "execute_result"
    }
   ],
   "source": [
    "df_rfm_score.groupby('test_proportion')['id_student'].count().sort_values(ascending = False).to_frame() #.hist()"
   ]
  },
  {
   "cell_type": "code",
   "execution_count": 155,
   "id": "717e788e-e12e-4118-9d30-495c484cb0e8",
   "metadata": {},
   "outputs": [],
   "source": [
    "# функция для разделения завершаемости на группы\n",
    "def get_group(x):\n",
    "    if x == 1:\n",
    "        return 4\n",
    "    if 0.5 <= x < 1:\n",
    "        return 3\n",
    "    if 0 <= x < 0.5:\n",
    "        return 2\n",
    "    return 1"
   ]
  },
  {
   "cell_type": "code",
   "execution_count": 156,
   "id": "438335b5-7db7-48c0-a7ed-7399c151b8b8",
   "metadata": {},
   "outputs": [],
   "source": [
    "#применение функции и расчет frequency\n",
    "\n",
    "df_rfm_score['frequency'] = df_rfm_score.test_proportion.apply(get_group)"
   ]
  },
  {
   "cell_type": "code",
   "execution_count": 157,
   "id": "a8628449-21df-4eb5-bf2a-36a8e8dfaf3f",
   "metadata": {},
   "outputs": [
    {
     "data": {
      "text/html": [
       "<div>\n",
       "<style scoped>\n",
       "    .dataframe tbody tr th:only-of-type {\n",
       "        vertical-align: middle;\n",
       "    }\n",
       "\n",
       "    .dataframe tbody tr th {\n",
       "        vertical-align: top;\n",
       "    }\n",
       "\n",
       "    .dataframe thead th {\n",
       "        text-align: right;\n",
       "    }\n",
       "</style>\n",
       "<table border=\"1\" class=\"dataframe\">\n",
       "  <thead>\n",
       "    <tr style=\"text-align: right;\">\n",
       "      <th></th>\n",
       "      <th>mean</th>\n",
       "      <th>count</th>\n",
       "    </tr>\n",
       "    <tr>\n",
       "      <th>frequency</th>\n",
       "      <th></th>\n",
       "      <th></th>\n",
       "    </tr>\n",
       "  </thead>\n",
       "  <tbody>\n",
       "    <tr>\n",
       "      <th>2</th>\n",
       "      <td>0.242316</td>\n",
       "      <td>2040</td>\n",
       "    </tr>\n",
       "    <tr>\n",
       "      <th>3</th>\n",
       "      <td>0.745853</td>\n",
       "      <td>2411</td>\n",
       "    </tr>\n",
       "    <tr>\n",
       "      <th>4</th>\n",
       "      <td>1.000000</td>\n",
       "      <td>3833</td>\n",
       "    </tr>\n",
       "  </tbody>\n",
       "</table>\n",
       "</div>"
      ],
      "text/plain": [
       "               mean  count\n",
       "frequency                 \n",
       "2          0.242316   2040\n",
       "3          0.745853   2411\n",
       "4          1.000000   3833"
      ]
     },
     "execution_count": 157,
     "metadata": {},
     "output_type": "execute_result"
    }
   ],
   "source": [
    "#проверка frequency\n",
    "\n",
    "df_rfm_score.groupby('frequency')['test_proportion'].agg(['mean', 'count'])"
   ]
  },
  {
   "cell_type": "markdown",
   "id": "53f37fdf-9f90-4eed-95c0-7fc3a798a443",
   "metadata": {},
   "source": [
    "- рассчитываем `monetary` используя разделение на 4 равные группы, практически на 4 квантиля.\n",
    "- чем больше балл, тем больше значение группы"
   ]
  },
  {
   "cell_type": "code",
   "execution_count": 158,
   "id": "29a9de7d-d24d-437f-aeef-ba1272144780",
   "metadata": {},
   "outputs": [],
   "source": [
    "#расчет monetary \n",
    "\n",
    "df_rfm_score['monetary'] = pd.qcut(df_rfm_score.score, 4, labels = False)+1"
   ]
  },
  {
   "cell_type": "code",
   "execution_count": 159,
   "id": "f4d7d95d-8814-41d9-bbce-3023b0522e70",
   "metadata": {},
   "outputs": [
    {
     "data": {
      "text/html": [
       "<div>\n",
       "<style scoped>\n",
       "    .dataframe tbody tr th:only-of-type {\n",
       "        vertical-align: middle;\n",
       "    }\n",
       "\n",
       "    .dataframe tbody tr th {\n",
       "        vertical-align: top;\n",
       "    }\n",
       "\n",
       "    .dataframe thead th {\n",
       "        text-align: right;\n",
       "    }\n",
       "</style>\n",
       "<table border=\"1\" class=\"dataframe\">\n",
       "  <thead>\n",
       "    <tr style=\"text-align: right;\">\n",
       "      <th></th>\n",
       "      <th>mean</th>\n",
       "      <th>count</th>\n",
       "    </tr>\n",
       "    <tr>\n",
       "      <th>monetary</th>\n",
       "      <th></th>\n",
       "      <th></th>\n",
       "    </tr>\n",
       "  </thead>\n",
       "  <tbody>\n",
       "    <tr>\n",
       "      <th>1</th>\n",
       "      <td>58.454979</td>\n",
       "      <td>2074</td>\n",
       "    </tr>\n",
       "    <tr>\n",
       "      <th>2</th>\n",
       "      <td>71.507957</td>\n",
       "      <td>2107</td>\n",
       "    </tr>\n",
       "    <tr>\n",
       "      <th>3</th>\n",
       "      <td>80.260643</td>\n",
       "      <td>2032</td>\n",
       "    </tr>\n",
       "    <tr>\n",
       "      <th>4</th>\n",
       "      <td>90.527245</td>\n",
       "      <td>2071</td>\n",
       "    </tr>\n",
       "  </tbody>\n",
       "</table>\n",
       "</div>"
      ],
      "text/plain": [
       "               mean  count\n",
       "monetary                  \n",
       "1         58.454979   2074\n",
       "2         71.507957   2107\n",
       "3         80.260643   2032\n",
       "4         90.527245   2071"
      ]
     },
     "execution_count": 159,
     "metadata": {},
     "output_type": "execute_result"
    }
   ],
   "source": [
    "#проверка monetary\n",
    "\n",
    "df_rfm_score.groupby('monetary')['score'].agg(['mean', 'count'])"
   ]
  },
  {
   "cell_type": "code",
   "execution_count": 160,
   "id": "5e897200-1603-4bfe-b901-f56d5de57325",
   "metadata": {},
   "outputs": [
    {
     "data": {
      "text/html": [
       "<div>\n",
       "<style scoped>\n",
       "    .dataframe tbody tr th:only-of-type {\n",
       "        vertical-align: middle;\n",
       "    }\n",
       "\n",
       "    .dataframe tbody tr th {\n",
       "        vertical-align: top;\n",
       "    }\n",
       "\n",
       "    .dataframe thead th {\n",
       "        text-align: right;\n",
       "    }\n",
       "</style>\n",
       "<table border=\"1\" class=\"dataframe\">\n",
       "  <thead>\n",
       "    <tr style=\"text-align: right;\">\n",
       "      <th></th>\n",
       "      <th>id_student</th>\n",
       "      <th>date_submitted_pass</th>\n",
       "      <th>date_submitted_requier</th>\n",
       "      <th>score</th>\n",
       "      <th>test_proportion</th>\n",
       "      <th>recency</th>\n",
       "      <th>frequency</th>\n",
       "      <th>monetary</th>\n",
       "    </tr>\n",
       "  </thead>\n",
       "  <tbody>\n",
       "    <tr>\n",
       "      <th>0</th>\n",
       "      <td>6516</td>\n",
       "      <td>111.600000</td>\n",
       "      <td>108.731530</td>\n",
       "      <td>61.799999</td>\n",
       "      <td>1.000000</td>\n",
       "      <td>3</td>\n",
       "      <td>4</td>\n",
       "      <td>1</td>\n",
       "    </tr>\n",
       "    <tr>\n",
       "      <th>1</th>\n",
       "      <td>23698</td>\n",
       "      <td>160.833333</td>\n",
       "      <td>152.058345</td>\n",
       "      <td>75.833336</td>\n",
       "      <td>1.000000</td>\n",
       "      <td>1</td>\n",
       "      <td>4</td>\n",
       "      <td>2</td>\n",
       "    </tr>\n",
       "    <tr>\n",
       "      <th>2</th>\n",
       "      <td>24734</td>\n",
       "      <td>136.000000</td>\n",
       "      <td>108.731530</td>\n",
       "      <td>49.000000</td>\n",
       "      <td>0.800000</td>\n",
       "      <td>2</td>\n",
       "      <td>3</td>\n",
       "      <td>1</td>\n",
       "    </tr>\n",
       "    <tr>\n",
       "      <th>3</th>\n",
       "      <td>25261</td>\n",
       "      <td>21.000000</td>\n",
       "      <td>152.058345</td>\n",
       "      <td>78.000000</td>\n",
       "      <td>0.111111</td>\n",
       "      <td>4</td>\n",
       "      <td>2</td>\n",
       "      <td>3</td>\n",
       "    </tr>\n",
       "    <tr>\n",
       "      <th>4</th>\n",
       "      <td>25572</td>\n",
       "      <td>20.000000</td>\n",
       "      <td>163.422265</td>\n",
       "      <td>80.000000</td>\n",
       "      <td>0.142857</td>\n",
       "      <td>4</td>\n",
       "      <td>2</td>\n",
       "      <td>3</td>\n",
       "    </tr>\n",
       "  </tbody>\n",
       "</table>\n",
       "</div>"
      ],
      "text/plain": [
       "   id_student  date_submitted_pass  date_submitted_requier      score  \\\n",
       "0        6516           111.600000              108.731530  61.799999   \n",
       "1       23698           160.833333              152.058345  75.833336   \n",
       "2       24734           136.000000              108.731530  49.000000   \n",
       "3       25261            21.000000              152.058345  78.000000   \n",
       "4       25572            20.000000              163.422265  80.000000   \n",
       "\n",
       "   test_proportion  recency  frequency  monetary  \n",
       "0         1.000000        3          4         1  \n",
       "1         1.000000        1          4         2  \n",
       "2         0.800000        2          3         1  \n",
       "3         0.111111        4          2         3  \n",
       "4         0.142857        4          2         3  "
      ]
     },
     "execution_count": 160,
     "metadata": {},
     "output_type": "execute_result"
    }
   ],
   "source": [
    "df_rfm_score.head()"
   ]
  },
  {
   "cell_type": "markdown",
   "id": "14525d4f-f29c-496a-871a-9204af1c4f63",
   "metadata": {},
   "source": [
    "- расчет RFM SCORE, как среднее между R,F,M\n",
    "- `rfm_level` источник функции https://towardsdatascience.com/recency-frequency-monetary-model-with-python-and-how-sephora-uses-it-to-optimize-their-google-d6a0707c5f17"
   ]
  },
  {
   "cell_type": "code",
   "execution_count": 161,
   "id": "d848faf9-f895-4dd4-94ca-442fd3461e5c",
   "metadata": {},
   "outputs": [],
   "source": [
    "#расчет итогового значения\n",
    "\n",
    "df_rfm_score['rfm'] = df_rfm_score[['recency', 'frequency', 'monetary']].sum(axis = 1)/3\n",
    "df_rfm_score['RFM_Score'] = df_rfm_score[['recency', 'frequency', 'monetary']].sum(axis = 1)"
   ]
  },
  {
   "cell_type": "code",
   "execution_count": 162,
   "id": "c5af1db3-a40b-4cd2-9461-d67ceeeb4317",
   "metadata": {},
   "outputs": [
    {
     "data": {
      "text/html": [
       "<div>\n",
       "<style scoped>\n",
       "    .dataframe tbody tr th:only-of-type {\n",
       "        vertical-align: middle;\n",
       "    }\n",
       "\n",
       "    .dataframe tbody tr th {\n",
       "        vertical-align: top;\n",
       "    }\n",
       "\n",
       "    .dataframe thead th {\n",
       "        text-align: right;\n",
       "    }\n",
       "</style>\n",
       "<table border=\"1\" class=\"dataframe\">\n",
       "  <thead>\n",
       "    <tr style=\"text-align: right;\">\n",
       "      <th></th>\n",
       "      <th>id_student</th>\n",
       "      <th>date_submitted_pass</th>\n",
       "      <th>date_submitted_requier</th>\n",
       "      <th>score</th>\n",
       "      <th>test_proportion</th>\n",
       "      <th>recency</th>\n",
       "      <th>frequency</th>\n",
       "      <th>monetary</th>\n",
       "      <th>rfm</th>\n",
       "      <th>RFM_Score</th>\n",
       "    </tr>\n",
       "  </thead>\n",
       "  <tbody>\n",
       "    <tr>\n",
       "      <th>0</th>\n",
       "      <td>6516</td>\n",
       "      <td>111.600000</td>\n",
       "      <td>108.731530</td>\n",
       "      <td>61.799999</td>\n",
       "      <td>1.000000</td>\n",
       "      <td>3</td>\n",
       "      <td>4</td>\n",
       "      <td>1</td>\n",
       "      <td>2.666667</td>\n",
       "      <td>8</td>\n",
       "    </tr>\n",
       "    <tr>\n",
       "      <th>1</th>\n",
       "      <td>23698</td>\n",
       "      <td>160.833333</td>\n",
       "      <td>152.058345</td>\n",
       "      <td>75.833336</td>\n",
       "      <td>1.000000</td>\n",
       "      <td>1</td>\n",
       "      <td>4</td>\n",
       "      <td>2</td>\n",
       "      <td>2.333333</td>\n",
       "      <td>7</td>\n",
       "    </tr>\n",
       "    <tr>\n",
       "      <th>2</th>\n",
       "      <td>24734</td>\n",
       "      <td>136.000000</td>\n",
       "      <td>108.731530</td>\n",
       "      <td>49.000000</td>\n",
       "      <td>0.800000</td>\n",
       "      <td>2</td>\n",
       "      <td>3</td>\n",
       "      <td>1</td>\n",
       "      <td>2.000000</td>\n",
       "      <td>6</td>\n",
       "    </tr>\n",
       "    <tr>\n",
       "      <th>3</th>\n",
       "      <td>25261</td>\n",
       "      <td>21.000000</td>\n",
       "      <td>152.058345</td>\n",
       "      <td>78.000000</td>\n",
       "      <td>0.111111</td>\n",
       "      <td>4</td>\n",
       "      <td>2</td>\n",
       "      <td>3</td>\n",
       "      <td>3.000000</td>\n",
       "      <td>9</td>\n",
       "    </tr>\n",
       "    <tr>\n",
       "      <th>4</th>\n",
       "      <td>25572</td>\n",
       "      <td>20.000000</td>\n",
       "      <td>163.422265</td>\n",
       "      <td>80.000000</td>\n",
       "      <td>0.142857</td>\n",
       "      <td>4</td>\n",
       "      <td>2</td>\n",
       "      <td>3</td>\n",
       "      <td>3.000000</td>\n",
       "      <td>9</td>\n",
       "    </tr>\n",
       "  </tbody>\n",
       "</table>\n",
       "</div>"
      ],
      "text/plain": [
       "   id_student  date_submitted_pass  date_submitted_requier      score  \\\n",
       "0        6516           111.600000              108.731530  61.799999   \n",
       "1       23698           160.833333              152.058345  75.833336   \n",
       "2       24734           136.000000              108.731530  49.000000   \n",
       "3       25261            21.000000              152.058345  78.000000   \n",
       "4       25572            20.000000              163.422265  80.000000   \n",
       "\n",
       "   test_proportion  recency  frequency  monetary       rfm  RFM_Score  \n",
       "0         1.000000        3          4         1  2.666667          8  \n",
       "1         1.000000        1          4         2  2.333333          7  \n",
       "2         0.800000        2          3         1  2.000000          6  \n",
       "3         0.111111        4          2         3  3.000000          9  \n",
       "4         0.142857        4          2         3  3.000000          9  "
      ]
     },
     "execution_count": 162,
     "metadata": {},
     "output_type": "execute_result"
    }
   ],
   "source": [
    "df_rfm_score.head()"
   ]
  },
  {
   "cell_type": "code",
   "execution_count": 163,
   "id": "301cc3be-5eda-4495-8abb-f2c0fe0ed524",
   "metadata": {
    "jupyter": {
     "source_hidden": true
    },
    "tags": []
   },
   "outputs": [
    {
     "data": {
      "image/png": "[encoded data removed]",
      "text/plain": [
       "<Figure size 720x288 with 3 Axes>"
      ]
     },
     "metadata": {
      "needs_background": "light"
     },
     "output_type": "display_data"
    }
   ],
   "source": [
    "# plot the distribution of customers over R and F\n",
    "fig, axes = plt.subplots(nrows=1, ncols=3, figsize=(10, 4))\n",
    "\n",
    "for i, p in enumerate(['recency', 'frequency', 'monetary']):\n",
    "    parameters = {'recency':'recency', 'frequency':'frequency', 'monetary' : 'monetary'}\n",
    "    y = df_rfm_score[p].value_counts().sort_index()\n",
    "    x = y.index\n",
    "    ax = axes[i]\n",
    "    bars = ax.bar(x, y, color='silver')\n",
    "    ax.set_frame_on(False)\n",
    "    ax.tick_params(left=False, labelleft=False, bottom=False)\n",
    "    ax.set_title('Distribution of {}'.format(parameters[p]),\n",
    "                fontsize=14)\n",
    "    for bar in bars:\n",
    "        value = bar.get_height()\n",
    "        if value == y.max():\n",
    "            bar.set_color('firebrick')\n",
    "        ax.text(bar.get_x() + bar.get_width() / 2,\n",
    "                value - 5,\n",
    "                '{}\\n({}%)'.format(int(value), int(value * 100 / y.sum())),\n",
    "               ha='center',\n",
    "               va='top',\n",
    "               color='w')\n",
    "\n",
    "plt.show()"
   ]
  },
  {
   "cell_type": "code",
   "execution_count": 164,
   "id": "51ad3390-1496-4a24-93a6-2eb2fece0716",
   "metadata": {},
   "outputs": [],
   "source": [
    "#функция, которая разделит всех студентов на основе RFM_Score на кластеры\n",
    "\n",
    "def rfm_level(df):\n",
    "    if df['RFM_Score'] >= 9:\n",
    "        return 'Самые активные'\n",
    "    elif ((df['RFM_Score'] >= 8) and (df['RFM_Score'] < 9)):\n",
    "        return 'Активные'\n",
    "    elif ((df['RFM_Score'] >= 7) and (df['RFM_Score'] < 8)):\n",
    "        return 'Достаточно мотивированные'\n",
    "    elif ((df['RFM_Score'] >= 6) and (df['RFM_Score'] < 7)):\n",
    "        return 'Слабо мотивированные'\n",
    "    elif ((df['RFM_Score'] >= 5) and (df['RFM_Score'] < 6)):\n",
    "        return 'Посредственные'\n",
    "    elif ((df['RFM_Score'] >= 4) and (df['RFM_Score'] < 5)):\n",
    "        return 'Неактивные'\n",
    "    else:\n",
    "        return 'Обратить внимание'"
   ]
  },
  {
   "cell_type": "code",
   "execution_count": 165,
   "id": "e509cdf9-b6ab-406d-9206-be40186afbd6",
   "metadata": {},
   "outputs": [],
   "source": [
    "#присвоение кластеров\n",
    "\n",
    "df_rfm_score['segment'] = df_rfm_score.apply(rfm_level,axis=1)"
   ]
  },
  {
   "cell_type": "code",
   "execution_count": 166,
   "id": "269e64a4-a60c-44dd-a573-96eb1ad9fdaf",
   "metadata": {},
   "outputs": [
    {
     "data": {
      "text/html": [
       "<div>\n",
       "<style scoped>\n",
       "    .dataframe tbody tr th:only-of-type {\n",
       "        vertical-align: middle;\n",
       "    }\n",
       "\n",
       "    .dataframe tbody tr th {\n",
       "        vertical-align: top;\n",
       "    }\n",
       "\n",
       "    .dataframe thead th {\n",
       "        text-align: right;\n",
       "    }\n",
       "</style>\n",
       "<table border=\"1\" class=\"dataframe\">\n",
       "  <thead>\n",
       "    <tr style=\"text-align: right;\">\n",
       "      <th></th>\n",
       "      <th>segment</th>\n",
       "      <th>count</th>\n",
       "    </tr>\n",
       "  </thead>\n",
       "  <tbody>\n",
       "    <tr>\n",
       "      <th>0</th>\n",
       "      <td>Активные</td>\n",
       "      <td>1719</td>\n",
       "    </tr>\n",
       "    <tr>\n",
       "      <th>1</th>\n",
       "      <td>Достаточно мотивированные</td>\n",
       "      <td>1781</td>\n",
       "    </tr>\n",
       "    <tr>\n",
       "      <th>2</th>\n",
       "      <td>Неактивные</td>\n",
       "      <td>53</td>\n",
       "    </tr>\n",
       "    <tr>\n",
       "      <th>3</th>\n",
       "      <td>Посредственные</td>\n",
       "      <td>252</td>\n",
       "    </tr>\n",
       "    <tr>\n",
       "      <th>4</th>\n",
       "      <td>Самые активные</td>\n",
       "      <td>3663</td>\n",
       "    </tr>\n",
       "    <tr>\n",
       "      <th>5</th>\n",
       "      <td>Слабо мотивированные</td>\n",
       "      <td>816</td>\n",
       "    </tr>\n",
       "  </tbody>\n",
       "</table>\n",
       "</div>"
      ],
      "text/plain": [
       "                     segment  count\n",
       "0                   Активные   1719\n",
       "1  Достаточно мотивированные   1781\n",
       "2                 Неактивные     53\n",
       "3             Посредственные    252\n",
       "4             Самые активные   3663\n",
       "5       Слабо мотивированные    816"
      ]
     },
     "execution_count": 166,
     "metadata": {},
     "output_type": "execute_result"
    }
   ],
   "source": [
    "#просмотр размеров кластеров.\n",
    "\n",
    "rfm_claster = df_rfm_score.groupby('segment', as_index =False)['id_student'].count().rename(columns = {'id_student' : 'count'})\n",
    "rfm_claster"
   ]
  },
  {
   "cell_type": "code",
   "execution_count": 167,
   "id": "f6d5f105-5f6c-46ce-b5c5-7af327e43f58",
   "metadata": {
    "jupyter": {
     "source_hidden": true
    },
    "tags": []
   },
   "outputs": [
    {
     "data": {
      "image/png": "[encoded data removed]",
      "text/plain": [
       "<Figure size 1440x720 with 1 Axes>"
      ]
     },
     "metadata": {
      "needs_background": "light"
     },
     "output_type": "display_data"
    }
   ],
   "source": [
    "#Create our plot and resize it.\n",
    "fig = plt.gcf()\n",
    "ax = fig.add_subplot()\n",
    "fig.set_size_inches(20, 10)\n",
    "squarify.plot(sizes=rfm_claster['count'], \n",
    "              label=['Самые активные',\n",
    "                     'Активные',\n",
    "                     'Достаточно мотивированные',\n",
    "                     'Слабо мотивированные',\n",
    "                     'Посредственные', \n",
    "                     'Неактивные', \n",
    "                     'Обратить внимание'], alpha=.6, color = ['#DAF7A6', '#FFC300', '#C70039', '#5DADE2', '#AF7AC5', '#A2D9CE', '#85929E'])\n",
    "plt.title(\"RFM Segments\",fontsize=18,fontweight=\"bold\")\n",
    "plt.axis('off')\n",
    "plt.show()"
   ]
  }
 ],
 "metadata": {
  "kernelspec": {
   "display_name": "Python 3 (ipykernel)",
   "language": "python",
   "name": "python3"
  },
  "language_info": {
   "codemirror_mode": {
    "name": "ipython",
    "version": 3
   },
   "file_extension": ".py",
   "mimetype": "text/x-python",
   "name": "python",
   "nbconvert_exporter": "python",
   "pygments_lexer": "ipython3",
   "version": "3.9.12"
  }
 },
 "nbformat": 4,
 "nbformat_minor": 5
}
